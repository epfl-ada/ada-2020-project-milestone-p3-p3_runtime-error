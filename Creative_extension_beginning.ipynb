{
 "cells": [
  {
   "cell_type": "markdown",
   "metadata": {},
   "source": [
    "## Libraries"
   ]
  },
  {
   "cell_type": "code",
   "execution_count": 4,
   "metadata": {},
   "outputs": [],
   "source": [
    "import pandas as pd\n",
    "import pickle\n",
    "import matplotlib.pyplot as plt\n",
    "import numpy as np\n",
    "import seaborn as sns\n",
    "import datetime\n",
    "import math\n",
    "import matplotlib.image as mpimg\n",
    "%matplotlib inline"
   ]
  },
  {
   "cell_type": "markdown",
   "metadata": {},
   "source": [
    "## Step 0.0 : get home locations as for the replication part"
   ]
  },
  {
   "cell_type": "code",
   "execution_count": 5,
   "metadata": {},
   "outputs": [],
   "source": [
    "DATA_FOLDER = 'data/'\n",
    "\n",
    "B_checkins = 'loc-brightkite_totalCheckins.txt.gz'\n",
    "G_checkins = 'loc-gowalla_totalCheckins.txt.gz'\n",
    "\n",
    "brightkite_checkins = pd.read_table(DATA_FOLDER + B_checkins, usecols = [0, 1, 2, 3], names = ['user', 'time', 'lat', 'lon'], compression = 'gzip')\n",
    "gowalla_checkins = pd.read_table(DATA_FOLDER + G_checkins, usecols = [0, 1, 2, 3], names = ['user', 'time', 'lat', 'lon'], compression = 'gzip')"
   ]
  },
  {
   "cell_type": "code",
   "execution_count": null,
   "metadata": {},
   "outputs": [],
   "source": [
    "#preprocessing data to remove weird or null points\n",
    "null_points = brightkite_checkins[(brightkite_checkins['lat'] == 0) & (brightkite_checkins['lon'] == 0)]\n",
    "brightkite_checkins.drop(null_points.index, inplace = True)\n",
    "null_points = gowalla_checkins[(gowalla_checkins['lat'] == 0) & (gowalla_checkins['lon'] == 0)]\n",
    "gowalla_checkins.drop(null_points.index, inplace = True)\n",
    "outliers_lat_B = brightkite_checkins[(brightkite_checkins['lat'] < -90) | (brightkite_checkins['lat'] > 90)]\n",
    "brightkite_checkins.drop(outliers_lat_B.index, inplace = True)\n",
    "outliers_lat_G = gowalla_checkins[gowalla_checkins['lat'] > 90]\n",
    "gowalla_checkins.drop(outliers_lat_G.index, inplace = True)\n",
    "brightkite_checkins.dropna(inplace = True)\n",
    "gowalla_checkins.dropna(inplace = True)"
   ]
  },
  {
   "cell_type": "code",
   "execution_count": null,
   "metadata": {},
   "outputs": [],
   "source": [
    "#one of your code, to get brightkite_home_location and gowalla_home_location"
   ]
  },
  {
   "cell_type": "code",
   "execution_count": 3,
   "metadata": {},
   "outputs": [
    {
     "ename": "NameError",
     "evalue": "name 'pd' is not defined",
     "output_type": "error",
     "traceback": [
      "\u001b[1;31m---------------------------\u001b[0m",
      "\u001b[1;31mNameError\u001b[0mTraceback (most recent call last)",
      "\u001b[1;32m<ipython-input-3-58b56093ad78>\u001b[0m in \u001b[0;36m<module>\u001b[1;34m\u001b[0m\n\u001b[0;32m      1\u001b[0m \u001b[1;31m#one of your code, removing checkins at (0;0) and with latitudes <-90° or >90° to get home_loc_B and home_loc_G\u001b[0m\u001b[1;33m\u001b[0m\u001b[1;33m\u001b[0m\u001b[1;33m\u001b[0m\u001b[0m\n\u001b[1;32m----> 2\u001b[1;33m \u001b[0mbrightkite_home_location\u001b[0m \u001b[1;33m=\u001b[0m \u001b[0mpd\u001b[0m\u001b[1;33m.\u001b[0m\u001b[0mread_csv\u001b[0m\u001b[1;33m(\u001b[0m\u001b[1;34m'data/home_loc_B.csv'\u001b[0m\u001b[1;33m,\u001b[0m \u001b[0msep\u001b[0m \u001b[1;33m=\u001b[0m \u001b[1;34m';'\u001b[0m\u001b[1;33m,\u001b[0m \u001b[0mindex_col\u001b[0m \u001b[1;33m=\u001b[0m \u001b[1;34m'user'\u001b[0m\u001b[1;33m)\u001b[0m\u001b[1;33m\u001b[0m\u001b[1;33m\u001b[0m\u001b[0m\n\u001b[0m\u001b[0;32m      3\u001b[0m \u001b[0mgowalla_home_locations\u001b[0m \u001b[1;33m=\u001b[0m \u001b[0mpd\u001b[0m\u001b[1;33m.\u001b[0m\u001b[0mread_csv\u001b[0m\u001b[1;33m(\u001b[0m\u001b[1;34m'data/home_loc_G.csv'\u001b[0m\u001b[1;33m,\u001b[0m \u001b[0msep\u001b[0m \u001b[1;33m=\u001b[0m \u001b[1;34m';'\u001b[0m\u001b[1;33m,\u001b[0m \u001b[0mindex_col\u001b[0m \u001b[1;33m=\u001b[0m \u001b[1;34m'user'\u001b[0m\u001b[1;33m)\u001b[0m\u001b[1;33m\u001b[0m\u001b[1;33m\u001b[0m\u001b[0m\n",
      "\u001b[1;31mNameError\u001b[0m: name 'pd' is not defined"
     ]
    }
   ],
   "source": [
    "#brightkite_home_location.to_csv('intermediaryDataframe/home_loc_B.csv', sep = ';', index_col = 'user')\n",
    "#gowalla_home_locations.to_csv('intermediaryDataframe/home_loc_G.csv', sep = ';', index_col = 'user')\n",
    "brightkite_home_location = pd.read_csv('intermediaryDataframe/home_loc_B.csv', sep = ';', index_col = 'user')\n",
    "gowalla_home_locations = pd.read_csv('intermediaryDataframe/home_loc_G.csv', sep = ';', index_col = 'user')"
   ]
  },
  {
   "cell_type": "markdown",
   "metadata": {},
   "source": [
    "## Step 0.1 : associate a country to each home location and check-in"
   ]
  },
  {
   "cell_type": "code",
   "execution_count": 1,
   "metadata": {},
   "outputs": [],
   "source": [
    "import reverse_geocoder as rg"
   ]
  },
  {
   "cell_type": "code",
   "execution_count": 4,
   "metadata": {},
   "outputs": [
    {
     "name": "stdout",
     "output_type": "stream",
     "text": [
      "Loading formatted geocoded file...\n"
     ]
    },
    {
     "data": {
      "text/html": [
       "<div>\n",
       "<style scoped>\n",
       "    .dataframe tbody tr th:only-of-type {\n",
       "        vertical-align: middle;\n",
       "    }\n",
       "\n",
       "    .dataframe tbody tr th {\n",
       "        vertical-align: top;\n",
       "    }\n",
       "\n",
       "    .dataframe thead th {\n",
       "        text-align: right;\n",
       "    }\n",
       "</style>\n",
       "<table border=\"1\" class=\"dataframe\">\n",
       "  <thead>\n",
       "    <tr style=\"text-align: right;\">\n",
       "      <th></th>\n",
       "      <th>lat</th>\n",
       "      <th>lon</th>\n",
       "      <th>country</th>\n",
       "    </tr>\n",
       "    <tr>\n",
       "      <th>user</th>\n",
       "      <th></th>\n",
       "      <th></th>\n",
       "      <th></th>\n",
       "    </tr>\n",
       "  </thead>\n",
       "  <tbody>\n",
       "    <tr>\n",
       "      <th>91835</th>\n",
       "      <td>37.342151</td>\n",
       "      <td>-121.955892</td>\n",
       "      <td>US</td>\n",
       "    </tr>\n",
       "    <tr>\n",
       "      <th>102478</th>\n",
       "      <td>34.235469</td>\n",
       "      <td>108.899579</td>\n",
       "      <td>CN</td>\n",
       "    </tr>\n",
       "    <tr>\n",
       "      <th>139247</th>\n",
       "      <td>61.147470</td>\n",
       "      <td>10.455413</td>\n",
       "      <td>NO</td>\n",
       "    </tr>\n",
       "    <tr>\n",
       "      <th>107210</th>\n",
       "      <td>57.780983</td>\n",
       "      <td>14.181546</td>\n",
       "      <td>SE</td>\n",
       "    </tr>\n",
       "    <tr>\n",
       "      <th>183075</th>\n",
       "      <td>52.369274</td>\n",
       "      <td>4.899398</td>\n",
       "      <td>NL</td>\n",
       "    </tr>\n",
       "    <tr>\n",
       "      <th>104379</th>\n",
       "      <td>21.520912</td>\n",
       "      <td>39.209301</td>\n",
       "      <td>SA</td>\n",
       "    </tr>\n",
       "    <tr>\n",
       "      <th>195040</th>\n",
       "      <td>57.700524</td>\n",
       "      <td>11.962637</td>\n",
       "      <td>SE</td>\n",
       "    </tr>\n",
       "    <tr>\n",
       "      <th>43387</th>\n",
       "      <td>37.501109</td>\n",
       "      <td>127.025271</td>\n",
       "      <td>KR</td>\n",
       "    </tr>\n",
       "    <tr>\n",
       "      <th>14751</th>\n",
       "      <td>49.455817</td>\n",
       "      <td>11.082283</td>\n",
       "      <td>DE</td>\n",
       "    </tr>\n",
       "    <tr>\n",
       "      <th>193559</th>\n",
       "      <td>38.931302</td>\n",
       "      <td>-77.283900</td>\n",
       "      <td>US</td>\n",
       "    </tr>\n",
       "  </tbody>\n",
       "</table>\n",
       "</div>"
      ],
      "text/plain": [
       "              lat         lon country\n",
       "user                                 \n",
       "91835   37.342151 -121.955892      US\n",
       "102478  34.235469  108.899579      CN\n",
       "139247  61.147470   10.455413      NO\n",
       "107210  57.780983   14.181546      SE\n",
       "183075  52.369274    4.899398      NL\n",
       "104379  21.520912   39.209301      SA\n",
       "195040  57.700524   11.962637      SE\n",
       "43387   37.501109  127.025271      KR\n",
       "14751   49.455817   11.082283      DE\n",
       "193559  38.931302  -77.283900      US"
      ]
     },
     "execution_count": 4,
     "metadata": {},
     "output_type": "execute_result"
    }
   ],
   "source": [
    "L_G = []                              #list of home locations coordinates\n",
    "for i in range(len(gowalla_home_locations)):\n",
    "    L_G += [(gowalla_home_locations.iat[i, 0], gowalla_home_locations.iat[i, 1])]\n",
    "results_G = rg.search(L_G)\n",
    "gowalla_home_locations['country'] = [results_G[i].get('cc') for i in range(len(gowalla_home_locations))]\n",
    "gowalla_home_locations.sample(10)"
   ]
  },
  {
   "cell_type": "code",
   "execution_count": null,
   "metadata": {},
   "outputs": [],
   "source": [
    "#same for Brightkite\n",
    "L_B = []\n",
    "for i in range(len(brightkite_home_location)):\n",
    "    L_B += [(brightkite_home_location.iat[i, 0], brightkite_home_location.iat[i, 1])]\n",
    "results_B = rg.search(L_B)\n",
    "brightkite_home_location['country'] = [results_B[i].get('cc') for i in range(len(home_loc_B))]"
   ]
  },
  {
   "cell_type": "markdown",
   "metadata": {},
   "source": [
    "Now determine check-ins countries, using the exact same method"
   ]
  },
  {
   "cell_type": "code",
   "execution_count": null,
   "metadata": {},
   "outputs": [],
   "source": [
    "L_G_checkins = []\n",
    "for i in range(len(gowalla_checkins)):\n",
    "    L_G_checkins += [(gowalla_checkins.iat[i, 2], gowalla_checkins.iat[i, 3])]\n",
    "results_G_checkins = rg.search(L_G_checkins)\n",
    "gowalla_checkins['country'] = [results_G_checkins[i].get('cc') for i in range(len(gowalla_checkins))]"
   ]
  },
  {
   "cell_type": "code",
   "execution_count": null,
   "metadata": {},
   "outputs": [],
   "source": [
    "#same for Brightkite\n",
    "L_B_checkins = []\n",
    "for i in range(len(brightkite_checkins)):\n",
    "    L_B_checkins += [(brightkite_checkins.iat[i, 2], brightkite_checkins.iat[i, 3])]\n",
    "results_B_checkins = rg.search(L_B_checkins)\n",
    "brightkite_checkins['country'] = [results_B_checkins[i].get('cc') for i in range(len(brightkite_checkins))]"
   ]
  },
  {
   "cell_type": "markdown",
   "metadata": {},
   "source": [
    "## Additional data"
   ]
  },
  {
   "cell_type": "code",
   "execution_count": null,
   "metadata": {},
   "outputs": [],
   "source": [
    "POPULATION_DATASET = DATA_FOLDER+\"pop_per_country.csv\"\n",
    "COUNTRY_CODES = DATA_FOLDER+\"countrycodes.csv\"\n",
    "\n",
    "population = pd.read_csv(POPULATION_DATASET, index_col = 0, names = ['country', 'population'], header = 0)\n",
    "country_codes = pd.read_csv(COUNTRY_CODES, sep =',')"
   ]
  },
  {
   "cell_type": "code",
   "execution_count": null,
   "metadata": {},
   "outputs": [],
   "source": []
  }
 ],
 "metadata": {
  "kernelspec": {
   "display_name": "Python 3",
   "language": "python",
   "name": "python3"
  },
  "language_info": {
   "codemirror_mode": {
    "name": "ipython",
    "version": 3
   },
   "file_extension": ".py",
   "mimetype": "text/x-python",
   "name": "python",
   "nbconvert_exporter": "python",
   "pygments_lexer": "ipython3",
   "version": "3.7.4"
  }
 },
 "nbformat": 4,
 "nbformat_minor": 4
}
