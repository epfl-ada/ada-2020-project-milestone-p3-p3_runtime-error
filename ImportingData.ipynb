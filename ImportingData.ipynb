{
 "cells": [
  {
   "cell_type": "code",
   "execution_count": 1,
   "metadata": {},
   "outputs": [],
   "source": [
    "import pandas as pd\n",
    "import pickle\n",
    "import matplotlib.pyplot as plt\n",
    "import numpy as np\n",
    "import seaborn as sns\n",
    "import datetime\n",
    "import math\n",
    "import matplotlib.image as mpimg\n",
    "%matplotlib inline\n",
    "\n",
    "\n",
    "from geopy.geocoders import Nominatim\n",
    "from pprint import pprint\n",
    "import time"
   ]
  },
  {
   "cell_type": "code",
   "execution_count": 2,
   "metadata": {},
   "outputs": [],
   "source": [
    "home_loc_G = pd.read_csv('data/home_loc_G.csv', sep = ';', index_col = 'user')\n",
    "home_loc_G_with_country = pd.read_csv('data/home_loc_G_country.csv', sep = ';', index_col = 'user')"
   ]
  },
  {
   "cell_type": "code",
   "execution_count": 3,
   "metadata": {},
   "outputs": [],
   "source": [
    "home_loc_G_block1=home_loc_G.loc[38454:77117].copy()#block1 \n",
    "#home_loc_G_block2=home_loc_G.loc[96495:126560].copy()#block2 \n",
    "#home_loc_G_block3=home_loc_G.loc[142368:186625].copy()#block3"
   ]
  },
  {
   "cell_type": "code",
   "execution_count": 4,
   "metadata": {},
   "outputs": [
    {
     "data": {
      "text/plain": [
       "20122"
      ]
     },
     "execution_count": 4,
     "metadata": {},
     "output_type": "execute_result"
    }
   ],
   "source": [
    "len(home_loc_G_block1)"
   ]
  },
  {
   "cell_type": "code",
   "execution_count": null,
   "metadata": {},
   "outputs": [],
   "source": [
    "# instantiate a new Nominatim client\n",
    "app = Nominatim(user_agent=\"tutorial\")\n",
    "\n",
    "def get_country(lat = 0.0, lon = 0.0):\n",
    "    try:\n",
    "        return app.reverse((lat, lon), language='en').address.split(',')[-1]\n",
    "    except:\n",
    "        return 'undefined'\n",
    "\n",
    "t0 = time.time()\n",
    "home_loc_G_block1.loc[:,'country']=home_loc_G_block1.apply(lambda x : get_country(x[0], x[1]), axis = 1)\n",
    "#home_loc_G_block2.loc[:,'country']=home_loc_G_block2.apply(lambda x : get_country(x[0], x[1]), axis = 1)\n",
    "#home_loc_G_block3.loc[:,'country']=home_loc_G_block3.apply(lambda x : get_country(x[0], x[1]), axis = 1)\n",
    "print(time.time()-t0)\n",
    "home_loc_G_block1.to_csv('home_loc_G_country_block1.csv', sep =';')\n",
    "#home_loc_G_block2.to_csv('home_loc_G_country_block1.csv', sep =';')\n",
    "#home_loc_G_block3.to_csv('home_loc_G_country_block1.csv', sep =';')"
   ]
  }
 ],
 "metadata": {
  "kernelspec": {
   "display_name": "Python 3",
   "language": "python",
   "name": "python3"
  },
  "language_info": {
   "codemirror_mode": {
    "name": "ipython",
    "version": 3
   },
   "file_extension": ".py",
   "mimetype": "text/x-python",
   "name": "python",
   "nbconvert_exporter": "python",
   "pygments_lexer": "ipython3",
   "version": "3.8.5"
  }
 },
 "nbformat": 4,
 "nbformat_minor": 4
}
