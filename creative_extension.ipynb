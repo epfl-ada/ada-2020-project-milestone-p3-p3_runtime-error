{
 "cells": [
  {
   "cell_type": "markdown",
   "metadata": {},
   "source": [
    "# Milestone P4 : Creative Extension"
   ]
  },
  {
   "cell_type": "markdown",
   "metadata": {},
   "source": [
    "## Libraries"
   ]
  },
  {
   "cell_type": "code",
   "execution_count": 1,
   "metadata": {},
   "outputs": [],
   "source": [
    "import pandas as pd\n",
    "import pickle\n",
    "import matplotlib.pyplot as plt\n",
    "import numpy as np\n",
    "import seaborn as sns\n",
    "import datetime\n",
    "import math\n",
    "import matplotlib.image as mpimg\n",
    "%matplotlib inline"
   ]
  },
  {
   "cell_type": "markdown",
   "metadata": {},
   "source": [
    "## The data"
   ]
  },
  {
   "cell_type": "code",
   "execution_count": 2,
   "metadata": {},
   "outputs": [],
   "source": [
    "DATA_FOLDER = 'data/'\n",
    "\n",
    "GOWALLA_CHECKINS_DATASET = DATA_FOLDER+\"G_loc_country.csv\"\n",
    "BRIGHTKITE_CHECKINS_DATASET = DATA_FOLDER+\"B_loc_country.csv\"\n",
    "POPULATION_DATASET = DATA_FOLDER+\"pop_per_country.csv\"\n",
    "BRIGHTKITE_HOME_LOCATIONS = DATA_FOLDER+\"new_home_loc_B_country.csv\"\n",
    "GOWALLA_HOME_LOCATIONS = DATA_FOLDER+\"new_home_loc_G_country.csv\"\n",
    "COUNTRY_CODES = DATA_FOLDER+\"countrycodes.csv\"\n",
    "LANGUAGE_COUNTRIES = DATA_FOLDER+\"language_list_by_country.xlsx\"\n",
    "LANGUAGE_COUNTRIES_BIS = DATA_FOLDER+\"languages.xlsx\"\n",
    "BRIGHTKITE_TRIPS = DATA_FOLDER+\"country_brightkite_trips.csv\"\n",
    "GOWALLA_TRIPS = DATA_FOLDER+\"country_gowalla_trips.csv\"\n",
    "COUNTRIES_GDP = DATA_FOLDER+\"countries_of_the_world.csv\"\n",
    "CONTINENTS = DATA_FOLDER+\"conti_country.csv\"\n",
    "\n",
    "BRIGHTKITE_TRIPS_FULL = DATA_FOLDER+\"brightkite_trips_full_infos.csv\"\n",
    "GOWALLA_TRIPS_FULL = DATA_FOLDER+\"gowalla_trips_full_infos.csv\"\n",
    "\n",
    "gowalla_checkins = pd.read_csv(GOWALLA_CHECKINS_DATASET, delimiter = ',', usecols = [1,2,3,4,5])\n",
    "brightkite_checkins = pd.read_csv(BRIGHTKITE_CHECKINS_DATASET, delimiter = ',', usecols = [1,2,3,4,5])\n",
    "population = pd.read_csv(POPULATION_DATASET, index_col = 0, names = ['country', 'population'], header = 0)\n",
    "brightkite_home_locations = pd.read_csv(BRIGHTKITE_HOME_LOCATIONS, sep =',')\n",
    "gowalla_home_locations = pd.read_csv(GOWALLA_HOME_LOCATIONS, sep =',')\n",
    "country_codes = pd.read_csv(COUNTRY_CODES, sep =',')\n",
    "languages = pd.read_excel(LANGUAGE_COUNTRIES, names = ['country', 'language'])\n",
    "languages2 = pd.read_excel(LANGUAGE_COUNTRIES_BIS, names = ['country', 'language'])\n",
    "brightkite_trips = pd.read_csv(BRIGHTKITE_TRIPS)\n",
    "gowalla_trips = pd.read_csv(GOWALLA_TRIPS)\n",
    "brightkite_trips_full = pd.read_csv(BRIGHTKITE_TRIPS_FULL)\n",
    "continents = pd.read_csv(CONTINENTS, delimiter = ',', header = 0, usecols = [1,2,4,6], names = ['country', 'code', 'region', 'continent'])\n",
    "gowalla_trips_full = pd.read_csv(GOWALLA_TRIPS_FULL)\n",
    "countries_gdp = pd.read_csv(COUNTRIES_GDP, delimiter = ',', usecols = [0, 8], names = ['country', 'gdp'], header = 0)"
   ]
  },
  {
   "cell_type": "markdown",
   "metadata": {},
   "source": [
    "## Cleaning the data"
   ]
  },
  {
   "cell_type": "code",
   "execution_count": 3,
   "metadata": {},
   "outputs": [
    {
     "data": {
      "text/html": [
       "<div>\n",
       "<style scoped>\n",
       "    .dataframe tbody tr th:only-of-type {\n",
       "        vertical-align: middle;\n",
       "    }\n",
       "\n",
       "    .dataframe tbody tr th {\n",
       "        vertical-align: top;\n",
       "    }\n",
       "\n",
       "    .dataframe thead th {\n",
       "        text-align: right;\n",
       "    }\n",
       "</style>\n",
       "<table border=\"1\" class=\"dataframe\">\n",
       "  <thead>\n",
       "    <tr style=\"text-align: right;\">\n",
       "      <th></th>\n",
       "      <th>country</th>\n",
       "      <th>population</th>\n",
       "    </tr>\n",
       "  </thead>\n",
       "  <tbody>\n",
       "    <tr>\n",
       "      <th>24</th>\n",
       "      <td>china</td>\n",
       "      <td>1313973713</td>\n",
       "    </tr>\n",
       "    <tr>\n",
       "      <th>51</th>\n",
       "      <td>india</td>\n",
       "      <td>1095351995</td>\n",
       "    </tr>\n",
       "    <tr>\n",
       "      <th>127</th>\n",
       "      <td>united states</td>\n",
       "      <td>298444215</td>\n",
       "    </tr>\n",
       "    <tr>\n",
       "      <th>52</th>\n",
       "      <td>indonesia</td>\n",
       "      <td>245452739</td>\n",
       "    </tr>\n",
       "    <tr>\n",
       "      <th>15</th>\n",
       "      <td>brazil</td>\n",
       "      <td>188078227</td>\n",
       "    </tr>\n",
       "    <tr>\n",
       "      <th>93</th>\n",
       "      <td>pakistan</td>\n",
       "      <td>165803560</td>\n",
       "    </tr>\n",
       "    <tr>\n",
       "      <th>9</th>\n",
       "      <td>bangladesh</td>\n",
       "      <td>147365352</td>\n",
       "    </tr>\n",
       "    <tr>\n",
       "      <th>101</th>\n",
       "      <td>russia</td>\n",
       "      <td>142893540</td>\n",
       "    </tr>\n",
       "    <tr>\n",
       "      <th>91</th>\n",
       "      <td>nigeria</td>\n",
       "      <td>131859731</td>\n",
       "    </tr>\n",
       "    <tr>\n",
       "      <th>59</th>\n",
       "      <td>japan</td>\n",
       "      <td>127463611</td>\n",
       "    </tr>\n",
       "  </tbody>\n",
       "</table>\n",
       "</div>"
      ],
      "text/plain": [
       "           country  population\n",
       "24           china  1313973713\n",
       "51           india  1095351995\n",
       "127  united states   298444215\n",
       "52       indonesia   245452739\n",
       "15          brazil   188078227\n",
       "93        pakistan   165803560\n",
       "9       bangladesh   147365352\n",
       "101         russia   142893540\n",
       "91         nigeria   131859731\n",
       "59           japan   127463611"
      ]
     },
     "execution_count": 3,
     "metadata": {},
     "output_type": "execute_result"
    }
   ],
   "source": [
    "population.sort_values(by = ['population'], ascending = False).head(10)"
   ]
  },
  {
   "cell_type": "code",
   "execution_count": 4,
   "metadata": {},
   "outputs": [
    {
     "data": {
      "text/html": [
       "<div>\n",
       "<style scoped>\n",
       "    .dataframe tbody tr th:only-of-type {\n",
       "        vertical-align: middle;\n",
       "    }\n",
       "\n",
       "    .dataframe tbody tr th {\n",
       "        vertical-align: top;\n",
       "    }\n",
       "\n",
       "    .dataframe thead th {\n",
       "        text-align: right;\n",
       "    }\n",
       "</style>\n",
       "<table border=\"1\" class=\"dataframe\">\n",
       "  <thead>\n",
       "    <tr style=\"text-align: right;\">\n",
       "      <th></th>\n",
       "      <th>user</th>\n",
       "      <th>lat</th>\n",
       "      <th>lon</th>\n",
       "      <th>country</th>\n",
       "    </tr>\n",
       "  </thead>\n",
       "  <tbody>\n",
       "    <tr>\n",
       "      <th>0</th>\n",
       "      <td>0</td>\n",
       "      <td>39.747913</td>\n",
       "      <td>-104.968944</td>\n",
       "      <td>US</td>\n",
       "    </tr>\n",
       "    <tr>\n",
       "      <th>1</th>\n",
       "      <td>1</td>\n",
       "      <td>37.599899</td>\n",
       "      <td>-122.372723</td>\n",
       "      <td>US</td>\n",
       "    </tr>\n",
       "    <tr>\n",
       "      <th>2</th>\n",
       "      <td>2</td>\n",
       "      <td>39.738874</td>\n",
       "      <td>-104.954143</td>\n",
       "      <td>US</td>\n",
       "    </tr>\n",
       "  </tbody>\n",
       "</table>\n",
       "</div>"
      ],
      "text/plain": [
       "   user        lat         lon country\n",
       "0     0  39.747913 -104.968944      US\n",
       "1     1  37.599899 -122.372723      US\n",
       "2     2  39.738874 -104.954143      US"
      ]
     },
     "execution_count": 4,
     "metadata": {},
     "output_type": "execute_result"
    }
   ],
   "source": [
    "brightkite_home_locations.head(3)"
   ]
  },
  {
   "cell_type": "code",
   "execution_count": 5,
   "metadata": {
    "scrolled": true
   },
   "outputs": [
    {
     "data": {
      "text/html": [
       "<div>\n",
       "<style scoped>\n",
       "    .dataframe tbody tr th:only-of-type {\n",
       "        vertical-align: middle;\n",
       "    }\n",
       "\n",
       "    .dataframe tbody tr th {\n",
       "        vertical-align: top;\n",
       "    }\n",
       "\n",
       "    .dataframe thead th {\n",
       "        text-align: right;\n",
       "    }\n",
       "</style>\n",
       "<table border=\"1\" class=\"dataframe\">\n",
       "  <thead>\n",
       "    <tr style=\"text-align: right;\">\n",
       "      <th></th>\n",
       "      <th>user</th>\n",
       "      <th>lat</th>\n",
       "      <th>lon</th>\n",
       "      <th>country</th>\n",
       "    </tr>\n",
       "  </thead>\n",
       "  <tbody>\n",
       "    <tr>\n",
       "      <th>0</th>\n",
       "      <td>0</td>\n",
       "      <td>30.259167</td>\n",
       "      <td>-97.750223</td>\n",
       "      <td>US</td>\n",
       "    </tr>\n",
       "    <tr>\n",
       "      <th>1</th>\n",
       "      <td>1</td>\n",
       "      <td>50.381005</td>\n",
       "      <td>3.430710</td>\n",
       "      <td>FR</td>\n",
       "    </tr>\n",
       "    <tr>\n",
       "      <th>2</th>\n",
       "      <td>2</td>\n",
       "      <td>34.052243</td>\n",
       "      <td>-118.327641</td>\n",
       "      <td>US</td>\n",
       "    </tr>\n",
       "  </tbody>\n",
       "</table>\n",
       "</div>"
      ],
      "text/plain": [
       "   user        lat         lon country\n",
       "0     0  30.259167  -97.750223      US\n",
       "1     1  50.381005    3.430710      FR\n",
       "2     2  34.052243 -118.327641      US"
      ]
     },
     "execution_count": 5,
     "metadata": {},
     "output_type": "execute_result"
    }
   ],
   "source": [
    "gowalla_home_locations.head(3)"
   ]
  },
  {
   "cell_type": "code",
   "execution_count": 6,
   "metadata": {},
   "outputs": [
    {
     "data": {
      "text/html": [
       "<div>\n",
       "<style scoped>\n",
       "    .dataframe tbody tr th:only-of-type {\n",
       "        vertical-align: middle;\n",
       "    }\n",
       "\n",
       "    .dataframe tbody tr th {\n",
       "        vertical-align: top;\n",
       "    }\n",
       "\n",
       "    .dataframe thead th {\n",
       "        text-align: right;\n",
       "    }\n",
       "</style>\n",
       "<table border=\"1\" class=\"dataframe\">\n",
       "  <thead>\n",
       "    <tr style=\"text-align: right;\">\n",
       "      <th></th>\n",
       "      <th>Name</th>\n",
       "      <th>Code</th>\n",
       "    </tr>\n",
       "  </thead>\n",
       "  <tbody>\n",
       "    <tr>\n",
       "      <th>0</th>\n",
       "      <td>Afghanistan</td>\n",
       "      <td>AF</td>\n",
       "    </tr>\n",
       "    <tr>\n",
       "      <th>1</th>\n",
       "      <td>Åland Islands</td>\n",
       "      <td>AX</td>\n",
       "    </tr>\n",
       "    <tr>\n",
       "      <th>2</th>\n",
       "      <td>Albania</td>\n",
       "      <td>AL</td>\n",
       "    </tr>\n",
       "    <tr>\n",
       "      <th>3</th>\n",
       "      <td>Algeria</td>\n",
       "      <td>DZ</td>\n",
       "    </tr>\n",
       "    <tr>\n",
       "      <th>4</th>\n",
       "      <td>American Samoa</td>\n",
       "      <td>AS</td>\n",
       "    </tr>\n",
       "  </tbody>\n",
       "</table>\n",
       "</div>"
      ],
      "text/plain": [
       "             Name Code\n",
       "0     Afghanistan   AF\n",
       "1   Åland Islands   AX\n",
       "2         Albania   AL\n",
       "3         Algeria   DZ\n",
       "4  American Samoa   AS"
      ]
     },
     "execution_count": 6,
     "metadata": {},
     "output_type": "execute_result"
    }
   ],
   "source": [
    "country_codes.head()"
   ]
  },
  {
   "cell_type": "code",
   "execution_count": 7,
   "metadata": {},
   "outputs": [],
   "source": [
    "gowalla_home_locations = pd.merge(gowalla_home_locations, country_codes, left_on = 'country', right_on = 'Code', how = 'left')\n",
    "gowalla_home_locations.drop(columns = ['country', 'Code'], inplace = True)\n",
    "gowalla_home_locations.rename(columns = {'Name':'country'}, inplace = True)\n",
    "\n",
    "brightkite_home_locations = pd.merge(brightkite_home_locations, country_codes, left_on = 'country', right_on = 'Code', how = 'left')\n",
    "brightkite_home_locations.drop(columns = ['country', 'Code'], inplace = True)\n",
    "brightkite_home_locations.rename(columns = {'Name':'country'}, inplace = True)"
   ]
  },
  {
   "cell_type": "code",
   "execution_count": 8,
   "metadata": {},
   "outputs": [],
   "source": [
    "gowalla_checkins = pd.merge(gowalla_checkins, country_codes, left_on = 'country', right_on = 'Code', how = 'left')\n",
    "gowalla_checkins.drop(columns = ['country', 'Code'], inplace = True)\n",
    "gowalla_checkins.rename(columns = {'Name':'country'}, inplace = True)\n",
    "\n",
    "brightkite_checkins = pd.merge(brightkite_checkins, country_codes, left_on = 'country', right_on = 'Code', how = 'left')\n",
    "brightkite_checkins.drop(columns = ['country', 'Code'], inplace = True)\n",
    "brightkite_checkins.rename(columns = {'Name':'country'}, inplace = True)"
   ]
  },
  {
   "cell_type": "code",
   "execution_count": 9,
   "metadata": {},
   "outputs": [
    {
     "data": {
      "text/html": [
       "<div>\n",
       "<style scoped>\n",
       "    .dataframe tbody tr th:only-of-type {\n",
       "        vertical-align: middle;\n",
       "    }\n",
       "\n",
       "    .dataframe tbody tr th {\n",
       "        vertical-align: top;\n",
       "    }\n",
       "\n",
       "    .dataframe thead th {\n",
       "        text-align: right;\n",
       "    }\n",
       "</style>\n",
       "<table border=\"1\" class=\"dataframe\">\n",
       "  <thead>\n",
       "    <tr style=\"text-align: right;\">\n",
       "      <th></th>\n",
       "      <th>user</th>\n",
       "      <th>lat</th>\n",
       "      <th>lon</th>\n",
       "      <th>country</th>\n",
       "    </tr>\n",
       "  </thead>\n",
       "  <tbody>\n",
       "    <tr>\n",
       "      <th>0</th>\n",
       "      <td>0</td>\n",
       "      <td>39.747913</td>\n",
       "      <td>-104.968944</td>\n",
       "      <td>United States</td>\n",
       "    </tr>\n",
       "    <tr>\n",
       "      <th>1</th>\n",
       "      <td>1</td>\n",
       "      <td>37.599899</td>\n",
       "      <td>-122.372723</td>\n",
       "      <td>United States</td>\n",
       "    </tr>\n",
       "    <tr>\n",
       "      <th>2</th>\n",
       "      <td>2</td>\n",
       "      <td>39.738874</td>\n",
       "      <td>-104.954143</td>\n",
       "      <td>United States</td>\n",
       "    </tr>\n",
       "    <tr>\n",
       "      <th>3</th>\n",
       "      <td>3</td>\n",
       "      <td>37.780875</td>\n",
       "      <td>-122.406171</td>\n",
       "      <td>United States</td>\n",
       "    </tr>\n",
       "    <tr>\n",
       "      <th>4</th>\n",
       "      <td>4</td>\n",
       "      <td>60.174186</td>\n",
       "      <td>24.937477</td>\n",
       "      <td>Finland</td>\n",
       "    </tr>\n",
       "  </tbody>\n",
       "</table>\n",
       "</div>"
      ],
      "text/plain": [
       "   user        lat         lon        country\n",
       "0     0  39.747913 -104.968944  United States\n",
       "1     1  37.599899 -122.372723  United States\n",
       "2     2  39.738874 -104.954143  United States\n",
       "3     3  37.780875 -122.406171  United States\n",
       "4     4  60.174186   24.937477        Finland"
      ]
     },
     "execution_count": 9,
     "metadata": {},
     "output_type": "execute_result"
    }
   ],
   "source": [
    "brightkite_home_locations.head()"
   ]
  },
  {
   "cell_type": "code",
   "execution_count": 10,
   "metadata": {},
   "outputs": [],
   "source": [
    "gowalla_checkins['time'] = pd.to_datetime(gowalla_checkins['time'])\n",
    "brightkite_checkins['time'] = pd.to_datetime(brightkite_checkins['time'])"
   ]
  },
  {
   "cell_type": "code",
   "execution_count": 11,
   "metadata": {
    "scrolled": true
   },
   "outputs": [
    {
     "data": {
      "text/html": [
       "<div>\n",
       "<style scoped>\n",
       "    .dataframe tbody tr th:only-of-type {\n",
       "        vertical-align: middle;\n",
       "    }\n",
       "\n",
       "    .dataframe tbody tr th {\n",
       "        vertical-align: top;\n",
       "    }\n",
       "\n",
       "    .dataframe thead th {\n",
       "        text-align: right;\n",
       "    }\n",
       "</style>\n",
       "<table border=\"1\" class=\"dataframe\">\n",
       "  <thead>\n",
       "    <tr style=\"text-align: right;\">\n",
       "      <th></th>\n",
       "      <th>user</th>\n",
       "      <th>time</th>\n",
       "      <th>lat</th>\n",
       "      <th>lon</th>\n",
       "      <th>country</th>\n",
       "    </tr>\n",
       "  </thead>\n",
       "  <tbody>\n",
       "    <tr>\n",
       "      <th>0</th>\n",
       "      <td>0</td>\n",
       "      <td>2010-10-17 01:48:53+00:00</td>\n",
       "      <td>39.747652</td>\n",
       "      <td>-104.992510</td>\n",
       "      <td>United States</td>\n",
       "    </tr>\n",
       "    <tr>\n",
       "      <th>1</th>\n",
       "      <td>0</td>\n",
       "      <td>2010-10-16 06:02:04+00:00</td>\n",
       "      <td>39.891383</td>\n",
       "      <td>-105.070814</td>\n",
       "      <td>United States</td>\n",
       "    </tr>\n",
       "    <tr>\n",
       "      <th>2</th>\n",
       "      <td>0</td>\n",
       "      <td>2010-10-16 03:48:54+00:00</td>\n",
       "      <td>39.891077</td>\n",
       "      <td>-105.068532</td>\n",
       "      <td>United States</td>\n",
       "    </tr>\n",
       "    <tr>\n",
       "      <th>3</th>\n",
       "      <td>0</td>\n",
       "      <td>2010-10-14 18:25:51+00:00</td>\n",
       "      <td>39.750469</td>\n",
       "      <td>-104.999073</td>\n",
       "      <td>United States</td>\n",
       "    </tr>\n",
       "    <tr>\n",
       "      <th>4</th>\n",
       "      <td>0</td>\n",
       "      <td>2010-10-14 00:21:47+00:00</td>\n",
       "      <td>39.752713</td>\n",
       "      <td>-104.996337</td>\n",
       "      <td>United States</td>\n",
       "    </tr>\n",
       "  </tbody>\n",
       "</table>\n",
       "</div>"
      ],
      "text/plain": [
       "   user                      time        lat         lon        country\n",
       "0     0 2010-10-17 01:48:53+00:00  39.747652 -104.992510  United States\n",
       "1     0 2010-10-16 06:02:04+00:00  39.891383 -105.070814  United States\n",
       "2     0 2010-10-16 03:48:54+00:00  39.891077 -105.068532  United States\n",
       "3     0 2010-10-14 18:25:51+00:00  39.750469 -104.999073  United States\n",
       "4     0 2010-10-14 00:21:47+00:00  39.752713 -104.996337  United States"
      ]
     },
     "execution_count": 11,
     "metadata": {},
     "output_type": "execute_result"
    }
   ],
   "source": [
    "brightkite_checkins.head()"
   ]
  },
  {
   "cell_type": "markdown",
   "metadata": {},
   "source": [
    "## Step 1 : defining the geographic boundaries of our study"
   ]
  },
  {
   "cell_type": "markdown",
   "metadata": {},
   "source": [
    "Before starting the study, we have to determine with which countries it would relevant to work. To estimate the quantity of data available in each country, we compute the number of homes, as defined in the replication, (i.e. users) that are located in each country. \n",
    "\n",
    "The point is to work only on countries in which the amount of data seems to be enough to have robust conclusions. "
   ]
  },
  {
   "cell_type": "code",
   "execution_count": 12,
   "metadata": {},
   "outputs": [],
   "source": [
    "brightkite_home_locations['country'] = brightkite_home_locations['country'].str.lower()\n",
    "brightkite_checkins['country'] = brightkite_checkins['country'].str.lower()\n",
    "\n",
    "gowalla_home_locations['country'] = gowalla_home_locations['country'].str.lower()\n",
    "gowalla_checkins['country'] = gowalla_checkins['country'].str.lower()"
   ]
  },
  {
   "cell_type": "code",
   "execution_count": 13,
   "metadata": {
    "scrolled": true
   },
   "outputs": [
    {
     "data": {
      "text/html": [
       "<div>\n",
       "<style scoped>\n",
       "    .dataframe tbody tr th:only-of-type {\n",
       "        vertical-align: middle;\n",
       "    }\n",
       "\n",
       "    .dataframe tbody tr th {\n",
       "        vertical-align: top;\n",
       "    }\n",
       "\n",
       "    .dataframe thead th {\n",
       "        text-align: right;\n",
       "    }\n",
       "</style>\n",
       "<table border=\"1\" class=\"dataframe\">\n",
       "  <thead>\n",
       "    <tr style=\"text-align: right;\">\n",
       "      <th></th>\n",
       "      <th>country</th>\n",
       "      <th>count</th>\n",
       "    </tr>\n",
       "  </thead>\n",
       "  <tbody>\n",
       "    <tr>\n",
       "      <th>0</th>\n",
       "      <td>united states</td>\n",
       "      <td>50639</td>\n",
       "    </tr>\n",
       "    <tr>\n",
       "      <th>1</th>\n",
       "      <td>sweden</td>\n",
       "      <td>18029</td>\n",
       "    </tr>\n",
       "    <tr>\n",
       "      <th>2</th>\n",
       "      <td>united kingdom</td>\n",
       "      <td>5435</td>\n",
       "    </tr>\n",
       "    <tr>\n",
       "      <th>3</th>\n",
       "      <td>germany</td>\n",
       "      <td>5213</td>\n",
       "    </tr>\n",
       "    <tr>\n",
       "      <th>4</th>\n",
       "      <td>norway</td>\n",
       "      <td>3662</td>\n",
       "    </tr>\n",
       "    <tr>\n",
       "      <th>5</th>\n",
       "      <td>canada</td>\n",
       "      <td>2210</td>\n",
       "    </tr>\n",
       "    <tr>\n",
       "      <th>6</th>\n",
       "      <td>saudi arabia</td>\n",
       "      <td>1917</td>\n",
       "    </tr>\n",
       "    <tr>\n",
       "      <th>7</th>\n",
       "      <td>thailand</td>\n",
       "      <td>1660</td>\n",
       "    </tr>\n",
       "    <tr>\n",
       "      <th>8</th>\n",
       "      <td>belgium</td>\n",
       "      <td>1569</td>\n",
       "    </tr>\n",
       "    <tr>\n",
       "      <th>9</th>\n",
       "      <td>australia</td>\n",
       "      <td>1311</td>\n",
       "    </tr>\n",
       "  </tbody>\n",
       "</table>\n",
       "</div>"
      ],
      "text/plain": [
       "          country  count\n",
       "0   united states  50639\n",
       "1          sweden  18029\n",
       "2  united kingdom   5435\n",
       "3         germany   5213\n",
       "4          norway   3662\n",
       "5          canada   2210\n",
       "6    saudi arabia   1917\n",
       "7        thailand   1660\n",
       "8         belgium   1569\n",
       "9       australia   1311"
      ]
     },
     "execution_count": 13,
     "metadata": {},
     "output_type": "execute_result"
    }
   ],
   "source": [
    "brightkite_homes_per_country = brightkite_home_locations.groupby(['country']).count().sort_values(by = ['lat'], ascending = False)\n",
    "brightkite_homes_per_country.drop(columns = ['lon', 'user'], inplace = True)\n",
    "brightkite_homes_per_country.rename(columns={'lat':'count'}, inplace = True)\n",
    "brightkite_homes_per_country.reset_index(inplace = True)\n",
    "\n",
    "gowalla_homes_per_country = gowalla_home_locations.groupby(['country']).count().sort_values(by = ['lat'], ascending = False)\n",
    "gowalla_homes_per_country.drop(columns = ['lon', 'user'], inplace = True)\n",
    "gowalla_homes_per_country.rename(columns={'lat':'count'}, inplace = True)\n",
    "gowalla_homes_per_country.reset_index(inplace = True)\n",
    "\n",
    "gowalla_homes_per_country.head(10)"
   ]
  },
  {
   "cell_type": "code",
   "execution_count": 14,
   "metadata": {},
   "outputs": [
    {
     "data": {
      "text/html": [
       "<div>\n",
       "<style scoped>\n",
       "    .dataframe tbody tr th:only-of-type {\n",
       "        vertical-align: middle;\n",
       "    }\n",
       "\n",
       "    .dataframe tbody tr th {\n",
       "        vertical-align: top;\n",
       "    }\n",
       "\n",
       "    .dataframe thead th {\n",
       "        text-align: right;\n",
       "    }\n",
       "</style>\n",
       "<table border=\"1\" class=\"dataframe\">\n",
       "  <thead>\n",
       "    <tr style=\"text-align: right;\">\n",
       "      <th></th>\n",
       "      <th>country</th>\n",
       "      <th>count</th>\n",
       "    </tr>\n",
       "  </thead>\n",
       "  <tbody>\n",
       "    <tr>\n",
       "      <th>0</th>\n",
       "      <td>united states</td>\n",
       "      <td>30669</td>\n",
       "    </tr>\n",
       "    <tr>\n",
       "      <th>1</th>\n",
       "      <td>united kingdom</td>\n",
       "      <td>3243</td>\n",
       "    </tr>\n",
       "    <tr>\n",
       "      <th>2</th>\n",
       "      <td>japan</td>\n",
       "      <td>2860</td>\n",
       "    </tr>\n",
       "    <tr>\n",
       "      <th>3</th>\n",
       "      <td>australia</td>\n",
       "      <td>1452</td>\n",
       "    </tr>\n",
       "    <tr>\n",
       "      <th>4</th>\n",
       "      <td>canada</td>\n",
       "      <td>1409</td>\n",
       "    </tr>\n",
       "    <tr>\n",
       "      <th>5</th>\n",
       "      <td>germany</td>\n",
       "      <td>1344</td>\n",
       "    </tr>\n",
       "    <tr>\n",
       "      <th>6</th>\n",
       "      <td>sweden</td>\n",
       "      <td>833</td>\n",
       "    </tr>\n",
       "    <tr>\n",
       "      <th>7</th>\n",
       "      <td>netherlands</td>\n",
       "      <td>789</td>\n",
       "    </tr>\n",
       "    <tr>\n",
       "      <th>8</th>\n",
       "      <td>italy</td>\n",
       "      <td>614</td>\n",
       "    </tr>\n",
       "    <tr>\n",
       "      <th>9</th>\n",
       "      <td>norway</td>\n",
       "      <td>593</td>\n",
       "    </tr>\n",
       "  </tbody>\n",
       "</table>\n",
       "</div>"
      ],
      "text/plain": [
       "          country  count\n",
       "0   united states  30669\n",
       "1  united kingdom   3243\n",
       "2           japan   2860\n",
       "3       australia   1452\n",
       "4          canada   1409\n",
       "5         germany   1344\n",
       "6          sweden    833\n",
       "7     netherlands    789\n",
       "8           italy    614\n",
       "9          norway    593"
      ]
     },
     "execution_count": 14,
     "metadata": {},
     "output_type": "execute_result"
    }
   ],
   "source": [
    "brightkite_homes_per_country.head(10)"
   ]
  },
  {
   "cell_type": "code",
   "execution_count": 15,
   "metadata": {},
   "outputs": [],
   "source": [
    "brightkite_homes_per_country = brightkite_homes_per_country.merge(population, how = 'inner', on = ['country'])\n",
    "gowalla_homes_per_country = gowalla_homes_per_country.merge(population, how = 'inner', on = ['country'])"
   ]
  },
  {
   "cell_type": "code",
   "execution_count": 16,
   "metadata": {},
   "outputs": [
    {
     "data": {
      "text/html": [
       "<div>\n",
       "<style scoped>\n",
       "    .dataframe tbody tr th:only-of-type {\n",
       "        vertical-align: middle;\n",
       "    }\n",
       "\n",
       "    .dataframe tbody tr th {\n",
       "        vertical-align: top;\n",
       "    }\n",
       "\n",
       "    .dataframe thead th {\n",
       "        text-align: right;\n",
       "    }\n",
       "</style>\n",
       "<table border=\"1\" class=\"dataframe\">\n",
       "  <thead>\n",
       "    <tr style=\"text-align: right;\">\n",
       "      <th></th>\n",
       "      <th>country</th>\n",
       "      <th>count</th>\n",
       "      <th>population</th>\n",
       "    </tr>\n",
       "  </thead>\n",
       "  <tbody>\n",
       "    <tr>\n",
       "      <th>0</th>\n",
       "      <td>united states</td>\n",
       "      <td>30669</td>\n",
       "      <td>298444215</td>\n",
       "    </tr>\n",
       "    <tr>\n",
       "      <th>1</th>\n",
       "      <td>united kingdom</td>\n",
       "      <td>3243</td>\n",
       "      <td>60609153</td>\n",
       "    </tr>\n",
       "    <tr>\n",
       "      <th>2</th>\n",
       "      <td>japan</td>\n",
       "      <td>2860</td>\n",
       "      <td>127463611</td>\n",
       "    </tr>\n",
       "  </tbody>\n",
       "</table>\n",
       "</div>"
      ],
      "text/plain": [
       "          country  count  population\n",
       "0   united states  30669   298444215\n",
       "1  united kingdom   3243    60609153\n",
       "2           japan   2860   127463611"
      ]
     },
     "execution_count": 16,
     "metadata": {},
     "output_type": "execute_result"
    }
   ],
   "source": [
    "brightkite_homes_per_country.head(3)"
   ]
  },
  {
   "cell_type": "code",
   "execution_count": 17,
   "metadata": {},
   "outputs": [
    {
     "data": {
      "text/html": [
       "<div>\n",
       "<style scoped>\n",
       "    .dataframe tbody tr th:only-of-type {\n",
       "        vertical-align: middle;\n",
       "    }\n",
       "\n",
       "    .dataframe tbody tr th {\n",
       "        vertical-align: top;\n",
       "    }\n",
       "\n",
       "    .dataframe thead th {\n",
       "        text-align: right;\n",
       "    }\n",
       "</style>\n",
       "<table border=\"1\" class=\"dataframe\">\n",
       "  <thead>\n",
       "    <tr style=\"text-align: right;\">\n",
       "      <th></th>\n",
       "      <th>country</th>\n",
       "      <th>count</th>\n",
       "      <th>population</th>\n",
       "    </tr>\n",
       "  </thead>\n",
       "  <tbody>\n",
       "    <tr>\n",
       "      <th>0</th>\n",
       "      <td>united states</td>\n",
       "      <td>50639</td>\n",
       "      <td>298444215</td>\n",
       "    </tr>\n",
       "    <tr>\n",
       "      <th>1</th>\n",
       "      <td>sweden</td>\n",
       "      <td>18029</td>\n",
       "      <td>9016596</td>\n",
       "    </tr>\n",
       "    <tr>\n",
       "      <th>2</th>\n",
       "      <td>united kingdom</td>\n",
       "      <td>5435</td>\n",
       "      <td>60609153</td>\n",
       "    </tr>\n",
       "  </tbody>\n",
       "</table>\n",
       "</div>"
      ],
      "text/plain": [
       "          country  count  population\n",
       "0   united states  50639   298444215\n",
       "1          sweden  18029     9016596\n",
       "2  united kingdom   5435    60609153"
      ]
     },
     "execution_count": 17,
     "metadata": {},
     "output_type": "execute_result"
    }
   ],
   "source": [
    "gowalla_homes_per_country.head(3)"
   ]
  },
  {
   "cell_type": "markdown",
   "metadata": {},
   "source": [
    "The number of home per country is normalized by the population of the country. "
   ]
  },
  {
   "cell_type": "code",
   "execution_count": 18,
   "metadata": {},
   "outputs": [],
   "source": [
    "brightkite_homes_per_country['count_normalized'] = brightkite_homes_per_country['count']/brightkite_homes_per_country['population']\n",
    "gowalla_homes_per_country['count_normalized'] = gowalla_homes_per_country['count']/gowalla_homes_per_country['population']"
   ]
  },
  {
   "cell_type": "code",
   "execution_count": 19,
   "metadata": {},
   "outputs": [
    {
     "data": {
      "text/html": [
       "<div>\n",
       "<style scoped>\n",
       "    .dataframe tbody tr th:only-of-type {\n",
       "        vertical-align: middle;\n",
       "    }\n",
       "\n",
       "    .dataframe tbody tr th {\n",
       "        vertical-align: top;\n",
       "    }\n",
       "\n",
       "    .dataframe thead th {\n",
       "        text-align: right;\n",
       "    }\n",
       "</style>\n",
       "<table border=\"1\" class=\"dataframe\">\n",
       "  <thead>\n",
       "    <tr style=\"text-align: right;\">\n",
       "      <th></th>\n",
       "      <th>country</th>\n",
       "      <th>count</th>\n",
       "      <th>population</th>\n",
       "      <th>count_normalized</th>\n",
       "    </tr>\n",
       "  </thead>\n",
       "  <tbody>\n",
       "    <tr>\n",
       "      <th>9</th>\n",
       "      <td>norway</td>\n",
       "      <td>593</td>\n",
       "      <td>4610820</td>\n",
       "      <td>0.000129</td>\n",
       "    </tr>\n",
       "    <tr>\n",
       "      <th>0</th>\n",
       "      <td>united states</td>\n",
       "      <td>30669</td>\n",
       "      <td>298444215</td>\n",
       "      <td>0.000103</td>\n",
       "    </tr>\n",
       "    <tr>\n",
       "      <th>6</th>\n",
       "      <td>sweden</td>\n",
       "      <td>833</td>\n",
       "      <td>9016596</td>\n",
       "      <td>0.000092</td>\n",
       "    </tr>\n",
       "    <tr>\n",
       "      <th>40</th>\n",
       "      <td>luxembourg</td>\n",
       "      <td>40</td>\n",
       "      <td>474413</td>\n",
       "      <td>0.000084</td>\n",
       "    </tr>\n",
       "    <tr>\n",
       "      <th>3</th>\n",
       "      <td>australia</td>\n",
       "      <td>1452</td>\n",
       "      <td>20264082</td>\n",
       "      <td>0.000072</td>\n",
       "    </tr>\n",
       "    <tr>\n",
       "      <th>12</th>\n",
       "      <td>finland</td>\n",
       "      <td>367</td>\n",
       "      <td>5231372</td>\n",
       "      <td>0.000070</td>\n",
       "    </tr>\n",
       "    <tr>\n",
       "      <th>1</th>\n",
       "      <td>united kingdom</td>\n",
       "      <td>3243</td>\n",
       "      <td>60609153</td>\n",
       "      <td>0.000054</td>\n",
       "    </tr>\n",
       "    <tr>\n",
       "      <th>7</th>\n",
       "      <td>netherlands</td>\n",
       "      <td>789</td>\n",
       "      <td>16491461</td>\n",
       "      <td>0.000048</td>\n",
       "    </tr>\n",
       "    <tr>\n",
       "      <th>4</th>\n",
       "      <td>canada</td>\n",
       "      <td>1409</td>\n",
       "      <td>33098932</td>\n",
       "      <td>0.000043</td>\n",
       "    </tr>\n",
       "    <tr>\n",
       "      <th>36</th>\n",
       "      <td>estonia</td>\n",
       "      <td>53</td>\n",
       "      <td>1324333</td>\n",
       "      <td>0.000040</td>\n",
       "    </tr>\n",
       "  </tbody>\n",
       "</table>\n",
       "</div>"
      ],
      "text/plain": [
       "           country  count  population  count_normalized\n",
       "9           norway    593     4610820          0.000129\n",
       "0    united states  30669   298444215          0.000103\n",
       "6           sweden    833     9016596          0.000092\n",
       "40      luxembourg     40      474413          0.000084\n",
       "3        australia   1452    20264082          0.000072\n",
       "12         finland    367     5231372          0.000070\n",
       "1   united kingdom   3243    60609153          0.000054\n",
       "7      netherlands    789    16491461          0.000048\n",
       "4           canada   1409    33098932          0.000043\n",
       "36         estonia     53     1324333          0.000040"
      ]
     },
     "execution_count": 19,
     "metadata": {},
     "output_type": "execute_result"
    }
   ],
   "source": [
    "brightkite_homes_per_country.sort_values(by = 'count_normalized', ascending = False).head(10)"
   ]
  },
  {
   "cell_type": "code",
   "execution_count": 20,
   "metadata": {},
   "outputs": [
    {
     "data": {
      "text/html": [
       "<div>\n",
       "<style scoped>\n",
       "    .dataframe tbody tr th:only-of-type {\n",
       "        vertical-align: middle;\n",
       "    }\n",
       "\n",
       "    .dataframe tbody tr th {\n",
       "        vertical-align: top;\n",
       "    }\n",
       "\n",
       "    .dataframe thead th {\n",
       "        text-align: right;\n",
       "    }\n",
       "</style>\n",
       "<table border=\"1\" class=\"dataframe\">\n",
       "  <thead>\n",
       "    <tr style=\"text-align: right;\">\n",
       "      <th></th>\n",
       "      <th>country</th>\n",
       "      <th>count</th>\n",
       "      <th>population</th>\n",
       "      <th>count_normalized</th>\n",
       "    </tr>\n",
       "  </thead>\n",
       "  <tbody>\n",
       "    <tr>\n",
       "      <th>1</th>\n",
       "      <td>sweden</td>\n",
       "      <td>18029</td>\n",
       "      <td>9016596</td>\n",
       "      <td>0.002000</td>\n",
       "    </tr>\n",
       "    <tr>\n",
       "      <th>4</th>\n",
       "      <td>norway</td>\n",
       "      <td>3662</td>\n",
       "      <td>4610820</td>\n",
       "      <td>0.000794</td>\n",
       "    </tr>\n",
       "    <tr>\n",
       "      <th>29</th>\n",
       "      <td>luxembourg</td>\n",
       "      <td>172</td>\n",
       "      <td>474413</td>\n",
       "      <td>0.000363</td>\n",
       "    </tr>\n",
       "    <tr>\n",
       "      <th>0</th>\n",
       "      <td>united states</td>\n",
       "      <td>50639</td>\n",
       "      <td>298444215</td>\n",
       "      <td>0.000170</td>\n",
       "    </tr>\n",
       "    <tr>\n",
       "      <th>8</th>\n",
       "      <td>belgium</td>\n",
       "      <td>1569</td>\n",
       "      <td>10379067</td>\n",
       "      <td>0.000151</td>\n",
       "    </tr>\n",
       "    <tr>\n",
       "      <th>11</th>\n",
       "      <td>switzerland</td>\n",
       "      <td>994</td>\n",
       "      <td>7523934</td>\n",
       "      <td>0.000132</td>\n",
       "    </tr>\n",
       "    <tr>\n",
       "      <th>17</th>\n",
       "      <td>denmark</td>\n",
       "      <td>607</td>\n",
       "      <td>5450661</td>\n",
       "      <td>0.000111</td>\n",
       "    </tr>\n",
       "    <tr>\n",
       "      <th>2</th>\n",
       "      <td>united kingdom</td>\n",
       "      <td>5435</td>\n",
       "      <td>60609153</td>\n",
       "      <td>0.000090</td>\n",
       "    </tr>\n",
       "    <tr>\n",
       "      <th>21</th>\n",
       "      <td>singapore</td>\n",
       "      <td>392</td>\n",
       "      <td>4492150</td>\n",
       "      <td>0.000087</td>\n",
       "    </tr>\n",
       "    <tr>\n",
       "      <th>10</th>\n",
       "      <td>netherlands</td>\n",
       "      <td>1259</td>\n",
       "      <td>16491461</td>\n",
       "      <td>0.000076</td>\n",
       "    </tr>\n",
       "  </tbody>\n",
       "</table>\n",
       "</div>"
      ],
      "text/plain": [
       "           country  count  population  count_normalized\n",
       "1           sweden  18029     9016596          0.002000\n",
       "4           norway   3662     4610820          0.000794\n",
       "29      luxembourg    172      474413          0.000363\n",
       "0    united states  50639   298444215          0.000170\n",
       "8          belgium   1569    10379067          0.000151\n",
       "11     switzerland    994     7523934          0.000132\n",
       "17         denmark    607     5450661          0.000111\n",
       "2   united kingdom   5435    60609153          0.000090\n",
       "21       singapore    392     4492150          0.000087\n",
       "10     netherlands   1259    16491461          0.000076"
      ]
     },
     "execution_count": 20,
     "metadata": {},
     "output_type": "execute_result"
    }
   ],
   "source": [
    "gowalla_homes_per_country.sort_values(by = 'count_normalized', ascending = False).head(10)"
   ]
  },
  {
   "cell_type": "markdown",
   "metadata": {},
   "source": [
    "Let's say that we will only work with countries which count_normalized value is higher to a certain rate. "
   ]
  },
  {
   "cell_type": "code",
   "execution_count": 21,
   "metadata": {},
   "outputs": [
    {
     "name": "stdout",
     "output_type": "stream",
     "text": [
      "With this rate, 28 countries are taken in the study for the Brightkite dataset.\n",
      "With this rate, 38 countries are taken in the study for the Gowalla dataset.\n"
     ]
    }
   ],
   "source": [
    "rate = 0.00001\n",
    "brightkite_countries = brightkite_homes_per_country[brightkite_homes_per_country.count_normalized >= rate]\n",
    "gowalla_countries = gowalla_homes_per_country[gowalla_homes_per_country.count_normalized >= rate]\n",
    "print('With this rate,', len(brightkite_countries), 'countries are taken in the study for the Brightkite dataset.')\n",
    "print('With this rate,', len(gowalla_countries), 'countries are taken in the study for the Gowalla dataset.')"
   ]
  },
  {
   "cell_type": "code",
   "execution_count": 22,
   "metadata": {},
   "outputs": [
    {
     "name": "stdout",
     "output_type": "stream",
     "text": [
      "With this rate, 25 countries are taken in the study for both datasets.\n"
     ]
    }
   ],
   "source": [
    "countries = pd.merge(brightkite_countries, gowalla_countries, how = 'inner', on = ['country'], suffixes=('_brightkite', '_gowalla')) # countries that are ok both for the Gowalla and Brightkite datasets\n",
    "print('With this rate,', len(countries), 'countries are taken in the study for both datasets.')"
   ]
  },
  {
   "cell_type": "code",
   "execution_count": 23,
   "metadata": {
    "scrolled": false
   },
   "outputs": [
    {
     "data": {
      "text/html": [
       "<div>\n",
       "<style scoped>\n",
       "    .dataframe tbody tr th:only-of-type {\n",
       "        vertical-align: middle;\n",
       "    }\n",
       "\n",
       "    .dataframe tbody tr th {\n",
       "        vertical-align: top;\n",
       "    }\n",
       "\n",
       "    .dataframe thead th {\n",
       "        text-align: right;\n",
       "    }\n",
       "</style>\n",
       "<table border=\"1\" class=\"dataframe\">\n",
       "  <thead>\n",
       "    <tr style=\"text-align: right;\">\n",
       "      <th></th>\n",
       "      <th>country</th>\n",
       "      <th>count_brightkite</th>\n",
       "      <th>population_brightkite</th>\n",
       "      <th>count_normalized_brightkite</th>\n",
       "      <th>count_gowalla</th>\n",
       "      <th>population_gowalla</th>\n",
       "      <th>count_normalized_gowalla</th>\n",
       "    </tr>\n",
       "  </thead>\n",
       "  <tbody>\n",
       "    <tr>\n",
       "      <th>0</th>\n",
       "      <td>united states</td>\n",
       "      <td>30669</td>\n",
       "      <td>298444215</td>\n",
       "      <td>0.000103</td>\n",
       "      <td>50639</td>\n",
       "      <td>298444215</td>\n",
       "      <td>0.000170</td>\n",
       "    </tr>\n",
       "    <tr>\n",
       "      <th>1</th>\n",
       "      <td>united kingdom</td>\n",
       "      <td>3243</td>\n",
       "      <td>60609153</td>\n",
       "      <td>0.000054</td>\n",
       "      <td>5435</td>\n",
       "      <td>60609153</td>\n",
       "      <td>0.000090</td>\n",
       "    </tr>\n",
       "    <tr>\n",
       "      <th>2</th>\n",
       "      <td>australia</td>\n",
       "      <td>1452</td>\n",
       "      <td>20264082</td>\n",
       "      <td>0.000072</td>\n",
       "      <td>1311</td>\n",
       "      <td>20264082</td>\n",
       "      <td>0.000065</td>\n",
       "    </tr>\n",
       "    <tr>\n",
       "      <th>3</th>\n",
       "      <td>canada</td>\n",
       "      <td>1409</td>\n",
       "      <td>33098932</td>\n",
       "      <td>0.000043</td>\n",
       "      <td>2210</td>\n",
       "      <td>33098932</td>\n",
       "      <td>0.000067</td>\n",
       "    </tr>\n",
       "    <tr>\n",
       "      <th>4</th>\n",
       "      <td>germany</td>\n",
       "      <td>1344</td>\n",
       "      <td>82422299</td>\n",
       "      <td>0.000016</td>\n",
       "      <td>5213</td>\n",
       "      <td>82422299</td>\n",
       "      <td>0.000063</td>\n",
       "    </tr>\n",
       "  </tbody>\n",
       "</table>\n",
       "</div>"
      ],
      "text/plain": [
       "          country  count_brightkite  population_brightkite  \\\n",
       "0   united states             30669              298444215   \n",
       "1  united kingdom              3243               60609153   \n",
       "2       australia              1452               20264082   \n",
       "3          canada              1409               33098932   \n",
       "4         germany              1344               82422299   \n",
       "\n",
       "   count_normalized_brightkite  count_gowalla  population_gowalla  \\\n",
       "0                     0.000103          50639           298444215   \n",
       "1                     0.000054           5435            60609153   \n",
       "2                     0.000072           1311            20264082   \n",
       "3                     0.000043           2210            33098932   \n",
       "4                     0.000016           5213            82422299   \n",
       "\n",
       "   count_normalized_gowalla  \n",
       "0                  0.000170  \n",
       "1                  0.000090  \n",
       "2                  0.000065  \n",
       "3                  0.000067  \n",
       "4                  0.000063  "
      ]
     },
     "execution_count": 23,
     "metadata": {},
     "output_type": "execute_result"
    }
   ],
   "source": [
    "countries.head(5)"
   ]
  },
  {
   "cell_type": "markdown",
   "metadata": {},
   "source": [
    "## Distance from home"
   ]
  },
  {
   "cell_type": "code",
   "execution_count": 31,
   "metadata": {},
   "outputs": [],
   "source": [
    "gowalla_home_locations.rename(columns={'lat':'home_lat','lon':'home_lon'}, inplace = True)\n",
    "brightkite_home_locations.rename(columns={'lat':'home_lat','lon':'home_lon'}, inplace = True)"
   ]
  },
  {
   "cell_type": "code",
   "execution_count": 32,
   "metadata": {},
   "outputs": [],
   "source": [
    "gowalla_checkins = pd.merge(gowalla_checkins, gowalla_home_locations, how = 'left', on = ['user'], suffixes = ('_checkin', '_home'))\n",
    "brightkite_checkins = pd.merge(brightkite_checkins, brightkite_home_locations, how = 'left', on = ['user'], suffixes = ('_checkin', '_home'))"
   ]
  },
  {
   "cell_type": "code",
   "execution_count": 33,
   "metadata": {},
   "outputs": [],
   "source": [
    "import haversine as hvrs"
   ]
  },
  {
   "cell_type": "code",
   "execution_count": 34,
   "metadata": {},
   "outputs": [],
   "source": [
    "def distance_from_home(row):\n",
    "    '''computes the distance between the check-in and the user's home'''\n",
    "    lat1 = row['lat']\n",
    "    lat2 = row['home_lat']\n",
    "    long1 = row['lon']\n",
    "    long2 = row['home_lon']\n",
    "    return(hvrs.haversine((lat1, long1), (lat2, long2)))"
   ]
  },
  {
   "cell_type": "code",
   "execution_count": 35,
   "metadata": {},
   "outputs": [],
   "source": [
    "gowalla_checkins['distance_from_home'] = gowalla_checkins.apply(lambda row: distance_from_home(row), axis = 1)\n",
    "brightkite_checkins['distance_from_home'] = brightkite_checkins.apply(lambda row: distance_from_home(row), axis = 1)"
   ]
  },
  {
   "cell_type": "code",
   "execution_count": 36,
   "metadata": {},
   "outputs": [
    {
     "data": {
      "text/html": [
       "<div>\n",
       "<style scoped>\n",
       "    .dataframe tbody tr th:only-of-type {\n",
       "        vertical-align: middle;\n",
       "    }\n",
       "\n",
       "    .dataframe tbody tr th {\n",
       "        vertical-align: top;\n",
       "    }\n",
       "\n",
       "    .dataframe thead th {\n",
       "        text-align: right;\n",
       "    }\n",
       "</style>\n",
       "<table border=\"1\" class=\"dataframe\">\n",
       "  <thead>\n",
       "    <tr style=\"text-align: right;\">\n",
       "      <th></th>\n",
       "      <th>user</th>\n",
       "      <th>time</th>\n",
       "      <th>lat</th>\n",
       "      <th>lon</th>\n",
       "      <th>country_checkin</th>\n",
       "      <th>home_lat</th>\n",
       "      <th>home_lon</th>\n",
       "      <th>country_home</th>\n",
       "      <th>distance_from_home</th>\n",
       "    </tr>\n",
       "  </thead>\n",
       "  <tbody>\n",
       "    <tr>\n",
       "      <th>0</th>\n",
       "      <td>0</td>\n",
       "      <td>2010-10-19 23:55:27+00:00</td>\n",
       "      <td>30.235909</td>\n",
       "      <td>-97.795140</td>\n",
       "      <td>united states</td>\n",
       "      <td>30.259167</td>\n",
       "      <td>-97.750223</td>\n",
       "      <td>united states</td>\n",
       "      <td>5.030254</td>\n",
       "    </tr>\n",
       "    <tr>\n",
       "      <th>1</th>\n",
       "      <td>0</td>\n",
       "      <td>2010-10-18 22:17:43+00:00</td>\n",
       "      <td>30.269103</td>\n",
       "      <td>-97.749395</td>\n",
       "      <td>united states</td>\n",
       "      <td>30.259167</td>\n",
       "      <td>-97.750223</td>\n",
       "      <td>united states</td>\n",
       "      <td>1.107683</td>\n",
       "    </tr>\n",
       "    <tr>\n",
       "      <th>2</th>\n",
       "      <td>0</td>\n",
       "      <td>2010-10-17 23:42:03+00:00</td>\n",
       "      <td>30.255731</td>\n",
       "      <td>-97.763386</td>\n",
       "      <td>united states</td>\n",
       "      <td>30.259167</td>\n",
       "      <td>-97.750223</td>\n",
       "      <td>united states</td>\n",
       "      <td>1.320713</td>\n",
       "    </tr>\n",
       "  </tbody>\n",
       "</table>\n",
       "</div>"
      ],
      "text/plain": [
       "   user                      time        lat        lon country_checkin  \\\n",
       "0     0 2010-10-19 23:55:27+00:00  30.235909 -97.795140   united states   \n",
       "1     0 2010-10-18 22:17:43+00:00  30.269103 -97.749395   united states   \n",
       "2     0 2010-10-17 23:42:03+00:00  30.255731 -97.763386   united states   \n",
       "\n",
       "    home_lat   home_lon   country_home  distance_from_home  \n",
       "0  30.259167 -97.750223  united states            5.030254  \n",
       "1  30.259167 -97.750223  united states            1.107683  \n",
       "2  30.259167 -97.750223  united states            1.320713  "
      ]
     },
     "execution_count": 36,
     "metadata": {},
     "output_type": "execute_result"
    }
   ],
   "source": [
    "gowalla_checkins.head(3)"
   ]
  },
  {
   "cell_type": "code",
   "execution_count": 37,
   "metadata": {},
   "outputs": [
    {
     "data": {
      "text/plain": [
       "(942618, 511709)"
      ]
     },
     "execution_count": 37,
     "metadata": {},
     "output_type": "execute_result"
    }
   ],
   "source": [
    "distance = 200 #km\n",
    "gowalla_far_checkins = gowalla_checkins[gowalla_checkins.distance_from_home >= distance]\n",
    "brightkite_far_checkins = brightkite_checkins[brightkite_checkins.distance_from_home >= distance]\n",
    "len(gowalla_far_checkins), len(brightkite_far_checkins)"
   ]
  },
  {
   "cell_type": "code",
   "execution_count": 38,
   "metadata": {},
   "outputs": [
    {
     "data": {
      "text/html": [
       "<div>\n",
       "<style scoped>\n",
       "    .dataframe tbody tr th:only-of-type {\n",
       "        vertical-align: middle;\n",
       "    }\n",
       "\n",
       "    .dataframe tbody tr th {\n",
       "        vertical-align: top;\n",
       "    }\n",
       "\n",
       "    .dataframe thead th {\n",
       "        text-align: right;\n",
       "    }\n",
       "</style>\n",
       "<table border=\"1\" class=\"dataframe\">\n",
       "  <thead>\n",
       "    <tr style=\"text-align: right;\">\n",
       "      <th></th>\n",
       "      <th>user</th>\n",
       "      <th>time</th>\n",
       "      <th>lat</th>\n",
       "      <th>lon</th>\n",
       "      <th>country_checkin</th>\n",
       "      <th>home_lat</th>\n",
       "      <th>home_lon</th>\n",
       "      <th>country_home</th>\n",
       "      <th>distance_from_home</th>\n",
       "    </tr>\n",
       "  </thead>\n",
       "  <tbody>\n",
       "    <tr>\n",
       "      <th>10</th>\n",
       "      <td>0</td>\n",
       "      <td>2010-10-12 00:21:28+00:00</td>\n",
       "      <td>40.643885</td>\n",
       "      <td>-73.782806</td>\n",
       "      <td>united states</td>\n",
       "      <td>30.259167</td>\n",
       "      <td>-97.750223</td>\n",
       "      <td>united states</td>\n",
       "      <td>2447.558851</td>\n",
       "    </tr>\n",
       "    <tr>\n",
       "      <th>11</th>\n",
       "      <td>0</td>\n",
       "      <td>2010-10-11 20:21:20+00:00</td>\n",
       "      <td>40.741374</td>\n",
       "      <td>-73.988105</td>\n",
       "      <td>united states</td>\n",
       "      <td>30.259167</td>\n",
       "      <td>-97.750223</td>\n",
       "      <td>united states</td>\n",
       "      <td>2435.235803</td>\n",
       "    </tr>\n",
       "    <tr>\n",
       "      <th>12</th>\n",
       "      <td>0</td>\n",
       "      <td>2010-10-11 20:20:42+00:00</td>\n",
       "      <td>40.741388</td>\n",
       "      <td>-73.989455</td>\n",
       "      <td>united states</td>\n",
       "      <td>30.259167</td>\n",
       "      <td>-97.750223</td>\n",
       "      <td>united states</td>\n",
       "      <td>2435.130291</td>\n",
       "    </tr>\n",
       "  </tbody>\n",
       "</table>\n",
       "</div>"
      ],
      "text/plain": [
       "    user                      time        lat        lon country_checkin  \\\n",
       "10     0 2010-10-12 00:21:28+00:00  40.643885 -73.782806   united states   \n",
       "11     0 2010-10-11 20:21:20+00:00  40.741374 -73.988105   united states   \n",
       "12     0 2010-10-11 20:20:42+00:00  40.741388 -73.989455   united states   \n",
       "\n",
       "     home_lat   home_lon   country_home  distance_from_home  \n",
       "10  30.259167 -97.750223  united states         2447.558851  \n",
       "11  30.259167 -97.750223  united states         2435.235803  \n",
       "12  30.259167 -97.750223  united states         2435.130291  "
      ]
     },
     "execution_count": 38,
     "metadata": {},
     "output_type": "execute_result"
    }
   ],
   "source": [
    "gowalla_far_checkins.head(3)"
   ]
  },
  {
   "cell_type": "code",
   "execution_count": 39,
   "metadata": {},
   "outputs": [
    {
     "data": {
      "text/html": [
       "<div>\n",
       "<style scoped>\n",
       "    .dataframe tbody tr th:only-of-type {\n",
       "        vertical-align: middle;\n",
       "    }\n",
       "\n",
       "    .dataframe tbody tr th {\n",
       "        vertical-align: top;\n",
       "    }\n",
       "\n",
       "    .dataframe thead th {\n",
       "        text-align: right;\n",
       "    }\n",
       "</style>\n",
       "<table border=\"1\" class=\"dataframe\">\n",
       "  <thead>\n",
       "    <tr style=\"text-align: right;\">\n",
       "      <th></th>\n",
       "      <th>count</th>\n",
       "    </tr>\n",
       "    <tr>\n",
       "      <th>country_home</th>\n",
       "      <th></th>\n",
       "    </tr>\n",
       "  </thead>\n",
       "  <tbody>\n",
       "    <tr>\n",
       "      <th>united states</th>\n",
       "      <td>634893</td>\n",
       "    </tr>\n",
       "    <tr>\n",
       "      <th>sweden</th>\n",
       "      <td>103646</td>\n",
       "    </tr>\n",
       "    <tr>\n",
       "      <th>germany</th>\n",
       "      <td>39033</td>\n",
       "    </tr>\n",
       "    <tr>\n",
       "      <th>united kingdom</th>\n",
       "      <td>29169</td>\n",
       "    </tr>\n",
       "    <tr>\n",
       "      <th>norway</th>\n",
       "      <td>23863</td>\n",
       "    </tr>\n",
       "    <tr>\n",
       "      <th>canada</th>\n",
       "      <td>15475</td>\n",
       "    </tr>\n",
       "    <tr>\n",
       "      <th>saudi arabia</th>\n",
       "      <td>12489</td>\n",
       "    </tr>\n",
       "    <tr>\n",
       "      <th>australia</th>\n",
       "      <td>7229</td>\n",
       "    </tr>\n",
       "    <tr>\n",
       "      <th>france</th>\n",
       "      <td>6170</td>\n",
       "    </tr>\n",
       "    <tr>\n",
       "      <th>belgium</th>\n",
       "      <td>4696</td>\n",
       "    </tr>\n",
       "  </tbody>\n",
       "</table>\n",
       "</div>"
      ],
      "text/plain": [
       "                 count\n",
       "country_home          \n",
       "united states   634893\n",
       "sweden          103646\n",
       "germany          39033\n",
       "united kingdom   29169\n",
       "norway           23863\n",
       "canada           15475\n",
       "saudi arabia     12489\n",
       "australia         7229\n",
       "france            6170\n",
       "belgium           4696"
      ]
     },
     "execution_count": 39,
     "metadata": {},
     "output_type": "execute_result"
    }
   ],
   "source": [
    "gowalla_far_checkins_per_country = gowalla_far_checkins.groupby(['country_home']).count().sort_values(by = 'user', ascending = False)\n",
    "gowalla_far_checkins_per_country.rename(columns = {'user':'count'}, inplace = True)\n",
    "gowalla_far_checkins_per_country.drop(gowalla_far_checkins_per_country.columns.difference(['count']), 1, inplace=True)\n",
    "gowalla_far_checkins_per_country.head(10)"
   ]
  },
  {
   "cell_type": "code",
   "execution_count": 40,
   "metadata": {},
   "outputs": [
    {
     "data": {
      "text/html": [
       "<div>\n",
       "<style scoped>\n",
       "    .dataframe tbody tr th:only-of-type {\n",
       "        vertical-align: middle;\n",
       "    }\n",
       "\n",
       "    .dataframe tbody tr th {\n",
       "        vertical-align: top;\n",
       "    }\n",
       "\n",
       "    .dataframe thead th {\n",
       "        text-align: right;\n",
       "    }\n",
       "</style>\n",
       "<table border=\"1\" class=\"dataframe\">\n",
       "  <thead>\n",
       "    <tr style=\"text-align: right;\">\n",
       "      <th></th>\n",
       "      <th>count</th>\n",
       "    </tr>\n",
       "    <tr>\n",
       "      <th>country_home</th>\n",
       "      <th></th>\n",
       "    </tr>\n",
       "  </thead>\n",
       "  <tbody>\n",
       "    <tr>\n",
       "      <th>united states</th>\n",
       "      <td>358789</td>\n",
       "    </tr>\n",
       "    <tr>\n",
       "      <th>japan</th>\n",
       "      <td>41834</td>\n",
       "    </tr>\n",
       "    <tr>\n",
       "      <th>united kingdom</th>\n",
       "      <td>15637</td>\n",
       "    </tr>\n",
       "    <tr>\n",
       "      <th>australia</th>\n",
       "      <td>10371</td>\n",
       "    </tr>\n",
       "    <tr>\n",
       "      <th>germany</th>\n",
       "      <td>10175</td>\n",
       "    </tr>\n",
       "    <tr>\n",
       "      <th>sweden</th>\n",
       "      <td>8575</td>\n",
       "    </tr>\n",
       "    <tr>\n",
       "      <th>canada</th>\n",
       "      <td>7780</td>\n",
       "    </tr>\n",
       "    <tr>\n",
       "      <th>france</th>\n",
       "      <td>6999</td>\n",
       "    </tr>\n",
       "    <tr>\n",
       "      <th>spain</th>\n",
       "      <td>4893</td>\n",
       "    </tr>\n",
       "    <tr>\n",
       "      <th>norway</th>\n",
       "      <td>4362</td>\n",
       "    </tr>\n",
       "  </tbody>\n",
       "</table>\n",
       "</div>"
      ],
      "text/plain": [
       "                 count\n",
       "country_home          \n",
       "united states   358789\n",
       "japan            41834\n",
       "united kingdom   15637\n",
       "australia        10371\n",
       "germany          10175\n",
       "sweden            8575\n",
       "canada            7780\n",
       "france            6999\n",
       "spain             4893\n",
       "norway            4362"
      ]
     },
     "execution_count": 40,
     "metadata": {},
     "output_type": "execute_result"
    }
   ],
   "source": [
    "brightkite_far_checkins_per_country = brightkite_far_checkins.groupby(['country_home']).count().sort_values(by = 'user', ascending = False)\n",
    "brightkite_far_checkins_per_country.rename(columns = {'user':'count'}, inplace = True)\n",
    "brightkite_far_checkins_per_country.drop(brightkite_far_checkins_per_country.columns.difference(['count']), 1, inplace=True)\n",
    "brightkite_far_checkins_per_country.head(10)"
   ]
  },
  {
   "cell_type": "markdown",
   "metadata": {},
   "source": [
    "# Step 2 : countries where users travelled "
   ]
  },
  {
   "cell_type": "raw",
   "metadata": {},
   "source": [
    "gowalla_far_checkins['previous_country_checkin'] = gowalla_far_checkins['country_checkin'].shift(1)\n",
    "brightkite_far_checkins['previous_country_checkin'] = brightkite_far_checkins['country_checkin'].shift(1)"
   ]
  },
  {
   "cell_type": "raw",
   "metadata": {},
   "source": [
    "gowalla_far_checkins['next_country_checkin'] = gowalla_far_checkins['country_checkin'].shift(-1)\n",
    "brightkite_far_checkins['next_country_checkin'] = brightkite_far_checkins['country_checkin'].shift(-1)"
   ]
  },
  {
   "cell_type": "raw",
   "metadata": {},
   "source": [
    "brightkite_far_checkins[3009:3013]"
   ]
  },
  {
   "cell_type": "raw",
   "metadata": {},
   "source": [
    "def change_arrival_country(row):\n",
    "    '''arrival country : return 1 if their the user moved from a country to another since the last check-in and 0 if not'''\n",
    "    country = row['country_checkin']\n",
    "    previous_country = row['previous_country_checkin']\n",
    "    if(country != previous_country):\n",
    "        return(1)\n",
    "    else:\n",
    "        return(0)"
   ]
  },
  {
   "cell_type": "raw",
   "metadata": {},
   "source": [
    "def change_departure_country(row):\n",
    "    '''departure country : return 1 if their the user moves from a country to another since the last check-in and 0 if not'''\n",
    "    country = row['country_checkin']\n",
    "    next_country = row['next_country_checkin']\n",
    "    if(country != next_country):\n",
    "        return(1)\n",
    "    else:\n",
    "        return(0)"
   ]
  },
  {
   "cell_type": "raw",
   "metadata": {},
   "source": [
    "brightkite_far_checkins['change_arrival_country'] = brightkite_far_checkins.apply(lambda row: change_arrival_country(row), axis = 1)\n",
    "gowalla_far_checkins['change_arrival_country'] = gowalla_far_checkins.apply(lambda row: change_arrival_country(row), axis = 1)\n",
    "\n",
    "brightkite_far_checkins['change_departure_country'] = brightkite_far_checkins.apply(lambda row: change_departure_country(row), axis = 1)\n",
    "gowalla_far_checkins['change_departure_country'] = gowalla_far_checkins.apply(lambda row: change_departure_country(row), axis = 1)"
   ]
  },
  {
   "cell_type": "raw",
   "metadata": {
    "scrolled": true
   },
   "source": [
    "brightkite_far_checkins[3010:3014]"
   ]
  },
  {
   "cell_type": "raw",
   "metadata": {},
   "source": [
    "brightkite_arrivals = brightkite_far_checkins[brightkite_far_checkins.change_arrival_country == 1].groupby(['country_checkin']).count().sort_values(by = 'user', ascending = False)\n",
    "brightkite_arrivals.rename(columns = {'user':'count'}, inplace = True)\n",
    "brightkite_arrivals.drop(brightkite_arrivals.columns.difference(['count']), 1, inplace=True)\n",
    "\n",
    "gowalla_arrivals = gowalla_far_checkins[gowalla_far_checkins.change_arrival_country == 1].groupby(['country_checkin']).count().sort_values(by = 'user', ascending = False)\n",
    "gowalla_arrivals.rename(columns = {'user':'count'}, inplace = True)\n",
    "gowalla_arrivals.drop(gowalla_arrivals.columns.difference(['count']), 1, inplace=True)"
   ]
  },
  {
   "cell_type": "raw",
   "metadata": {},
   "source": [
    "brightkite_departures = brightkite_far_checkins[brightkite_far_checkins.change_departure_country == 1].groupby(['country_checkin']).count().sort_values(by = 'user', ascending = False)\n",
    "brightkite_departures.rename(columns = {'user':'count'}, inplace = True)\n",
    "brightkite_departures.drop(brightkite_departures.columns.difference(['count']), 1, inplace=True)\n",
    "\n",
    "gowalla_departures = gowalla_far_checkins[gowalla_far_checkins.change_departure_country == 1].groupby(['country_checkin']).count().sort_values(by = 'user', ascending = False)\n",
    "gowalla_departures.rename(columns = {'user':'count'}, inplace = True)\n",
    "gowalla_departures.drop(gowalla_departures.columns.difference(['count']), 1, inplace=True)"
   ]
  },
  {
   "cell_type": "raw",
   "metadata": {},
   "source": [
    "brightkite_arrivals.head(20)"
   ]
  },
  {
   "cell_type": "raw",
   "metadata": {},
   "source": [
    "brightkite_departures.head(20)"
   ]
  },
  {
   "cell_type": "raw",
   "metadata": {},
   "source": [
    "list(brightkite_far_checkins[(brightkite_far_checkins.change_arrival_country == 1) & (brightkite_far_checkins.user == 15) & (brightkite_far_checkins.country_checkin != brightkite_far_checkins.country_home)].country_checkin)"
   ]
  },
  {
   "cell_type": "raw",
   "metadata": {},
   "source": [
    "def brightkite_visited_countries(row):\n",
    "    '''returns a list of the countries that a user visited (Brightkite dataset)'''\n",
    "    user = row['user']\n",
    "    return(list(brightkite_far_checkins[(brightkite_far_checkins.change_arrival_country == 1) # there is a change of country\n",
    "                                        & (brightkite_far_checkins.user == user) # for the given user \n",
    "                                        & (brightkite_far_checkins.country_checkin != brightkite_far_checkins.country_home)].country_checkin)) # and the arrival country is not the home country of the user"
   ]
  },
  {
   "cell_type": "raw",
   "metadata": {},
   "source": [
    "def gowalla_visited_countries(row):\n",
    "    '''returns a list of the countries that a user visited (Gowalla dataset)'''\n",
    "    user = row['user']\n",
    "    return(list(gowalla_far_checkins[(gowalla_far_checkins.change_arrival_country == 1) # there is a change of country\n",
    "                                        & (gowalla_far_checkins.user == user) # for the given user \n",
    "                                        & (gowalla_far_checkins.country_checkin != gowalla_far_checkins.country_home)].country_checkin)) # and the arrival country is not the home country of the user"
   ]
  },
  {
   "cell_type": "raw",
   "metadata": {},
   "source": [
    "gowalla_users_visited_countries = pd.DataFrame({'user':gowalla_far_checkins.user.unique()})\n",
    "gowalla_users_visited_countries['visited_countries'] = gowalla_users_visited_countries.apply(lambda row: gowalla_visited_countries(row), axis = 1)\n",
    "gowalla_users_visited_countries.head()"
   ]
  },
  {
   "cell_type": "raw",
   "metadata": {},
   "source": [
    "brightkite_users_visited_countries = pd.DataFrame({'user':brightkite_far_checkins.user.unique()})\n",
    "brightkite_users_visited_countries['visited_countries'] = brightkite_users_visited_countries.apply(lambda row: brightkite_visited_countries(row), axis = 1)\n",
    "brightkite_users_visited_countries.head()"
   ]
  },
  {
   "cell_type": "markdown",
   "metadata": {},
   "source": [
    "# Languages"
   ]
  },
  {
   "cell_type": "code",
   "execution_count": 41,
   "metadata": {},
   "outputs": [],
   "source": [
    "languages2['country'] = languages2['country'].str.strip()\n",
    "languages2['country'] = languages2['country'].str.lower()\n",
    "languages2['language'] = languages2['language'].str.lower()"
   ]
  },
  {
   "cell_type": "code",
   "execution_count": 42,
   "metadata": {},
   "outputs": [
    {
     "data": {
      "text/html": [
       "<div>\n",
       "<style scoped>\n",
       "    .dataframe tbody tr th:only-of-type {\n",
       "        vertical-align: middle;\n",
       "    }\n",
       "\n",
       "    .dataframe tbody tr th {\n",
       "        vertical-align: top;\n",
       "    }\n",
       "\n",
       "    .dataframe thead th {\n",
       "        text-align: right;\n",
       "    }\n",
       "</style>\n",
       "<table border=\"1\" class=\"dataframe\">\n",
       "  <thead>\n",
       "    <tr style=\"text-align: right;\">\n",
       "      <th></th>\n",
       "      <th>country</th>\n",
       "      <th>language</th>\n",
       "    </tr>\n",
       "  </thead>\n",
       "  <tbody>\n",
       "    <tr>\n",
       "      <th>0</th>\n",
       "      <td>afghanistan</td>\n",
       "      <td>dari (official) 77% (dari functions as the lin...</td>\n",
       "    </tr>\n",
       "    <tr>\n",
       "      <th>1</th>\n",
       "      <td>albania</td>\n",
       "      <td>albanian 98.8% (official - derived from tosk d...</td>\n",
       "    </tr>\n",
       "    <tr>\n",
       "      <th>2</th>\n",
       "      <td>algeria</td>\n",
       "      <td>arabic (official), french (lingua franca), ber...</td>\n",
       "    </tr>\n",
       "    <tr>\n",
       "      <th>3</th>\n",
       "      <td>andorra</td>\n",
       "      <td>catalan (official), french, castilian, portuguese</td>\n",
       "    </tr>\n",
       "    <tr>\n",
       "      <th>4</th>\n",
       "      <td>angola</td>\n",
       "      <td>portuguese 71.2% (official), umbundu 23%, kiko...</td>\n",
       "    </tr>\n",
       "    <tr>\n",
       "      <th>5</th>\n",
       "      <td>antigua and barbuda</td>\n",
       "      <td>english (official), antiguan creole</td>\n",
       "    </tr>\n",
       "    <tr>\n",
       "      <th>6</th>\n",
       "      <td>argentina</td>\n",
       "      <td>spanish (official), italian, english, german, ...</td>\n",
       "    </tr>\n",
       "    <tr>\n",
       "      <th>7</th>\n",
       "      <td>armenia</td>\n",
       "      <td>armenian (official) 97.9%, kurdish (spoken by ...</td>\n",
       "    </tr>\n",
       "    <tr>\n",
       "      <th>8</th>\n",
       "      <td>australia</td>\n",
       "      <td>english 72.7%, mandarin 2.5%, arabic 1.4%, can...</td>\n",
       "    </tr>\n",
       "    <tr>\n",
       "      <th>9</th>\n",
       "      <td>austria</td>\n",
       "      <td>german (official nationwide) 88.6%, turkish 2....</td>\n",
       "    </tr>\n",
       "    <tr>\n",
       "      <th>10</th>\n",
       "      <td>azerbaijan</td>\n",
       "      <td>azerbaijani (azeri) (official) 92.5%, russian ...</td>\n",
       "    </tr>\n",
       "    <tr>\n",
       "      <th>11</th>\n",
       "      <td>bahamas</td>\n",
       "      <td>azerbaijani (azeri) (official) 92.5%, russian ...</td>\n",
       "    </tr>\n",
       "    <tr>\n",
       "      <th>12</th>\n",
       "      <td>bahrain</td>\n",
       "      <td>arabic (official), english, farsi, urdu</td>\n",
       "    </tr>\n",
       "    <tr>\n",
       "      <th>13</th>\n",
       "      <td>bangladesh</td>\n",
       "      <td>bangla 98.8% (official, also known as bengali)...</td>\n",
       "    </tr>\n",
       "    <tr>\n",
       "      <th>14</th>\n",
       "      <td>barbados</td>\n",
       "      <td>english (official), bajan (english-based creol...</td>\n",
       "    </tr>\n",
       "    <tr>\n",
       "      <th>15</th>\n",
       "      <td>belarus</td>\n",
       "      <td>russian (official) 70.2%, belarusian (official...</td>\n",
       "    </tr>\n",
       "    <tr>\n",
       "      <th>16</th>\n",
       "      <td>belgium</td>\n",
       "      <td>dutch (official) 60%, french (official) 40%, g...</td>\n",
       "    </tr>\n",
       "    <tr>\n",
       "      <th>17</th>\n",
       "      <td>belize</td>\n",
       "      <td>english 62.9% (official), spanish 56.6%, creol...</td>\n",
       "    </tr>\n",
       "    <tr>\n",
       "      <th>18</th>\n",
       "      <td>benin</td>\n",
       "      <td>french (official), fon and yoruba (most common...</td>\n",
       "    </tr>\n",
       "    <tr>\n",
       "      <th>19</th>\n",
       "      <td>bhutan</td>\n",
       "      <td>sharchhopka 28%, dzongkha (official) 24%, lhot...</td>\n",
       "    </tr>\n",
       "  </tbody>\n",
       "</table>\n",
       "</div>"
      ],
      "text/plain": [
       "                country                                           language\n",
       "0           afghanistan  dari (official) 77% (dari functions as the lin...\n",
       "1               albania  albanian 98.8% (official - derived from tosk d...\n",
       "2               algeria  arabic (official), french (lingua franca), ber...\n",
       "3               andorra  catalan (official), french, castilian, portuguese\n",
       "4                angola  portuguese 71.2% (official), umbundu 23%, kiko...\n",
       "5   antigua and barbuda                english (official), antiguan creole\n",
       "6             argentina  spanish (official), italian, english, german, ...\n",
       "7               armenia  armenian (official) 97.9%, kurdish (spoken by ...\n",
       "8             australia  english 72.7%, mandarin 2.5%, arabic 1.4%, can...\n",
       "9               austria  german (official nationwide) 88.6%, turkish 2....\n",
       "10           azerbaijan  azerbaijani (azeri) (official) 92.5%, russian ...\n",
       "11              bahamas  azerbaijani (azeri) (official) 92.5%, russian ...\n",
       "12              bahrain            arabic (official), english, farsi, urdu\n",
       "13           bangladesh  bangla 98.8% (official, also known as bengali)...\n",
       "14             barbados  english (official), bajan (english-based creol...\n",
       "15              belarus  russian (official) 70.2%, belarusian (official...\n",
       "16              belgium  dutch (official) 60%, french (official) 40%, g...\n",
       "17               belize  english 62.9% (official), spanish 56.6%, creol...\n",
       "18                benin  french (official), fon and yoruba (most common...\n",
       "19               bhutan  sharchhopka 28%, dzongkha (official) 24%, lhot..."
      ]
     },
     "execution_count": 42,
     "metadata": {},
     "output_type": "execute_result"
    }
   ],
   "source": [
    "languages2.head(20)"
   ]
  },
  {
   "cell_type": "code",
   "execution_count": 43,
   "metadata": {},
   "outputs": [],
   "source": [
    "# Only keep the first word (either separated by a comma or a space from other words)\n",
    "languages2['language'] = languages2['language'].str.partition(' ')[0]\n",
    "languages2['language'] = languages2['language'].str.partition(',')[0]"
   ]
  },
  {
   "cell_type": "code",
   "execution_count": 44,
   "metadata": {},
   "outputs": [
    {
     "data": {
      "text/html": [
       "<div>\n",
       "<style scoped>\n",
       "    .dataframe tbody tr th:only-of-type {\n",
       "        vertical-align: middle;\n",
       "    }\n",
       "\n",
       "    .dataframe tbody tr th {\n",
       "        vertical-align: top;\n",
       "    }\n",
       "\n",
       "    .dataframe thead th {\n",
       "        text-align: right;\n",
       "    }\n",
       "</style>\n",
       "<table border=\"1\" class=\"dataframe\">\n",
       "  <thead>\n",
       "    <tr style=\"text-align: right;\">\n",
       "      <th></th>\n",
       "      <th>country</th>\n",
       "      <th>language</th>\n",
       "    </tr>\n",
       "  </thead>\n",
       "  <tbody>\n",
       "    <tr>\n",
       "      <th>0</th>\n",
       "      <td>afghanistan</td>\n",
       "      <td>dari</td>\n",
       "    </tr>\n",
       "    <tr>\n",
       "      <th>1</th>\n",
       "      <td>albania</td>\n",
       "      <td>albanian</td>\n",
       "    </tr>\n",
       "    <tr>\n",
       "      <th>2</th>\n",
       "      <td>algeria</td>\n",
       "      <td>arabic</td>\n",
       "    </tr>\n",
       "    <tr>\n",
       "      <th>3</th>\n",
       "      <td>andorra</td>\n",
       "      <td>catalan</td>\n",
       "    </tr>\n",
       "    <tr>\n",
       "      <th>4</th>\n",
       "      <td>angola</td>\n",
       "      <td>portuguese</td>\n",
       "    </tr>\n",
       "    <tr>\n",
       "      <th>5</th>\n",
       "      <td>antigua and barbuda</td>\n",
       "      <td>english</td>\n",
       "    </tr>\n",
       "    <tr>\n",
       "      <th>6</th>\n",
       "      <td>argentina</td>\n",
       "      <td>spanish</td>\n",
       "    </tr>\n",
       "    <tr>\n",
       "      <th>7</th>\n",
       "      <td>armenia</td>\n",
       "      <td>armenian</td>\n",
       "    </tr>\n",
       "    <tr>\n",
       "      <th>8</th>\n",
       "      <td>australia</td>\n",
       "      <td>english</td>\n",
       "    </tr>\n",
       "    <tr>\n",
       "      <th>9</th>\n",
       "      <td>austria</td>\n",
       "      <td>german</td>\n",
       "    </tr>\n",
       "    <tr>\n",
       "      <th>10</th>\n",
       "      <td>azerbaijan</td>\n",
       "      <td>azerbaijani</td>\n",
       "    </tr>\n",
       "    <tr>\n",
       "      <th>11</th>\n",
       "      <td>bahamas</td>\n",
       "      <td>azerbaijani</td>\n",
       "    </tr>\n",
       "    <tr>\n",
       "      <th>12</th>\n",
       "      <td>bahrain</td>\n",
       "      <td>arabic</td>\n",
       "    </tr>\n",
       "    <tr>\n",
       "      <th>13</th>\n",
       "      <td>bangladesh</td>\n",
       "      <td>bangla</td>\n",
       "    </tr>\n",
       "    <tr>\n",
       "      <th>14</th>\n",
       "      <td>barbados</td>\n",
       "      <td>english</td>\n",
       "    </tr>\n",
       "    <tr>\n",
       "      <th>15</th>\n",
       "      <td>belarus</td>\n",
       "      <td>russian</td>\n",
       "    </tr>\n",
       "    <tr>\n",
       "      <th>16</th>\n",
       "      <td>belgium</td>\n",
       "      <td>dutch</td>\n",
       "    </tr>\n",
       "    <tr>\n",
       "      <th>17</th>\n",
       "      <td>belize</td>\n",
       "      <td>english</td>\n",
       "    </tr>\n",
       "    <tr>\n",
       "      <th>18</th>\n",
       "      <td>benin</td>\n",
       "      <td>french</td>\n",
       "    </tr>\n",
       "    <tr>\n",
       "      <th>19</th>\n",
       "      <td>bhutan</td>\n",
       "      <td>sharchhopka</td>\n",
       "    </tr>\n",
       "  </tbody>\n",
       "</table>\n",
       "</div>"
      ],
      "text/plain": [
       "                country     language\n",
       "0           afghanistan         dari\n",
       "1               albania     albanian\n",
       "2               algeria       arabic\n",
       "3               andorra      catalan\n",
       "4                angola   portuguese\n",
       "5   antigua and barbuda      english\n",
       "6             argentina      spanish\n",
       "7               armenia     armenian\n",
       "8             australia      english\n",
       "9               austria       german\n",
       "10           azerbaijan  azerbaijani\n",
       "11              bahamas  azerbaijani\n",
       "12              bahrain       arabic\n",
       "13           bangladesh       bangla\n",
       "14             barbados      english\n",
       "15              belarus      russian\n",
       "16              belgium        dutch\n",
       "17               belize      english\n",
       "18                benin       french\n",
       "19               bhutan  sharchhopka"
      ]
     },
     "execution_count": 44,
     "metadata": {},
     "output_type": "execute_result"
    }
   ],
   "source": [
    "languages2.head(20)"
   ]
  },
  {
   "cell_type": "code",
   "execution_count": 45,
   "metadata": {},
   "outputs": [
    {
     "data": {
      "text/html": [
       "<div>\n",
       "<style scoped>\n",
       "    .dataframe tbody tr th:only-of-type {\n",
       "        vertical-align: middle;\n",
       "    }\n",
       "\n",
       "    .dataframe tbody tr th {\n",
       "        vertical-align: top;\n",
       "    }\n",
       "\n",
       "    .dataframe thead th {\n",
       "        text-align: right;\n",
       "    }\n",
       "</style>\n",
       "<table border=\"1\" class=\"dataframe\">\n",
       "  <thead>\n",
       "    <tr style=\"text-align: right;\">\n",
       "      <th></th>\n",
       "      <th>country</th>\n",
       "      <th>language</th>\n",
       "    </tr>\n",
       "  </thead>\n",
       "  <tbody>\n",
       "    <tr>\n",
       "      <th>16</th>\n",
       "      <td>belgium</td>\n",
       "      <td>dutch</td>\n",
       "    </tr>\n",
       "  </tbody>\n",
       "</table>\n",
       "</div>"
      ],
      "text/plain": [
       "    country language\n",
       "16  belgium    dutch"
      ]
     },
     "execution_count": 45,
     "metadata": {},
     "output_type": "execute_result"
    }
   ],
   "source": [
    "languages2[languages2.country == 'belgium']"
   ]
  },
  {
   "cell_type": "code",
   "execution_count": 46,
   "metadata": {},
   "outputs": [
    {
     "data": {
      "text/html": [
       "<div>\n",
       "<style scoped>\n",
       "    .dataframe tbody tr th:only-of-type {\n",
       "        vertical-align: middle;\n",
       "    }\n",
       "\n",
       "    .dataframe tbody tr th {\n",
       "        vertical-align: top;\n",
       "    }\n",
       "\n",
       "    .dataframe thead th {\n",
       "        text-align: right;\n",
       "    }\n",
       "</style>\n",
       "<table border=\"1\" class=\"dataframe\">\n",
       "  <thead>\n",
       "    <tr style=\"text-align: right;\">\n",
       "      <th></th>\n",
       "      <th>country</th>\n",
       "      <th>language</th>\n",
       "    </tr>\n",
       "  </thead>\n",
       "  <tbody>\n",
       "    <tr>\n",
       "      <th>18</th>\n",
       "      <td>benin</td>\n",
       "      <td>french</td>\n",
       "    </tr>\n",
       "    <tr>\n",
       "      <th>26</th>\n",
       "      <td>burkina faso</td>\n",
       "      <td>french</td>\n",
       "    </tr>\n",
       "    <tr>\n",
       "      <th>33</th>\n",
       "      <td>central african republic</td>\n",
       "      <td>french</td>\n",
       "    </tr>\n",
       "    <tr>\n",
       "      <th>34</th>\n",
       "      <td>chad</td>\n",
       "      <td>french</td>\n",
       "    </tr>\n",
       "    <tr>\n",
       "      <th>39</th>\n",
       "      <td>congo, democratic republic of the</td>\n",
       "      <td>french</td>\n",
       "    </tr>\n",
       "    <tr>\n",
       "      <th>40</th>\n",
       "      <td>congo, republic of</td>\n",
       "      <td>french</td>\n",
       "    </tr>\n",
       "    <tr>\n",
       "      <th>42</th>\n",
       "      <td>côte d'ivoire</td>\n",
       "      <td>french</td>\n",
       "    </tr>\n",
       "    <tr>\n",
       "      <th>48</th>\n",
       "      <td>djibouti</td>\n",
       "      <td>french</td>\n",
       "    </tr>\n",
       "    <tr>\n",
       "      <th>62</th>\n",
       "      <td>france</td>\n",
       "      <td>french</td>\n",
       "    </tr>\n",
       "    <tr>\n",
       "      <th>63</th>\n",
       "      <td>gabon</td>\n",
       "      <td>french</td>\n",
       "    </tr>\n",
       "    <tr>\n",
       "      <th>64</th>\n",
       "      <td>gambia</td>\n",
       "      <td>french</td>\n",
       "    </tr>\n",
       "    <tr>\n",
       "      <th>72</th>\n",
       "      <td>guinea</td>\n",
       "      <td>french</td>\n",
       "    </tr>\n",
       "    <tr>\n",
       "      <th>75</th>\n",
       "      <td>haiti</td>\n",
       "      <td>french</td>\n",
       "    </tr>\n",
       "    <tr>\n",
       "      <th>107</th>\n",
       "      <td>madagascar</td>\n",
       "      <td>french</td>\n",
       "    </tr>\n",
       "    <tr>\n",
       "      <th>112</th>\n",
       "      <td>mali</td>\n",
       "      <td>french</td>\n",
       "    </tr>\n",
       "    <tr>\n",
       "      <th>121</th>\n",
       "      <td>monaco</td>\n",
       "      <td>french</td>\n",
       "    </tr>\n",
       "    <tr>\n",
       "      <th>134</th>\n",
       "      <td>niger</td>\n",
       "      <td>french</td>\n",
       "    </tr>\n",
       "    <tr>\n",
       "      <th>160</th>\n",
       "      <td>senegal</td>\n",
       "      <td>french</td>\n",
       "    </tr>\n",
       "    <tr>\n",
       "      <th>182</th>\n",
       "      <td>togo</td>\n",
       "      <td>french</td>\n",
       "    </tr>\n",
       "  </tbody>\n",
       "</table>\n",
       "</div>"
      ],
      "text/plain": [
       "                               country language\n",
       "18                               benin   french\n",
       "26                        burkina faso   french\n",
       "33            central african republic   french\n",
       "34                                chad   french\n",
       "39   congo, democratic republic of the   french\n",
       "40                  congo, republic of   french\n",
       "42                       côte d'ivoire   french\n",
       "48                            djibouti   french\n",
       "62                              france   french\n",
       "63                               gabon   french\n",
       "64                              gambia   french\n",
       "72                              guinea   french\n",
       "75                               haiti   french\n",
       "107                         madagascar   french\n",
       "112                               mali   french\n",
       "121                             monaco   french\n",
       "134                              niger   french\n",
       "160                            senegal   french\n",
       "182                               togo   french"
      ]
     },
     "execution_count": 46,
     "metadata": {},
     "output_type": "execute_result"
    }
   ],
   "source": [
    "languages2[languages2.language.str.contains('french') == True]"
   ]
  },
  {
   "cell_type": "code",
   "execution_count": 47,
   "metadata": {},
   "outputs": [
    {
     "data": {
      "text/html": [
       "<div>\n",
       "<style scoped>\n",
       "    .dataframe tbody tr th:only-of-type {\n",
       "        vertical-align: middle;\n",
       "    }\n",
       "\n",
       "    .dataframe tbody tr th {\n",
       "        vertical-align: top;\n",
       "    }\n",
       "\n",
       "    .dataframe thead th {\n",
       "        text-align: right;\n",
       "    }\n",
       "</style>\n",
       "<table border=\"1\" class=\"dataframe\">\n",
       "  <thead>\n",
       "    <tr style=\"text-align: right;\">\n",
       "      <th></th>\n",
       "      <th>country_home</th>\n",
       "      <th>country_checkin</th>\n",
       "      <th>user</th>\n",
       "      <th>language_home</th>\n",
       "      <th>language_checkin</th>\n",
       "    </tr>\n",
       "  </thead>\n",
       "  <tbody>\n",
       "    <tr>\n",
       "      <th>0</th>\n",
       "      <td>afghanistan</td>\n",
       "      <td>belgium</td>\n",
       "      <td>1</td>\n",
       "      <td>dari</td>\n",
       "      <td>dutch</td>\n",
       "    </tr>\n",
       "    <tr>\n",
       "      <th>1</th>\n",
       "      <td>afghanistan</td>\n",
       "      <td>united arab emirates</td>\n",
       "      <td>1</td>\n",
       "      <td>dari</td>\n",
       "      <td>arabic</td>\n",
       "    </tr>\n",
       "    <tr>\n",
       "      <th>2</th>\n",
       "      <td>afghanistan</td>\n",
       "      <td>united kingdom</td>\n",
       "      <td>1</td>\n",
       "      <td>dari</td>\n",
       "      <td>english</td>\n",
       "    </tr>\n",
       "    <tr>\n",
       "      <th>3</th>\n",
       "      <td>albania</td>\n",
       "      <td>hungary</td>\n",
       "      <td>1</td>\n",
       "      <td>albanian</td>\n",
       "      <td>hungarian</td>\n",
       "    </tr>\n",
       "    <tr>\n",
       "      <th>4</th>\n",
       "      <td>albania</td>\n",
       "      <td>spain</td>\n",
       "      <td>1</td>\n",
       "      <td>albanian</td>\n",
       "      <td>castilian</td>\n",
       "    </tr>\n",
       "  </tbody>\n",
       "</table>\n",
       "</div>"
      ],
      "text/plain": [
       "  country_home       country_checkin  user language_home language_checkin\n",
       "0  afghanistan               belgium     1          dari            dutch\n",
       "1  afghanistan  united arab emirates     1          dari           arabic\n",
       "2  afghanistan        united kingdom     1          dari          english\n",
       "3      albania               hungary     1      albanian        hungarian\n",
       "4      albania                 spain     1      albanian        castilian"
      ]
     },
     "execution_count": 47,
     "metadata": {},
     "output_type": "execute_result"
    }
   ],
   "source": [
    "gowalla_trips = pd.merge(gowalla_trips, languages2, how = 'left', left_on = 'country_home', right_on = 'country')\n",
    "gowalla_trips.drop(columns = 'country', inplace = True)\n",
    "gowalla_trips.rename(columns = {'language':'language_home'}, inplace = True)\n",
    "\n",
    "gowalla_trips = pd.merge(gowalla_trips, languages2, how = 'left', left_on = 'country_checkin', right_on = 'country')\n",
    "gowalla_trips.drop(columns = 'country', inplace = True)\n",
    "gowalla_trips.rename(columns = {'language':'language_checkin'}, inplace = True)\n",
    "\n",
    "gowalla_trips.head()"
   ]
  },
  {
   "cell_type": "code",
   "execution_count": 48,
   "metadata": {},
   "outputs": [
    {
     "data": {
      "text/html": [
       "<div>\n",
       "<style scoped>\n",
       "    .dataframe tbody tr th:only-of-type {\n",
       "        vertical-align: middle;\n",
       "    }\n",
       "\n",
       "    .dataframe tbody tr th {\n",
       "        vertical-align: top;\n",
       "    }\n",
       "\n",
       "    .dataframe thead th {\n",
       "        text-align: right;\n",
       "    }\n",
       "</style>\n",
       "<table border=\"1\" class=\"dataframe\">\n",
       "  <thead>\n",
       "    <tr style=\"text-align: right;\">\n",
       "      <th></th>\n",
       "      <th>country_home</th>\n",
       "      <th>country_checkin</th>\n",
       "      <th>user</th>\n",
       "      <th>language_home</th>\n",
       "      <th>language_checkin</th>\n",
       "    </tr>\n",
       "  </thead>\n",
       "  <tbody>\n",
       "    <tr>\n",
       "      <th>0</th>\n",
       "      <td>algeria</td>\n",
       "      <td>france</td>\n",
       "      <td>1</td>\n",
       "      <td>arabic</td>\n",
       "      <td>french</td>\n",
       "    </tr>\n",
       "    <tr>\n",
       "      <th>1</th>\n",
       "      <td>angola</td>\n",
       "      <td>portugal</td>\n",
       "      <td>1</td>\n",
       "      <td>portuguese</td>\n",
       "      <td>portuguese</td>\n",
       "    </tr>\n",
       "    <tr>\n",
       "      <th>2</th>\n",
       "      <td>argentina</td>\n",
       "      <td>benin</td>\n",
       "      <td>2</td>\n",
       "      <td>spanish</td>\n",
       "      <td>french</td>\n",
       "    </tr>\n",
       "    <tr>\n",
       "      <th>3</th>\n",
       "      <td>argentina</td>\n",
       "      <td>brazil</td>\n",
       "      <td>1</td>\n",
       "      <td>spanish</td>\n",
       "      <td>portuguese</td>\n",
       "    </tr>\n",
       "    <tr>\n",
       "      <th>4</th>\n",
       "      <td>argentina</td>\n",
       "      <td>czech republic</td>\n",
       "      <td>3</td>\n",
       "      <td>spanish</td>\n",
       "      <td>greek</td>\n",
       "    </tr>\n",
       "  </tbody>\n",
       "</table>\n",
       "</div>"
      ],
      "text/plain": [
       "  country_home country_checkin  user language_home language_checkin\n",
       "0      algeria          france     1        arabic           french\n",
       "1       angola        portugal     1    portuguese       portuguese\n",
       "2    argentina           benin     2       spanish           french\n",
       "3    argentina          brazil     1       spanish       portuguese\n",
       "4    argentina  czech republic     3       spanish            greek"
      ]
     },
     "execution_count": 48,
     "metadata": {},
     "output_type": "execute_result"
    }
   ],
   "source": [
    "brightkite_trips = pd.merge(brightkite_trips, languages2, how = 'left', left_on = 'country_home', right_on = 'country')\n",
    "brightkite_trips.drop(columns = 'country', inplace = True)\n",
    "brightkite_trips.rename(columns = {'language':'language_home'}, inplace = True)\n",
    "\n",
    "brightkite_trips = pd.merge(brightkite_trips, languages2, how = 'left', left_on = 'country_checkin', right_on = 'country')\n",
    "brightkite_trips.drop(columns = 'country', inplace = True)\n",
    "brightkite_trips.rename(columns = {'language':'language_checkin'}, inplace = True)\n",
    "\n",
    "brightkite_trips.head()"
   ]
  },
  {
   "cell_type": "code",
   "execution_count": 42,
   "metadata": {},
   "outputs": [],
   "source": [
    "def same_language(row):\n",
    "    language_home = row['language_home']\n",
    "    language_checkin = row['language_checkin']\n",
    "    if(language_home == language_checkin):\n",
    "        return(1)\n",
    "    else:\n",
    "        return(0)"
   ]
  },
  {
   "cell_type": "code",
   "execution_count": 43,
   "metadata": {},
   "outputs": [],
   "source": [
    "gowalla_trips['same_language'] = gowalla_trips.apply(lambda row : same_language(row), axis = 1)\n",
    "brightkite_trips['same_language'] = brightkite_trips.apply(lambda row : same_language(row), axis = 1)"
   ]
  },
  {
   "cell_type": "code",
   "execution_count": 44,
   "metadata": {},
   "outputs": [
    {
     "data": {
      "text/html": [
       "<div>\n",
       "<style scoped>\n",
       "    .dataframe tbody tr th:only-of-type {\n",
       "        vertical-align: middle;\n",
       "    }\n",
       "\n",
       "    .dataframe tbody tr th {\n",
       "        vertical-align: top;\n",
       "    }\n",
       "\n",
       "    .dataframe thead th {\n",
       "        text-align: right;\n",
       "    }\n",
       "</style>\n",
       "<table border=\"1\" class=\"dataframe\">\n",
       "  <thead>\n",
       "    <tr style=\"text-align: right;\">\n",
       "      <th></th>\n",
       "      <th>country_home</th>\n",
       "      <th>country_checkin</th>\n",
       "      <th>user</th>\n",
       "      <th>language_home</th>\n",
       "      <th>language_checkin</th>\n",
       "      <th>same_language</th>\n",
       "    </tr>\n",
       "  </thead>\n",
       "  <tbody>\n",
       "    <tr>\n",
       "      <th>0</th>\n",
       "      <td>afghanistan</td>\n",
       "      <td>belgium</td>\n",
       "      <td>1</td>\n",
       "      <td>dari</td>\n",
       "      <td>dutch</td>\n",
       "      <td>0</td>\n",
       "    </tr>\n",
       "    <tr>\n",
       "      <th>1</th>\n",
       "      <td>afghanistan</td>\n",
       "      <td>united arab emirates</td>\n",
       "      <td>1</td>\n",
       "      <td>dari</td>\n",
       "      <td>arabic</td>\n",
       "      <td>0</td>\n",
       "    </tr>\n",
       "    <tr>\n",
       "      <th>2</th>\n",
       "      <td>afghanistan</td>\n",
       "      <td>united kingdom</td>\n",
       "      <td>1</td>\n",
       "      <td>dari</td>\n",
       "      <td>english</td>\n",
       "      <td>0</td>\n",
       "    </tr>\n",
       "    <tr>\n",
       "      <th>3</th>\n",
       "      <td>albania</td>\n",
       "      <td>hungary</td>\n",
       "      <td>1</td>\n",
       "      <td>albanian</td>\n",
       "      <td>hungarian</td>\n",
       "      <td>0</td>\n",
       "    </tr>\n",
       "    <tr>\n",
       "      <th>4</th>\n",
       "      <td>albania</td>\n",
       "      <td>spain</td>\n",
       "      <td>1</td>\n",
       "      <td>albanian</td>\n",
       "      <td>castilian</td>\n",
       "      <td>0</td>\n",
       "    </tr>\n",
       "    <tr>\n",
       "      <th>5</th>\n",
       "      <td>argentina</td>\n",
       "      <td>australia</td>\n",
       "      <td>1</td>\n",
       "      <td>spanish</td>\n",
       "      <td>english</td>\n",
       "      <td>0</td>\n",
       "    </tr>\n",
       "    <tr>\n",
       "      <th>6</th>\n",
       "      <td>argentina</td>\n",
       "      <td>chile</td>\n",
       "      <td>2</td>\n",
       "      <td>spanish</td>\n",
       "      <td>spanish</td>\n",
       "      <td>1</td>\n",
       "    </tr>\n",
       "    <tr>\n",
       "      <th>7</th>\n",
       "      <td>argentina</td>\n",
       "      <td>uruguay</td>\n",
       "      <td>1</td>\n",
       "      <td>spanish</td>\n",
       "      <td>spanish</td>\n",
       "      <td>1</td>\n",
       "    </tr>\n",
       "    <tr>\n",
       "      <th>8</th>\n",
       "      <td>australia</td>\n",
       "      <td>argentina</td>\n",
       "      <td>1</td>\n",
       "      <td>english</td>\n",
       "      <td>spanish</td>\n",
       "      <td>0</td>\n",
       "    </tr>\n",
       "    <tr>\n",
       "      <th>9</th>\n",
       "      <td>australia</td>\n",
       "      <td>bahamas</td>\n",
       "      <td>1</td>\n",
       "      <td>english</td>\n",
       "      <td>azerbaijani</td>\n",
       "      <td>0</td>\n",
       "    </tr>\n",
       "    <tr>\n",
       "      <th>10</th>\n",
       "      <td>australia</td>\n",
       "      <td>brazil</td>\n",
       "      <td>1</td>\n",
       "      <td>english</td>\n",
       "      <td>portuguese</td>\n",
       "      <td>0</td>\n",
       "    </tr>\n",
       "    <tr>\n",
       "      <th>11</th>\n",
       "      <td>australia</td>\n",
       "      <td>brunei darussalam</td>\n",
       "      <td>1</td>\n",
       "      <td>english</td>\n",
       "      <td>NaN</td>\n",
       "      <td>0</td>\n",
       "    </tr>\n",
       "    <tr>\n",
       "      <th>12</th>\n",
       "      <td>australia</td>\n",
       "      <td>cambodia</td>\n",
       "      <td>1</td>\n",
       "      <td>english</td>\n",
       "      <td>khmer</td>\n",
       "      <td>0</td>\n",
       "    </tr>\n",
       "    <tr>\n",
       "      <th>13</th>\n",
       "      <td>australia</td>\n",
       "      <td>canada</td>\n",
       "      <td>10</td>\n",
       "      <td>english</td>\n",
       "      <td>english</td>\n",
       "      <td>1</td>\n",
       "    </tr>\n",
       "    <tr>\n",
       "      <th>14</th>\n",
       "      <td>australia</td>\n",
       "      <td>china</td>\n",
       "      <td>4</td>\n",
       "      <td>english</td>\n",
       "      <td>chinese</td>\n",
       "      <td>0</td>\n",
       "    </tr>\n",
       "    <tr>\n",
       "      <th>15</th>\n",
       "      <td>australia</td>\n",
       "      <td>denmark</td>\n",
       "      <td>1</td>\n",
       "      <td>english</td>\n",
       "      <td>danish</td>\n",
       "      <td>0</td>\n",
       "    </tr>\n",
       "    <tr>\n",
       "      <th>16</th>\n",
       "      <td>australia</td>\n",
       "      <td>fiji</td>\n",
       "      <td>1</td>\n",
       "      <td>english</td>\n",
       "      <td>english</td>\n",
       "      <td>1</td>\n",
       "    </tr>\n",
       "    <tr>\n",
       "      <th>17</th>\n",
       "      <td>australia</td>\n",
       "      <td>finland</td>\n",
       "      <td>3</td>\n",
       "      <td>english</td>\n",
       "      <td>finnish</td>\n",
       "      <td>0</td>\n",
       "    </tr>\n",
       "    <tr>\n",
       "      <th>18</th>\n",
       "      <td>australia</td>\n",
       "      <td>france</td>\n",
       "      <td>6</td>\n",
       "      <td>english</td>\n",
       "      <td>french</td>\n",
       "      <td>0</td>\n",
       "    </tr>\n",
       "    <tr>\n",
       "      <th>19</th>\n",
       "      <td>australia</td>\n",
       "      <td>germany</td>\n",
       "      <td>7</td>\n",
       "      <td>english</td>\n",
       "      <td>german</td>\n",
       "      <td>0</td>\n",
       "    </tr>\n",
       "  </tbody>\n",
       "</table>\n",
       "</div>"
      ],
      "text/plain": [
       "   country_home       country_checkin  user language_home language_checkin  \\\n",
       "0   afghanistan               belgium     1          dari            dutch   \n",
       "1   afghanistan  united arab emirates     1          dari           arabic   \n",
       "2   afghanistan        united kingdom     1          dari          english   \n",
       "3       albania               hungary     1      albanian        hungarian   \n",
       "4       albania                 spain     1      albanian        castilian   \n",
       "5     argentina             australia     1       spanish          english   \n",
       "6     argentina                 chile     2       spanish          spanish   \n",
       "7     argentina               uruguay     1       spanish          spanish   \n",
       "8     australia             argentina     1       english          spanish   \n",
       "9     australia               bahamas     1       english      azerbaijani   \n",
       "10    australia                brazil     1       english       portuguese   \n",
       "11    australia     brunei darussalam     1       english              NaN   \n",
       "12    australia              cambodia     1       english            khmer   \n",
       "13    australia                canada    10       english          english   \n",
       "14    australia                 china     4       english          chinese   \n",
       "15    australia               denmark     1       english           danish   \n",
       "16    australia                  fiji     1       english          english   \n",
       "17    australia               finland     3       english          finnish   \n",
       "18    australia                france     6       english           french   \n",
       "19    australia               germany     7       english           german   \n",
       "\n",
       "    same_language  \n",
       "0               0  \n",
       "1               0  \n",
       "2               0  \n",
       "3               0  \n",
       "4               0  \n",
       "5               0  \n",
       "6               1  \n",
       "7               1  \n",
       "8               0  \n",
       "9               0  \n",
       "10              0  \n",
       "11              0  \n",
       "12              0  \n",
       "13              1  \n",
       "14              0  \n",
       "15              0  \n",
       "16              1  \n",
       "17              0  \n",
       "18              0  \n",
       "19              0  "
      ]
     },
     "execution_count": 44,
     "metadata": {},
     "output_type": "execute_result"
    }
   ],
   "source": [
    "gowalla_trips.head(20)"
   ]
  },
  {
   "cell_type": "code",
   "execution_count": 45,
   "metadata": {},
   "outputs": [
    {
     "data": {
      "text/html": [
       "<div>\n",
       "<style scoped>\n",
       "    .dataframe tbody tr th:only-of-type {\n",
       "        vertical-align: middle;\n",
       "    }\n",
       "\n",
       "    .dataframe tbody tr th {\n",
       "        vertical-align: top;\n",
       "    }\n",
       "\n",
       "    .dataframe thead th {\n",
       "        text-align: right;\n",
       "    }\n",
       "</style>\n",
       "<table border=\"1\" class=\"dataframe\">\n",
       "  <thead>\n",
       "    <tr style=\"text-align: right;\">\n",
       "      <th></th>\n",
       "      <th>country_home</th>\n",
       "      <th>country_checkin</th>\n",
       "      <th>user</th>\n",
       "      <th>language_home</th>\n",
       "      <th>language_checkin</th>\n",
       "      <th>same_language</th>\n",
       "    </tr>\n",
       "  </thead>\n",
       "  <tbody>\n",
       "    <tr>\n",
       "      <th>0</th>\n",
       "      <td>algeria</td>\n",
       "      <td>france</td>\n",
       "      <td>1</td>\n",
       "      <td>arabic</td>\n",
       "      <td>french</td>\n",
       "      <td>0</td>\n",
       "    </tr>\n",
       "    <tr>\n",
       "      <th>1</th>\n",
       "      <td>angola</td>\n",
       "      <td>portugal</td>\n",
       "      <td>1</td>\n",
       "      <td>portuguese</td>\n",
       "      <td>portuguese</td>\n",
       "      <td>1</td>\n",
       "    </tr>\n",
       "    <tr>\n",
       "      <th>2</th>\n",
       "      <td>argentina</td>\n",
       "      <td>benin</td>\n",
       "      <td>2</td>\n",
       "      <td>spanish</td>\n",
       "      <td>french</td>\n",
       "      <td>0</td>\n",
       "    </tr>\n",
       "    <tr>\n",
       "      <th>3</th>\n",
       "      <td>argentina</td>\n",
       "      <td>brazil</td>\n",
       "      <td>1</td>\n",
       "      <td>spanish</td>\n",
       "      <td>portuguese</td>\n",
       "      <td>0</td>\n",
       "    </tr>\n",
       "    <tr>\n",
       "      <th>4</th>\n",
       "      <td>argentina</td>\n",
       "      <td>czech republic</td>\n",
       "      <td>3</td>\n",
       "      <td>spanish</td>\n",
       "      <td>greek</td>\n",
       "      <td>0</td>\n",
       "    </tr>\n",
       "  </tbody>\n",
       "</table>\n",
       "</div>"
      ],
      "text/plain": [
       "  country_home country_checkin  user language_home language_checkin  \\\n",
       "0      algeria          france     1        arabic           french   \n",
       "1       angola        portugal     1    portuguese       portuguese   \n",
       "2    argentina           benin     2       spanish           french   \n",
       "3    argentina          brazil     1       spanish       portuguese   \n",
       "4    argentina  czech republic     3       spanish            greek   \n",
       "\n",
       "   same_language  \n",
       "0              0  \n",
       "1              1  \n",
       "2              0  \n",
       "3              0  \n",
       "4              0  "
      ]
     },
     "execution_count": 45,
     "metadata": {},
     "output_type": "execute_result"
    }
   ],
   "source": [
    "brightkite_trips.head()"
   ]
  },
  {
   "cell_type": "markdown",
   "metadata": {},
   "source": [
    "The distance between two countries is defined as the mean between the distances done by the users between the two countries (distance between the check-in in the foreign country and the home location).   "
   ]
  },
  {
   "cell_type": "code",
   "execution_count": 46,
   "metadata": {},
   "outputs": [
    {
     "data": {
      "text/plain": [
       "9149.11447292096"
      ]
     },
     "execution_count": 46,
     "metadata": {},
     "output_type": "execute_result"
    }
   ],
   "source": [
    "gowalla_far_checkins[(gowalla_far_checkins.country_home == 'united states') & (gowalla_far_checkins.country_checkin == 'brazil')].distance_from_home.mean()"
   ]
  },
  {
   "cell_type": "code",
   "execution_count": 47,
   "metadata": {},
   "outputs": [],
   "source": [
    "def gowalla_distance_between_countries(row):\n",
    "    '''returns the distance between 2 countries as defined previusly (Gowalla dataset)'''\n",
    "    country_home = row['country_home']\n",
    "    country_checkin = row['country_checkin']\n",
    "    distance = gowalla_far_checkins[(gowalla_far_checkins.country_home == country_home) & \n",
    "                                    (gowalla_far_checkins.country_checkin == country_checkin)].distance_from_home.mean()\n",
    "    return(distance)"
   ]
  },
  {
   "cell_type": "code",
   "execution_count": 48,
   "metadata": {},
   "outputs": [],
   "source": [
    "def brightkite_distance_between_countries(row):\n",
    "    '''returns the distance between 2 countries as defined previusly (Brightkite dataset)'''\n",
    "    country_home = row['country_home']\n",
    "    country_checkin = row['country_checkin']\n",
    "    distance = brightkite_far_checkins[(brightkite_far_checkins.country_home == country_home) & \n",
    "                                    (brightkite_far_checkins.country_checkin == country_checkin)].distance_from_home.mean()\n",
    "    return(distance)"
   ]
  },
  {
   "cell_type": "code",
   "execution_count": null,
   "metadata": {},
   "outputs": [],
   "source": [
    "gowalla_trips['distance'] = gowalla_trips.apply(lambda row: gowalla_distance_between_countries(row), axis = 1)"
   ]
  },
  {
   "cell_type": "code",
   "execution_count": null,
   "metadata": {},
   "outputs": [],
   "source": [
    "brightkite_trips['distance'] = brightkite_trips.apply(lambda row: brightkite_distance_between_countries(row), axis = 1)"
   ]
  },
  {
   "cell_type": "code",
   "execution_count": null,
   "metadata": {},
   "outputs": [],
   "source": [
    "gowalla_trips.sample(5)"
   ]
  },
  {
   "cell_type": "code",
   "execution_count": null,
   "metadata": {},
   "outputs": [],
   "source": [
    "# we will include the difference of GDP between the departure and arrival countries to see (thanks to a logistic regression)\n",
    "# if it is a factor for people to move. "
   ]
  },
  {
   "cell_type": "code",
   "execution_count": 49,
   "metadata": {},
   "outputs": [
    {
     "data": {
      "text/html": [
       "<div>\n",
       "<style scoped>\n",
       "    .dataframe tbody tr th:only-of-type {\n",
       "        vertical-align: middle;\n",
       "    }\n",
       "\n",
       "    .dataframe tbody tr th {\n",
       "        vertical-align: top;\n",
       "    }\n",
       "\n",
       "    .dataframe thead th {\n",
       "        text-align: right;\n",
       "    }\n",
       "</style>\n",
       "<table border=\"1\" class=\"dataframe\">\n",
       "  <thead>\n",
       "    <tr style=\"text-align: right;\">\n",
       "      <th></th>\n",
       "      <th>country</th>\n",
       "      <th>gdp</th>\n",
       "    </tr>\n",
       "  </thead>\n",
       "  <tbody>\n",
       "    <tr>\n",
       "      <th>0</th>\n",
       "      <td>afghanistan</td>\n",
       "      <td>700.0</td>\n",
       "    </tr>\n",
       "    <tr>\n",
       "      <th>1</th>\n",
       "      <td>albania</td>\n",
       "      <td>4500.0</td>\n",
       "    </tr>\n",
       "    <tr>\n",
       "      <th>2</th>\n",
       "      <td>algeria</td>\n",
       "      <td>6000.0</td>\n",
       "    </tr>\n",
       "  </tbody>\n",
       "</table>\n",
       "</div>"
      ],
      "text/plain": [
       "       country     gdp\n",
       "0  afghanistan   700.0\n",
       "1      albania  4500.0\n",
       "2      algeria  6000.0"
      ]
     },
     "execution_count": 49,
     "metadata": {},
     "output_type": "execute_result"
    }
   ],
   "source": [
    "countries_gdp['country'] = countries_gdp['country'].str.lower()\n",
    "countries_gdp['country'] = countries_gdp['country'].str.strip()\n",
    "countries_gdp.head(3) # gdp per capita"
   ]
  },
  {
   "cell_type": "code",
   "execution_count": 50,
   "metadata": {},
   "outputs": [],
   "source": [
    "gowalla_trips = pd.merge(gowalla_trips, countries_gdp, how = 'left', left_on = 'country_home', right_on = 'country')\n",
    "gowalla_trips = pd.merge(gowalla_trips, countries_gdp, how = 'left', left_on = 'country_checkin', right_on = 'country', suffixes=('','_arrival'))\n",
    "gowalla_trips['gdp_difference'] = gowalla_trips['gdp'] - gowalla_trips['gdp_arrival']\n",
    "gowalla_trips.drop(columns = ['country', 'gdp', 'country_arrival', 'gdp_arrival'], inplace = True)\n",
    "\n",
    "brightkite_trips = pd.merge(brightkite_trips, countries_gdp, how = 'left', left_on = 'country_home', right_on = 'country')\n",
    "brightkite_trips = pd.merge(brightkite_trips, countries_gdp, how = 'left', left_on = 'country_checkin', right_on = 'country', suffixes=('','_arrival'))\n",
    "brightkite_trips['gdp_difference'] = brightkite_trips['gdp'] - brightkite_trips['gdp_arrival']\n",
    "brightkite_trips.drop(columns = ['country', 'gdp', 'country_arrival', 'gdp_arrival'], inplace = True)"
   ]
  },
  {
   "cell_type": "code",
   "execution_count": 51,
   "metadata": {
    "scrolled": true
   },
   "outputs": [
    {
     "data": {
      "text/html": [
       "<div>\n",
       "<style scoped>\n",
       "    .dataframe tbody tr th:only-of-type {\n",
       "        vertical-align: middle;\n",
       "    }\n",
       "\n",
       "    .dataframe tbody tr th {\n",
       "        vertical-align: top;\n",
       "    }\n",
       "\n",
       "    .dataframe thead th {\n",
       "        text-align: right;\n",
       "    }\n",
       "</style>\n",
       "<table border=\"1\" class=\"dataframe\">\n",
       "  <thead>\n",
       "    <tr style=\"text-align: right;\">\n",
       "      <th></th>\n",
       "      <th>country_home</th>\n",
       "      <th>country_checkin</th>\n",
       "      <th>user</th>\n",
       "      <th>language_home</th>\n",
       "      <th>language_checkin</th>\n",
       "      <th>gdp_difference</th>\n",
       "    </tr>\n",
       "  </thead>\n",
       "  <tbody>\n",
       "    <tr>\n",
       "      <th>1954</th>\n",
       "      <td>turkey</td>\n",
       "      <td>italy</td>\n",
       "      <td>2</td>\n",
       "      <td>turkish</td>\n",
       "      <td>italian</td>\n",
       "      <td>-20000.0</td>\n",
       "    </tr>\n",
       "    <tr>\n",
       "      <th>584</th>\n",
       "      <td>france</td>\n",
       "      <td>portugal</td>\n",
       "      <td>9</td>\n",
       "      <td>french</td>\n",
       "      <td>portuguese</td>\n",
       "      <td>9600.0</td>\n",
       "    </tr>\n",
       "    <tr>\n",
       "      <th>1393</th>\n",
       "      <td>norway</td>\n",
       "      <td>switzerland</td>\n",
       "      <td>11</td>\n",
       "      <td>norwegian</td>\n",
       "      <td>german</td>\n",
       "      <td>5100.0</td>\n",
       "    </tr>\n",
       "  </tbody>\n",
       "</table>\n",
       "</div>"
      ],
      "text/plain": [
       "     country_home country_checkin  user language_home language_checkin  \\\n",
       "1954       turkey           italy     2       turkish          italian   \n",
       "584        france        portugal     9        french       portuguese   \n",
       "1393       norway     switzerland    11     norwegian           german   \n",
       "\n",
       "      gdp_difference  \n",
       "1954        -20000.0  \n",
       "584           9600.0  \n",
       "1393          5100.0  "
      ]
     },
     "execution_count": 51,
     "metadata": {},
     "output_type": "execute_result"
    }
   ],
   "source": [
    "brightkite_trips.sample(3)"
   ]
  },
  {
   "cell_type": "code",
   "execution_count": 52,
   "metadata": {},
   "outputs": [
    {
     "data": {
      "text/html": [
       "<div>\n",
       "<style scoped>\n",
       "    .dataframe tbody tr th:only-of-type {\n",
       "        vertical-align: middle;\n",
       "    }\n",
       "\n",
       "    .dataframe tbody tr th {\n",
       "        vertical-align: top;\n",
       "    }\n",
       "\n",
       "    .dataframe thead th {\n",
       "        text-align: right;\n",
       "    }\n",
       "</style>\n",
       "<table border=\"1\" class=\"dataframe\">\n",
       "  <thead>\n",
       "    <tr style=\"text-align: right;\">\n",
       "      <th></th>\n",
       "      <th>country_home</th>\n",
       "      <th>country_checkin</th>\n",
       "      <th>user</th>\n",
       "      <th>language_home</th>\n",
       "      <th>language_checkin</th>\n",
       "      <th>gdp_difference</th>\n",
       "    </tr>\n",
       "  </thead>\n",
       "  <tbody>\n",
       "    <tr>\n",
       "      <th>86</th>\n",
       "      <td>austria</td>\n",
       "      <td>russian federation</td>\n",
       "      <td>2</td>\n",
       "      <td>german</td>\n",
       "      <td>NaN</td>\n",
       "      <td>NaN</td>\n",
       "    </tr>\n",
       "    <tr>\n",
       "      <th>1119</th>\n",
       "      <td>macedonia, the former yugoslav republic of</td>\n",
       "      <td>croatia</td>\n",
       "      <td>1</td>\n",
       "      <td>NaN</td>\n",
       "      <td>croatian</td>\n",
       "      <td>NaN</td>\n",
       "    </tr>\n",
       "    <tr>\n",
       "      <th>2249</th>\n",
       "      <td>united states</td>\n",
       "      <td>indonesia</td>\n",
       "      <td>30</td>\n",
       "      <td>english</td>\n",
       "      <td>bahasa</td>\n",
       "      <td>34600.0</td>\n",
       "    </tr>\n",
       "  </tbody>\n",
       "</table>\n",
       "</div>"
      ],
      "text/plain": [
       "                                    country_home     country_checkin  user  \\\n",
       "86                                       austria  russian federation     2   \n",
       "1119  macedonia, the former yugoslav republic of             croatia     1   \n",
       "2249                               united states           indonesia    30   \n",
       "\n",
       "     language_home language_checkin  gdp_difference  \n",
       "86          german              NaN             NaN  \n",
       "1119           NaN         croatian             NaN  \n",
       "2249       english           bahasa         34600.0  "
      ]
     },
     "execution_count": 52,
     "metadata": {},
     "output_type": "execute_result"
    }
   ],
   "source": [
    "gowalla_trips.sample(3)"
   ]
  },
  {
   "cell_type": "markdown",
   "metadata": {},
   "source": [
    "# Polynomial regression"
   ]
  },
  {
   "cell_type": "code",
   "execution_count": 58,
   "metadata": {},
   "outputs": [
    {
     "data": {
      "text/html": [
       "<div>\n",
       "<style scoped>\n",
       "    .dataframe tbody tr th:only-of-type {\n",
       "        vertical-align: middle;\n",
       "    }\n",
       "\n",
       "    .dataframe tbody tr th {\n",
       "        vertical-align: top;\n",
       "    }\n",
       "\n",
       "    .dataframe thead th {\n",
       "        text-align: right;\n",
       "    }\n",
       "</style>\n",
       "<table border=\"1\" class=\"dataframe\">\n",
       "  <thead>\n",
       "    <tr style=\"text-align: right;\">\n",
       "      <th></th>\n",
       "      <th>Unnamed: 0</th>\n",
       "      <th>country_home</th>\n",
       "      <th>country_checkin</th>\n",
       "      <th>user</th>\n",
       "      <th>language_home</th>\n",
       "      <th>language_checkin</th>\n",
       "      <th>same_language</th>\n",
       "      <th>distance</th>\n",
       "      <th>gdp_difference</th>\n",
       "    </tr>\n",
       "  </thead>\n",
       "  <tbody>\n",
       "    <tr>\n",
       "      <th>0</th>\n",
       "      <td>0</td>\n",
       "      <td>afghanistan</td>\n",
       "      <td>belgium</td>\n",
       "      <td>1</td>\n",
       "      <td>dari</td>\n",
       "      <td>dutch</td>\n",
       "      <td>0</td>\n",
       "      <td>5400.722789</td>\n",
       "      <td>-28400.0</td>\n",
       "    </tr>\n",
       "    <tr>\n",
       "      <th>1</th>\n",
       "      <td>1</td>\n",
       "      <td>afghanistan</td>\n",
       "      <td>united arab emirates</td>\n",
       "      <td>1</td>\n",
       "      <td>dari</td>\n",
       "      <td>arabic</td>\n",
       "      <td>0</td>\n",
       "      <td>1684.946973</td>\n",
       "      <td>-22500.0</td>\n",
       "    </tr>\n",
       "    <tr>\n",
       "      <th>2</th>\n",
       "      <td>2</td>\n",
       "      <td>afghanistan</td>\n",
       "      <td>united kingdom</td>\n",
       "      <td>1</td>\n",
       "      <td>dari</td>\n",
       "      <td>english</td>\n",
       "      <td>0</td>\n",
       "      <td>5707.038313</td>\n",
       "      <td>-27000.0</td>\n",
       "    </tr>\n",
       "    <tr>\n",
       "      <th>3</th>\n",
       "      <td>3</td>\n",
       "      <td>albania</td>\n",
       "      <td>hungary</td>\n",
       "      <td>1</td>\n",
       "      <td>albanian</td>\n",
       "      <td>hungarian</td>\n",
       "      <td>0</td>\n",
       "      <td>695.217690</td>\n",
       "      <td>-9400.0</td>\n",
       "    </tr>\n",
       "    <tr>\n",
       "      <th>4</th>\n",
       "      <td>4</td>\n",
       "      <td>albania</td>\n",
       "      <td>spain</td>\n",
       "      <td>1</td>\n",
       "      <td>albanian</td>\n",
       "      <td>castilian</td>\n",
       "      <td>0</td>\n",
       "      <td>2143.897129</td>\n",
       "      <td>-17500.0</td>\n",
       "    </tr>\n",
       "  </tbody>\n",
       "</table>\n",
       "</div>"
      ],
      "text/plain": [
       "   Unnamed: 0 country_home       country_checkin  user language_home  \\\n",
       "0           0  afghanistan               belgium     1          dari   \n",
       "1           1  afghanistan  united arab emirates     1          dari   \n",
       "2           2  afghanistan        united kingdom     1          dari   \n",
       "3           3      albania               hungary     1      albanian   \n",
       "4           4      albania                 spain     1      albanian   \n",
       "\n",
       "  language_checkin  same_language     distance  gdp_difference  \n",
       "0            dutch              0  5400.722789        -28400.0  \n",
       "1           arabic              0  1684.946973        -22500.0  \n",
       "2          english              0  5707.038313        -27000.0  \n",
       "3        hungarian              0   695.217690         -9400.0  \n",
       "4        castilian              0  2143.897129        -17500.0  "
      ]
     },
     "execution_count": 58,
     "metadata": {},
     "output_type": "execute_result"
    }
   ],
   "source": [
    "gowalla_trips_full.head()"
   ]
  },
  {
   "cell_type": "code",
   "execution_count": 53,
   "metadata": {},
   "outputs": [],
   "source": [
    "gowalla_trips_full_reg = gowalla_trips_full.copy()\n",
    "gowalla_trips_full_reg['distance'] = (gowalla_trips_full_reg['distance'] - gowalla_trips_full_reg['distance'].mean())/gowalla_trips_full_reg['distance'].std()\n",
    "gowalla_trips_full_reg['gdp_difference'] = (gowalla_trips_full_reg['gdp_difference'] - gowalla_trips_full_reg['gdp_difference'].mean())/gowalla_trips_full_reg['gdp_difference'].std()"
   ]
  },
  {
   "cell_type": "code",
   "execution_count": 54,
   "metadata": {
    "scrolled": false
   },
   "outputs": [
    {
     "name": "stdout",
     "output_type": "stream",
     "text": [
      "                            OLS Regression Results                            \n",
      "==============================================================================\n",
      "Dep. Variable:                   user   R-squared:                       0.027\n",
      "Model:                            OLS   Adj. R-squared:                  0.021\n",
      "Method:                 Least Squares   F-statistic:                     4.838\n",
      "Date:                Thu, 17 Dec 2020   Prob (F-statistic):           2.10e-07\n",
      "Time:                        22:35:51   Log-Likelihood:                -10639.\n",
      "No. Observations:                1953   AIC:                         2.130e+04\n",
      "Df Residuals:                    1941   BIC:                         2.137e+04\n",
      "Df Model:                          11                                         \n",
      "Covariance Type:            nonrobust                                         \n",
      "==========================================================================================\n",
      "                             coef    std err          t      P>|t|      [0.025      0.975]\n",
      "------------------------------------------------------------------------------------------\n",
      "Intercept                 16.7034      3.303      5.056      0.000      10.225      23.182\n",
      "C(same_language)[T.1]     13.8024      5.081      2.717      0.007       3.838      23.767\n",
      "distance                   5.7705      4.237      1.362      0.173      -2.539      14.080\n",
      "gdp_difference             1.7088      3.901      0.438      0.661      -5.941       9.359\n",
      "I(distance ** 2)           1.9994      5.663      0.353      0.724      -9.107      13.106\n",
      "I(gdp_difference ** 2)   -11.4793      3.410     -3.367      0.001     -18.166      -4.792\n",
      "I(distance ** 3)          -9.2086      3.573     -2.577      0.010     -16.216      -2.201\n",
      "I(gdp_difference ** 3)    -1.8358      3.154     -0.582      0.561      -8.022       4.350\n",
      "I(distance ** 4)           4.1765      3.426      1.219      0.223      -2.542      10.895\n",
      "I(gdp_difference ** 4)     2.1490      0.938      2.292      0.022       0.310       3.988\n",
      "I(distance ** 5)          -0.5535      0.732     -0.756      0.450      -1.989       0.882\n",
      "I(gdp_difference ** 5)     0.5014      0.583      0.860      0.390      -0.643       1.645\n",
      "==============================================================================\n",
      "Omnibus:                     3057.924   Durbin-Watson:                   1.720\n",
      "Prob(Omnibus):                  0.000   Jarque-Bera (JB):          1227179.335\n",
      "Skew:                           9.863   Prob(JB):                         0.00\n",
      "Kurtosis:                     124.208   Cond. No.                         199.\n",
      "==============================================================================\n",
      "\n",
      "Notes:\n",
      "[1] Standard Errors assume that the covariance matrix of the errors is correctly specified.\n"
     ]
    }
   ],
   "source": [
    "import statsmodels.api as sm\n",
    "import statsmodels.formula.api as smf\n",
    "mod = smf.ols(formula='user ~  distance + gdp_difference + C(same_language) \\\n",
    "              + I(distance**2) + I(gdp_difference**2) + I(distance**3) + I(gdp_difference**3) \\\n",
    "              + I(distance**4) + I(gdp_difference**4) + I(distance**5) + I(gdp_difference**5)', data=gowalla_trips_full_reg)\n",
    "res = mod.fit()\n",
    "print(res.summary())"
   ]
  },
  {
   "cell_type": "code",
   "execution_count": 55,
   "metadata": {},
   "outputs": [
    {
     "data": {
      "image/png": "[encoded data removed]",
      "text/plain": [
       "<Figure size 864x504 with 1 Axes>"
      ]
     },
     "metadata": {
      "needs_background": "light"
     },
     "output_type": "display_data"
    }
   ],
   "source": [
    "plt.rc('figure', figsize=(12, 7))\n",
    "plt.text(0.01, 0.05, str(res.summary()), {'fontsize': 10}, fontproperties = 'monospace') # approach improved by OP -> monospace!\n",
    "plt.axis('off')\n",
    "plt.tight_layout()\n",
    "#plt.savefig('polynomial_reg_gowalla.png')"
   ]
  },
  {
   "cell_type": "code",
   "execution_count": 56,
   "metadata": {},
   "outputs": [],
   "source": [
    "brightkite_trips_full_reg = brightkite_trips_full.copy()\n",
    "brightkite_trips_full_reg['distance'] = (brightkite_trips_full_reg['distance'] - brightkite_trips_full_reg['distance'].mean())/brightkite_trips_full_reg['distance'].std()\n",
    "brightkite_trips_full_reg['gdp_difference'] = (brightkite_trips_full_reg['gdp_difference'] - brightkite_trips_full_reg['gdp_difference'].mean())/brightkite_trips_full_reg['gdp_difference'].std()"
   ]
  },
  {
   "cell_type": "code",
   "execution_count": 57,
   "metadata": {
    "scrolled": false
   },
   "outputs": [
    {
     "name": "stdout",
     "output_type": "stream",
     "text": [
      "                            OLS Regression Results                            \n",
      "==============================================================================\n",
      "Dep. Variable:                   user   R-squared:                       0.028\n",
      "Model:                            OLS   Adj. R-squared:                  0.023\n",
      "Method:                 Least Squares   F-statistic:                     5.022\n",
      "Date:                Thu, 17 Dec 2020   Prob (F-statistic):           9.24e-08\n",
      "Time:                        22:35:52   Log-Likelihood:                -9412.0\n",
      "No. Observations:                1916   AIC:                         1.885e+04\n",
      "Df Residuals:                    1904   BIC:                         1.891e+04\n",
      "Df Model:                          11                                         \n",
      "Covariance Type:            nonrobust                                         \n",
      "==========================================================================================\n",
      "                             coef    std err          t      P>|t|      [0.025      0.975]\n",
      "------------------------------------------------------------------------------------------\n",
      "Intercept                 11.9774      1.903      6.295      0.000       8.246      15.709\n",
      "C(same_language)[T.1]     15.7692      2.900      5.438      0.000      10.082      21.456\n",
      "distance                   5.2614      2.283      2.304      0.021       0.783       9.739\n",
      "gdp_difference            -2.4479      2.148     -1.140      0.255      -6.660       1.764\n",
      "I(distance ** 2)          -6.1815      3.864     -1.600      0.110     -13.759       1.396\n",
      "I(gdp_difference ** 2)    -4.0073      1.604     -2.498      0.013      -7.153      -0.861\n",
      "I(distance ** 3)          -3.2403      1.740     -1.862      0.063      -6.653       0.173\n",
      "I(gdp_difference ** 3)     2.0146      1.554      1.296      0.195      -1.034       5.063\n",
      "I(distance ** 4)           3.8881      2.029      1.916      0.055      -0.091       7.867\n",
      "I(gdp_difference ** 4)     0.5770      0.369      1.565      0.118      -0.146       1.300\n",
      "I(distance ** 5)          -0.8425      0.605     -1.392      0.164      -2.029       0.344\n",
      "I(gdp_difference ** 5)    -0.2440      0.239     -1.020      0.308      -0.713       0.225\n",
      "==============================================================================\n",
      "Omnibus:                     3333.209   Durbin-Watson:                   1.803\n",
      "Prob(Omnibus):                  0.000   Jarque-Bera (JB):          2860322.384\n",
      "Skew:                          11.923   Prob(JB):                         0.00\n",
      "Kurtosis:                     190.777   Cond. No.                         120.\n",
      "==============================================================================\n",
      "\n",
      "Notes:\n",
      "[1] Standard Errors assume that the covariance matrix of the errors is correctly specified.\n"
     ]
    }
   ],
   "source": [
    "mod = smf.ols(formula='user ~  distance + gdp_difference + C(same_language) \\\n",
    "              + I(distance**2) + I(gdp_difference**2) + I(distance**3) + I(gdp_difference**3) \\\n",
    "              + I(distance**4) + I(gdp_difference**4) + I(distance**5) + I(gdp_difference**5)', data=brightkite_trips_full_reg)\n",
    "res = mod.fit()\n",
    "print(res.summary())"
   ]
  },
  {
   "cell_type": "code",
   "execution_count": 58,
   "metadata": {},
   "outputs": [
    {
     "data": {
      "image/png": "[encoded data removed]",
      "text/plain": [
       "<Figure size 864x504 with 1 Axes>"
      ]
     },
     "metadata": {
      "needs_background": "light"
     },
     "output_type": "display_data"
    }
   ],
   "source": [
    "plt.rc('figure', figsize=(12, 7))\n",
    "plt.text(0.01, 0.05, str(res.summary()), {'fontsize': 10}, fontproperties = 'monospace') # approach improved by OP -> monospace!\n",
    "plt.axis('off')\n",
    "plt.tight_layout()\n",
    "#plt.savefig('polynomial_reg_brightkite.png')"
   ]
  },
  {
   "cell_type": "markdown",
   "metadata": {},
   "source": [
    "# Comparison United-States vs Europe"
   ]
  },
  {
   "cell_type": "markdown",
   "metadata": {},
   "source": [
    "- Average distance \n",
    "- Part of the population going out of the country to travel \n",
    "- Number of visited country per traveller  "
   ]
  },
  {
   "cell_type": "code",
   "execution_count": 59,
   "metadata": {},
   "outputs": [
    {
     "data": {
      "text/html": [
       "<div>\n",
       "<style scoped>\n",
       "    .dataframe tbody tr th:only-of-type {\n",
       "        vertical-align: middle;\n",
       "    }\n",
       "\n",
       "    .dataframe tbody tr th {\n",
       "        vertical-align: top;\n",
       "    }\n",
       "\n",
       "    .dataframe thead th {\n",
       "        text-align: right;\n",
       "    }\n",
       "</style>\n",
       "<table border=\"1\" class=\"dataframe\">\n",
       "  <thead>\n",
       "    <tr style=\"text-align: right;\">\n",
       "      <th></th>\n",
       "      <th>country</th>\n",
       "      <th>code</th>\n",
       "      <th>region</th>\n",
       "      <th>continent</th>\n",
       "    </tr>\n",
       "  </thead>\n",
       "  <tbody>\n",
       "    <tr>\n",
       "      <th>0</th>\n",
       "      <td>afghanistan</td>\n",
       "      <td>AFG</td>\n",
       "      <td>southern asia</td>\n",
       "      <td>asia</td>\n",
       "    </tr>\n",
       "    <tr>\n",
       "      <th>1</th>\n",
       "      <td>åland islands</td>\n",
       "      <td>ALA</td>\n",
       "      <td>northern europe</td>\n",
       "      <td>europe</td>\n",
       "    </tr>\n",
       "    <tr>\n",
       "      <th>2</th>\n",
       "      <td>albania</td>\n",
       "      <td>ALB</td>\n",
       "      <td>southern europe</td>\n",
       "      <td>europe</td>\n",
       "    </tr>\n",
       "    <tr>\n",
       "      <th>3</th>\n",
       "      <td>algeria</td>\n",
       "      <td>DZA</td>\n",
       "      <td>northern africa</td>\n",
       "      <td>africa</td>\n",
       "    </tr>\n",
       "    <tr>\n",
       "      <th>4</th>\n",
       "      <td>american samoa</td>\n",
       "      <td>ASM</td>\n",
       "      <td>polynesia</td>\n",
       "      <td>oceania</td>\n",
       "    </tr>\n",
       "  </tbody>\n",
       "</table>\n",
       "</div>"
      ],
      "text/plain": [
       "          country code           region continent\n",
       "0     afghanistan  AFG    southern asia      asia\n",
       "1   åland islands  ALA  northern europe    europe\n",
       "2         albania  ALB  southern europe    europe\n",
       "3         algeria  DZA  northern africa    africa\n",
       "4  american samoa  ASM        polynesia   oceania"
      ]
     },
     "execution_count": 59,
     "metadata": {},
     "output_type": "execute_result"
    }
   ],
   "source": [
    "continents['country'] = continents['country'].str.lower()\n",
    "continents['region'] = continents['region'].str.lower()\n",
    "continents['continent'] = continents['continent'].str.lower()\n",
    "continents.head()"
   ]
  },
  {
   "cell_type": "code",
   "execution_count": 60,
   "metadata": {
    "scrolled": true
   },
   "outputs": [
    {
     "data": {
      "text/html": [
       "<div>\n",
       "<style scoped>\n",
       "    .dataframe tbody tr th:only-of-type {\n",
       "        vertical-align: middle;\n",
       "    }\n",
       "\n",
       "    .dataframe tbody tr th {\n",
       "        vertical-align: top;\n",
       "    }\n",
       "\n",
       "    .dataframe thead th {\n",
       "        text-align: right;\n",
       "    }\n",
       "</style>\n",
       "<table border=\"1\" class=\"dataframe\">\n",
       "  <thead>\n",
       "    <tr style=\"text-align: right;\">\n",
       "      <th></th>\n",
       "      <th>Unnamed: 0</th>\n",
       "      <th>country_home</th>\n",
       "      <th>country_checkin</th>\n",
       "      <th>user</th>\n",
       "      <th>language_home</th>\n",
       "      <th>language_checkin</th>\n",
       "      <th>same_language</th>\n",
       "      <th>distance</th>\n",
       "      <th>gdp_difference</th>\n",
       "      <th>continent_home</th>\n",
       "    </tr>\n",
       "  </thead>\n",
       "  <tbody>\n",
       "    <tr>\n",
       "      <th>0</th>\n",
       "      <td>0</td>\n",
       "      <td>afghanistan</td>\n",
       "      <td>belgium</td>\n",
       "      <td>1</td>\n",
       "      <td>dari</td>\n",
       "      <td>dutch</td>\n",
       "      <td>0</td>\n",
       "      <td>5400.722789</td>\n",
       "      <td>-28400.0</td>\n",
       "      <td>asia</td>\n",
       "    </tr>\n",
       "    <tr>\n",
       "      <th>1</th>\n",
       "      <td>1</td>\n",
       "      <td>afghanistan</td>\n",
       "      <td>united arab emirates</td>\n",
       "      <td>1</td>\n",
       "      <td>dari</td>\n",
       "      <td>arabic</td>\n",
       "      <td>0</td>\n",
       "      <td>1684.946973</td>\n",
       "      <td>-22500.0</td>\n",
       "      <td>asia</td>\n",
       "    </tr>\n",
       "    <tr>\n",
       "      <th>2</th>\n",
       "      <td>2</td>\n",
       "      <td>afghanistan</td>\n",
       "      <td>united kingdom</td>\n",
       "      <td>1</td>\n",
       "      <td>dari</td>\n",
       "      <td>english</td>\n",
       "      <td>0</td>\n",
       "      <td>5707.038313</td>\n",
       "      <td>-27000.0</td>\n",
       "      <td>asia</td>\n",
       "    </tr>\n",
       "    <tr>\n",
       "      <th>3</th>\n",
       "      <td>3</td>\n",
       "      <td>albania</td>\n",
       "      <td>hungary</td>\n",
       "      <td>1</td>\n",
       "      <td>albanian</td>\n",
       "      <td>hungarian</td>\n",
       "      <td>0</td>\n",
       "      <td>695.217690</td>\n",
       "      <td>-9400.0</td>\n",
       "      <td>europe</td>\n",
       "    </tr>\n",
       "    <tr>\n",
       "      <th>4</th>\n",
       "      <td>4</td>\n",
       "      <td>albania</td>\n",
       "      <td>spain</td>\n",
       "      <td>1</td>\n",
       "      <td>albanian</td>\n",
       "      <td>castilian</td>\n",
       "      <td>0</td>\n",
       "      <td>2143.897129</td>\n",
       "      <td>-17500.0</td>\n",
       "      <td>europe</td>\n",
       "    </tr>\n",
       "  </tbody>\n",
       "</table>\n",
       "</div>"
      ],
      "text/plain": [
       "   Unnamed: 0 country_home       country_checkin  user language_home  \\\n",
       "0           0  afghanistan               belgium     1          dari   \n",
       "1           1  afghanistan  united arab emirates     1          dari   \n",
       "2           2  afghanistan        united kingdom     1          dari   \n",
       "3           3      albania               hungary     1      albanian   \n",
       "4           4      albania                 spain     1      albanian   \n",
       "\n",
       "  language_checkin  same_language     distance  gdp_difference continent_home  \n",
       "0            dutch              0  5400.722789        -28400.0           asia  \n",
       "1           arabic              0  1684.946973        -22500.0           asia  \n",
       "2          english              0  5707.038313        -27000.0           asia  \n",
       "3        hungarian              0   695.217690         -9400.0         europe  \n",
       "4        castilian              0  2143.897129        -17500.0         europe  "
      ]
     },
     "execution_count": 60,
     "metadata": {},
     "output_type": "execute_result"
    }
   ],
   "source": [
    "gowalla_trips_full = pd.merge(gowalla_trips_full, continents[['country', 'continent']], how = 'left', left_on = 'country_home', right_on = 'country')\n",
    "gowalla_trips_full.drop(columns = ['country'], inplace = True)\n",
    "gowalla_trips_full.rename(columns = {'continent':'continent_home'}, inplace = True)\n",
    "gowalla_trips_full.head()"
   ]
  },
  {
   "cell_type": "code",
   "execution_count": 61,
   "metadata": {},
   "outputs": [
    {
     "data": {
      "text/html": [
       "<div>\n",
       "<style scoped>\n",
       "    .dataframe tbody tr th:only-of-type {\n",
       "        vertical-align: middle;\n",
       "    }\n",
       "\n",
       "    .dataframe tbody tr th {\n",
       "        vertical-align: top;\n",
       "    }\n",
       "\n",
       "    .dataframe thead th {\n",
       "        text-align: right;\n",
       "    }\n",
       "</style>\n",
       "<table border=\"1\" class=\"dataframe\">\n",
       "  <thead>\n",
       "    <tr style=\"text-align: right;\">\n",
       "      <th></th>\n",
       "      <th>Unnamed: 0</th>\n",
       "      <th>country_home</th>\n",
       "      <th>country_checkin</th>\n",
       "      <th>user</th>\n",
       "      <th>language_home</th>\n",
       "      <th>language_checkin</th>\n",
       "      <th>same_language</th>\n",
       "      <th>distance</th>\n",
       "      <th>gdp_difference</th>\n",
       "      <th>continent_home</th>\n",
       "    </tr>\n",
       "  </thead>\n",
       "  <tbody>\n",
       "    <tr>\n",
       "      <th>0</th>\n",
       "      <td>0</td>\n",
       "      <td>algeria</td>\n",
       "      <td>france</td>\n",
       "      <td>1</td>\n",
       "      <td>arabic</td>\n",
       "      <td>french</td>\n",
       "      <td>0</td>\n",
       "      <td>1511.896058</td>\n",
       "      <td>-21600.0</td>\n",
       "      <td>africa</td>\n",
       "    </tr>\n",
       "    <tr>\n",
       "      <th>1</th>\n",
       "      <td>1</td>\n",
       "      <td>angola</td>\n",
       "      <td>portugal</td>\n",
       "      <td>1</td>\n",
       "      <td>portuguese</td>\n",
       "      <td>portuguese</td>\n",
       "      <td>1</td>\n",
       "      <td>5889.419408</td>\n",
       "      <td>-16100.0</td>\n",
       "      <td>africa</td>\n",
       "    </tr>\n",
       "    <tr>\n",
       "      <th>2</th>\n",
       "      <td>2</td>\n",
       "      <td>argentina</td>\n",
       "      <td>benin</td>\n",
       "      <td>2</td>\n",
       "      <td>spanish</td>\n",
       "      <td>french</td>\n",
       "      <td>0</td>\n",
       "      <td>8214.132012</td>\n",
       "      <td>10100.0</td>\n",
       "      <td>south america</td>\n",
       "    </tr>\n",
       "    <tr>\n",
       "      <th>3</th>\n",
       "      <td>3</td>\n",
       "      <td>argentina</td>\n",
       "      <td>brazil</td>\n",
       "      <td>1</td>\n",
       "      <td>spanish</td>\n",
       "      <td>portuguese</td>\n",
       "      <td>0</td>\n",
       "      <td>3264.244477</td>\n",
       "      <td>3600.0</td>\n",
       "      <td>south america</td>\n",
       "    </tr>\n",
       "    <tr>\n",
       "      <th>4</th>\n",
       "      <td>4</td>\n",
       "      <td>argentina</td>\n",
       "      <td>czech republic</td>\n",
       "      <td>3</td>\n",
       "      <td>spanish</td>\n",
       "      <td>greek</td>\n",
       "      <td>0</td>\n",
       "      <td>11811.431790</td>\n",
       "      <td>-4500.0</td>\n",
       "      <td>south america</td>\n",
       "    </tr>\n",
       "  </tbody>\n",
       "</table>\n",
       "</div>"
      ],
      "text/plain": [
       "   Unnamed: 0 country_home country_checkin  user language_home  \\\n",
       "0           0      algeria          france     1        arabic   \n",
       "1           1       angola        portugal     1    portuguese   \n",
       "2           2    argentina           benin     2       spanish   \n",
       "3           3    argentina          brazil     1       spanish   \n",
       "4           4    argentina  czech republic     3       spanish   \n",
       "\n",
       "  language_checkin  same_language      distance  gdp_difference continent_home  \n",
       "0           french              0   1511.896058        -21600.0         africa  \n",
       "1       portuguese              1   5889.419408        -16100.0         africa  \n",
       "2           french              0   8214.132012         10100.0  south america  \n",
       "3       portuguese              0   3264.244477          3600.0  south america  \n",
       "4            greek              0  11811.431790         -4500.0  south america  "
      ]
     },
     "execution_count": 61,
     "metadata": {},
     "output_type": "execute_result"
    }
   ],
   "source": [
    "brightkite_trips_full = pd.merge(brightkite_trips_full, continents[['country', 'continent']], how = 'left', left_on = 'country_home', right_on = 'country')\n",
    "brightkite_trips_full.drop(columns = ['country'], inplace = True)\n",
    "brightkite_trips_full.rename(columns = {'continent':'continent_home'}, inplace = True)\n",
    "brightkite_trips_full.head()"
   ]
  },
  {
   "cell_type": "markdown",
   "metadata": {},
   "source": [
    "## 1. Average distance when people leave their country"
   ]
  },
  {
   "cell_type": "code",
   "execution_count": 62,
   "metadata": {},
   "outputs": [
    {
     "data": {
      "text/html": [
       "<div>\n",
       "<style scoped>\n",
       "    .dataframe tbody tr th:only-of-type {\n",
       "        vertical-align: middle;\n",
       "    }\n",
       "\n",
       "    .dataframe tbody tr th {\n",
       "        vertical-align: top;\n",
       "    }\n",
       "\n",
       "    .dataframe thead th {\n",
       "        text-align: right;\n",
       "    }\n",
       "</style>\n",
       "<table border=\"1\" class=\"dataframe\">\n",
       "  <thead>\n",
       "    <tr style=\"text-align: right;\">\n",
       "      <th></th>\n",
       "      <th>Unnamed: 0</th>\n",
       "      <th>country_home</th>\n",
       "      <th>country_checkin</th>\n",
       "      <th>user</th>\n",
       "      <th>language_home</th>\n",
       "      <th>language_checkin</th>\n",
       "      <th>same_language</th>\n",
       "      <th>distance</th>\n",
       "      <th>gdp_difference</th>\n",
       "      <th>continent_home</th>\n",
       "    </tr>\n",
       "  </thead>\n",
       "  <tbody>\n",
       "    <tr>\n",
       "      <th>1534</th>\n",
       "      <td>1476</td>\n",
       "      <td>portugal</td>\n",
       "      <td>viet nam</td>\n",
       "      <td>1</td>\n",
       "      <td>portuguese</td>\n",
       "      <td>NaN</td>\n",
       "      <td>0</td>\n",
       "      <td>11189.871728</td>\n",
       "      <td>NaN</td>\n",
       "      <td>europe</td>\n",
       "    </tr>\n",
       "    <tr>\n",
       "      <th>283</th>\n",
       "      <td>283</td>\n",
       "      <td>canada</td>\n",
       "      <td>united kingdom</td>\n",
       "      <td>31</td>\n",
       "      <td>english</td>\n",
       "      <td>english</td>\n",
       "      <td>1</td>\n",
       "      <td>6046.823725</td>\n",
       "      <td>2100.0</td>\n",
       "      <td>north america</td>\n",
       "    </tr>\n",
       "    <tr>\n",
       "      <th>1050</th>\n",
       "      <td>992</td>\n",
       "      <td>japan</td>\n",
       "      <td>chile</td>\n",
       "      <td>1</td>\n",
       "      <td>japanese</td>\n",
       "      <td>spanish</td>\n",
       "      <td>0</td>\n",
       "      <td>17227.139285</td>\n",
       "      <td>18300.0</td>\n",
       "      <td>asia</td>\n",
       "    </tr>\n",
       "    <tr>\n",
       "      <th>1328</th>\n",
       "      <td>1270</td>\n",
       "      <td>norway</td>\n",
       "      <td>argentina</td>\n",
       "      <td>1</td>\n",
       "      <td>norwegian</td>\n",
       "      <td>spanish</td>\n",
       "      <td>0</td>\n",
       "      <td>12248.351784</td>\n",
       "      <td>26600.0</td>\n",
       "      <td>europe</td>\n",
       "    </tr>\n",
       "    <tr>\n",
       "      <th>1138</th>\n",
       "      <td>1080</td>\n",
       "      <td>latvia</td>\n",
       "      <td>estonia</td>\n",
       "      <td>3</td>\n",
       "      <td>latvian</td>\n",
       "      <td>estonian</td>\n",
       "      <td>0</td>\n",
       "      <td>279.792607</td>\n",
       "      <td>-2100.0</td>\n",
       "      <td>europe</td>\n",
       "    </tr>\n",
       "  </tbody>\n",
       "</table>\n",
       "</div>"
      ],
      "text/plain": [
       "      Unnamed: 0 country_home country_checkin  user language_home  \\\n",
       "1534        1476     portugal        viet nam     1    portuguese   \n",
       "283          283       canada  united kingdom    31       english   \n",
       "1050         992        japan           chile     1      japanese   \n",
       "1328        1270       norway       argentina     1     norwegian   \n",
       "1138        1080       latvia         estonia     3       latvian   \n",
       "\n",
       "     language_checkin  same_language      distance  gdp_difference  \\\n",
       "1534              NaN              0  11189.871728             NaN   \n",
       "283           english              1   6046.823725          2100.0   \n",
       "1050          spanish              0  17227.139285         18300.0   \n",
       "1328          spanish              0  12248.351784         26600.0   \n",
       "1138         estonian              0    279.792607         -2100.0   \n",
       "\n",
       "     continent_home  \n",
       "1534         europe  \n",
       "283   north america  \n",
       "1050           asia  \n",
       "1328         europe  \n",
       "1138         europe  "
      ]
     },
     "execution_count": 62,
     "metadata": {},
     "output_type": "execute_result"
    }
   ],
   "source": [
    "gowalla_trips_full.sample(5)"
   ]
  },
  {
   "cell_type": "code",
   "execution_count": 63,
   "metadata": {},
   "outputs": [],
   "source": [
    "gowalla_trips_full['total_distance'] = gowalla_trips_full['user']*gowalla_trips_full['distance']\n",
    "brightkite_trips_full['total_distance'] = gowalla_trips_full['user']*gowalla_trips_full['distance']"
   ]
  },
  {
   "cell_type": "code",
   "execution_count": 64,
   "metadata": {},
   "outputs": [
    {
     "name": "stdout",
     "output_type": "stream",
     "text": [
      "Average distance when American people travel far from home and leave their country: 7369.5230730897565 km\n"
     ]
    }
   ],
   "source": [
    "total_distance_us = gowalla_trips_full[gowalla_trips_full.country_home == 'united states'].total_distance.sum() + brightkite_trips_full[brightkite_trips_full.country_home == 'united states'].total_distance.sum()\n",
    "total_users_us = gowalla_trips_full[gowalla_trips_full.country_home == 'united states'].user.sum() + brightkite_trips_full[brightkite_trips_full.country_home == 'united states'].user.sum()\n",
    "print('Average distance when American people travel far from home and leave their country:', total_distance_us/total_users_us, 'km')"
   ]
  },
  {
   "cell_type": "code",
   "execution_count": 65,
   "metadata": {},
   "outputs": [
    {
     "name": "stdout",
     "output_type": "stream",
     "text": [
      "Average distance when European people travel far from home and leave their country: 3155.6342079378787 km\n"
     ]
    }
   ],
   "source": [
    "total_distance_eu = gowalla_trips_full[gowalla_trips_full.continent_home == 'europe'].total_distance.sum() + brightkite_trips_full[brightkite_trips_full.continent_home == 'europe'].total_distance.sum()\n",
    "total_users_eu = gowalla_trips_full[gowalla_trips_full.continent_home == 'europe'].user.sum() + brightkite_trips_full[brightkite_trips_full.continent_home == 'europe'].user.sum()\n",
    "print('Average distance when European people travel far from home and leave their country:', total_distance_eu/total_users_eu, 'km')"
   ]
  },
  {
   "cell_type": "code",
   "execution_count": 66,
   "metadata": {},
   "outputs": [
    {
     "name": "stderr",
     "output_type": "stream",
     "text": [
      "/opt/anaconda3/lib/python3.7/site-packages/seaborn/_decorators.py:43: FutureWarning: Pass the following variables as keyword args: x, y. From version 0.12, the only valid positional argument will be `data`, and passing other arguments without an explicit keyword will result in an error or misinterpretation.\n",
      "  FutureWarning\n"
     ]
    },
    {
     "data": {
      "image/png": "[encoded data removed]",
      "text/plain": [
       "<Figure size 864x576 with 1 Axes>"
      ]
     },
     "metadata": {},
     "output_type": "display_data"
    }
   ],
   "source": [
    "import seaborn as sns\n",
    "x = ['Europe', 'United-States']\n",
    "y = [total_distance_eu/total_users_eu, total_distance_us/total_users_us]\n",
    "sns.set_style(\"darkgrid\")\n",
    "plt.figure(figsize=(12, 8))\n",
    "fig = sns.barplot(x,y)\n",
    "fig.set(title = 'Average distance when people travel far from home and leave their country', ylabel='Distance (km)')\n",
    "fig.text(0, 2900, s = round(y[0]), color='black', ha=\"center\", fontsize = 13)\n",
    "fig.text(1, 7450, s = round(y[1]), color='black', ha=\"center\", fontsize = 13)\n",
    "fig = fig.get_figure()"
   ]
  },
  {
   "cell_type": "code",
   "execution_count": 67,
   "metadata": {},
   "outputs": [
    {
     "name": "stdout",
     "output_type": "stream",
     "text": [
      "Average distance when American people travel far from home: 7141.234398740012 km (Gowalla)\n"
     ]
    }
   ],
   "source": [
    "gowalla_distance_us = gowalla_trips_full[gowalla_trips_full.country_home == 'united states'].total_distance.sum() \n",
    "gowalla_users_us = gowalla_trips_full[gowalla_trips_full.country_home == 'united states'].user.sum() \n",
    "print('Average distance when American people travel far from home:', gowalla_distance_us/gowalla_users_us, 'km (Gowalla)')"
   ]
  },
  {
   "cell_type": "code",
   "execution_count": 68,
   "metadata": {},
   "outputs": [
    {
     "name": "stdout",
     "output_type": "stream",
     "text": [
      "Average distance when American people travel far from home: 7591.646599037612 km (Brightkite)\n"
     ]
    }
   ],
   "source": [
    "brightkite_distance_us = brightkite_trips_full[brightkite_trips_full.country_home == 'united states'].total_distance.sum()\n",
    "brightkite_users_us = brightkite_trips_full[brightkite_trips_full.country_home == 'united states'].user.sum()\n",
    "print('Average distance when American people travel far from home:', brightkite_distance_us/brightkite_users_us, 'km (Brightkite)')"
   ]
  },
  {
   "cell_type": "code",
   "execution_count": 69,
   "metadata": {},
   "outputs": [
    {
     "name": "stdout",
     "output_type": "stream",
     "text": [
      "Average distance when European people travel far from home: 2372.1524329358645 km (Gowalla)\n"
     ]
    }
   ],
   "source": [
    "gowalla_distance_eu = gowalla_trips_full[gowalla_trips_full.continent_home == 'europe'].total_distance.sum() \n",
    "gowalla_users_eu = gowalla_trips_full[gowalla_trips_full.continent_home == 'europe'].user.sum() \n",
    "print('Average distance when European people travel far from home:', gowalla_distance_eu/gowalla_users_eu, 'km (Gowalla)')"
   ]
  },
  {
   "cell_type": "code",
   "execution_count": 70,
   "metadata": {},
   "outputs": [
    {
     "name": "stdout",
     "output_type": "stream",
     "text": [
      "Average distance when European people travel far from home: 5178.994908428517 km (Brightkite)\n"
     ]
    }
   ],
   "source": [
    "brightkite_distance_eu = brightkite_trips_full[brightkite_trips_full.continent_home == 'europe'].total_distance.sum()\n",
    "brightkite_users_eu = brightkite_trips_full[brightkite_trips_full.continent_home == 'europe'].user.sum()\n",
    "print('Average distance when European people travel far from home:', brightkite_distance_eu/brightkite_users_eu, 'km (Brightkite)')"
   ]
  },
  {
   "cell_type": "code",
   "execution_count": 71,
   "metadata": {
    "scrolled": false
   },
   "outputs": [
    {
     "name": "stderr",
     "output_type": "stream",
     "text": [
      "/opt/anaconda3/lib/python3.7/site-packages/seaborn/_decorators.py:43: FutureWarning: Pass the following variables as keyword args: x, y. From version 0.12, the only valid positional argument will be `data`, and passing other arguments without an explicit keyword will result in an error or misinterpretation.\n",
      "  FutureWarning\n"
     ]
    },
    {
     "data": {
      "image/png": "[encoded data removed]",
      "text/plain": [
       "<Figure size 864x576 with 1 Axes>"
      ]
     },
     "metadata": {},
     "output_type": "display_data"
    }
   ],
   "source": [
    "y=[gowalla_distance_us/gowalla_users_us,\n",
    "   gowalla_distance_eu/gowalla_users_eu,\n",
    "   brightkite_distance_us/brightkite_users_us,\n",
    "   brightkite_distance_eu/brightkite_users_eu]\n",
    "\n",
    "x=['US - Gowalla', 'Europe - Gowalla', 'US - Brightkite', 'Europe - Brightkite'] \n",
    "\n",
    "sns.set_style(\"darkgrid\")\n",
    "plt.figure(figsize=(12, 8))\n",
    "fig = sns.barplot(x,y)\n",
    "fig.set(title='Average distance traveled when people travel far from their homes and leave their country', ylabel = 'Distance (km)')\n",
    "fig.text(0, 7152, s = round(y[0]), color='black', ha=\"center\", fontsize = 13)\n",
    "fig.text(1, 2381, s = round(y[1]), color='black', ha=\"center\", fontsize = 13)\n",
    "fig.text(2, 7667, s = round(y[2]), color='black', ha=\"center\", fontsize = 13)\n",
    "fig.text(3, 3965, s = round(y[3]), color='black', ha=\"center\", fontsize = 13)\n",
    "fig = fig.get_figure()"
   ]
  },
  {
   "cell_type": "code",
   "execution_count": 72,
   "metadata": {},
   "outputs": [
    {
     "data": {
      "text/html": [
       "<div>\n",
       "<style scoped>\n",
       "    .dataframe tbody tr th:only-of-type {\n",
       "        vertical-align: middle;\n",
       "    }\n",
       "\n",
       "    .dataframe tbody tr th {\n",
       "        vertical-align: top;\n",
       "    }\n",
       "\n",
       "    .dataframe thead th {\n",
       "        text-align: right;\n",
       "    }\n",
       "</style>\n",
       "<table border=\"1\" class=\"dataframe\">\n",
       "  <thead>\n",
       "    <tr style=\"text-align: right;\">\n",
       "      <th></th>\n",
       "      <th>country</th>\n",
       "      <th>code</th>\n",
       "      <th>region</th>\n",
       "      <th>continent</th>\n",
       "    </tr>\n",
       "  </thead>\n",
       "  <tbody>\n",
       "    <tr>\n",
       "      <th>0</th>\n",
       "      <td>afghanistan</td>\n",
       "      <td>AFG</td>\n",
       "      <td>southern asia</td>\n",
       "      <td>asia</td>\n",
       "    </tr>\n",
       "    <tr>\n",
       "      <th>1</th>\n",
       "      <td>åland islands</td>\n",
       "      <td>ALA</td>\n",
       "      <td>northern europe</td>\n",
       "      <td>europe</td>\n",
       "    </tr>\n",
       "    <tr>\n",
       "      <th>2</th>\n",
       "      <td>albania</td>\n",
       "      <td>ALB</td>\n",
       "      <td>southern europe</td>\n",
       "      <td>europe</td>\n",
       "    </tr>\n",
       "    <tr>\n",
       "      <th>3</th>\n",
       "      <td>algeria</td>\n",
       "      <td>DZA</td>\n",
       "      <td>northern africa</td>\n",
       "      <td>africa</td>\n",
       "    </tr>\n",
       "    <tr>\n",
       "      <th>4</th>\n",
       "      <td>american samoa</td>\n",
       "      <td>ASM</td>\n",
       "      <td>polynesia</td>\n",
       "      <td>oceania</td>\n",
       "    </tr>\n",
       "  </tbody>\n",
       "</table>\n",
       "</div>"
      ],
      "text/plain": [
       "          country code           region continent\n",
       "0     afghanistan  AFG    southern asia      asia\n",
       "1   åland islands  ALA  northern europe    europe\n",
       "2         albania  ALB  southern europe    europe\n",
       "3         algeria  DZA  northern africa    africa\n",
       "4  american samoa  ASM        polynesia   oceania"
      ]
     },
     "execution_count": 72,
     "metadata": {},
     "output_type": "execute_result"
    }
   ],
   "source": [
    "continents.head()"
   ]
  },
  {
   "cell_type": "code",
   "execution_count": 73,
   "metadata": {},
   "outputs": [
    {
     "data": {
      "text/html": [
       "<div>\n",
       "<style scoped>\n",
       "    .dataframe tbody tr th:only-of-type {\n",
       "        vertical-align: middle;\n",
       "    }\n",
       "\n",
       "    .dataframe tbody tr th {\n",
       "        vertical-align: top;\n",
       "    }\n",
       "\n",
       "    .dataframe thead th {\n",
       "        text-align: right;\n",
       "    }\n",
       "</style>\n",
       "<table border=\"1\" class=\"dataframe\">\n",
       "  <thead>\n",
       "    <tr style=\"text-align: right;\">\n",
       "      <th></th>\n",
       "      <th>user</th>\n",
       "      <th>time</th>\n",
       "      <th>lat</th>\n",
       "      <th>lon</th>\n",
       "      <th>country_checkin</th>\n",
       "      <th>home_lat</th>\n",
       "      <th>home_lon</th>\n",
       "      <th>country_home</th>\n",
       "      <th>distance_from_home</th>\n",
       "      <th>continent_home</th>\n",
       "    </tr>\n",
       "  </thead>\n",
       "  <tbody>\n",
       "    <tr>\n",
       "      <th>663693</th>\n",
       "      <td>72826</td>\n",
       "      <td>2010-03-15 04:07:59+00:00</td>\n",
       "      <td>33.941829</td>\n",
       "      <td>-118.399572</td>\n",
       "      <td>united states</td>\n",
       "      <td>40.764522</td>\n",
       "      <td>-73.985348</td>\n",
       "      <td>united states</td>\n",
       "      <td>3955.263477</td>\n",
       "      <td>north america</td>\n",
       "    </tr>\n",
       "    <tr>\n",
       "      <th>87104</th>\n",
       "      <td>1519</td>\n",
       "      <td>2010-10-06 12:36:39+00:00</td>\n",
       "      <td>55.474393</td>\n",
       "      <td>-5.711881</td>\n",
       "      <td>united kingdom</td>\n",
       "      <td>45.390185</td>\n",
       "      <td>-75.672877</td>\n",
       "      <td>canada</td>\n",
       "      <td>4859.758340</td>\n",
       "      <td>north america</td>\n",
       "    </tr>\n",
       "    <tr>\n",
       "      <th>714977</th>\n",
       "      <td>97069</td>\n",
       "      <td>2010-10-06 18:17:05+00:00</td>\n",
       "      <td>42.592497</td>\n",
       "      <td>-5.578473</td>\n",
       "      <td>spain</td>\n",
       "      <td>39.559715</td>\n",
       "      <td>2.629274</td>\n",
       "      <td>spain</td>\n",
       "      <td>765.737266</td>\n",
       "      <td>europe</td>\n",
       "    </tr>\n",
       "    <tr>\n",
       "      <th>649964</th>\n",
       "      <td>67732</td>\n",
       "      <td>2010-06-15 01:33:46+00:00</td>\n",
       "      <td>32.731877</td>\n",
       "      <td>-117.201977</td>\n",
       "      <td>united states</td>\n",
       "      <td>30.241941</td>\n",
       "      <td>-97.703378</td>\n",
       "      <td>united states</td>\n",
       "      <td>1866.790971</td>\n",
       "      <td>north america</td>\n",
       "    </tr>\n",
       "    <tr>\n",
       "      <th>165782</th>\n",
       "      <td>3395</td>\n",
       "      <td>2010-07-10 00:39:33+00:00</td>\n",
       "      <td>37.797625</td>\n",
       "      <td>-122.406600</td>\n",
       "      <td>united states</td>\n",
       "      <td>33.126866</td>\n",
       "      <td>-96.670430</td>\n",
       "      <td>united states</td>\n",
       "      <td>2379.923094</td>\n",
       "      <td>north america</td>\n",
       "    </tr>\n",
       "  </tbody>\n",
       "</table>\n",
       "</div>"
      ],
      "text/plain": [
       "         user                      time        lat         lon  \\\n",
       "663693  72826 2010-03-15 04:07:59+00:00  33.941829 -118.399572   \n",
       "87104    1519 2010-10-06 12:36:39+00:00  55.474393   -5.711881   \n",
       "714977  97069 2010-10-06 18:17:05+00:00  42.592497   -5.578473   \n",
       "649964  67732 2010-06-15 01:33:46+00:00  32.731877 -117.201977   \n",
       "165782   3395 2010-07-10 00:39:33+00:00  37.797625 -122.406600   \n",
       "\n",
       "       country_checkin   home_lat   home_lon   country_home  \\\n",
       "663693   united states  40.764522 -73.985348  united states   \n",
       "87104   united kingdom  45.390185 -75.672877         canada   \n",
       "714977           spain  39.559715   2.629274          spain   \n",
       "649964   united states  30.241941 -97.703378  united states   \n",
       "165782   united states  33.126866 -96.670430  united states   \n",
       "\n",
       "        distance_from_home continent_home  \n",
       "663693         3955.263477  north america  \n",
       "87104          4859.758340  north america  \n",
       "714977          765.737266         europe  \n",
       "649964         1866.790971  north america  \n",
       "165782         2379.923094  north america  "
      ]
     },
     "execution_count": 73,
     "metadata": {},
     "output_type": "execute_result"
    }
   ],
   "source": [
    "gowalla_far_checkins = pd.merge(gowalla_far_checkins, continents[['country', 'continent']], how = 'left', left_on = 'country_home', right_on = 'country')\n",
    "gowalla_far_checkins.drop(columns = ['country'], inplace = True)\n",
    "gowalla_far_checkins.rename(columns = {'continent':'continent_home'}, inplace = True)\n",
    "gowalla_far_checkins.sample(5)"
   ]
  },
  {
   "cell_type": "code",
   "execution_count": 74,
   "metadata": {},
   "outputs": [
    {
     "data": {
      "text/html": [
       "<div>\n",
       "<style scoped>\n",
       "    .dataframe tbody tr th:only-of-type {\n",
       "        vertical-align: middle;\n",
       "    }\n",
       "\n",
       "    .dataframe tbody tr th {\n",
       "        vertical-align: top;\n",
       "    }\n",
       "\n",
       "    .dataframe thead th {\n",
       "        text-align: right;\n",
       "    }\n",
       "</style>\n",
       "<table border=\"1\" class=\"dataframe\">\n",
       "  <thead>\n",
       "    <tr style=\"text-align: right;\">\n",
       "      <th></th>\n",
       "      <th>user</th>\n",
       "      <th>time</th>\n",
       "      <th>lat</th>\n",
       "      <th>lon</th>\n",
       "      <th>country_checkin</th>\n",
       "      <th>home_lat</th>\n",
       "      <th>home_lon</th>\n",
       "      <th>country_home</th>\n",
       "      <th>distance_from_home</th>\n",
       "      <th>continent_home</th>\n",
       "    </tr>\n",
       "  </thead>\n",
       "  <tbody>\n",
       "    <tr>\n",
       "      <th>513561</th>\n",
       "      <td>35208</td>\n",
       "      <td>2010-01-30 03:43:15+00:00</td>\n",
       "      <td>32.503760</td>\n",
       "      <td>-85.024309</td>\n",
       "      <td>united states</td>\n",
       "      <td>41.903169</td>\n",
       "      <td>-87.668193</td>\n",
       "      <td>united states</td>\n",
       "      <td>1070.918699</td>\n",
       "      <td>north america</td>\n",
       "    </tr>\n",
       "    <tr>\n",
       "      <th>617801</th>\n",
       "      <td>56063</td>\n",
       "      <td>2010-08-13 17:15:29+00:00</td>\n",
       "      <td>40.041989</td>\n",
       "      <td>-76.308442</td>\n",
       "      <td>united states</td>\n",
       "      <td>34.231583</td>\n",
       "      <td>-119.222375</td>\n",
       "      <td>united states</td>\n",
       "      <td>3821.092489</td>\n",
       "      <td>north america</td>\n",
       "    </tr>\n",
       "    <tr>\n",
       "      <th>47807</th>\n",
       "      <td>695</td>\n",
       "      <td>2010-06-23 01:38:24+00:00</td>\n",
       "      <td>37.422628</td>\n",
       "      <td>-122.085679</td>\n",
       "      <td>united states</td>\n",
       "      <td>39.674267</td>\n",
       "      <td>-104.982851</td>\n",
       "      <td>united states</td>\n",
       "      <td>1505.849899</td>\n",
       "      <td>north america</td>\n",
       "    </tr>\n",
       "    <tr>\n",
       "      <th>339258</th>\n",
       "      <td>13624</td>\n",
       "      <td>2010-07-18 16:27:38+00:00</td>\n",
       "      <td>33.094274</td>\n",
       "      <td>-96.820707</td>\n",
       "      <td>united states</td>\n",
       "      <td>38.844223</td>\n",
       "      <td>-104.907493</td>\n",
       "      <td>united states</td>\n",
       "      <td>967.973516</td>\n",
       "      <td>north america</td>\n",
       "    </tr>\n",
       "    <tr>\n",
       "      <th>589420</th>\n",
       "      <td>49300</td>\n",
       "      <td>2010-09-16 22:23:53+00:00</td>\n",
       "      <td>39.747549</td>\n",
       "      <td>-104.994771</td>\n",
       "      <td>united states</td>\n",
       "      <td>32.741959</td>\n",
       "      <td>-97.341061</td>\n",
       "      <td>united states</td>\n",
       "      <td>1037.377120</td>\n",
       "      <td>north america</td>\n",
       "    </tr>\n",
       "  </tbody>\n",
       "</table>\n",
       "</div>"
      ],
      "text/plain": [
       "         user                      time        lat         lon  \\\n",
       "513561  35208 2010-01-30 03:43:15+00:00  32.503760  -85.024309   \n",
       "617801  56063 2010-08-13 17:15:29+00:00  40.041989  -76.308442   \n",
       "47807     695 2010-06-23 01:38:24+00:00  37.422628 -122.085679   \n",
       "339258  13624 2010-07-18 16:27:38+00:00  33.094274  -96.820707   \n",
       "589420  49300 2010-09-16 22:23:53+00:00  39.747549 -104.994771   \n",
       "\n",
       "       country_checkin   home_lat    home_lon   country_home  \\\n",
       "513561   united states  41.903169  -87.668193  united states   \n",
       "617801   united states  34.231583 -119.222375  united states   \n",
       "47807    united states  39.674267 -104.982851  united states   \n",
       "339258   united states  38.844223 -104.907493  united states   \n",
       "589420   united states  32.741959  -97.341061  united states   \n",
       "\n",
       "        distance_from_home continent_home  \n",
       "513561         1070.918699  north america  \n",
       "617801         3821.092489  north america  \n",
       "47807          1505.849899  north america  \n",
       "339258          967.973516  north america  \n",
       "589420         1037.377120  north america  "
      ]
     },
     "execution_count": 74,
     "metadata": {},
     "output_type": "execute_result"
    }
   ],
   "source": [
    "gowalla_far_checkins.sample(5)"
   ]
  },
  {
   "cell_type": "code",
   "execution_count": 75,
   "metadata": {},
   "outputs": [
    {
     "data": {
      "text/html": [
       "<div>\n",
       "<style scoped>\n",
       "    .dataframe tbody tr th:only-of-type {\n",
       "        vertical-align: middle;\n",
       "    }\n",
       "\n",
       "    .dataframe tbody tr th {\n",
       "        vertical-align: top;\n",
       "    }\n",
       "\n",
       "    .dataframe thead th {\n",
       "        text-align: right;\n",
       "    }\n",
       "</style>\n",
       "<table border=\"1\" class=\"dataframe\">\n",
       "  <thead>\n",
       "    <tr style=\"text-align: right;\">\n",
       "      <th></th>\n",
       "      <th>user</th>\n",
       "      <th>time</th>\n",
       "      <th>lat</th>\n",
       "      <th>lon</th>\n",
       "      <th>country_checkin</th>\n",
       "      <th>home_lat</th>\n",
       "      <th>home_lon</th>\n",
       "      <th>country_home</th>\n",
       "      <th>distance_from_home</th>\n",
       "      <th>continent_home</th>\n",
       "    </tr>\n",
       "  </thead>\n",
       "  <tbody>\n",
       "    <tr>\n",
       "      <th>0</th>\n",
       "      <td>0</td>\n",
       "      <td>2010-05-07 22:34:54+00:00</td>\n",
       "      <td>37.615223</td>\n",
       "      <td>-122.389979</td>\n",
       "      <td>united states</td>\n",
       "      <td>39.747913</td>\n",
       "      <td>-104.968944</td>\n",
       "      <td>united states</td>\n",
       "      <td>1528.157039</td>\n",
       "      <td>north america</td>\n",
       "    </tr>\n",
       "    <tr>\n",
       "      <th>1</th>\n",
       "      <td>0</td>\n",
       "      <td>2010-05-07 21:10:40+00:00</td>\n",
       "      <td>37.579361</td>\n",
       "      <td>-122.346108</td>\n",
       "      <td>united states</td>\n",
       "      <td>39.747913</td>\n",
       "      <td>-104.968944</td>\n",
       "      <td>united states</td>\n",
       "      <td>1525.404238</td>\n",
       "      <td>north america</td>\n",
       "    </tr>\n",
       "    <tr>\n",
       "      <th>2</th>\n",
       "      <td>0</td>\n",
       "      <td>2010-05-07 18:18:37+00:00</td>\n",
       "      <td>37.578379</td>\n",
       "      <td>-122.347524</td>\n",
       "      <td>united states</td>\n",
       "      <td>39.747913</td>\n",
       "      <td>-104.968944</td>\n",
       "      <td>united states</td>\n",
       "      <td>1525.552344</td>\n",
       "      <td>north america</td>\n",
       "    </tr>\n",
       "    <tr>\n",
       "      <th>3</th>\n",
       "      <td>0</td>\n",
       "      <td>2010-05-07 18:13:36+00:00</td>\n",
       "      <td>37.579361</td>\n",
       "      <td>-122.346108</td>\n",
       "      <td>united states</td>\n",
       "      <td>39.747913</td>\n",
       "      <td>-104.968944</td>\n",
       "      <td>united states</td>\n",
       "      <td>1525.404238</td>\n",
       "      <td>north america</td>\n",
       "    </tr>\n",
       "    <tr>\n",
       "      <th>4</th>\n",
       "      <td>0</td>\n",
       "      <td>2010-05-07 02:46:58+00:00</td>\n",
       "      <td>37.785078</td>\n",
       "      <td>-122.404998</td>\n",
       "      <td>united states</td>\n",
       "      <td>39.747913</td>\n",
       "      <td>-104.968944</td>\n",
       "      <td>united states</td>\n",
       "      <td>1524.877576</td>\n",
       "      <td>north america</td>\n",
       "    </tr>\n",
       "  </tbody>\n",
       "</table>\n",
       "</div>"
      ],
      "text/plain": [
       "   user                      time        lat         lon country_checkin  \\\n",
       "0     0 2010-05-07 22:34:54+00:00  37.615223 -122.389979   united states   \n",
       "1     0 2010-05-07 21:10:40+00:00  37.579361 -122.346108   united states   \n",
       "2     0 2010-05-07 18:18:37+00:00  37.578379 -122.347524   united states   \n",
       "3     0 2010-05-07 18:13:36+00:00  37.579361 -122.346108   united states   \n",
       "4     0 2010-05-07 02:46:58+00:00  37.785078 -122.404998   united states   \n",
       "\n",
       "    home_lat    home_lon   country_home  distance_from_home continent_home  \n",
       "0  39.747913 -104.968944  united states         1528.157039  north america  \n",
       "1  39.747913 -104.968944  united states         1525.404238  north america  \n",
       "2  39.747913 -104.968944  united states         1525.552344  north america  \n",
       "3  39.747913 -104.968944  united states         1525.404238  north america  \n",
       "4  39.747913 -104.968944  united states         1524.877576  north america  "
      ]
     },
     "execution_count": 75,
     "metadata": {},
     "output_type": "execute_result"
    }
   ],
   "source": [
    "brightkite_far_checkins = pd.merge(brightkite_far_checkins, continents[['country', 'continent']], how = 'left', left_on = 'country_home', right_on = 'country')\n",
    "brightkite_far_checkins.drop(columns = ['country'], inplace = True)\n",
    "brightkite_far_checkins.rename(columns = {'continent':'continent_home'}, inplace = True)\n",
    "brightkite_far_checkins.head()"
   ]
  },
  {
   "cell_type": "code",
   "execution_count": 76,
   "metadata": {},
   "outputs": [],
   "source": [
    "gowalla_us_dist = gowalla_far_checkins[(gowalla_far_checkins.country_home == 'united states') & (gowalla_far_checkins.country_home != gowalla_far_checkins.country_checkin)].distance_from_home.mean()"
   ]
  },
  {
   "cell_type": "code",
   "execution_count": 77,
   "metadata": {},
   "outputs": [],
   "source": [
    "gowalla_eu_dist = gowalla_far_checkins[(gowalla_far_checkins.continent_home == 'europe') & (gowalla_far_checkins.country_home != gowalla_far_checkins.country_checkin)].distance_from_home.mean()"
   ]
  },
  {
   "cell_type": "code",
   "execution_count": 78,
   "metadata": {},
   "outputs": [],
   "source": [
    "brightkite_us_dist = brightkite_far_checkins[(brightkite_far_checkins.country_home == 'united states')& (brightkite_far_checkins.country_home != brightkite_far_checkins.country_checkin)].distance_from_home.mean()"
   ]
  },
  {
   "cell_type": "code",
   "execution_count": 79,
   "metadata": {},
   "outputs": [],
   "source": [
    "brightkite_eu_dist = brightkite_far_checkins[(brightkite_far_checkins.continent_home == 'europe') & (brightkite_far_checkins.country_home != brightkite_far_checkins.country_checkin)].distance_from_home.mean()"
   ]
  },
  {
   "cell_type": "code",
   "execution_count": 80,
   "metadata": {},
   "outputs": [
    {
     "name": "stderr",
     "output_type": "stream",
     "text": [
      "/opt/anaconda3/lib/python3.7/site-packages/seaborn/_decorators.py:43: FutureWarning: Pass the following variables as keyword args: x, y. From version 0.12, the only valid positional argument will be `data`, and passing other arguments without an explicit keyword will result in an error or misinterpretation.\n",
      "  FutureWarning\n"
     ]
    },
    {
     "data": {
      "image/png": "[encoded data removed]",
      "text/plain": [
       "<Figure size 864x576 with 1 Axes>"
      ]
     },
     "metadata": {},
     "output_type": "display_data"
    }
   ],
   "source": [
    "y=[gowalla_us_dist, gowalla_eu_dist, brightkite_us_dist, brightkite_eu_dist]\n",
    "\n",
    "x=['US - Gowalla', 'Europe - Gowalla', 'US - Brightkite', 'Europe - Brightkite'] \n",
    "\n",
    "sns.set_style(\"darkgrid\")\n",
    "plt.figure(figsize=(12, 8))\n",
    "fig = sns.barplot(x,y)\n",
    "fig.set(title='Average distance traveled when people travel far from their home and leave their country', ylabel = 'Distance (km)')\n",
    "fig.text(0, 7330, s = round(y[0]), color='black', ha=\"center\", fontsize = 13)\n",
    "fig.text(1, 3441, s = round(y[1]), color='black', ha=\"center\", fontsize = 13)\n",
    "fig.text(2, 7745, s = round(y[2]), color='black', ha=\"center\", fontsize = 13)\n",
    "fig.text(3, 4426, s = round(y[3]), color='black', ha=\"center\", fontsize = 13)\n",
    "fig = fig.get_figure()\n",
    "fig.savefig(\"distance_eu_vs_us.png\")"
   ]
  },
  {
   "cell_type": "markdown",
   "metadata": {},
   "source": [
    "## 1-bis Average distance for d>200 km but not always out of the country"
   ]
  },
  {
   "cell_type": "code",
   "execution_count": 81,
   "metadata": {},
   "outputs": [],
   "source": [
    "gowalla_us_dist_2 = gowalla_far_checkins[gowalla_far_checkins.country_home == 'united states'].distance_from_home.mean()"
   ]
  },
  {
   "cell_type": "code",
   "execution_count": 82,
   "metadata": {},
   "outputs": [],
   "source": [
    "gowalla_eu_dist_2 = gowalla_far_checkins[gowalla_far_checkins.continent_home == 'europe'].distance_from_home.mean()"
   ]
  },
  {
   "cell_type": "code",
   "execution_count": 83,
   "metadata": {},
   "outputs": [],
   "source": [
    "brightkite_us_dist_2 = brightkite_far_checkins[brightkite_far_checkins.country_home == 'united states'].distance_from_home.mean()"
   ]
  },
  {
   "cell_type": "code",
   "execution_count": 84,
   "metadata": {},
   "outputs": [],
   "source": [
    "brightkite_eu_dist_2 = brightkite_far_checkins[brightkite_far_checkins.continent_home == 'europe'].distance_from_home.mean()"
   ]
  },
  {
   "cell_type": "code",
   "execution_count": 85,
   "metadata": {},
   "outputs": [
    {
     "name": "stderr",
     "output_type": "stream",
     "text": [
      "/opt/anaconda3/lib/python3.7/site-packages/seaborn/_decorators.py:43: FutureWarning: Pass the following variables as keyword args: x, y. From version 0.12, the only valid positional argument will be `data`, and passing other arguments without an explicit keyword will result in an error or misinterpretation.\n",
      "  FutureWarning\n"
     ]
    },
    {
     "data": {
      "image/png": "[encoded data removed]",
      "text/plain": [
       "<Figure size 864x576 with 1 Axes>"
      ]
     },
     "metadata": {},
     "output_type": "display_data"
    }
   ],
   "source": [
    "y=[gowalla_us_dist_2, gowalla_eu_dist_2, brightkite_us_dist_2, brightkite_eu_dist_2]\n",
    "\n",
    "x=['US - Gowalla', 'Europe - Gowalla', 'US - Brightkite', 'Europe - Brightkite'] \n",
    "\n",
    "sns.set_style(\"darkgrid\")\n",
    "plt.figure(figsize=(12, 8))\n",
    "fig = sns.barplot(x,y)\n",
    "fig.set(title='Average distance traveled when people went far from their home', ylabel = 'Distance (km)')\n",
    "fig.text(0, 1875, s = round(y[0]), color='black', ha=\"center\", fontsize = 13)\n",
    "fig.text(1, 1664, s = round(y[1]), color='black', ha=\"center\", fontsize = 13)\n",
    "fig.text(2, 2061, s = round(y[2]), color='black', ha=\"center\", fontsize = 13)\n",
    "fig.text(3, 2635, s = round(y[3]), color='black', ha=\"center\", fontsize = 13)\n",
    "fig = fig.get_figure()\n",
    "fig.savefig(\"distance_wihout_leaving_country_eu_vs_us.png\")"
   ]
  },
  {
   "cell_type": "markdown",
   "metadata": {},
   "source": [
    "## 2. Part of the population going out of the country to travel "
   ]
  },
  {
   "cell_type": "code",
   "execution_count": 90,
   "metadata": {},
   "outputs": [
    {
     "name": "stdout",
     "output_type": "stream",
     "text": [
      "Part of the US population going out of the country to travel: 11.987769864648197 % (Gowalla)\n"
     ]
    }
   ],
   "source": [
    "gowalla_us_travel_out_of_country = gowalla_far_checkins[(gowalla_far_checkins.country_checkin != gowalla_far_checkins.country_home) & (gowalla_far_checkins.country_home == 'united states')].user.nunique()\n",
    "gowalla_us_total = gowalla_far_checkins[(gowalla_far_checkins.country_home == 'united states')].user.nunique()\n",
    "print('Part of the US population going out of the country to travel:',100*gowalla_us_travel_out_of_country/gowalla_us_total,'% (Gowalla)')"
   ]
  },
  {
   "cell_type": "code",
   "execution_count": 91,
   "metadata": {},
   "outputs": [
    {
     "name": "stdout",
     "output_type": "stream",
     "text": [
      "Part of the US population going out of the country to travel: 23.396560038579008 % (Brightkite)\n"
     ]
    }
   ],
   "source": [
    "brightkite_us_travel_out_of_country = brightkite_far_checkins[(brightkite_far_checkins.country_checkin != brightkite_far_checkins.country_home) & (brightkite_far_checkins.country_home == 'united states')].user.nunique()\n",
    "brightkite_us_total = brightkite_far_checkins[(brightkite_far_checkins.country_home == 'united states')].user.nunique()\n",
    "print('Part of the US population going out of the country to travel:',100*brightkite_us_travel_out_of_country/brightkite_us_total,'% (Brightkite)')"
   ]
  },
  {
   "cell_type": "code",
   "execution_count": 92,
   "metadata": {},
   "outputs": [
    {
     "name": "stdout",
     "output_type": "stream",
     "text": [
      "Part of the European population going out of the country to travel: 52.98789712556732 % (Gowalla)\n"
     ]
    }
   ],
   "source": [
    "gowalla_eu_travel_out_of_country = gowalla_far_checkins[(gowalla_far_checkins.country_checkin != gowalla_far_checkins.country_home) & (gowalla_far_checkins.continent_home == 'europe')].user.nunique()\n",
    "gowalla_eu_total = gowalla_far_checkins[(gowalla_far_checkins.continent_home == 'europe')].user.nunique()\n",
    "print('Part of the European population going out of the country to travel:',100*gowalla_eu_travel_out_of_country/gowalla_eu_total,'% (Gowalla)')"
   ]
  },
  {
   "cell_type": "code",
   "execution_count": 93,
   "metadata": {},
   "outputs": [
    {
     "name": "stdout",
     "output_type": "stream",
     "text": [
      "Part of the European population going out of the country to travel: 70.55787662816417 % (Brightkite)\n"
     ]
    }
   ],
   "source": [
    "brightkite_eu_travel_out_of_country = brightkite_far_checkins[(brightkite_far_checkins.country_checkin != brightkite_far_checkins.country_home) & (brightkite_far_checkins.continent_home == 'europe')].user.nunique()\n",
    "brightkite_eu_total = brightkite_far_checkins[(brightkite_far_checkins.continent_home == 'europe')].user.nunique()\n",
    "print('Part of the European population going out of the country to travel:',100*brightkite_eu_travel_out_of_country/brightkite_eu_total,'% (Brightkite)')"
   ]
  },
  {
   "cell_type": "code",
   "execution_count": 114,
   "metadata": {
    "scrolled": false
   },
   "outputs": [
    {
     "name": "stderr",
     "output_type": "stream",
     "text": [
      "/opt/anaconda3/lib/python3.7/site-packages/seaborn/_decorators.py:43: FutureWarning: Pass the following variables as keyword args: x, y. From version 0.12, the only valid positional argument will be `data`, and passing other arguments without an explicit keyword will result in an error or misinterpretation.\n",
      "  FutureWarning\n"
     ]
    },
    {
     "data": {
      "image/png": "[encoded data removed]",
      "text/plain": [
       "<Figure size 864x576 with 1 Axes>"
      ]
     },
     "metadata": {},
     "output_type": "display_data"
    }
   ],
   "source": [
    "y=[100*gowalla_us_travel_out_of_country/gowalla_us_total, \n",
    "   100*gowalla_eu_travel_out_of_country/gowalla_eu_total,\n",
    "   100*brightkite_us_travel_out_of_country/brightkite_us_total,\n",
    "   100*brightkite_eu_travel_out_of_country/brightkite_eu_total]\n",
    "\n",
    "x=['US - Gowalla', 'Europe - Gowalla', 'US - Brightkite', 'Europe - Brightkite'] \n",
    "\n",
    "sns.set_style(\"darkgrid\")\n",
    "plt.figure(figsize=(12, 8))\n",
    "fig = sns.barplot(x,y)\n",
    "fig.set(title='Part of the population that went out of the country to travel', ylabel = 'Part of the population (%)')\n",
    "fig.text(0, 13, s = round(y[0]), color='black', ha=\"center\", fontsize = 13)\n",
    "fig.text(1, 53, s = round(y[1]), color='black', ha=\"center\", fontsize = 13)\n",
    "fig.text(2, 24, s = round(y[2]), color='black', ha=\"center\", fontsize = 13)\n",
    "fig.text(3, 71, s = round(y[3]), color='black', ha=\"center\", fontsize = 13)\n",
    "fig = fig.get_figure()\n",
    "fig.savefig(\"part_of_pop_out_eu_vs_us.png\")"
   ]
  },
  {
   "cell_type": "markdown",
   "metadata": {},
   "source": [
    "## 2-bis Part of people who leave their continent when travelling"
   ]
  },
  {
   "cell_type": "code",
   "execution_count": 95,
   "metadata": {},
   "outputs": [
    {
     "data": {
      "text/html": [
       "<div>\n",
       "<style scoped>\n",
       "    .dataframe tbody tr th:only-of-type {\n",
       "        vertical-align: middle;\n",
       "    }\n",
       "\n",
       "    .dataframe tbody tr th {\n",
       "        vertical-align: top;\n",
       "    }\n",
       "\n",
       "    .dataframe thead th {\n",
       "        text-align: right;\n",
       "    }\n",
       "</style>\n",
       "<table border=\"1\" class=\"dataframe\">\n",
       "  <thead>\n",
       "    <tr style=\"text-align: right;\">\n",
       "      <th></th>\n",
       "      <th>user</th>\n",
       "      <th>time</th>\n",
       "      <th>lat</th>\n",
       "      <th>lon</th>\n",
       "      <th>country_checkin</th>\n",
       "      <th>home_lat</th>\n",
       "      <th>home_lon</th>\n",
       "      <th>country_home</th>\n",
       "      <th>distance_from_home</th>\n",
       "      <th>continent_home</th>\n",
       "      <th>continent_checkin</th>\n",
       "    </tr>\n",
       "  </thead>\n",
       "  <tbody>\n",
       "    <tr>\n",
       "      <th>773211</th>\n",
       "      <td>108667</td>\n",
       "      <td>2010-10-14 22:15:58+00:00</td>\n",
       "      <td>17.065594</td>\n",
       "      <td>-96.724839</td>\n",
       "      <td>mexico</td>\n",
       "      <td>48.793180</td>\n",
       "      <td>9.172903</td>\n",
       "      <td>germany</td>\n",
       "      <td>9699.862556</td>\n",
       "      <td>europe</td>\n",
       "      <td>north america</td>\n",
       "    </tr>\n",
       "    <tr>\n",
       "      <th>910081</th>\n",
       "      <td>154700</td>\n",
       "      <td>2010-08-01 02:07:34+00:00</td>\n",
       "      <td>37.654023</td>\n",
       "      <td>-104.793231</td>\n",
       "      <td>united states</td>\n",
       "      <td>31.057034</td>\n",
       "      <td>-97.511140</td>\n",
       "      <td>united states</td>\n",
       "      <td>991.756839</td>\n",
       "      <td>north america</td>\n",
       "      <td>north america</td>\n",
       "    </tr>\n",
       "    <tr>\n",
       "      <th>864785</th>\n",
       "      <td>132093</td>\n",
       "      <td>2010-09-24 18:17:36+00:00</td>\n",
       "      <td>59.936301</td>\n",
       "      <td>16.962222</td>\n",
       "      <td>sweden</td>\n",
       "      <td>56.677699</td>\n",
       "      <td>12.849785</td>\n",
       "      <td>sweden</td>\n",
       "      <td>434.569649</td>\n",
       "      <td>europe</td>\n",
       "      <td>europe</td>\n",
       "    </tr>\n",
       "    <tr>\n",
       "      <th>652585</th>\n",
       "      <td>66619</td>\n",
       "      <td>2010-04-10 16:38:03+00:00</td>\n",
       "      <td>40.755021</td>\n",
       "      <td>-73.983211</td>\n",
       "      <td>united states</td>\n",
       "      <td>42.452616</td>\n",
       "      <td>-76.498664</td>\n",
       "      <td>united states</td>\n",
       "      <td>281.713130</td>\n",
       "      <td>north america</td>\n",
       "      <td>north america</td>\n",
       "    </tr>\n",
       "    <tr>\n",
       "      <th>834689</th>\n",
       "      <td>123965</td>\n",
       "      <td>2010-09-16 19:23:02+00:00</td>\n",
       "      <td>36.106624</td>\n",
       "      <td>-115.167683</td>\n",
       "      <td>united states</td>\n",
       "      <td>32.833620</td>\n",
       "      <td>-96.769878</td>\n",
       "      <td>united states</td>\n",
       "      <td>1722.550726</td>\n",
       "      <td>north america</td>\n",
       "      <td>north america</td>\n",
       "    </tr>\n",
       "  </tbody>\n",
       "</table>\n",
       "</div>"
      ],
      "text/plain": [
       "          user                      time        lat         lon  \\\n",
       "773211  108667 2010-10-14 22:15:58+00:00  17.065594  -96.724839   \n",
       "910081  154700 2010-08-01 02:07:34+00:00  37.654023 -104.793231   \n",
       "864785  132093 2010-09-24 18:17:36+00:00  59.936301   16.962222   \n",
       "652585   66619 2010-04-10 16:38:03+00:00  40.755021  -73.983211   \n",
       "834689  123965 2010-09-16 19:23:02+00:00  36.106624 -115.167683   \n",
       "\n",
       "       country_checkin   home_lat   home_lon   country_home  \\\n",
       "773211          mexico  48.793180   9.172903        germany   \n",
       "910081   united states  31.057034 -97.511140  united states   \n",
       "864785          sweden  56.677699  12.849785         sweden   \n",
       "652585   united states  42.452616 -76.498664  united states   \n",
       "834689   united states  32.833620 -96.769878  united states   \n",
       "\n",
       "        distance_from_home continent_home continent_checkin  \n",
       "773211         9699.862556         europe     north america  \n",
       "910081          991.756839  north america     north america  \n",
       "864785          434.569649         europe            europe  \n",
       "652585          281.713130  north america     north america  \n",
       "834689         1722.550726  north america     north america  "
      ]
     },
     "execution_count": 95,
     "metadata": {},
     "output_type": "execute_result"
    }
   ],
   "source": [
    "gowalla_far_checkins = pd.merge(gowalla_far_checkins, continents[['country', 'continent']], how = 'left', left_on = 'country_checkin', right_on = 'country')\n",
    "gowalla_far_checkins.drop(columns = ['country'], inplace = True)\n",
    "gowalla_far_checkins.rename(columns = {'continent':'continent_checkin'}, inplace = True)\n",
    "gowalla_far_checkins.sample(5)"
   ]
  },
  {
   "cell_type": "code",
   "execution_count": 102,
   "metadata": {},
   "outputs": [
    {
     "data": {
      "text/html": [
       "<div>\n",
       "<style scoped>\n",
       "    .dataframe tbody tr th:only-of-type {\n",
       "        vertical-align: middle;\n",
       "    }\n",
       "\n",
       "    .dataframe tbody tr th {\n",
       "        vertical-align: top;\n",
       "    }\n",
       "\n",
       "    .dataframe thead th {\n",
       "        text-align: right;\n",
       "    }\n",
       "</style>\n",
       "<table border=\"1\" class=\"dataframe\">\n",
       "  <thead>\n",
       "    <tr style=\"text-align: right;\">\n",
       "      <th></th>\n",
       "      <th>user</th>\n",
       "      <th>time</th>\n",
       "      <th>lat</th>\n",
       "      <th>lon</th>\n",
       "      <th>country_checkin</th>\n",
       "      <th>home_lat</th>\n",
       "      <th>home_lon</th>\n",
       "      <th>country_home</th>\n",
       "      <th>distance_from_home</th>\n",
       "      <th>continent_home</th>\n",
       "      <th>continent_checkin</th>\n",
       "    </tr>\n",
       "  </thead>\n",
       "  <tbody>\n",
       "    <tr>\n",
       "      <th>48249</th>\n",
       "      <td>705</td>\n",
       "      <td>2010-01-23 00:43:27+00:00</td>\n",
       "      <td>37.866866</td>\n",
       "      <td>-122.268531</td>\n",
       "      <td>united states</td>\n",
       "      <td>33.986699</td>\n",
       "      <td>-118.441171</td>\n",
       "      <td>united states</td>\n",
       "      <td>552.075392</td>\n",
       "      <td>north america</td>\n",
       "      <td>north america</td>\n",
       "    </tr>\n",
       "    <tr>\n",
       "      <th>294497</th>\n",
       "      <td>9649</td>\n",
       "      <td>2009-01-29 16:54:54+00:00</td>\n",
       "      <td>37.774929</td>\n",
       "      <td>-122.419415</td>\n",
       "      <td>united states</td>\n",
       "      <td>48.792447</td>\n",
       "      <td>9.181175</td>\n",
       "      <td>germany</td>\n",
       "      <td>9272.483096</td>\n",
       "      <td>europe</td>\n",
       "      <td>north america</td>\n",
       "    </tr>\n",
       "    <tr>\n",
       "      <th>224520</th>\n",
       "      <td>6948</td>\n",
       "      <td>2009-07-28 18:25:34+00:00</td>\n",
       "      <td>34.339793</td>\n",
       "      <td>-118.508357</td>\n",
       "      <td>united states</td>\n",
       "      <td>35.203687</td>\n",
       "      <td>-120.709511</td>\n",
       "      <td>united states</td>\n",
       "      <td>222.813377</td>\n",
       "      <td>north america</td>\n",
       "      <td>north america</td>\n",
       "    </tr>\n",
       "    <tr>\n",
       "      <th>17758</th>\n",
       "      <td>115</td>\n",
       "      <td>2008-10-18 03:36:12+00:00</td>\n",
       "      <td>40.459208</td>\n",
       "      <td>-90.671797</td>\n",
       "      <td>united states</td>\n",
       "      <td>39.975505</td>\n",
       "      <td>-105.194685</td>\n",
       "      <td>united states</td>\n",
       "      <td>1232.899530</td>\n",
       "      <td>north america</td>\n",
       "      <td>north america</td>\n",
       "    </tr>\n",
       "    <tr>\n",
       "      <th>89682</th>\n",
       "      <td>1877</td>\n",
       "      <td>2009-08-08 05:22:39+00:00</td>\n",
       "      <td>40.218245</td>\n",
       "      <td>140.261101</td>\n",
       "      <td>japan</td>\n",
       "      <td>37.914077</td>\n",
       "      <td>139.087487</td>\n",
       "      <td>japan</td>\n",
       "      <td>275.511654</td>\n",
       "      <td>asia</td>\n",
       "      <td>asia</td>\n",
       "    </tr>\n",
       "  </tbody>\n",
       "</table>\n",
       "</div>"
      ],
      "text/plain": [
       "        user                      time        lat         lon country_checkin  \\\n",
       "48249    705 2010-01-23 00:43:27+00:00  37.866866 -122.268531   united states   \n",
       "294497  9649 2009-01-29 16:54:54+00:00  37.774929 -122.419415   united states   \n",
       "224520  6948 2009-07-28 18:25:34+00:00  34.339793 -118.508357   united states   \n",
       "17758    115 2008-10-18 03:36:12+00:00  40.459208  -90.671797   united states   \n",
       "89682   1877 2009-08-08 05:22:39+00:00  40.218245  140.261101           japan   \n",
       "\n",
       "         home_lat    home_lon   country_home  distance_from_home  \\\n",
       "48249   33.986699 -118.441171  united states          552.075392   \n",
       "294497  48.792447    9.181175        germany         9272.483096   \n",
       "224520  35.203687 -120.709511  united states          222.813377   \n",
       "17758   39.975505 -105.194685  united states         1232.899530   \n",
       "89682   37.914077  139.087487          japan          275.511654   \n",
       "\n",
       "       continent_home continent_checkin  \n",
       "48249   north america     north america  \n",
       "294497         europe     north america  \n",
       "224520  north america     north america  \n",
       "17758   north america     north america  \n",
       "89682            asia              asia  "
      ]
     },
     "execution_count": 102,
     "metadata": {},
     "output_type": "execute_result"
    }
   ],
   "source": [
    "brightkite_far_checkins = pd.merge(brightkite_far_checkins, continents[['country', 'continent']], how = 'left', left_on = 'country_checkin', right_on = 'country')\n",
    "brightkite_far_checkins.drop(columns = ['country'], inplace = True)\n",
    "brightkite_far_checkins.rename(columns = {'continent':'continent_checkin'}, inplace = True)\n",
    "brightkite_far_checkins.sample(5)"
   ]
  },
  {
   "cell_type": "code",
   "execution_count": 106,
   "metadata": {},
   "outputs": [
    {
     "name": "stdout",
     "output_type": "stream",
     "text": [
      "Part of the North America population going out of the continent to travel: 7.996139548184158 % (Gowalla)\n"
     ]
    }
   ],
   "source": [
    "gowalla_us_travel_out_of_continent = gowalla_far_checkins[(gowalla_far_checkins.continent_checkin != gowalla_far_checkins.continent_home) & (gowalla_far_checkins.continent_home == 'north america')].user.nunique()\n",
    "gowalla_us_total_continent = gowalla_far_checkins[(gowalla_far_checkins.continent_home == 'north america')].user.nunique()\n",
    "print('Part of the North America population going out of the continent to travel:',100*gowalla_us_travel_out_of_continent/gowalla_us_total_continent,'% (Gowalla)')"
   ]
  },
  {
   "cell_type": "code",
   "execution_count": 107,
   "metadata": {},
   "outputs": [
    {
     "name": "stdout",
     "output_type": "stream",
     "text": [
      "Part of the European population going out of the continent to travel: 16.61443700021612 % (Gowalla)\n"
     ]
    }
   ],
   "source": [
    "gowalla_eu_travel_out_of_continent = gowalla_far_checkins[(gowalla_far_checkins.continent_checkin != gowalla_far_checkins.continent_home) & (gowalla_far_checkins.continent_home == 'europe')].user.nunique()\n",
    "gowalla_eu_total_continent = gowalla_far_checkins[(gowalla_far_checkins.continent_home == 'europe')].user.nunique()\n",
    "print('Part of the European population going out of the continent to travel:',100*gowalla_eu_travel_out_of_continent/gowalla_eu_total_continent,'% (Gowalla)')"
   ]
  },
  {
   "cell_type": "code",
   "execution_count": 108,
   "metadata": {},
   "outputs": [
    {
     "name": "stdout",
     "output_type": "stream",
     "text": [
      "Part of the North America population going out of the continent to travel: 18.1003861003861 % (Brightkite)\n"
     ]
    }
   ],
   "source": [
    "brightkite_us_travel_out_of_continent = brightkite_far_checkins[(brightkite_far_checkins.continent_checkin != brightkite_far_checkins.continent_home) & (brightkite_far_checkins.continent_home == 'north america')].user.nunique()\n",
    "brightkite_us_total_continent = brightkite_far_checkins[(brightkite_far_checkins.continent_home == 'north america')].user.nunique()\n",
    "print('Part of the North America population going out of the continent to travel:',100*brightkite_us_travel_out_of_continent/brightkite_us_total_continent,'% (Brightkite)')"
   ]
  },
  {
   "cell_type": "code",
   "execution_count": 109,
   "metadata": {},
   "outputs": [
    {
     "name": "stdout",
     "output_type": "stream",
     "text": [
      "Part of the North America population going out of the continent to travel: 37.06070287539936 % (Brightkite)\n"
     ]
    }
   ],
   "source": [
    "brightkite_eu_travel_out_of_continent = brightkite_far_checkins[(brightkite_far_checkins.continent_checkin != brightkite_far_checkins.continent_home) & (brightkite_far_checkins.continent_home == 'europe')].user.nunique()\n",
    "brightkite_eu_total_continent = brightkite_far_checkins[(brightkite_far_checkins.continent_home == 'europe')].user.nunique()\n",
    "print('Part of the North America population going out of the continent to travel:',100*brightkite_eu_travel_out_of_continent/brightkite_eu_total_continent,'% (Brightkite)')"
   ]
  },
  {
   "cell_type": "code",
   "execution_count": 122,
   "metadata": {},
   "outputs": [
    {
     "name": "stderr",
     "output_type": "stream",
     "text": [
      "/opt/anaconda3/lib/python3.7/site-packages/seaborn/_decorators.py:43: FutureWarning: Pass the following variables as keyword args: x, y. From version 0.12, the only valid positional argument will be `data`, and passing other arguments without an explicit keyword will result in an error or misinterpretation.\n",
      "  FutureWarning\n"
     ]
    },
    {
     "data": {
      "image/png": "[encoded data removed]",
      "text/plain": [
       "<Figure size 864x576 with 1 Axes>"
      ]
     },
     "metadata": {},
     "output_type": "display_data"
    }
   ],
   "source": [
    "y=[100*gowalla_us_travel_out_of_continent/gowalla_us_total_continent, \n",
    "   100*gowalla_eu_travel_out_of_continent/gowalla_eu_total_continent,\n",
    "   100*brightkite_us_travel_out_of_continent/brightkite_us_total_continent,\n",
    "   100*brightkite_eu_travel_out_of_continent/brightkite_eu_total_continent]\n",
    "\n",
    "x=['North America - Gowalla', 'Europe - Gowalla', 'North America - Brightkite', 'Europe - Brightkite'] \n",
    "\n",
    "sns.set_style(\"darkgrid\")\n",
    "plt.figure(figsize=(12, 8))\n",
    "fig = sns.barplot(x,y)\n",
    "fig.set(title='Part of the population that went out of the continent to travel', ylabel = 'Part of the population (%)')\n",
    "fig.text(0, 8, s = round(y[0]), color='black', ha=\"center\", fontsize = 13)\n",
    "fig.text(1, 17, s = round(y[1]), color='black', ha=\"center\", fontsize = 13)\n",
    "fig.text(2, 18, s = round(y[2]), color='black', ha=\"center\", fontsize = 13)\n",
    "fig.text(3, 37, s = round(y[3]), color='black', ha=\"center\", fontsize = 13)\n",
    "fig = fig.get_figure()\n",
    "fig.savefig(\"part_of_pop_out_continent_eu_vs_us.png\")"
   ]
  },
  {
   "cell_type": "markdown",
   "metadata": {},
   "source": [
    "## 3. Average number of visited countries per traveller"
   ]
  },
  {
   "cell_type": "code",
   "execution_count": 116,
   "metadata": {},
   "outputs": [
    {
     "name": "stdout",
     "output_type": "stream",
     "text": [
      "Average number of visited countries per US traveller: 1.9387247278382582 (Gowalla)\n"
     ]
    }
   ],
   "source": [
    "gowalla_us_travel_out_of_country = gowalla_far_checkins[(gowalla_far_checkins.country_checkin != gowalla_far_checkins.country_home) & (gowalla_far_checkins.country_home == 'united states')].user.nunique()\n",
    "gowalla_us_number_visited_contries = gowalla_trips_full[gowalla_trips_full.country_home == 'united states'].user.sum()\n",
    "print('Average number of visited countries per US traveller:', gowalla_us_number_visited_contries/gowalla_us_travel_out_of_country,'(Gowalla)')"
   ]
  },
  {
   "cell_type": "code",
   "execution_count": 117,
   "metadata": {},
   "outputs": [
    {
     "name": "stdout",
     "output_type": "stream",
     "text": [
      "Average number of visited countries per US traveller: 2.200618344211611 (Brightkite)\n"
     ]
    }
   ],
   "source": [
    "brightkite_us_travel_out_of_country = brightkite_far_checkins[(brightkite_far_checkins.country_checkin != brightkite_far_checkins.country_home) & (brightkite_far_checkins.country_home == 'united states')].user.nunique()\n",
    "brightkite_us_number_visited_contries = brightkite_trips_full[brightkite_trips_full.country_home == 'united states'].user.sum()\n",
    "print('Average number of visited countries per US traveller:', brightkite_us_number_visited_contries/brightkite_us_travel_out_of_country,'(Brightkite)')"
   ]
  },
  {
   "cell_type": "code",
   "execution_count": 118,
   "metadata": {},
   "outputs": [
    {
     "name": "stdout",
     "output_type": "stream",
     "text": [
      "Average number of visited countries per European traveller: 1.9528907922912206 (Gowalla)\n"
     ]
    }
   ],
   "source": [
    "gowalla_eur_travel_out_of_country = gowalla_far_checkins[(gowalla_far_checkins.country_checkin != gowalla_far_checkins.country_home) & (gowalla_far_checkins.continent_home == 'europe')].user.nunique()\n",
    "gowalla_eur_number_visited_contries = gowalla_trips_full[gowalla_trips_full.continent_home == 'europe'].user.sum()\n",
    "print('Average number of visited countries per European traveller:', gowalla_eur_number_visited_contries/gowalla_eur_travel_out_of_country,'(Gowalla)')"
   ]
  },
  {
   "cell_type": "code",
   "execution_count": 119,
   "metadata": {},
   "outputs": [
    {
     "name": "stdout",
     "output_type": "stream",
     "text": [
      "Average number of visited countries per European traveller: 2.58307210031348 (Brightkite)\n"
     ]
    }
   ],
   "source": [
    "brightkite_eur_travel_out_of_country = brightkite_far_checkins[(brightkite_far_checkins.country_checkin != brightkite_far_checkins.country_home) & (brightkite_far_checkins.continent_home == 'europe')].user.nunique()\n",
    "brightkite_eur_number_visited_contries = brightkite_trips_full[brightkite_trips_full.continent_home == 'europe'].user.sum()\n",
    "print('Average number of visited countries per European traveller:', brightkite_eur_number_visited_contries/brightkite_eur_travel_out_of_country,'(Brightkite)')"
   ]
  },
  {
   "cell_type": "code",
   "execution_count": 120,
   "metadata": {
    "scrolled": false
   },
   "outputs": [
    {
     "name": "stderr",
     "output_type": "stream",
     "text": [
      "/opt/anaconda3/lib/python3.7/site-packages/seaborn/_decorators.py:43: FutureWarning: Pass the following variables as keyword args: x, y. From version 0.12, the only valid positional argument will be `data`, and passing other arguments without an explicit keyword will result in an error or misinterpretation.\n",
      "  FutureWarning\n"
     ]
    },
    {
     "data": {
      "image/png": "[encoded data removed]",
      "text/plain": [
       "<Figure size 864x576 with 1 Axes>"
      ]
     },
     "metadata": {},
     "output_type": "display_data"
    }
   ],
   "source": [
    "y=[gowalla_us_number_visited_contries/gowalla_us_travel_out_of_country, \n",
    "   gowalla_eur_number_visited_contries/gowalla_eur_travel_out_of_country,\n",
    "   brightkite_us_number_visited_contries/brightkite_us_travel_out_of_country,\n",
    "   brightkite_eur_number_visited_contries/brightkite_eur_travel_out_of_country]\n",
    "\n",
    "x=['US - Gowalla', 'Europe - Gowalla', 'US - Brightkite', 'Europe - Brightkite'] \n",
    "\n",
    "sns.set_style(\"darkgrid\")\n",
    "plt.figure(figsize=(12, 8))\n",
    "fig = sns.barplot(x,y)\n",
    "fig.set(title='Average number of visited countries per traveller', ylabel = 'Number of countries')\n",
    "fig.text(0, 1.95, s = round(y[0], 2), color='black', ha=\"center\", fontsize = 13)\n",
    "fig.text(1, 1.96, s = round(y[1], 2), color='black', ha=\"center\", fontsize = 13)\n",
    "fig.text(2, 2.21, s = round(y[2], 2), color='black', ha=\"center\", fontsize = 13)\n",
    "fig.text(3, 2.58, s = round(y[3], 2), color='black', ha=\"center\", fontsize = 13)\n",
    "fig = fig.get_figure()\n",
    "fig.savefig(\"countries_per_traveller_eu_vs_us.png\")"
   ]
  },
  {
   "cell_type": "markdown",
   "metadata": {},
   "source": [
    "# Visualization "
   ]
  },
  {
   "cell_type": "code",
   "execution_count": null,
   "metadata": {},
   "outputs": [],
   "source": [
    "import folium\n",
    "def make_map_with_markers(data, factor):\n",
    "    # Function outputting a world map in html format with the markers place at the\n",
    "    # lattitude and longitudes indicated in the corresponding columns in data.\n",
    "    # Inputs:\n",
    "    # - data: dataframe with 3 columns and as many rows as number of markers\n",
    "    #         to place, the columns are:\n",
    "    #        - longitude (['lon']): longitude of the center of the marker\n",
    "    #        - lattitude (['lat']): latitude of the center of the marker\n",
    "    #        - value (['value']): number proprtional to the radius of the marker, it\n",
    "    #                             should be between 0 and 100.\n",
    "    #         \n",
    "    m = folium.Map(location=[20,0], zoom_start=2)\n",
    "\n",
    "    # I can add marker one by one on the map\n",
    "    for i in range(0,len(data)):\n",
    "       folium.Circle(\n",
    "          location=[data.iloc[i]['latitude'], data.iloc[i]['longitude']],\n",
    "          radius=float(data.iloc[i]['count_normalized']*factor),\n",
    "          color='crimson',\n",
    "          fill=True,\n",
    "          fill_color='crimson').add_to(m)\n",
    "\n",
    "    # Save it as html\n",
    "    #m.save('mymap.html')\n",
    "    return m"
   ]
  },
  {
   "cell_type": "code",
   "execution_count": null,
   "metadata": {},
   "outputs": [],
   "source": [
    "CENTROIDS = DATA_FOLDER+\"centroids.xlsx\"\n",
    "centroids= pd.read_excel(CENTROIDS)"
   ]
  },
  {
   "cell_type": "code",
   "execution_count": null,
   "metadata": {},
   "outputs": [],
   "source": [
    "centroids=centroids.drop('country',axis=1)\n",
    "centroids['name']=centroids.name.str.lower()\n",
    "centroids.head()"
   ]
  },
  {
   "cell_type": "code",
   "execution_count": null,
   "metadata": {},
   "outputs": [],
   "source": [
    "b_countries_graph=brightkite_countries.merge(centroids, left_on='country', right_on='name').drop('name',axis=1)\n",
    "b_countries_graph.sort_values('count_normalized',ascending=False).head(10)"
   ]
  },
  {
   "cell_type": "code",
   "execution_count": null,
   "metadata": {},
   "outputs": [],
   "source": [
    "m=make_map_with_markers(b_countries_graph, 3*10**9)\n",
    "m"
   ]
  },
  {
   "cell_type": "code",
   "execution_count": null,
   "metadata": {},
   "outputs": [],
   "source": [
    "g_countries_graph=gowalla_countries.merge(centroids, left_on='country', right_on='name').drop('name',axis=1)\n",
    "g_countries_graph.sort_values('count_normalized',ascending=False).head(10)"
   ]
  },
  {
   "cell_type": "code",
   "execution_count": null,
   "metadata": {},
   "outputs": [],
   "source": [
    "m=make_map_with_markers(g_countries_graph,4*10**8)\n",
    "m"
   ]
  },
  {
   "cell_type": "code",
   "execution_count": null,
   "metadata": {},
   "outputs": [],
   "source": [
    "#To visualize all users' homes in the world\n",
    "v=np.ones(len(brightkite_home_locations))\n",
    "brightkite_home_locations['count_normalized']=v.tolist()\n",
    "brightkite_home_locations.rename(columns = {'lat':'latitude','lon':'longitude'}, inplace = True)"
   ]
  },
  {
   "cell_type": "code",
   "execution_count": null,
   "metadata": {},
   "outputs": [],
   "source": [
    "m=make_map_with_markers(brightkite_home_locations,40000)\n",
    "m.save('mymap.html')"
   ]
  },
  {
   "cell_type": "markdown",
   "metadata": {},
   "source": [
    "## Step 3 :  total trips between countries"
   ]
  },
  {
   "cell_type": "code",
   "execution_count": null,
   "metadata": {},
   "outputs": [],
   "source": [
    "def not_home_country(row):\n",
    "    '''return 1 if the user is in another country than his home and 0 if not'''\n",
    "    country = row['country_checkin']\n",
    "    home_country = row['country_home']\n",
    "    if(country != home_country):\n",
    "        return(1)\n",
    "    else:\n",
    "        return(0)"
   ]
  },
  {
   "cell_type": "code",
   "execution_count": null,
   "metadata": {},
   "outputs": [],
   "source": [
    "brightkite_far_checkins['not_home_country'] = brightkite_far_checkins.apply(lambda row: not_home_country(row), axis = 1)\n",
    "gowalla_far_checkins['not_home_country'] = gowalla_far_checkins.apply(lambda row: not_home_country(row), axis = 1)"
   ]
  },
  {
   "cell_type": "code",
   "execution_count": null,
   "metadata": {},
   "outputs": [],
   "source": [
    "brightkite_trips = brightkite_far_checkins[(brightkite_far_checkins.change_arrival_country == 1) & (brightkite_far_checkins.not_home_country == 1)]\n",
    "country_brightkite_trips = brightkite_trips[['country_home', 'country_checkin', 'user']].groupby(['country_home', 'country_checkin']).count()\n",
    "country_brightkite_trips.to_csv('country_brightkite_trips.csv')"
   ]
  },
  {
   "cell_type": "code",
   "execution_count": null,
   "metadata": {},
   "outputs": [],
   "source": [
    "gowalla_trips = gowalla_far_checkins[(gowalla_far_checkins.change_arrival_country == 1) & (gowalla_far_checkins.not_home_country == 1)]\n",
    "country_gowalla_trips = gowalla_trips[['country_home', 'country_checkin', 'user']].groupby(['country_home', 'country_checkin']).count()\n",
    "country_gowalla_trips.to_csv('country_gowalla_trips.csv')"
   ]
  },
  {
   "cell_type": "code",
   "execution_count": null,
   "metadata": {},
   "outputs": [],
   "source": [
    "selected_countries = list(countries['country'])\n",
    "def selected_country(row):\n",
    "    '''return 1 if the user home country is well represented and 0 if not'''\n",
    "    \n",
    "    country = row['country_home']\n",
    "    if country in selected_countries:\n",
    "        return(1)\n",
    "    else:\n",
    "        return(0)"
   ]
  },
  {
   "cell_type": "code",
   "execution_count": null,
   "metadata": {},
   "outputs": [],
   "source": [
    "testG = country_gowalla_trips.reset_index(drop = True)\n",
    "testG['selected_country'] = testG.apply(lambda row: selected_country(row), axis = 1)\n",
    "testG = testG[testG['selected_country'] == 1]\n",
    "testB = country_brightkite_trips.reset_index(drop = True)\n",
    "testB['selected_country'] = testB.apply(lambda row: selected_country(row), axis = 1)\n",
    "testG = testG[testG['selected_country'] == 1]"
   ]
  },
  {
   "cell_type": "code",
   "execution_count": null,
   "metadata": {},
   "outputs": [],
   "source": [
    "import networkx as nx"
   ]
  },
  {
   "cell_type": "code",
   "execution_count": null,
   "metadata": {},
   "outputs": [],
   "source": [
    "G = nx.DiGraph()\n",
    "edgesG = []\n",
    "for i in range(len(testG)):\n",
    "    edgesG += [(testG.iat[i, 0].split(',')[0], testG.iat[i, 1].split(',')[0], testG.iat[i, 2])]\n",
    "G.add_weighted_edges_from(edgesG)"
   ]
  },
  {
   "cell_type": "code",
   "execution_count": null,
   "metadata": {},
   "outputs": [],
   "source": [
    "B = nx.DiGraph()\n",
    "edgesB = []\n",
    "weights = []\n",
    "for i in range(len(testB)):\n",
    "    edgesB += [(testB.iat[i, 0].split(',')[0], testB.iat[i, 1].split(',')[0], testB.iat[i, 2])]\n",
    "B.add_weighted_edges_from(edgesB)"
   ]
  },
  {
   "cell_type": "code",
   "execution_count": null,
   "metadata": {},
   "outputs": [],
   "source": [
    "nx.write_weighted_edgelist(G, 'GowallaTrips.edgelist', delimiter = ',')"
   ]
  },
  {
   "cell_type": "code",
   "execution_count": null,
   "metadata": {},
   "outputs": [],
   "source": [
    "nx.write_weighted_edgelist(B, 'BrightkiteTrips.edgelist', delimiter = ',')"
   ]
  },
  {
   "cell_type": "code",
   "execution_count": null,
   "metadata": {},
   "outputs": [],
   "source": [
    "H = nx.read_weighted_edgelist('GowallaTrips.edgelist', delimiter = ',', create_using=nx.DiGraph())\n",
    "H.edges(data = True)"
   ]
  },
  {
   "cell_type": "code",
   "execution_count": null,
   "metadata": {},
   "outputs": [],
   "source": [
    "edge_width = [H[u][v]['weight'] for u, v in H.edges()] \n",
    "nx.draw_networkx(H,  width = edge_width)"
   ]
  },
  {
   "cell_type": "code",
   "execution_count": null,
   "metadata": {},
   "outputs": [],
   "source": [
    "#selecting the biggest flows\n",
    "bigG = country_gowalla_trips[country_gowalla_trips['user']>200]\n",
    "G2 = nx.DiGraph()\n",
    "edgesG2 = []\n",
    "for i in range(len(bigG)):\n",
    "    edgesG += [(bigG.iat[i, 0].split(',')[0], bigG.iat[i, 1].split(',')[0], bigG.iat[i, 2])]\n",
    "G2.add_weighted_edges_from(edgesG2)\n",
    "edge_width = [G2[u][v]['weight'] for u, v in G2.edges()] \n",
    "nx.draw_networkx(G2,  width = edge_width)"
   ]
  }
 ],
 "metadata": {
  "kernelspec": {
   "display_name": "Python 3",
   "language": "python",
   "name": "python3"
  },
  "language_info": {
   "codemirror_mode": {
    "name": "ipython",
    "version": 3
   },
   "file_extension": ".py",
   "mimetype": "text/x-python",
   "name": "python",
   "nbconvert_exporter": "python",
   "pygments_lexer": "ipython3",
   "version": "3.7.5"
  }
 },
 "nbformat": 4,
 "nbformat_minor": 4
}
