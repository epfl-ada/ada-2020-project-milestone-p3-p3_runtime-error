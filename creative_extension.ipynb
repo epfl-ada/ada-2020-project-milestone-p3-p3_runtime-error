{
 "cells": [
  {
   "cell_type": "markdown",
   "metadata": {},
   "source": [
    "# MILESTONE P4 : CREATIVE EXTENSION"
   ]
  },
  {
   "cell_type": "code",
   "execution_count": 1,
   "metadata": {},
   "outputs": [],
   "source": [
    "import pandas as pd\n",
    "import pickle\n",
    "import matplotlib.pyplot as plt\n",
    "import numpy as np\n",
    "import seaborn as sns\n",
    "import datetime\n",
    "import math\n",
    "import matplotlib.image as mpimg\n",
    "import haversine as hvrs\n",
    "import statsmodels.api as sm\n",
    "import statsmodels.formula.api as smf\n",
    "import folium\n",
    "import networkx as nx\n",
    "import reverse_geocoder as rg\n",
    "import matplotlib.patches as patches\n",
    "%matplotlib inline"
   ]
  },
  {
   "cell_type": "markdown",
   "metadata": {},
   "source": [
    "# The data "
   ]
  },
  {
   "cell_type": "code",
   "execution_count": 2,
   "metadata": {},
   "outputs": [],
   "source": [
    "DATA_FOLDER = 'data/'\n",
    "\n",
    "GOWALLA_CHECKINS_DATASET = DATA_FOLDER+\"loc-gowalla_totalCheckins.txt.gz\"\n",
    "BRIGHTKITE_CHECKINS_DATASET = DATA_FOLDER+\"loc-brightkite_totalCheckins.txt.gz\"\n",
    "POPULATION_DATASET = DATA_FOLDER+\"pop_per_country.csv\"\n",
    "COUNTRY_CODES = DATA_FOLDER+\"countrycodes.csv\"\n",
    "LANGUAGE_COUNTRIES = DATA_FOLDER+\"languages.xlsx\"\n",
    "COUNTRIES_GDP = DATA_FOLDER+\"countries_of_the_world.csv\"\n",
    "CONTINENTS = DATA_FOLDER+\"conti_country.csv\"\n",
    "CENTROIDS = DATA_FOLDER+\"centroids.csv\""
   ]
  },
  {
   "cell_type": "code",
   "execution_count": 3,
   "metadata": {},
   "outputs": [],
   "source": [
    "gowalla_checkins = pd.read_csv(GOWALLA_CHECKINS_DATASET, compression = 'gzip', delimiter = '\\t', names = ['user', 'time', 'lat', 'lon', 'location_id'], header=None)\n",
    "brightkite_checkins = pd.read_csv(BRIGHTKITE_CHECKINS_DATASET, compression = 'gzip', delimiter = '\\t', names = ['user', 'time', 'lat', 'lon', 'location_id'], header=None)\n",
    "population = pd.read_csv(POPULATION_DATASET, index_col = 0, names = ['country', 'population'], header = 0)\n",
    "country_codes = pd.read_csv(COUNTRY_CODES, sep =',')\n",
    "languages = pd.read_excel(LANGUAGE_COUNTRIES, names = ['country', 'language'])\n",
    "continents = pd.read_csv(CONTINENTS, delimiter = ',', header = 0, usecols = [1,2,4,6], names = ['country', 'code', 'region', 'continent'])\n",
    "countries_gdp = pd.read_csv(COUNTRIES_GDP, delimiter = ',', usecols = [0, 8], names = ['country', 'gdp'], header = 0)\n",
    "centroids= pd.read_csv(CENTROIDS, delimiter=';')"
   ]
  },
  {
   "cell_type": "markdown",
   "metadata": {},
   "source": [
    "# 0. Preliminary work "
   ]
  },
  {
   "cell_type": "markdown",
   "metadata": {},
   "source": [
    "The preliminary work allowed us to obtain the necessary datasets to begin our analysis. Step 0.1 and 0.2 are from replication 1 (P2), necessary in order to find the home location of each user (in GPS coordinated). Step 0.3 allowed us to associate to each check-in and home location a country of the world."
   ]
  },
  {
   "cell_type": "markdown",
   "metadata": {},
   "source": [
    "## 0.1 Cleaning the data"
   ]
  },
  {
   "cell_type": "code",
   "execution_count": 4,
   "metadata": {
    "scrolled": true
   },
   "outputs": [
    {
     "data": {
      "text/html": [
       "<div>\n",
       "<style scoped>\n",
       "    .dataframe tbody tr th:only-of-type {\n",
       "        vertical-align: middle;\n",
       "    }\n",
       "\n",
       "    .dataframe tbody tr th {\n",
       "        vertical-align: top;\n",
       "    }\n",
       "\n",
       "    .dataframe thead th {\n",
       "        text-align: right;\n",
       "    }\n",
       "</style>\n",
       "<table border=\"1\" class=\"dataframe\">\n",
       "  <thead>\n",
       "    <tr style=\"text-align: right;\">\n",
       "      <th></th>\n",
       "      <th>user</th>\n",
       "      <th>time</th>\n",
       "      <th>lat</th>\n",
       "      <th>lon</th>\n",
       "      <th>location_id</th>\n",
       "    </tr>\n",
       "  </thead>\n",
       "  <tbody>\n",
       "    <tr>\n",
       "      <th>0</th>\n",
       "      <td>0</td>\n",
       "      <td>2010-10-19T23:55:27Z</td>\n",
       "      <td>30.235909</td>\n",
       "      <td>-97.795140</td>\n",
       "      <td>22847</td>\n",
       "    </tr>\n",
       "    <tr>\n",
       "      <th>1</th>\n",
       "      <td>0</td>\n",
       "      <td>2010-10-18T22:17:43Z</td>\n",
       "      <td>30.269103</td>\n",
       "      <td>-97.749395</td>\n",
       "      <td>420315</td>\n",
       "    </tr>\n",
       "    <tr>\n",
       "      <th>2</th>\n",
       "      <td>0</td>\n",
       "      <td>2010-10-17T23:42:03Z</td>\n",
       "      <td>30.255731</td>\n",
       "      <td>-97.763386</td>\n",
       "      <td>316637</td>\n",
       "    </tr>\n",
       "  </tbody>\n",
       "</table>\n",
       "</div>"
      ],
      "text/plain": [
       "   user                  time        lat        lon  location_id\n",
       "0     0  2010-10-19T23:55:27Z  30.235909 -97.795140        22847\n",
       "1     0  2010-10-18T22:17:43Z  30.269103 -97.749395       420315\n",
       "2     0  2010-10-17T23:42:03Z  30.255731 -97.763386       316637"
      ]
     },
     "execution_count": 4,
     "metadata": {},
     "output_type": "execute_result"
    }
   ],
   "source": [
    "gowalla_checkins.head(3)"
   ]
  },
  {
   "cell_type": "code",
   "execution_count": 5,
   "metadata": {},
   "outputs": [],
   "source": [
    "# Preprocessing data to remove weird or null points\n",
    "\n",
    "null_points = brightkite_checkins[(brightkite_checkins['lat'] == 0) & (brightkite_checkins['lon'] == 0)]\n",
    "brightkite_checkins.drop(null_points.index, inplace = True)\n",
    "null_points = gowalla_checkins[(gowalla_checkins['lat'] == 0) & (gowalla_checkins['lon'] == 0)]\n",
    "gowalla_checkins.drop(null_points.index, inplace = True)\n",
    "outliers_lat_B = brightkite_checkins[(brightkite_checkins['lat'] < -90) | (brightkite_checkins['lat'] > 90)]\n",
    "brightkite_checkins.drop(outliers_lat_B.index, inplace = True)\n",
    "outliers_lat_G = gowalla_checkins[gowalla_checkins['lat'] > 90]\n",
    "gowalla_checkins.drop(outliers_lat_G.index, inplace = True)\n",
    "brightkite_checkins.dropna(inplace = True)\n",
    "gowalla_checkins.dropna(inplace = True)"
   ]
  },
  {
   "cell_type": "markdown",
   "metadata": {},
   "source": [
    "## 0.2 Defining a home location to each user"
   ]
  },
  {
   "cell_type": "markdown",
   "metadata": {},
   "source": [
    "We will compute distances with respect to latitudes and longitudes according to the following formulas :\n",
    "\n",
    "**Latitude: 1 deg = 110.574 km**\n",
    "\n",
    "**Longitude: 1 deg = 111.320*cos(latitude) km**\n",
    "\n",
    "Source : https://stackoverflow.com/questions/1253499/simple-calculations-for-working-with-lat-lon-and-km-distance"
   ]
  },
  {
   "cell_type": "code",
   "execution_count": 6,
   "metadata": {},
   "outputs": [],
   "source": [
    "def latitude_to_distance(lat1, lat2):\n",
    "    ''' returns the distance in km between two given latitudes'''\n",
    "    return((lat2 - lat1)*110.574)"
   ]
  },
  {
   "cell_type": "code",
   "execution_count": 7,
   "metadata": {},
   "outputs": [],
   "source": [
    "def longitude_to_distance(lat, long1, long2):\n",
    "    ''' returns the distance in km between two given longitudes with respect to the latitude'''\n",
    "    return((long2 - long1)*111.320*np.cos(lat*np.pi/180)) # the latitude must be given in radians in the cosinus"
   ]
  },
  {
   "cell_type": "code",
   "execution_count": 8,
   "metadata": {},
   "outputs": [],
   "source": [
    "gowalla_checkins['latitude_cell_number'] = latitude_to_distance(0, gowalla_checkins['lat'])//25\n",
    "gowalla_checkins['longitude_cell_number'] = longitude_to_distance(gowalla_checkins['lat'], 0, gowalla_checkins['lon'])//25\n",
    "\n",
    "brightkite_checkins['latitude_cell_number'] = latitude_to_distance(0, brightkite_checkins['lat'])//25\n",
    "brightkite_checkins['longitude_cell_number'] = longitude_to_distance(brightkite_checkins['lat'], 0, brightkite_checkins['lon'])//25"
   ]
  },
  {
   "cell_type": "code",
   "execution_count": 9,
   "metadata": {},
   "outputs": [
    {
     "data": {
      "text/html": [
       "<div>\n",
       "<style scoped>\n",
       "    .dataframe tbody tr th:only-of-type {\n",
       "        vertical-align: middle;\n",
       "    }\n",
       "\n",
       "    .dataframe tbody tr th {\n",
       "        vertical-align: top;\n",
       "    }\n",
       "\n",
       "    .dataframe thead th {\n",
       "        text-align: right;\n",
       "    }\n",
       "</style>\n",
       "<table border=\"1\" class=\"dataframe\">\n",
       "  <thead>\n",
       "    <tr style=\"text-align: right;\">\n",
       "      <th></th>\n",
       "      <th>user</th>\n",
       "      <th>latitude_cell_number</th>\n",
       "      <th>longitude_cell_number</th>\n",
       "      <th>count</th>\n",
       "    </tr>\n",
       "  </thead>\n",
       "  <tbody>\n",
       "    <tr>\n",
       "      <th>0</th>\n",
       "      <td>0</td>\n",
       "      <td>133.0</td>\n",
       "      <td>-377.0</td>\n",
       "      <td>38</td>\n",
       "    </tr>\n",
       "    <tr>\n",
       "      <th>1</th>\n",
       "      <td>0</td>\n",
       "      <td>133.0</td>\n",
       "      <td>-376.0</td>\n",
       "      <td>95</td>\n",
       "    </tr>\n",
       "    <tr>\n",
       "      <th>2</th>\n",
       "      <td>0</td>\n",
       "      <td>134.0</td>\n",
       "      <td>-376.0</td>\n",
       "      <td>8</td>\n",
       "    </tr>\n",
       "    <tr>\n",
       "      <th>3</th>\n",
       "      <td>0</td>\n",
       "      <td>145.0</td>\n",
       "      <td>-363.0</td>\n",
       "      <td>1</td>\n",
       "    </tr>\n",
       "    <tr>\n",
       "      <th>4</th>\n",
       "      <td>0</td>\n",
       "      <td>151.0</td>\n",
       "      <td>-358.0</td>\n",
       "      <td>1</td>\n",
       "    </tr>\n",
       "  </tbody>\n",
       "</table>\n",
       "</div>"
      ],
      "text/plain": [
       "   user  latitude_cell_number  longitude_cell_number  count\n",
       "0     0                 133.0                 -377.0     38\n",
       "1     0                 133.0                 -376.0     95\n",
       "2     0                 134.0                 -376.0      8\n",
       "3     0                 145.0                 -363.0      1\n",
       "4     0                 151.0                 -358.0      1"
      ]
     },
     "execution_count": 9,
     "metadata": {},
     "output_type": "execute_result"
    }
   ],
   "source": [
    "# Here, I am counting the number of check-ins in all cell for each user\n",
    "cells_counting_gowalla = gowalla_checkins.groupby(['user', 'latitude_cell_number', 'longitude_cell_number'], as_index = False).count()\n",
    "cells_counting_gowalla.drop(columns = ['time', 'lat', 'lon'], inplace = True) # these are the same counting columns \n",
    "cells_counting_gowalla.rename(columns={\"location_id\": \"count\"}, inplace=True) # I only kept one that is renamed \"count\"\n",
    "\n",
    "cells_counting_brightkite = brightkite_checkins.groupby(['user', 'latitude_cell_number', 'longitude_cell_number'], as_index = False).count()\n",
    "cells_counting_brightkite.drop(columns = ['time', 'lat', 'lon'], inplace = True)\n",
    "cells_counting_brightkite.rename(columns={\"location_id\": \"count\"}, inplace=True)\n",
    "\n",
    "cells_counting_gowalla.head(5)"
   ]
  },
  {
   "cell_type": "code",
   "execution_count": 10,
   "metadata": {},
   "outputs": [
    {
     "data": {
      "text/html": [
       "<div>\n",
       "<style scoped>\n",
       "    .dataframe tbody tr th:only-of-type {\n",
       "        vertical-align: middle;\n",
       "    }\n",
       "\n",
       "    .dataframe tbody tr th {\n",
       "        vertical-align: top;\n",
       "    }\n",
       "\n",
       "    .dataframe thead th {\n",
       "        text-align: right;\n",
       "    }\n",
       "</style>\n",
       "<table border=\"1\" class=\"dataframe\">\n",
       "  <thead>\n",
       "    <tr style=\"text-align: right;\">\n",
       "      <th></th>\n",
       "      <th>user</th>\n",
       "      <th>latitude_cell_number</th>\n",
       "      <th>longitude_cell_number</th>\n",
       "      <th>count</th>\n",
       "      <th>count_max</th>\n",
       "    </tr>\n",
       "  </thead>\n",
       "  <tbody>\n",
       "    <tr>\n",
       "      <th>0</th>\n",
       "      <td>0</td>\n",
       "      <td>133.0</td>\n",
       "      <td>-377.0</td>\n",
       "      <td>38</td>\n",
       "      <td>95</td>\n",
       "    </tr>\n",
       "    <tr>\n",
       "      <th>1</th>\n",
       "      <td>0</td>\n",
       "      <td>133.0</td>\n",
       "      <td>-376.0</td>\n",
       "      <td>95</td>\n",
       "      <td>95</td>\n",
       "    </tr>\n",
       "    <tr>\n",
       "      <th>2</th>\n",
       "      <td>0</td>\n",
       "      <td>134.0</td>\n",
       "      <td>-376.0</td>\n",
       "      <td>8</td>\n",
       "      <td>95</td>\n",
       "    </tr>\n",
       "    <tr>\n",
       "      <th>3</th>\n",
       "      <td>0</td>\n",
       "      <td>145.0</td>\n",
       "      <td>-363.0</td>\n",
       "      <td>1</td>\n",
       "      <td>95</td>\n",
       "    </tr>\n",
       "    <tr>\n",
       "      <th>4</th>\n",
       "      <td>0</td>\n",
       "      <td>151.0</td>\n",
       "      <td>-358.0</td>\n",
       "      <td>1</td>\n",
       "      <td>95</td>\n",
       "    </tr>\n",
       "  </tbody>\n",
       "</table>\n",
       "</div>"
      ],
      "text/plain": [
       "   user  latitude_cell_number  longitude_cell_number  count  count_max\n",
       "0     0                 133.0                 -377.0     38         95\n",
       "1     0                 133.0                 -376.0     95         95\n",
       "2     0                 134.0                 -376.0      8         95\n",
       "3     0                 145.0                 -363.0      1         95\n",
       "4     0                 151.0                 -358.0      1         95"
      ]
     },
     "execution_count": 10,
     "metadata": {},
     "output_type": "execute_result"
    }
   ],
   "source": [
    "# The maximum number of check-ins in one cell for a given user is identified as count_max \n",
    "cells_counting_gowalla['count_max'] = cells_counting_gowalla.groupby(['user'])['count'].transform(max)\n",
    "cells_counting_brightkite['count_max'] = cells_counting_brightkite.groupby(['user'])['count'].transform(max)\n",
    "cells_counting_gowalla.head(5)"
   ]
  },
  {
   "cell_type": "code",
   "execution_count": 11,
   "metadata": {},
   "outputs": [],
   "source": [
    "# I am only interested in the rows with a maximum count (i.e. when count = count_max).\n",
    "# Therefore, I create a new dataframe that will conly contain these \"maximum rows\". \n",
    "home_cell_gowalla = cells_counting_gowalla[cells_counting_gowalla['count'] == cells_counting_gowalla['count_max']].copy()\n",
    "home_cell_gowalla.drop(columns = ['count_max'], inplace = True) # the count_max column is not useful anymore beacause count = count_max in this dataframe\n",
    "\n",
    "home_cell_brightkite = cells_counting_brightkite[cells_counting_brightkite['count'] == cells_counting_brightkite['count_max']].copy()\n",
    "home_cell_brightkite.drop(columns = ['count_max'], inplace = True)"
   ]
  },
  {
   "cell_type": "markdown",
   "metadata": {},
   "source": [
    "Now I know the cells with the largest number of check-ins for each user. But for several users, there are many cells with the same maximum number of check-ins. Therefore, I have to find a fair way to chose which cell will be used to compute to home location. \n",
    "\n",
    "Unfortunately, this case is not clearly explained in the original study. \n",
    "\n",
    "Therefore I will determine the \"**averaged cell**\" among cells with an equal maximal number of check-ins. By \"averaged cell\", I mean the cell with coordinates corresponding to the **average coordinates of all maximum cells**. If the averaged cell is one of the maximum cells (which is not necessarily the case), it will naturally be defined as the home cell. But, if it is not the case, I will chose a cell randomly among the cells with an equal maximal number of check-ins."
   ]
  },
  {
   "cell_type": "code",
   "execution_count": 12,
   "metadata": {},
   "outputs": [],
   "source": [
    "# I create new dataframes that will contain the averaged home cell \n",
    "average_cell_gowalla = pd.DataFrame({'user':home_cell_gowalla.user.unique()}, index = home_cell_gowalla.user.unique())\n",
    "average_cell_brightkite = pd.DataFrame({'user':home_cell_brightkite.user.unique()}, index = home_cell_brightkite.user.unique())"
   ]
  },
  {
   "cell_type": "code",
   "execution_count": 13,
   "metadata": {},
   "outputs": [],
   "source": [
    "# I compute the mean cell numbers of latitude and longitude, for each user. \n",
    "\n",
    "average_cell_gowalla['average_cell_latitude'] = home_cell_gowalla.groupby('user')['latitude_cell_number'].mean()\n",
    "average_cell_gowalla['average_cell_longitude'] = home_cell_gowalla.groupby('user')['longitude_cell_number'].mean()\n",
    "\n",
    "average_cell_brightkite['average_cell_latitude'] = home_cell_brightkite.groupby('user')['latitude_cell_number'].mean()\n",
    "average_cell_brightkite['average_cell_longitude'] = home_cell_brightkite.groupby('user')['longitude_cell_number'].mean()"
   ]
  },
  {
   "cell_type": "markdown",
   "metadata": {},
   "source": [
    "But now, I have cells numbers that are not always integers, I will use the *round()* function to correct this. "
   ]
  },
  {
   "cell_type": "code",
   "execution_count": 14,
   "metadata": {},
   "outputs": [],
   "source": [
    "average_cell_gowalla['average_cell_latitude'] = round(average_cell_gowalla['average_cell_latitude'])\n",
    "average_cell_gowalla['average_cell_longitude'] = round(average_cell_gowalla['average_cell_longitude'])\n",
    "\n",
    "average_cell_brightkite['average_cell_latitude'] = round(average_cell_brightkite['average_cell_latitude'])\n",
    "average_cell_brightkite['average_cell_longitude'] = round(average_cell_brightkite['average_cell_longitude'])"
   ]
  },
  {
   "cell_type": "markdown",
   "metadata": {},
   "source": [
    "I have to compare these averaged cell numbers to the ones that I had before, and see if there is a match or not. \n",
    "\n",
    "If the averaged cell numbers are the one of a maximum check-ins cell that I had before, it will be defined as the home cell. If not, the home cell will be chosen randomly among the maximum check-ins cells. "
   ]
  },
  {
   "cell_type": "code",
   "execution_count": 15,
   "metadata": {},
   "outputs": [
    {
     "data": {
      "text/html": [
       "<div>\n",
       "<style scoped>\n",
       "    .dataframe tbody tr th:only-of-type {\n",
       "        vertical-align: middle;\n",
       "    }\n",
       "\n",
       "    .dataframe tbody tr th {\n",
       "        vertical-align: top;\n",
       "    }\n",
       "\n",
       "    .dataframe thead th {\n",
       "        text-align: right;\n",
       "    }\n",
       "</style>\n",
       "<table border=\"1\" class=\"dataframe\">\n",
       "  <thead>\n",
       "    <tr style=\"text-align: right;\">\n",
       "      <th></th>\n",
       "      <th>user</th>\n",
       "      <th>latitude_cell_number</th>\n",
       "      <th>longitude_cell_number</th>\n",
       "      <th>count</th>\n",
       "    </tr>\n",
       "  </thead>\n",
       "  <tbody>\n",
       "    <tr>\n",
       "      <th>0</th>\n",
       "      <td>0</td>\n",
       "      <td>133.0</td>\n",
       "      <td>-376.0</td>\n",
       "      <td>95</td>\n",
       "    </tr>\n",
       "    <tr>\n",
       "      <th>1</th>\n",
       "      <td>2</td>\n",
       "      <td>150.0</td>\n",
       "      <td>-437.0</td>\n",
       "      <td>696</td>\n",
       "    </tr>\n",
       "    <tr>\n",
       "      <th>2</th>\n",
       "      <td>4</td>\n",
       "      <td>167.0</td>\n",
       "      <td>-431.0</td>\n",
       "      <td>136</td>\n",
       "    </tr>\n",
       "  </tbody>\n",
       "</table>\n",
       "</div>"
      ],
      "text/plain": [
       "   user  latitude_cell_number  longitude_cell_number  count\n",
       "0     0                 133.0                 -376.0     95\n",
       "1     2                 150.0                 -437.0    696\n",
       "2     4                 167.0                 -431.0    136"
      ]
     },
     "execution_count": 15,
     "metadata": {},
     "output_type": "execute_result"
    }
   ],
   "source": [
    "# To do this, I compute the intersection between the previous cells and the averaged cells. \n",
    "# Therefore, the cells with a match will be in these new dataframes. \n",
    "\n",
    "unique_home_cell_gowalla = pd.merge(home_cell_gowalla, average_cell_gowalla, how = 'inner', left_on = ['user', 'latitude_cell_number', 'longitude_cell_number'], right_on = ['user', 'average_cell_latitude', 'average_cell_longitude'])\n",
    "unique_home_cell_gowalla.drop(columns = ['average_cell_latitude', 'average_cell_longitude'], inplace = True)\n",
    "\n",
    "unique_home_cell_brightkite = pd.merge(home_cell_brightkite, average_cell_brightkite, how = 'inner', left_on = ['user', 'latitude_cell_number', 'longitude_cell_number'], right_on = ['user', 'average_cell_latitude', 'average_cell_longitude'])\n",
    "unique_home_cell_brightkite.drop(columns = ['average_cell_latitude', 'average_cell_longitude'], inplace = True)\n",
    "\n",
    "unique_home_cell_gowalla.head(3)                                                                    "
   ]
  },
  {
   "cell_type": "code",
   "execution_count": 16,
   "metadata": {},
   "outputs": [],
   "source": [
    "# For the user that did not get a match with their averaged home cell, I will chose a random cell.\n",
    "# To do this, I start by defining which user are in that case. \n",
    "\n",
    "all_user_gowalla = list(home_cell_gowalla.user.unique())\n",
    "user_with_home_gowalla = list(unique_home_cell_gowalla.user.unique())\n",
    "user_without_home_gowalla = list(set(all_user_gowalla) - set(user_with_home_gowalla))\n",
    "\n",
    "all_user_brightkite = list(home_cell_brightkite.user.unique())\n",
    "user_with_home_brightkite = list(unique_home_cell_brightkite.user.unique())\n",
    "user_without_home_brightkite = list(set(all_user_brightkite) - set(user_with_home_brightkite))"
   ]
  },
  {
   "cell_type": "code",
   "execution_count": 17,
   "metadata": {},
   "outputs": [],
   "source": [
    "# Now that I have the list of the users who does not have a home cell yet, I will add a row to the unique_home_cell\n",
    "# dataframes with one of their maximum check-ins cell chosen randomly, thanks to the sample() function. \n",
    "\n",
    "for i in user_without_home_gowalla:\n",
    "    unique_home_cell_gowalla = unique_home_cell_gowalla.append(home_cell_gowalla[home_cell_gowalla.user == i].sample(1), ignore_index = True)\n",
    "unique_home_cell_gowalla.sort_values(by = ['user'], inplace = True)\n",
    "\n",
    "for i in user_without_home_brightkite:\n",
    "    unique_home_cell_brightkite = unique_home_cell_brightkite.append(home_cell_brightkite[home_cell_brightkite.user == i].sample(1), ignore_index = True)\n",
    "unique_home_cell_brightkite.sort_values(by = ['user'], inplace = True)"
   ]
  },
  {
   "cell_type": "code",
   "execution_count": 18,
   "metadata": {},
   "outputs": [
    {
     "data": {
      "text/html": [
       "<div>\n",
       "<style scoped>\n",
       "    .dataframe tbody tr th:only-of-type {\n",
       "        vertical-align: middle;\n",
       "    }\n",
       "\n",
       "    .dataframe tbody tr th {\n",
       "        vertical-align: top;\n",
       "    }\n",
       "\n",
       "    .dataframe thead th {\n",
       "        text-align: right;\n",
       "    }\n",
       "</style>\n",
       "<table border=\"1\" class=\"dataframe\">\n",
       "  <thead>\n",
       "    <tr style=\"text-align: right;\">\n",
       "      <th></th>\n",
       "      <th>user</th>\n",
       "      <th>latitude_cell_number</th>\n",
       "      <th>longitude_cell_number</th>\n",
       "      <th>count</th>\n",
       "    </tr>\n",
       "  </thead>\n",
       "  <tbody>\n",
       "    <tr>\n",
       "      <th>0</th>\n",
       "      <td>0</td>\n",
       "      <td>133.0</td>\n",
       "      <td>-376.0</td>\n",
       "      <td>95</td>\n",
       "    </tr>\n",
       "    <tr>\n",
       "      <th>103320</th>\n",
       "      <td>1</td>\n",
       "      <td>198.0</td>\n",
       "      <td>18.0</td>\n",
       "      <td>1</td>\n",
       "    </tr>\n",
       "    <tr>\n",
       "      <th>1</th>\n",
       "      <td>2</td>\n",
       "      <td>150.0</td>\n",
       "      <td>-437.0</td>\n",
       "      <td>696</td>\n",
       "    </tr>\n",
       "  </tbody>\n",
       "</table>\n",
       "</div>"
      ],
      "text/plain": [
       "        user  latitude_cell_number  longitude_cell_number  count\n",
       "0          0                 133.0                 -376.0     95\n",
       "103320     1                 198.0                   18.0      1\n",
       "1          2                 150.0                 -437.0    696"
      ]
     },
     "execution_count": 18,
     "metadata": {},
     "output_type": "execute_result"
    }
   ],
   "source": [
    "unique_home_cell_gowalla.head(3)"
   ]
  },
  {
   "cell_type": "markdown",
   "metadata": {},
   "source": [
    "**As you can see, each user has now a unique home cell.** Each user has a unique row containing his or her home cell in the *unique_home_cell* dataframes. \n",
    "\n",
    "We can therefore compute the home location within these home cells !"
   ]
  },
  {
   "cell_type": "code",
   "execution_count": 19,
   "metadata": {},
   "outputs": [],
   "source": [
    "# I create new dataframes that only contain the check-ins that are located in the home cell defined previously. \n",
    "# To do this, I merge (by the inner method in order to get the intersection) the dataframe containing all ckeck-ins\n",
    "# and the dataframe containing the home cell.  \n",
    "\n",
    "home_checkins_gowalla = pd.merge(unique_home_cell_gowalla, gowalla_checkins, how = 'inner', on = ['user', 'latitude_cell_number', 'longitude_cell_number'])\n",
    "home_checkins_brightkite = pd.merge(unique_home_cell_brightkite, brightkite_checkins, how = 'inner', on = ['user', 'latitude_cell_number', 'longitude_cell_number'])"
   ]
  },
  {
   "cell_type": "code",
   "execution_count": 20,
   "metadata": {},
   "outputs": [],
   "source": [
    "# I compute the home location in new dataframes. The home location is obtained by computing the means of longitude\n",
    "# and latitude of check-ins (for each user) that are in the dataframes I've just created. \n",
    "\n",
    "gowalla_home_locations = pd.DataFrame({'user':home_cell_gowalla.user.unique()}, index = home_cell_gowalla.user.unique())\n",
    "gowalla_home_locations['home_latitude'] = home_checkins_gowalla.groupby('user')['lat'].mean()\n",
    "gowalla_home_locations['home_longitude'] = home_checkins_gowalla.groupby('user')['lon'].mean()\n",
    "\n",
    "brightkite_home_locations = pd.DataFrame({'user':home_cell_brightkite.user.unique()}, index = home_cell_brightkite.user.unique())\n",
    "brightkite_home_locations['home_latitude'] = home_checkins_brightkite.groupby('user')['lat'].mean()\n",
    "brightkite_home_locations['home_longitude'] = home_checkins_brightkite.groupby('user')['lon'].mean()"
   ]
  },
  {
   "cell_type": "code",
   "execution_count": 21,
   "metadata": {},
   "outputs": [
    {
     "data": {
      "text/html": [
       "<div>\n",
       "<style scoped>\n",
       "    .dataframe tbody tr th:only-of-type {\n",
       "        vertical-align: middle;\n",
       "    }\n",
       "\n",
       "    .dataframe tbody tr th {\n",
       "        vertical-align: top;\n",
       "    }\n",
       "\n",
       "    .dataframe thead th {\n",
       "        text-align: right;\n",
       "    }\n",
       "</style>\n",
       "<table border=\"1\" class=\"dataframe\">\n",
       "  <thead>\n",
       "    <tr style=\"text-align: right;\">\n",
       "      <th></th>\n",
       "      <th>user</th>\n",
       "      <th>home_latitude</th>\n",
       "      <th>home_longitude</th>\n",
       "    </tr>\n",
       "  </thead>\n",
       "  <tbody>\n",
       "    <tr>\n",
       "      <th>0</th>\n",
       "      <td>0</td>\n",
       "      <td>39.746677</td>\n",
       "      <td>-104.973619</td>\n",
       "    </tr>\n",
       "    <tr>\n",
       "      <th>1</th>\n",
       "      <td>1</td>\n",
       "      <td>37.602712</td>\n",
       "      <td>-122.377186</td>\n",
       "    </tr>\n",
       "    <tr>\n",
       "      <th>2</th>\n",
       "      <td>2</td>\n",
       "      <td>39.738340</td>\n",
       "      <td>-104.960762</td>\n",
       "    </tr>\n",
       "    <tr>\n",
       "      <th>3</th>\n",
       "      <td>3</td>\n",
       "      <td>37.670403</td>\n",
       "      <td>-122.406295</td>\n",
       "    </tr>\n",
       "    <tr>\n",
       "      <th>4</th>\n",
       "      <td>4</td>\n",
       "      <td>60.173672</td>\n",
       "      <td>24.942450</td>\n",
       "    </tr>\n",
       "  </tbody>\n",
       "</table>\n",
       "</div>"
      ],
      "text/plain": [
       "   user  home_latitude  home_longitude\n",
       "0     0      39.746677     -104.973619\n",
       "1     1      37.602712     -122.377186\n",
       "2     2      39.738340     -104.960762\n",
       "3     3      37.670403     -122.406295\n",
       "4     4      60.173672       24.942450"
      ]
     },
     "execution_count": 21,
     "metadata": {},
     "output_type": "execute_result"
    }
   ],
   "source": [
    "brightkite_home_locations.head()"
   ]
  },
  {
   "cell_type": "markdown",
   "metadata": {},
   "source": [
    "**Each user home is now well defined !**"
   ]
  },
  {
   "cell_type": "markdown",
   "metadata": {},
   "source": [
    "## 0.3 Giving a country to each check-in and each home location"
   ]
  },
  {
   "cell_type": "markdown",
   "metadata": {},
   "source": [
    "In following section we associate to each check-in and home location, given in GPS coordinates, a geographical location (country). \n",
    "Different approaches have been tested in order to obtain this result (for instance the gepandas library), the one reported below seemed to be the optimal one, it uses *reverse geocoder*, and allowed us to perform this conversion for a significal amount of data in a reasonable amount of time (about 20 min). \n"
   ]
  },
  {
   "cell_type": "markdown",
   "metadata": {},
   "source": [
    "The following part has only be run once as it is quite long. \n",
    "The resulting dataframes as been saved as csv files to avoid doing these calculations every time we had to run the notebook. We hope that this is ok for you. All the code we used is still presented here. "
   ]
  },
  {
   "cell_type": "code",
   "execution_count": 22,
   "metadata": {},
   "outputs": [
    {
     "name": "stdout",
     "output_type": "stream",
     "text": [
      "Loading formatted geocoded file...\n"
     ]
    },
    {
     "data": {
      "text/html": [
       "<div>\n",
       "<style scoped>\n",
       "    .dataframe tbody tr th:only-of-type {\n",
       "        vertical-align: middle;\n",
       "    }\n",
       "\n",
       "    .dataframe tbody tr th {\n",
       "        vertical-align: top;\n",
       "    }\n",
       "\n",
       "    .dataframe thead th {\n",
       "        text-align: right;\n",
       "    }\n",
       "</style>\n",
       "<table border=\"1\" class=\"dataframe\">\n",
       "  <thead>\n",
       "    <tr style=\"text-align: right;\">\n",
       "      <th></th>\n",
       "      <th>user</th>\n",
       "      <th>home_latitude</th>\n",
       "      <th>home_longitude</th>\n",
       "      <th>country</th>\n",
       "    </tr>\n",
       "  </thead>\n",
       "  <tbody>\n",
       "    <tr>\n",
       "      <th>109112</th>\n",
       "      <td>109112</td>\n",
       "      <td>18.408534</td>\n",
       "      <td>-66.080841</td>\n",
       "      <td>PR</td>\n",
       "    </tr>\n",
       "    <tr>\n",
       "      <th>10622</th>\n",
       "      <td>10622</td>\n",
       "      <td>49.394372</td>\n",
       "      <td>11.061938</td>\n",
       "      <td>DE</td>\n",
       "    </tr>\n",
       "    <tr>\n",
       "      <th>39002</th>\n",
       "      <td>39002</td>\n",
       "      <td>29.551958</td>\n",
       "      <td>-95.110360</td>\n",
       "      <td>US</td>\n",
       "    </tr>\n",
       "  </tbody>\n",
       "</table>\n",
       "</div>"
      ],
      "text/plain": [
       "          user  home_latitude  home_longitude country\n",
       "109112  109112      18.408534      -66.080841      PR\n",
       "10622    10622      49.394372       11.061938      DE\n",
       "39002    39002      29.551958      -95.110360      US"
      ]
     },
     "execution_count": 22,
     "metadata": {},
     "output_type": "execute_result"
    }
   ],
   "source": [
    "# For home locations\n",
    "L_G = [] #list of home locations coordinates\n",
    "for i in range(len(gowalla_home_locations)):\n",
    "    L_G += [(gowalla_home_locations.iat[i, 1], gowalla_home_locations.iat[i, 2])]\n",
    "results_G = rg.search(L_G)\n",
    "gowalla_home_locations['country'] = [results_G[i].get('cc') for i in range(len(gowalla_home_locations))]\n",
    "gowalla_home_locations.sample(3)"
   ]
  },
  {
   "cell_type": "code",
   "execution_count": 23,
   "metadata": {},
   "outputs": [],
   "source": [
    "# same for Brightkite\n",
    "L_B = []\n",
    "for i in range(len(brightkite_home_locations)):\n",
    "    L_B += [(brightkite_home_locations.iat[i, 1], brightkite_home_locations.iat[i, 2])]\n",
    "results_B = rg.search(L_B)\n",
    "brightkite_home_locations['country'] = [results_B[i].get('cc') for i in range(len(brightkite_home_locations))]"
   ]
  },
  {
   "cell_type": "code",
   "execution_count": 24,
   "metadata": {},
   "outputs": [],
   "source": [
    "# And for the check-ins\n",
    "L_G_checkins = []\n",
    "for i in range(len(gowalla_checkins)):\n",
    "    L_G_checkins += [(gowalla_checkins.iat[i, 2], gowalla_checkins.iat[i, 3])]\n",
    "results_G_checkins = rg.search(L_G_checkins)\n",
    "gowalla_checkins['country'] = [results_G_checkins[i].get('cc') for i in range(len(gowalla_checkins))]"
   ]
  },
  {
   "cell_type": "code",
   "execution_count": 25,
   "metadata": {},
   "outputs": [],
   "source": [
    "# same for Brightkite\n",
    "L_B_checkins = []\n",
    "for i in range(len(brightkite_checkins)):\n",
    "    L_B_checkins += [(brightkite_checkins.iat[i, 2], brightkite_checkins.iat[i, 3])]\n",
    "results_B_checkins = rg.search(L_B_checkins)\n",
    "brightkite_checkins['country'] = [results_B_checkins[i].get('cc') for i in range(len(brightkite_checkins))]"
   ]
  },
  {
   "cell_type": "code",
   "execution_count": 26,
   "metadata": {},
   "outputs": [],
   "source": [
    "brightkite_home_locations.to_csv('data/home_loc_B.csv', sep = ';')\n",
    "gowalla_home_locations.to_csv('data/home_loc_G.csv', sep = ';')\n",
    "\n",
    "brightkite_checkins.to_csv('data/B_loc_country.csv', sep = ';')\n",
    "gowalla_checkins.to_csv('data/G_loc_country.csv', sep = ';')"
   ]
  },
  {
   "cell_type": "markdown",
   "metadata": {},
   "source": [
    "### !! Updating the data : check-ins and home location with countries !!"
   ]
  },
  {
   "cell_type": "markdown",
   "metadata": {},
   "source": [
    "As said previously, we will use the csv files that were created with the code above."
   ]
  },
  {
   "cell_type": "code",
   "execution_count": 27,
   "metadata": {},
   "outputs": [],
   "source": [
    "GOWALLA_CHECKINS_DATASET_UPDATE = DATA_FOLDER+\"G_loc_country.csv\"\n",
    "GOWALLA_HOME_LOCATIONS = DATA_FOLDER+\"home_loc_G.csv\"\n",
    "BRIGHTKITE_CHECKINS_DATASET_UPDATE = DATA_FOLDER+\"B_loc_country.csv\"\n",
    "BRIGHTKITE_HOME_LOCATIONS = DATA_FOLDER+\"home_loc_B.csv\""
   ]
  },
  {
   "cell_type": "code",
   "execution_count": 28,
   "metadata": {},
   "outputs": [],
   "source": [
    "gowalla_checkins = pd.read_csv(GOWALLA_CHECKINS_DATASET_UPDATE, delimiter = ';', usecols = range(1,9))\n",
    "gowalla_home_locations = pd.read_csv(GOWALLA_HOME_LOCATIONS, sep =';', usecols = [1,2,3,4], names = ['user', 'lat', 'lon', 'country'], header = 0)\n",
    "brightkite_checkins = pd.read_csv(BRIGHTKITE_CHECKINS_DATASET_UPDATE, delimiter = ';', usecols = range(1,9))\n",
    "brightkite_home_locations = pd.read_csv(BRIGHTKITE_HOME_LOCATIONS, sep =';', usecols = [1,2,3,4], names = ['user', 'lat', 'lon', 'country'], header = 0)"
   ]
  },
  {
   "cell_type": "code",
   "execution_count": 29,
   "metadata": {},
   "outputs": [
    {
     "data": {
      "text/html": [
       "<div>\n",
       "<style scoped>\n",
       "    .dataframe tbody tr th:only-of-type {\n",
       "        vertical-align: middle;\n",
       "    }\n",
       "\n",
       "    .dataframe tbody tr th {\n",
       "        vertical-align: top;\n",
       "    }\n",
       "\n",
       "    .dataframe thead th {\n",
       "        text-align: right;\n",
       "    }\n",
       "</style>\n",
       "<table border=\"1\" class=\"dataframe\">\n",
       "  <thead>\n",
       "    <tr style=\"text-align: right;\">\n",
       "      <th></th>\n",
       "      <th>user</th>\n",
       "      <th>time</th>\n",
       "      <th>lat</th>\n",
       "      <th>lon</th>\n",
       "      <th>location_id</th>\n",
       "      <th>latitude_cell_number</th>\n",
       "      <th>longitude_cell_number</th>\n",
       "      <th>country</th>\n",
       "    </tr>\n",
       "  </thead>\n",
       "  <tbody>\n",
       "    <tr>\n",
       "      <th>0</th>\n",
       "      <td>0</td>\n",
       "      <td>2010-10-19T23:55:27Z</td>\n",
       "      <td>30.235909</td>\n",
       "      <td>-97.795140</td>\n",
       "      <td>22847</td>\n",
       "      <td>133.0</td>\n",
       "      <td>-377.0</td>\n",
       "      <td>US</td>\n",
       "    </tr>\n",
       "    <tr>\n",
       "      <th>1</th>\n",
       "      <td>0</td>\n",
       "      <td>2010-10-18T22:17:43Z</td>\n",
       "      <td>30.269103</td>\n",
       "      <td>-97.749395</td>\n",
       "      <td>420315</td>\n",
       "      <td>133.0</td>\n",
       "      <td>-376.0</td>\n",
       "      <td>US</td>\n",
       "    </tr>\n",
       "    <tr>\n",
       "      <th>2</th>\n",
       "      <td>0</td>\n",
       "      <td>2010-10-17T23:42:03Z</td>\n",
       "      <td>30.255731</td>\n",
       "      <td>-97.763386</td>\n",
       "      <td>316637</td>\n",
       "      <td>133.0</td>\n",
       "      <td>-377.0</td>\n",
       "      <td>US</td>\n",
       "    </tr>\n",
       "    <tr>\n",
       "      <th>3</th>\n",
       "      <td>0</td>\n",
       "      <td>2010-10-17T19:26:05Z</td>\n",
       "      <td>30.263418</td>\n",
       "      <td>-97.757597</td>\n",
       "      <td>16516</td>\n",
       "      <td>133.0</td>\n",
       "      <td>-376.0</td>\n",
       "      <td>US</td>\n",
       "    </tr>\n",
       "    <tr>\n",
       "      <th>4</th>\n",
       "      <td>0</td>\n",
       "      <td>2010-10-16T18:50:42Z</td>\n",
       "      <td>30.274292</td>\n",
       "      <td>-97.740523</td>\n",
       "      <td>5535878</td>\n",
       "      <td>133.0</td>\n",
       "      <td>-376.0</td>\n",
       "      <td>US</td>\n",
       "    </tr>\n",
       "  </tbody>\n",
       "</table>\n",
       "</div>"
      ],
      "text/plain": [
       "   user                  time        lat        lon  location_id  \\\n",
       "0     0  2010-10-19T23:55:27Z  30.235909 -97.795140        22847   \n",
       "1     0  2010-10-18T22:17:43Z  30.269103 -97.749395       420315   \n",
       "2     0  2010-10-17T23:42:03Z  30.255731 -97.763386       316637   \n",
       "3     0  2010-10-17T19:26:05Z  30.263418 -97.757597        16516   \n",
       "4     0  2010-10-16T18:50:42Z  30.274292 -97.740523      5535878   \n",
       "\n",
       "   latitude_cell_number  longitude_cell_number country  \n",
       "0                 133.0                 -377.0      US  \n",
       "1                 133.0                 -376.0      US  \n",
       "2                 133.0                 -377.0      US  \n",
       "3                 133.0                 -376.0      US  \n",
       "4                 133.0                 -376.0      US  "
      ]
     },
     "execution_count": 29,
     "metadata": {},
     "output_type": "execute_result"
    }
   ],
   "source": [
    "gowalla_checkins.head()"
   ]
  },
  {
   "cell_type": "code",
   "execution_count": 30,
   "metadata": {},
   "outputs": [
    {
     "data": {
      "text/html": [
       "<div>\n",
       "<style scoped>\n",
       "    .dataframe tbody tr th:only-of-type {\n",
       "        vertical-align: middle;\n",
       "    }\n",
       "\n",
       "    .dataframe tbody tr th {\n",
       "        vertical-align: top;\n",
       "    }\n",
       "\n",
       "    .dataframe thead th {\n",
       "        text-align: right;\n",
       "    }\n",
       "</style>\n",
       "<table border=\"1\" class=\"dataframe\">\n",
       "  <thead>\n",
       "    <tr style=\"text-align: right;\">\n",
       "      <th></th>\n",
       "      <th>user</th>\n",
       "      <th>lat</th>\n",
       "      <th>lon</th>\n",
       "      <th>country</th>\n",
       "    </tr>\n",
       "  </thead>\n",
       "  <tbody>\n",
       "    <tr>\n",
       "      <th>0</th>\n",
       "      <td>0</td>\n",
       "      <td>30.263544</td>\n",
       "      <td>-97.744633</td>\n",
       "      <td>US</td>\n",
       "    </tr>\n",
       "    <tr>\n",
       "      <th>1</th>\n",
       "      <td>1</td>\n",
       "      <td>44.916843</td>\n",
       "      <td>5.784219</td>\n",
       "      <td>FR</td>\n",
       "    </tr>\n",
       "    <tr>\n",
       "      <th>2</th>\n",
       "      <td>2</td>\n",
       "      <td>34.061224</td>\n",
       "      <td>-118.307591</td>\n",
       "      <td>US</td>\n",
       "    </tr>\n",
       "    <tr>\n",
       "      <th>3</th>\n",
       "      <td>4</td>\n",
       "      <td>37.787660</td>\n",
       "      <td>-122.406340</td>\n",
       "      <td>US</td>\n",
       "    </tr>\n",
       "    <tr>\n",
       "      <th>4</th>\n",
       "      <td>5</td>\n",
       "      <td>30.274974</td>\n",
       "      <td>-97.726415</td>\n",
       "      <td>US</td>\n",
       "    </tr>\n",
       "  </tbody>\n",
       "</table>\n",
       "</div>"
      ],
      "text/plain": [
       "   user        lat         lon country\n",
       "0     0  30.263544  -97.744633      US\n",
       "1     1  44.916843    5.784219      FR\n",
       "2     2  34.061224 -118.307591      US\n",
       "3     4  37.787660 -122.406340      US\n",
       "4     5  30.274974  -97.726415      US"
      ]
     },
     "execution_count": 30,
     "metadata": {},
     "output_type": "execute_result"
    }
   ],
   "source": [
    "gowalla_home_locations.head()"
   ]
  },
  {
   "cell_type": "markdown",
   "metadata": {},
   "source": [
    "# 1. Defining the geographic boundaries of our study"
   ]
  },
  {
   "cell_type": "markdown",
   "metadata": {},
   "source": [
    "Before starting the study, we have to determine with which countries it would be relevant to work with. To estimate the quantity of data available in each country, we compute the number of homes, as defined in the replication, (i.e. users) that are located in each country. \n",
    "\n",
    "The point is to work only on countries in which the amount of data seems to be enough to have robust conclusions. "
   ]
  },
  {
   "cell_type": "markdown",
   "metadata": {},
   "source": [
    "## 1.1 A bit of cleaning"
   ]
  },
  {
   "cell_type": "code",
   "execution_count": 31,
   "metadata": {},
   "outputs": [],
   "source": [
    "# First we replace the country code by the actual name of the country to do that we use a dataset called 'country_codes' associating to each country its code (e.g IT->Italy)\n",
    "#for check-ins \n",
    "gowalla_home_locations = pd.merge(gowalla_home_locations, country_codes, left_on = 'country', right_on = 'Code', how = 'left')\n",
    "gowalla_home_locations.drop(columns = ['country', 'Code'], inplace = True)\n",
    "gowalla_home_locations.rename(columns = {'Name':'country'}, inplace = True)\n",
    "\n",
    "brightkite_home_locations = pd.merge(brightkite_home_locations, country_codes, left_on = 'country', right_on = 'Code', how = 'left')\n",
    "brightkite_home_locations.drop(columns = ['country', 'Code'], inplace = True)\n",
    "brightkite_home_locations.rename(columns = {'Name':'country'}, inplace = True)"
   ]
  },
  {
   "cell_type": "code",
   "execution_count": 32,
   "metadata": {},
   "outputs": [],
   "source": [
    "#for the home locations \n",
    "gowalla_checkins = pd.merge(gowalla_checkins, country_codes, left_on = 'country', right_on = 'Code', how = 'left')\n",
    "gowalla_checkins.drop(columns = ['country', 'Code'], inplace = True)\n",
    "gowalla_checkins.rename(columns = {'Name':'country'}, inplace = True)\n",
    "\n",
    "brightkite_checkins = pd.merge(brightkite_checkins, country_codes, left_on = 'country', right_on = 'Code', how = 'left')\n",
    "brightkite_checkins.drop(columns = ['country', 'Code'], inplace = True)\n",
    "brightkite_checkins.rename(columns = {'Name':'country'}, inplace = True)"
   ]
  },
  {
   "cell_type": "code",
   "execution_count": 33,
   "metadata": {},
   "outputs": [],
   "source": [
    "# Let's convert the time in a datetime\n",
    "gowalla_checkins['time'] = pd.to_datetime(gowalla_checkins['time'])\n",
    "brightkite_checkins['time'] = pd.to_datetime(brightkite_checkins['time'])"
   ]
  },
  {
   "cell_type": "code",
   "execution_count": 34,
   "metadata": {},
   "outputs": [],
   "source": [
    "# Every string with low characters \n",
    "brightkite_home_locations['country'] = brightkite_home_locations['country'].str.lower()\n",
    "brightkite_checkins['country'] = brightkite_checkins['country'].str.lower()\n",
    "\n",
    "gowalla_home_locations['country'] = gowalla_home_locations['country'].str.lower()\n",
    "gowalla_checkins['country'] = gowalla_checkins['country'].str.lower()"
   ]
  },
  {
   "cell_type": "code",
   "execution_count": 35,
   "metadata": {},
   "outputs": [
    {
     "data": {
      "text/html": [
       "<div>\n",
       "<style scoped>\n",
       "    .dataframe tbody tr th:only-of-type {\n",
       "        vertical-align: middle;\n",
       "    }\n",
       "\n",
       "    .dataframe tbody tr th {\n",
       "        vertical-align: top;\n",
       "    }\n",
       "\n",
       "    .dataframe thead th {\n",
       "        text-align: right;\n",
       "    }\n",
       "</style>\n",
       "<table border=\"1\" class=\"dataframe\">\n",
       "  <thead>\n",
       "    <tr style=\"text-align: right;\">\n",
       "      <th></th>\n",
       "      <th>user</th>\n",
       "      <th>time</th>\n",
       "      <th>lat</th>\n",
       "      <th>lon</th>\n",
       "      <th>location_id</th>\n",
       "      <th>latitude_cell_number</th>\n",
       "      <th>longitude_cell_number</th>\n",
       "      <th>country</th>\n",
       "    </tr>\n",
       "  </thead>\n",
       "  <tbody>\n",
       "    <tr>\n",
       "      <th>0</th>\n",
       "      <td>0</td>\n",
       "      <td>2010-10-17 01:48:53+00:00</td>\n",
       "      <td>39.747652</td>\n",
       "      <td>-104.992510</td>\n",
       "      <td>88c46bf20db295831bd2d1718ad7e6f5</td>\n",
       "      <td>175.0</td>\n",
       "      <td>-360.0</td>\n",
       "      <td>united states</td>\n",
       "    </tr>\n",
       "    <tr>\n",
       "      <th>1</th>\n",
       "      <td>0</td>\n",
       "      <td>2010-10-16 06:02:04+00:00</td>\n",
       "      <td>39.891383</td>\n",
       "      <td>-105.070814</td>\n",
       "      <td>7a0f88982aa015062b95e3b4843f9ca2</td>\n",
       "      <td>176.0</td>\n",
       "      <td>-359.0</td>\n",
       "      <td>united states</td>\n",
       "    </tr>\n",
       "    <tr>\n",
       "      <th>2</th>\n",
       "      <td>0</td>\n",
       "      <td>2010-10-16 03:48:54+00:00</td>\n",
       "      <td>39.891077</td>\n",
       "      <td>-105.068532</td>\n",
       "      <td>dd7cd3d264c2d063832db506fba8bf79</td>\n",
       "      <td>176.0</td>\n",
       "      <td>-359.0</td>\n",
       "      <td>united states</td>\n",
       "    </tr>\n",
       "  </tbody>\n",
       "</table>\n",
       "</div>"
      ],
      "text/plain": [
       "   user                      time        lat         lon  \\\n",
       "0     0 2010-10-17 01:48:53+00:00  39.747652 -104.992510   \n",
       "1     0 2010-10-16 06:02:04+00:00  39.891383 -105.070814   \n",
       "2     0 2010-10-16 03:48:54+00:00  39.891077 -105.068532   \n",
       "\n",
       "                        location_id  latitude_cell_number  \\\n",
       "0  88c46bf20db295831bd2d1718ad7e6f5                 175.0   \n",
       "1  7a0f88982aa015062b95e3b4843f9ca2                 176.0   \n",
       "2  dd7cd3d264c2d063832db506fba8bf79                 176.0   \n",
       "\n",
       "   longitude_cell_number        country  \n",
       "0                 -360.0  united states  \n",
       "1                 -359.0  united states  \n",
       "2                 -359.0  united states  "
      ]
     },
     "execution_count": 35,
     "metadata": {},
     "output_type": "execute_result"
    }
   ],
   "source": [
    "brightkite_checkins.head(3)"
   ]
  },
  {
   "cell_type": "markdown",
   "metadata": {},
   "source": [
    "## 1.2 Choosing the countries where we have enough data"
   ]
  },
  {
   "cell_type": "markdown",
   "metadata": {},
   "source": [
    "This section allows us to select the most representative countries in the world in terms of of users' homes locations"
   ]
  },
  {
   "cell_type": "code",
   "execution_count": 36,
   "metadata": {},
   "outputs": [
    {
     "data": {
      "text/html": [
       "<div>\n",
       "<style scoped>\n",
       "    .dataframe tbody tr th:only-of-type {\n",
       "        vertical-align: middle;\n",
       "    }\n",
       "\n",
       "    .dataframe tbody tr th {\n",
       "        vertical-align: top;\n",
       "    }\n",
       "\n",
       "    .dataframe thead th {\n",
       "        text-align: right;\n",
       "    }\n",
       "</style>\n",
       "<table border=\"1\" class=\"dataframe\">\n",
       "  <thead>\n",
       "    <tr style=\"text-align: right;\">\n",
       "      <th></th>\n",
       "      <th>user</th>\n",
       "      <th>lat</th>\n",
       "      <th>lon</th>\n",
       "      <th>country</th>\n",
       "    </tr>\n",
       "  </thead>\n",
       "  <tbody>\n",
       "    <tr>\n",
       "      <th>0</th>\n",
       "      <td>0</td>\n",
       "      <td>39.746677</td>\n",
       "      <td>-104.973619</td>\n",
       "      <td>united states</td>\n",
       "    </tr>\n",
       "    <tr>\n",
       "      <th>1</th>\n",
       "      <td>1</td>\n",
       "      <td>37.602712</td>\n",
       "      <td>-122.377186</td>\n",
       "      <td>united states</td>\n",
       "    </tr>\n",
       "    <tr>\n",
       "      <th>2</th>\n",
       "      <td>2</td>\n",
       "      <td>39.738340</td>\n",
       "      <td>-104.960762</td>\n",
       "      <td>united states</td>\n",
       "    </tr>\n",
       "    <tr>\n",
       "      <th>3</th>\n",
       "      <td>3</td>\n",
       "      <td>37.670403</td>\n",
       "      <td>-122.406295</td>\n",
       "      <td>united states</td>\n",
       "    </tr>\n",
       "    <tr>\n",
       "      <th>4</th>\n",
       "      <td>4</td>\n",
       "      <td>60.173672</td>\n",
       "      <td>24.942450</td>\n",
       "      <td>finland</td>\n",
       "    </tr>\n",
       "  </tbody>\n",
       "</table>\n",
       "</div>"
      ],
      "text/plain": [
       "   user        lat         lon        country\n",
       "0     0  39.746677 -104.973619  united states\n",
       "1     1  37.602712 -122.377186  united states\n",
       "2     2  39.738340 -104.960762  united states\n",
       "3     3  37.670403 -122.406295  united states\n",
       "4     4  60.173672   24.942450        finland"
      ]
     },
     "execution_count": 36,
     "metadata": {},
     "output_type": "execute_result"
    }
   ],
   "source": [
    "brightkite_home_locations.head()"
   ]
  },
  {
   "cell_type": "code",
   "execution_count": 37,
   "metadata": {},
   "outputs": [
    {
     "data": {
      "text/html": [
       "<div>\n",
       "<style scoped>\n",
       "    .dataframe tbody tr th:only-of-type {\n",
       "        vertical-align: middle;\n",
       "    }\n",
       "\n",
       "    .dataframe tbody tr th {\n",
       "        vertical-align: top;\n",
       "    }\n",
       "\n",
       "    .dataframe thead th {\n",
       "        text-align: right;\n",
       "    }\n",
       "</style>\n",
       "<table border=\"1\" class=\"dataframe\">\n",
       "  <thead>\n",
       "    <tr style=\"text-align: right;\">\n",
       "      <th></th>\n",
       "      <th>country</th>\n",
       "      <th>count</th>\n",
       "    </tr>\n",
       "  </thead>\n",
       "  <tbody>\n",
       "    <tr>\n",
       "      <th>0</th>\n",
       "      <td>united states</td>\n",
       "      <td>50639</td>\n",
       "    </tr>\n",
       "    <tr>\n",
       "      <th>1</th>\n",
       "      <td>sweden</td>\n",
       "      <td>18012</td>\n",
       "    </tr>\n",
       "    <tr>\n",
       "      <th>2</th>\n",
       "      <td>united kingdom</td>\n",
       "      <td>5466</td>\n",
       "    </tr>\n",
       "  </tbody>\n",
       "</table>\n",
       "</div>"
      ],
      "text/plain": [
       "          country  count\n",
       "0   united states  50639\n",
       "1          sweden  18012\n",
       "2  united kingdom   5466"
      ]
     },
     "execution_count": 37,
     "metadata": {},
     "output_type": "execute_result"
    }
   ],
   "source": [
    "# Countries with the highest number of home locations \n",
    "\n",
    "brightkite_homes_per_country = brightkite_home_locations.groupby(['country']).count().sort_values(by = ['lat'], ascending = False)\n",
    "brightkite_homes_per_country.drop(columns = ['lon', 'user'], inplace = True)\n",
    "brightkite_homes_per_country.rename(columns={'lat':'count'}, inplace = True)\n",
    "brightkite_homes_per_country.reset_index(inplace = True)\n",
    "\n",
    "gowalla_homes_per_country = gowalla_home_locations.groupby(['country']).count().sort_values(by = ['lat'], ascending = False)\n",
    "gowalla_homes_per_country.drop(columns = ['lon', 'user'], inplace = True)\n",
    "gowalla_homes_per_country.rename(columns={'lat':'count'}, inplace = True)\n",
    "gowalla_homes_per_country.reset_index(inplace = True)\n",
    "\n",
    "gowalla_homes_per_country.head(3) #showing the most represented countries in terms of home locations "
   ]
  },
  {
   "cell_type": "code",
   "execution_count": 38,
   "metadata": {},
   "outputs": [
    {
     "data": {
      "text/html": [
       "<div>\n",
       "<style scoped>\n",
       "    .dataframe tbody tr th:only-of-type {\n",
       "        vertical-align: middle;\n",
       "    }\n",
       "\n",
       "    .dataframe tbody tr th {\n",
       "        vertical-align: top;\n",
       "    }\n",
       "\n",
       "    .dataframe thead th {\n",
       "        text-align: right;\n",
       "    }\n",
       "</style>\n",
       "<table border=\"1\" class=\"dataframe\">\n",
       "  <thead>\n",
       "    <tr style=\"text-align: right;\">\n",
       "      <th></th>\n",
       "      <th>country</th>\n",
       "      <th>count</th>\n",
       "    </tr>\n",
       "  </thead>\n",
       "  <tbody>\n",
       "    <tr>\n",
       "      <th>0</th>\n",
       "      <td>united states</td>\n",
       "      <td>30657</td>\n",
       "    </tr>\n",
       "    <tr>\n",
       "      <th>1</th>\n",
       "      <td>united kingdom</td>\n",
       "      <td>3247</td>\n",
       "    </tr>\n",
       "    <tr>\n",
       "      <th>2</th>\n",
       "      <td>japan</td>\n",
       "      <td>2862</td>\n",
       "    </tr>\n",
       "  </tbody>\n",
       "</table>\n",
       "</div>"
      ],
      "text/plain": [
       "          country  count\n",
       "0   united states  30657\n",
       "1  united kingdom   3247\n",
       "2           japan   2862"
      ]
     },
     "execution_count": 38,
     "metadata": {},
     "output_type": "execute_result"
    }
   ],
   "source": [
    "brightkite_homes_per_country.head(3)"
   ]
  },
  {
   "cell_type": "code",
   "execution_count": 39,
   "metadata": {},
   "outputs": [],
   "source": [
    "# Let's add the population to these dataframes (done thanks to the population dataset associating to each country its population )\n",
    "brightkite_homes_per_country = brightkite_homes_per_country.merge(population, how = 'inner', on = ['country'])\n",
    "gowalla_homes_per_country = gowalla_homes_per_country.merge(population, how = 'inner', on = ['country'])"
   ]
  },
  {
   "cell_type": "code",
   "execution_count": 40,
   "metadata": {},
   "outputs": [],
   "source": [
    "# The number of home per country is normalized by the population of the country\n",
    "brightkite_homes_per_country['count_normalized'] = brightkite_homes_per_country['count']/brightkite_homes_per_country['population']\n",
    "gowalla_homes_per_country['count_normalized'] = gowalla_homes_per_country['count']/gowalla_homes_per_country['population']"
   ]
  },
  {
   "cell_type": "code",
   "execution_count": 41,
   "metadata": {},
   "outputs": [
    {
     "data": {
      "text/html": [
       "<div>\n",
       "<style scoped>\n",
       "    .dataframe tbody tr th:only-of-type {\n",
       "        vertical-align: middle;\n",
       "    }\n",
       "\n",
       "    .dataframe tbody tr th {\n",
       "        vertical-align: top;\n",
       "    }\n",
       "\n",
       "    .dataframe thead th {\n",
       "        text-align: right;\n",
       "    }\n",
       "</style>\n",
       "<table border=\"1\" class=\"dataframe\">\n",
       "  <thead>\n",
       "    <tr style=\"text-align: right;\">\n",
       "      <th></th>\n",
       "      <th>country</th>\n",
       "      <th>count</th>\n",
       "      <th>population</th>\n",
       "      <th>count_normalized</th>\n",
       "    </tr>\n",
       "  </thead>\n",
       "  <tbody>\n",
       "    <tr>\n",
       "      <th>9</th>\n",
       "      <td>norway</td>\n",
       "      <td>601</td>\n",
       "      <td>4610820</td>\n",
       "      <td>0.000130</td>\n",
       "    </tr>\n",
       "    <tr>\n",
       "      <th>0</th>\n",
       "      <td>united states</td>\n",
       "      <td>30657</td>\n",
       "      <td>298444215</td>\n",
       "      <td>0.000103</td>\n",
       "    </tr>\n",
       "    <tr>\n",
       "      <th>6</th>\n",
       "      <td>sweden</td>\n",
       "      <td>836</td>\n",
       "      <td>9016596</td>\n",
       "      <td>0.000093</td>\n",
       "    </tr>\n",
       "    <tr>\n",
       "      <th>40</th>\n",
       "      <td>luxembourg</td>\n",
       "      <td>39</td>\n",
       "      <td>474413</td>\n",
       "      <td>0.000082</td>\n",
       "    </tr>\n",
       "    <tr>\n",
       "      <th>3</th>\n",
       "      <td>australia</td>\n",
       "      <td>1447</td>\n",
       "      <td>20264082</td>\n",
       "      <td>0.000071</td>\n",
       "    </tr>\n",
       "    <tr>\n",
       "      <th>12</th>\n",
       "      <td>finland</td>\n",
       "      <td>366</td>\n",
       "      <td>5231372</td>\n",
       "      <td>0.000070</td>\n",
       "    </tr>\n",
       "    <tr>\n",
       "      <th>1</th>\n",
       "      <td>united kingdom</td>\n",
       "      <td>3247</td>\n",
       "      <td>60609153</td>\n",
       "      <td>0.000054</td>\n",
       "    </tr>\n",
       "    <tr>\n",
       "      <th>7</th>\n",
       "      <td>netherlands</td>\n",
       "      <td>782</td>\n",
       "      <td>16491461</td>\n",
       "      <td>0.000047</td>\n",
       "    </tr>\n",
       "    <tr>\n",
       "      <th>4</th>\n",
       "      <td>canada</td>\n",
       "      <td>1411</td>\n",
       "      <td>33098932</td>\n",
       "      <td>0.000043</td>\n",
       "    </tr>\n",
       "    <tr>\n",
       "      <th>36</th>\n",
       "      <td>estonia</td>\n",
       "      <td>52</td>\n",
       "      <td>1324333</td>\n",
       "      <td>0.000039</td>\n",
       "    </tr>\n",
       "  </tbody>\n",
       "</table>\n",
       "</div>"
      ],
      "text/plain": [
       "           country  count  population  count_normalized\n",
       "9           norway    601     4610820          0.000130\n",
       "0    united states  30657   298444215          0.000103\n",
       "6           sweden    836     9016596          0.000093\n",
       "40      luxembourg     39      474413          0.000082\n",
       "3        australia   1447    20264082          0.000071\n",
       "12         finland    366     5231372          0.000070\n",
       "1   united kingdom   3247    60609153          0.000054\n",
       "7      netherlands    782    16491461          0.000047\n",
       "4           canada   1411    33098932          0.000043\n",
       "36         estonia     52     1324333          0.000039"
      ]
     },
     "execution_count": 41,
     "metadata": {},
     "output_type": "execute_result"
    }
   ],
   "source": [
    "brightkite_homes_per_country.sort_values(by = 'count_normalized', ascending = False).head(10)"
   ]
  },
  {
   "cell_type": "code",
   "execution_count": 42,
   "metadata": {},
   "outputs": [
    {
     "data": {
      "text/html": [
       "<div>\n",
       "<style scoped>\n",
       "    .dataframe tbody tr th:only-of-type {\n",
       "        vertical-align: middle;\n",
       "    }\n",
       "\n",
       "    .dataframe tbody tr th {\n",
       "        vertical-align: top;\n",
       "    }\n",
       "\n",
       "    .dataframe thead th {\n",
       "        text-align: right;\n",
       "    }\n",
       "</style>\n",
       "<table border=\"1\" class=\"dataframe\">\n",
       "  <thead>\n",
       "    <tr style=\"text-align: right;\">\n",
       "      <th></th>\n",
       "      <th>country</th>\n",
       "      <th>count</th>\n",
       "      <th>population</th>\n",
       "      <th>count_normalized</th>\n",
       "    </tr>\n",
       "  </thead>\n",
       "  <tbody>\n",
       "    <tr>\n",
       "      <th>1</th>\n",
       "      <td>sweden</td>\n",
       "      <td>18012</td>\n",
       "      <td>9016596</td>\n",
       "      <td>0.001998</td>\n",
       "    </tr>\n",
       "    <tr>\n",
       "      <th>4</th>\n",
       "      <td>norway</td>\n",
       "      <td>3647</td>\n",
       "      <td>4610820</td>\n",
       "      <td>0.000791</td>\n",
       "    </tr>\n",
       "    <tr>\n",
       "      <th>29</th>\n",
       "      <td>luxembourg</td>\n",
       "      <td>171</td>\n",
       "      <td>474413</td>\n",
       "      <td>0.000360</td>\n",
       "    </tr>\n",
       "    <tr>\n",
       "      <th>0</th>\n",
       "      <td>united states</td>\n",
       "      <td>50639</td>\n",
       "      <td>298444215</td>\n",
       "      <td>0.000170</td>\n",
       "    </tr>\n",
       "    <tr>\n",
       "      <th>8</th>\n",
       "      <td>belgium</td>\n",
       "      <td>1563</td>\n",
       "      <td>10379067</td>\n",
       "      <td>0.000151</td>\n",
       "    </tr>\n",
       "    <tr>\n",
       "      <th>12</th>\n",
       "      <td>switzerland</td>\n",
       "      <td>990</td>\n",
       "      <td>7523934</td>\n",
       "      <td>0.000132</td>\n",
       "    </tr>\n",
       "    <tr>\n",
       "      <th>17</th>\n",
       "      <td>denmark</td>\n",
       "      <td>605</td>\n",
       "      <td>5450661</td>\n",
       "      <td>0.000111</td>\n",
       "    </tr>\n",
       "    <tr>\n",
       "      <th>2</th>\n",
       "      <td>united kingdom</td>\n",
       "      <td>5466</td>\n",
       "      <td>60609153</td>\n",
       "      <td>0.000090</td>\n",
       "    </tr>\n",
       "    <tr>\n",
       "      <th>21</th>\n",
       "      <td>singapore</td>\n",
       "      <td>384</td>\n",
       "      <td>4492150</td>\n",
       "      <td>0.000085</td>\n",
       "    </tr>\n",
       "    <tr>\n",
       "      <th>10</th>\n",
       "      <td>netherlands</td>\n",
       "      <td>1257</td>\n",
       "      <td>16491461</td>\n",
       "      <td>0.000076</td>\n",
       "    </tr>\n",
       "  </tbody>\n",
       "</table>\n",
       "</div>"
      ],
      "text/plain": [
       "           country  count  population  count_normalized\n",
       "1           sweden  18012     9016596          0.001998\n",
       "4           norway   3647     4610820          0.000791\n",
       "29      luxembourg    171      474413          0.000360\n",
       "0    united states  50639   298444215          0.000170\n",
       "8          belgium   1563    10379067          0.000151\n",
       "12     switzerland    990     7523934          0.000132\n",
       "17         denmark    605     5450661          0.000111\n",
       "2   united kingdom   5466    60609153          0.000090\n",
       "21       singapore    384     4492150          0.000085\n",
       "10     netherlands   1257    16491461          0.000076"
      ]
     },
     "execution_count": 42,
     "metadata": {},
     "output_type": "execute_result"
    }
   ],
   "source": [
    "gowalla_homes_per_country.sort_values(by = 'count_normalized', ascending = False).head(10)"
   ]
  },
  {
   "cell_type": "code",
   "execution_count": 43,
   "metadata": {},
   "outputs": [
    {
     "name": "stdout",
     "output_type": "stream",
     "text": [
      "With this threshold, 28 countries are taken in the study for the Brightkite dataset.\n",
      "With this threshold, 38 countries are taken in the study for the Gowalla dataset.\n"
     ]
    }
   ],
   "source": [
    "# Let's say that we will only work with countries whose count_normalized value is higher than a certain threshold\n",
    "threshold = 0.00001\n",
    "brightkite_countries = brightkite_homes_per_country[brightkite_homes_per_country.count_normalized >= threshold]\n",
    "gowalla_countries = gowalla_homes_per_country[gowalla_homes_per_country.count_normalized >= threshold]\n",
    "print('With this threshold,', len(brightkite_countries), 'countries are taken in the study for the Brightkite dataset.')\n",
    "print('With this threshold,', len(gowalla_countries), 'countries are taken in the study for the Gowalla dataset.')"
   ]
  },
  {
   "cell_type": "code",
   "execution_count": 44,
   "metadata": {},
   "outputs": [
    {
     "name": "stdout",
     "output_type": "stream",
     "text": [
      "With this threshold, 25 countries are taken in the study for both datasets.\n"
     ]
    }
   ],
   "source": [
    "countries = pd.merge(brightkite_countries, gowalla_countries, how = 'inner', on = ['country'], suffixes=('_brightkite', '_gowalla')) # countries that are ok both for the Gowalla and Brightkite datasets\n",
    "print('With this threshold,', len(countries), 'countries are taken in the study for both datasets.')"
   ]
  },
  {
   "cell_type": "code",
   "execution_count": 45,
   "metadata": {},
   "outputs": [
    {
     "data": {
      "text/html": [
       "<div>\n",
       "<style scoped>\n",
       "    .dataframe tbody tr th:only-of-type {\n",
       "        vertical-align: middle;\n",
       "    }\n",
       "\n",
       "    .dataframe tbody tr th {\n",
       "        vertical-align: top;\n",
       "    }\n",
       "\n",
       "    .dataframe thead th {\n",
       "        text-align: right;\n",
       "    }\n",
       "</style>\n",
       "<table border=\"1\" class=\"dataframe\">\n",
       "  <thead>\n",
       "    <tr style=\"text-align: right;\">\n",
       "      <th></th>\n",
       "      <th>country</th>\n",
       "      <th>count_brightkite</th>\n",
       "      <th>population_brightkite</th>\n",
       "      <th>count_normalized_brightkite</th>\n",
       "      <th>count_gowalla</th>\n",
       "      <th>population_gowalla</th>\n",
       "      <th>count_normalized_gowalla</th>\n",
       "    </tr>\n",
       "  </thead>\n",
       "  <tbody>\n",
       "    <tr>\n",
       "      <th>0</th>\n",
       "      <td>united states</td>\n",
       "      <td>30657</td>\n",
       "      <td>298444215</td>\n",
       "      <td>0.000103</td>\n",
       "      <td>50639</td>\n",
       "      <td>298444215</td>\n",
       "      <td>0.000170</td>\n",
       "    </tr>\n",
       "    <tr>\n",
       "      <th>1</th>\n",
       "      <td>united kingdom</td>\n",
       "      <td>3247</td>\n",
       "      <td>60609153</td>\n",
       "      <td>0.000054</td>\n",
       "      <td>5466</td>\n",
       "      <td>60609153</td>\n",
       "      <td>0.000090</td>\n",
       "    </tr>\n",
       "    <tr>\n",
       "      <th>2</th>\n",
       "      <td>australia</td>\n",
       "      <td>1447</td>\n",
       "      <td>20264082</td>\n",
       "      <td>0.000071</td>\n",
       "      <td>1304</td>\n",
       "      <td>20264082</td>\n",
       "      <td>0.000064</td>\n",
       "    </tr>\n",
       "    <tr>\n",
       "      <th>3</th>\n",
       "      <td>canada</td>\n",
       "      <td>1411</td>\n",
       "      <td>33098932</td>\n",
       "      <td>0.000043</td>\n",
       "      <td>2207</td>\n",
       "      <td>33098932</td>\n",
       "      <td>0.000067</td>\n",
       "    </tr>\n",
       "    <tr>\n",
       "      <th>4</th>\n",
       "      <td>germany</td>\n",
       "      <td>1331</td>\n",
       "      <td>82422299</td>\n",
       "      <td>0.000016</td>\n",
       "      <td>5231</td>\n",
       "      <td>82422299</td>\n",
       "      <td>0.000063</td>\n",
       "    </tr>\n",
       "  </tbody>\n",
       "</table>\n",
       "</div>"
      ],
      "text/plain": [
       "          country  count_brightkite  population_brightkite  \\\n",
       "0   united states             30657              298444215   \n",
       "1  united kingdom              3247               60609153   \n",
       "2       australia              1447               20264082   \n",
       "3          canada              1411               33098932   \n",
       "4         germany              1331               82422299   \n",
       "\n",
       "   count_normalized_brightkite  count_gowalla  population_gowalla  \\\n",
       "0                     0.000103          50639           298444215   \n",
       "1                     0.000054           5466            60609153   \n",
       "2                     0.000071           1304            20264082   \n",
       "3                     0.000043           2207            33098932   \n",
       "4                     0.000016           5231            82422299   \n",
       "\n",
       "   count_normalized_gowalla  \n",
       "0                  0.000170  \n",
       "1                  0.000090  \n",
       "2                  0.000064  \n",
       "3                  0.000067  \n",
       "4                  0.000063  "
      ]
     },
     "execution_count": 45,
     "metadata": {},
     "output_type": "execute_result"
    }
   ],
   "source": [
    "countries.head(5)"
   ]
  },
  {
   "cell_type": "markdown",
   "metadata": {},
   "source": [
    "**The study will therefore be performed on this set of countries.** "
   ]
  },
  {
   "cell_type": "markdown",
   "metadata": {},
   "source": [
    "## 1.3 Computing the number of travelers between these countries "
   ]
  },
  {
   "cell_type": "code",
   "execution_count": 46,
   "metadata": {},
   "outputs": [],
   "source": [
    "gowalla_home_locations.rename(columns={'lat':'home_lat','lon':'home_lon'}, inplace = True)\n",
    "brightkite_home_locations.rename(columns={'lat':'home_lat','lon':'home_lon'}, inplace = True)"
   ]
  },
  {
   "cell_type": "code",
   "execution_count": 47,
   "metadata": {},
   "outputs": [],
   "source": [
    "# Adding home locations to the check-ins dataframes \n",
    "gowalla_checkins = pd.merge(gowalla_checkins, gowalla_home_locations, how = 'left', on = ['user'], suffixes = ('_checkin', '_home'))\n",
    "brightkite_checkins = pd.merge(brightkite_checkins, brightkite_home_locations, how = 'left', on = ['user'], suffixes = ('_checkin', '_home'))"
   ]
  },
  {
   "cell_type": "code",
   "execution_count": 48,
   "metadata": {},
   "outputs": [],
   "source": [
    "def distance_from_home(row):\n",
    "    '''computes the distance between the check-in and the user's home'''\n",
    "    lat1 = row['lat']\n",
    "    lat2 = row['home_lat']\n",
    "    long1 = row['lon']\n",
    "    long2 = row['home_lon']\n",
    "    return(hvrs.haversine((lat1, long1), (lat2, long2)))"
   ]
  },
  {
   "cell_type": "code",
   "execution_count": 49,
   "metadata": {},
   "outputs": [],
   "source": [
    "gowalla_checkins['distance_from_home'] = gowalla_checkins.apply(lambda row: distance_from_home(row), axis = 1)\n",
    "brightkite_checkins['distance_from_home'] = brightkite_checkins.apply(lambda row: distance_from_home(row), axis = 1)"
   ]
  },
  {
   "cell_type": "code",
   "execution_count": 50,
   "metadata": {},
   "outputs": [
    {
     "data": {
      "text/html": [
       "<div>\n",
       "<style scoped>\n",
       "    .dataframe tbody tr th:only-of-type {\n",
       "        vertical-align: middle;\n",
       "    }\n",
       "\n",
       "    .dataframe tbody tr th {\n",
       "        vertical-align: top;\n",
       "    }\n",
       "\n",
       "    .dataframe thead th {\n",
       "        text-align: right;\n",
       "    }\n",
       "</style>\n",
       "<table border=\"1\" class=\"dataframe\">\n",
       "  <thead>\n",
       "    <tr style=\"text-align: right;\">\n",
       "      <th></th>\n",
       "      <th>user</th>\n",
       "      <th>time</th>\n",
       "      <th>lat</th>\n",
       "      <th>lon</th>\n",
       "      <th>location_id</th>\n",
       "      <th>latitude_cell_number</th>\n",
       "      <th>longitude_cell_number</th>\n",
       "      <th>country_checkin</th>\n",
       "      <th>home_lat</th>\n",
       "      <th>home_lon</th>\n",
       "      <th>country_home</th>\n",
       "      <th>distance_from_home</th>\n",
       "    </tr>\n",
       "  </thead>\n",
       "  <tbody>\n",
       "    <tr>\n",
       "      <th>0</th>\n",
       "      <td>0</td>\n",
       "      <td>2010-10-19 23:55:27+00:00</td>\n",
       "      <td>30.235909</td>\n",
       "      <td>-97.795140</td>\n",
       "      <td>22847</td>\n",
       "      <td>133.0</td>\n",
       "      <td>-377.0</td>\n",
       "      <td>united states</td>\n",
       "      <td>30.263544</td>\n",
       "      <td>-97.744633</td>\n",
       "      <td>united states</td>\n",
       "      <td>5.742696</td>\n",
       "    </tr>\n",
       "    <tr>\n",
       "      <th>1</th>\n",
       "      <td>0</td>\n",
       "      <td>2010-10-18 22:17:43+00:00</td>\n",
       "      <td>30.269103</td>\n",
       "      <td>-97.749395</td>\n",
       "      <td>420315</td>\n",
       "      <td>133.0</td>\n",
       "      <td>-376.0</td>\n",
       "      <td>united states</td>\n",
       "      <td>30.263544</td>\n",
       "      <td>-97.744633</td>\n",
       "      <td>united states</td>\n",
       "      <td>0.768985</td>\n",
       "    </tr>\n",
       "    <tr>\n",
       "      <th>2</th>\n",
       "      <td>0</td>\n",
       "      <td>2010-10-17 23:42:03+00:00</td>\n",
       "      <td>30.255731</td>\n",
       "      <td>-97.763386</td>\n",
       "      <td>316637</td>\n",
       "      <td>133.0</td>\n",
       "      <td>-377.0</td>\n",
       "      <td>united states</td>\n",
       "      <td>30.263544</td>\n",
       "      <td>-97.744633</td>\n",
       "      <td>united states</td>\n",
       "      <td>1.999702</td>\n",
       "    </tr>\n",
       "  </tbody>\n",
       "</table>\n",
       "</div>"
      ],
      "text/plain": [
       "   user                      time        lat        lon  location_id  \\\n",
       "0     0 2010-10-19 23:55:27+00:00  30.235909 -97.795140        22847   \n",
       "1     0 2010-10-18 22:17:43+00:00  30.269103 -97.749395       420315   \n",
       "2     0 2010-10-17 23:42:03+00:00  30.255731 -97.763386       316637   \n",
       "\n",
       "   latitude_cell_number  longitude_cell_number country_checkin   home_lat  \\\n",
       "0                 133.0                 -377.0   united states  30.263544   \n",
       "1                 133.0                 -376.0   united states  30.263544   \n",
       "2                 133.0                 -377.0   united states  30.263544   \n",
       "\n",
       "    home_lon   country_home  distance_from_home  \n",
       "0 -97.744633  united states            5.742696  \n",
       "1 -97.744633  united states            0.768985  \n",
       "2 -97.744633  united states            1.999702  "
      ]
     },
     "execution_count": 50,
     "metadata": {},
     "output_type": "execute_result"
    }
   ],
   "source": [
    "gowalla_checkins.head(3)"
   ]
  },
  {
   "cell_type": "code",
   "execution_count": 51,
   "metadata": {},
   "outputs": [
    {
     "data": {
      "text/plain": [
       "(944265, 511889)"
      ]
     },
     "execution_count": 51,
     "metadata": {},
     "output_type": "execute_result"
    }
   ],
   "source": [
    "# A \"far\" check-in is defined by a certain distance from home \n",
    "# To compute the travel statistics, we will only consider these far check-ins \n",
    "distance = 200 #km\n",
    "gowalla_far_checkins = gowalla_checkins[gowalla_checkins.distance_from_home >= distance]\n",
    "brightkite_far_checkins = brightkite_checkins[brightkite_checkins.distance_from_home >= distance]\n",
    "len(gowalla_far_checkins), len(brightkite_far_checkins)"
   ]
  },
  {
   "cell_type": "code",
   "execution_count": 52,
   "metadata": {},
   "outputs": [
    {
     "data": {
      "text/html": [
       "<div>\n",
       "<style scoped>\n",
       "    .dataframe tbody tr th:only-of-type {\n",
       "        vertical-align: middle;\n",
       "    }\n",
       "\n",
       "    .dataframe tbody tr th {\n",
       "        vertical-align: top;\n",
       "    }\n",
       "\n",
       "    .dataframe thead th {\n",
       "        text-align: right;\n",
       "    }\n",
       "</style>\n",
       "<table border=\"1\" class=\"dataframe\">\n",
       "  <thead>\n",
       "    <tr style=\"text-align: right;\">\n",
       "      <th></th>\n",
       "      <th>user</th>\n",
       "      <th>time</th>\n",
       "      <th>lat</th>\n",
       "      <th>lon</th>\n",
       "      <th>location_id</th>\n",
       "      <th>latitude_cell_number</th>\n",
       "      <th>longitude_cell_number</th>\n",
       "      <th>country_checkin</th>\n",
       "      <th>home_lat</th>\n",
       "      <th>home_lon</th>\n",
       "      <th>country_home</th>\n",
       "      <th>distance_from_home</th>\n",
       "    </tr>\n",
       "  </thead>\n",
       "  <tbody>\n",
       "    <tr>\n",
       "      <th>10</th>\n",
       "      <td>0</td>\n",
       "      <td>2010-10-12 00:21:28+00:00</td>\n",
       "      <td>40.643885</td>\n",
       "      <td>-73.782806</td>\n",
       "      <td>23261</td>\n",
       "      <td>179.0</td>\n",
       "      <td>-250.0</td>\n",
       "      <td>united states</td>\n",
       "      <td>30.263544</td>\n",
       "      <td>-97.744633</td>\n",
       "      <td>united states</td>\n",
       "      <td>2446.840424</td>\n",
       "    </tr>\n",
       "    <tr>\n",
       "      <th>11</th>\n",
       "      <td>0</td>\n",
       "      <td>2010-10-11 20:21:20+00:00</td>\n",
       "      <td>40.741374</td>\n",
       "      <td>-73.988105</td>\n",
       "      <td>16907</td>\n",
       "      <td>180.0</td>\n",
       "      <td>-250.0</td>\n",
       "      <td>united states</td>\n",
       "      <td>30.263544</td>\n",
       "      <td>-97.744633</td>\n",
       "      <td>united states</td>\n",
       "      <td>2434.516744</td>\n",
       "    </tr>\n",
       "    <tr>\n",
       "      <th>12</th>\n",
       "      <td>0</td>\n",
       "      <td>2010-10-11 20:20:42+00:00</td>\n",
       "      <td>40.741388</td>\n",
       "      <td>-73.989455</td>\n",
       "      <td>12973</td>\n",
       "      <td>180.0</td>\n",
       "      <td>-250.0</td>\n",
       "      <td>united states</td>\n",
       "      <td>30.263544</td>\n",
       "      <td>-97.744633</td>\n",
       "      <td>united states</td>\n",
       "      <td>2434.411230</td>\n",
       "    </tr>\n",
       "  </tbody>\n",
       "</table>\n",
       "</div>"
      ],
      "text/plain": [
       "    user                      time        lat        lon  location_id  \\\n",
       "10     0 2010-10-12 00:21:28+00:00  40.643885 -73.782806        23261   \n",
       "11     0 2010-10-11 20:21:20+00:00  40.741374 -73.988105        16907   \n",
       "12     0 2010-10-11 20:20:42+00:00  40.741388 -73.989455        12973   \n",
       "\n",
       "    latitude_cell_number  longitude_cell_number country_checkin   home_lat  \\\n",
       "10                 179.0                 -250.0   united states  30.263544   \n",
       "11                 180.0                 -250.0   united states  30.263544   \n",
       "12                 180.0                 -250.0   united states  30.263544   \n",
       "\n",
       "     home_lon   country_home  distance_from_home  \n",
       "10 -97.744633  united states         2446.840424  \n",
       "11 -97.744633  united states         2434.516744  \n",
       "12 -97.744633  united states         2434.411230  "
      ]
     },
     "execution_count": 52,
     "metadata": {},
     "output_type": "execute_result"
    }
   ],
   "source": [
    "gowalla_far_checkins.head(3)"
   ]
  },
  {
   "cell_type": "code",
   "execution_count": 53,
   "metadata": {},
   "outputs": [
    {
     "name": "stderr",
     "output_type": "stream",
     "text": [
      "/opt/anaconda3/lib/python3.7/site-packages/ipykernel_launcher.py:1: SettingWithCopyWarning: \n",
      "A value is trying to be set on a copy of a slice from a DataFrame.\n",
      "Try using .loc[row_indexer,col_indexer] = value instead\n",
      "\n",
      "See the caveats in the documentation: https://pandas.pydata.org/pandas-docs/stable/user_guide/indexing.html#returning-a-view-versus-a-copy\n",
      "  \"\"\"Entry point for launching an IPython kernel.\n",
      "/opt/anaconda3/lib/python3.7/site-packages/ipykernel_launcher.py:2: SettingWithCopyWarning: \n",
      "A value is trying to be set on a copy of a slice from a DataFrame.\n",
      "Try using .loc[row_indexer,col_indexer] = value instead\n",
      "\n",
      "See the caveats in the documentation: https://pandas.pydata.org/pandas-docs/stable/user_guide/indexing.html#returning-a-view-versus-a-copy\n",
      "  \n"
     ]
    }
   ],
   "source": [
    "gowalla_far_checkins['previous_country_checkin'] = gowalla_far_checkins['country_checkin'].shift(1)\n",
    "brightkite_far_checkins['previous_country_checkin'] = brightkite_far_checkins['country_checkin'].shift(1)"
   ]
  },
  {
   "cell_type": "code",
   "execution_count": 54,
   "metadata": {},
   "outputs": [],
   "source": [
    "def change_arrival_country(row):\n",
    "    '''return 1 if the user moved from a country to another since the last check-in and 0 if not'''\n",
    "    country = row['country_checkin']\n",
    "    previous_country = row['previous_country_checkin']\n",
    "    if(country != previous_country):\n",
    "        return(1)\n",
    "    else:\n",
    "        return(0)"
   ]
  },
  {
   "cell_type": "code",
   "execution_count": 55,
   "metadata": {},
   "outputs": [
    {
     "name": "stderr",
     "output_type": "stream",
     "text": [
      "/opt/anaconda3/lib/python3.7/site-packages/ipykernel_launcher.py:1: SettingWithCopyWarning: \n",
      "A value is trying to be set on a copy of a slice from a DataFrame.\n",
      "Try using .loc[row_indexer,col_indexer] = value instead\n",
      "\n",
      "See the caveats in the documentation: https://pandas.pydata.org/pandas-docs/stable/user_guide/indexing.html#returning-a-view-versus-a-copy\n",
      "  \"\"\"Entry point for launching an IPython kernel.\n",
      "/opt/anaconda3/lib/python3.7/site-packages/ipykernel_launcher.py:2: SettingWithCopyWarning: \n",
      "A value is trying to be set on a copy of a slice from a DataFrame.\n",
      "Try using .loc[row_indexer,col_indexer] = value instead\n",
      "\n",
      "See the caveats in the documentation: https://pandas.pydata.org/pandas-docs/stable/user_guide/indexing.html#returning-a-view-versus-a-copy\n",
      "  \n"
     ]
    }
   ],
   "source": [
    "brightkite_far_checkins['change_arrival_country'] = brightkite_far_checkins.apply(lambda row: change_arrival_country(row), axis = 1)\n",
    "gowalla_far_checkins['change_arrival_country'] = gowalla_far_checkins.apply(lambda row: change_arrival_country(row), axis = 1)"
   ]
  },
  {
   "cell_type": "code",
   "execution_count": 56,
   "metadata": {},
   "outputs": [],
   "source": [
    "brightkite_arrivals = brightkite_far_checkins[brightkite_far_checkins.change_arrival_country == 1].groupby(['country_checkin']).count().sort_values(by = 'user', ascending = False)\n",
    "brightkite_arrivals.rename(columns = {'user':'count'}, inplace = True)\n",
    "brightkite_arrivals.drop(brightkite_arrivals.columns.difference(['count']), 1, inplace=True)\n",
    "\n",
    "gowalla_arrivals = gowalla_far_checkins[gowalla_far_checkins.change_arrival_country == 1].groupby(['country_checkin']).count().sort_values(by = 'user', ascending = False)\n",
    "gowalla_arrivals.rename(columns = {'user':'count'}, inplace = True)\n",
    "gowalla_arrivals.drop(gowalla_arrivals.columns.difference(['count']), 1, inplace=True)"
   ]
  },
  {
   "cell_type": "code",
   "execution_count": 57,
   "metadata": {},
   "outputs": [
    {
     "data": {
      "text/html": [
       "<div>\n",
       "<style scoped>\n",
       "    .dataframe tbody tr th:only-of-type {\n",
       "        vertical-align: middle;\n",
       "    }\n",
       "\n",
       "    .dataframe tbody tr th {\n",
       "        vertical-align: top;\n",
       "    }\n",
       "\n",
       "    .dataframe thead th {\n",
       "        text-align: right;\n",
       "    }\n",
       "</style>\n",
       "<table border=\"1\" class=\"dataframe\">\n",
       "  <thead>\n",
       "    <tr style=\"text-align: right;\">\n",
       "      <th></th>\n",
       "      <th>count</th>\n",
       "    </tr>\n",
       "    <tr>\n",
       "      <th>country_checkin</th>\n",
       "      <th></th>\n",
       "    </tr>\n",
       "  </thead>\n",
       "  <tbody>\n",
       "    <tr>\n",
       "      <th>united states</th>\n",
       "      <td>8126</td>\n",
       "    </tr>\n",
       "    <tr>\n",
       "      <th>united kingdom</th>\n",
       "      <td>2236</td>\n",
       "    </tr>\n",
       "    <tr>\n",
       "      <th>germany</th>\n",
       "      <td>1584</td>\n",
       "    </tr>\n",
       "  </tbody>\n",
       "</table>\n",
       "</div>"
      ],
      "text/plain": [
       "                 count\n",
       "country_checkin       \n",
       "united states     8126\n",
       "united kingdom    2236\n",
       "germany           1584"
      ]
     },
     "execution_count": 57,
     "metadata": {},
     "output_type": "execute_result"
    }
   ],
   "source": [
    "brightkite_arrivals.head(3)"
   ]
  },
  {
   "cell_type": "code",
   "execution_count": 58,
   "metadata": {},
   "outputs": [
    {
     "data": {
      "text/html": [
       "<div>\n",
       "<style scoped>\n",
       "    .dataframe tbody tr th:only-of-type {\n",
       "        vertical-align: middle;\n",
       "    }\n",
       "\n",
       "    .dataframe tbody tr th {\n",
       "        vertical-align: top;\n",
       "    }\n",
       "\n",
       "    .dataframe thead th {\n",
       "        text-align: right;\n",
       "    }\n",
       "</style>\n",
       "<table border=\"1\" class=\"dataframe\">\n",
       "  <thead>\n",
       "    <tr style=\"text-align: right;\">\n",
       "      <th></th>\n",
       "      <th>user</th>\n",
       "      <th>time</th>\n",
       "      <th>lat</th>\n",
       "      <th>lon</th>\n",
       "      <th>location_id</th>\n",
       "      <th>latitude_cell_number</th>\n",
       "      <th>longitude_cell_number</th>\n",
       "      <th>country_checkin</th>\n",
       "      <th>home_lat</th>\n",
       "      <th>home_lon</th>\n",
       "      <th>country_home</th>\n",
       "      <th>distance_from_home</th>\n",
       "      <th>previous_country_checkin</th>\n",
       "      <th>change_arrival_country</th>\n",
       "    </tr>\n",
       "  </thead>\n",
       "  <tbody>\n",
       "    <tr>\n",
       "      <th>61384</th>\n",
       "      <td>67</td>\n",
       "      <td>2009-07-26 19:13:52+00:00</td>\n",
       "      <td>37.376376</td>\n",
       "      <td>-121.922743</td>\n",
       "      <td>8355b678d15111dda9a0003048c0801e</td>\n",
       "      <td>165.0</td>\n",
       "      <td>-432.0</td>\n",
       "      <td>united states</td>\n",
       "      <td>39.753632</td>\n",
       "      <td>-104.991724</td>\n",
       "      <td>united states</td>\n",
       "      <td>1493.227828</td>\n",
       "      <td>united states</td>\n",
       "      <td>0</td>\n",
       "    </tr>\n",
       "    <tr>\n",
       "      <th>41434</th>\n",
       "      <td>36</td>\n",
       "      <td>2009-01-20 13:28:43+00:00</td>\n",
       "      <td>38.301344</td>\n",
       "      <td>-77.481853</td>\n",
       "      <td>5be22b70e6e211dda7a2003048c0801e</td>\n",
       "      <td>169.0</td>\n",
       "      <td>-271.0</td>\n",
       "      <td>united states</td>\n",
       "      <td>35.797896</td>\n",
       "      <td>-78.676246</td>\n",
       "      <td>united states</td>\n",
       "      <td>297.860802</td>\n",
       "      <td>united states</td>\n",
       "      <td>0</td>\n",
       "    </tr>\n",
       "    <tr>\n",
       "      <th>4080146</th>\n",
       "      <td>35866</td>\n",
       "      <td>2009-08-29 17:56:34+00:00</td>\n",
       "      <td>41.978912</td>\n",
       "      <td>-87.902811</td>\n",
       "      <td>e84f15ae94bc11de9a14003048c10834</td>\n",
       "      <td>185.0</td>\n",
       "      <td>-291.0</td>\n",
       "      <td>united states</td>\n",
       "      <td>32.934828</td>\n",
       "      <td>-97.092709</td>\n",
       "      <td>united states</td>\n",
       "      <td>1290.367626</td>\n",
       "      <td>united states</td>\n",
       "      <td>0</td>\n",
       "    </tr>\n",
       "  </tbody>\n",
       "</table>\n",
       "</div>"
      ],
      "text/plain": [
       "          user                      time        lat         lon  \\\n",
       "61384       67 2009-07-26 19:13:52+00:00  37.376376 -121.922743   \n",
       "41434       36 2009-01-20 13:28:43+00:00  38.301344  -77.481853   \n",
       "4080146  35866 2009-08-29 17:56:34+00:00  41.978912  -87.902811   \n",
       "\n",
       "                              location_id  latitude_cell_number  \\\n",
       "61384    8355b678d15111dda9a0003048c0801e                 165.0   \n",
       "41434    5be22b70e6e211dda7a2003048c0801e                 169.0   \n",
       "4080146  e84f15ae94bc11de9a14003048c10834                 185.0   \n",
       "\n",
       "         longitude_cell_number country_checkin   home_lat    home_lon  \\\n",
       "61384                   -432.0   united states  39.753632 -104.991724   \n",
       "41434                   -271.0   united states  35.797896  -78.676246   \n",
       "4080146                 -291.0   united states  32.934828  -97.092709   \n",
       "\n",
       "          country_home  distance_from_home previous_country_checkin  \\\n",
       "61384    united states         1493.227828            united states   \n",
       "41434    united states          297.860802            united states   \n",
       "4080146  united states         1290.367626            united states   \n",
       "\n",
       "         change_arrival_country  \n",
       "61384                         0  \n",
       "41434                         0  \n",
       "4080146                       0  "
      ]
     },
     "execution_count": 58,
     "metadata": {},
     "output_type": "execute_result"
    }
   ],
   "source": [
    "brightkite_far_checkins.sample(3)"
   ]
  },
  {
   "cell_type": "code",
   "execution_count": 59,
   "metadata": {},
   "outputs": [],
   "source": [
    "def not_home_country(row):\n",
    "    '''return 1 if the user is in another country than his home and 0 if not'''\n",
    "    country = row['country_checkin']\n",
    "    home_country = row['country_home']\n",
    "    if(country != home_country):\n",
    "        return(1)\n",
    "    else:\n",
    "        return(0)"
   ]
  },
  {
   "cell_type": "code",
   "execution_count": 60,
   "metadata": {},
   "outputs": [
    {
     "name": "stderr",
     "output_type": "stream",
     "text": [
      "/opt/anaconda3/lib/python3.7/site-packages/ipykernel_launcher.py:1: SettingWithCopyWarning: \n",
      "A value is trying to be set on a copy of a slice from a DataFrame.\n",
      "Try using .loc[row_indexer,col_indexer] = value instead\n",
      "\n",
      "See the caveats in the documentation: https://pandas.pydata.org/pandas-docs/stable/user_guide/indexing.html#returning-a-view-versus-a-copy\n",
      "  \"\"\"Entry point for launching an IPython kernel.\n",
      "/opt/anaconda3/lib/python3.7/site-packages/ipykernel_launcher.py:2: SettingWithCopyWarning: \n",
      "A value is trying to be set on a copy of a slice from a DataFrame.\n",
      "Try using .loc[row_indexer,col_indexer] = value instead\n",
      "\n",
      "See the caveats in the documentation: https://pandas.pydata.org/pandas-docs/stable/user_guide/indexing.html#returning-a-view-versus-a-copy\n",
      "  \n"
     ]
    }
   ],
   "source": [
    "brightkite_far_checkins['not_home_country'] = brightkite_far_checkins.apply(lambda row: not_home_country(row), axis = 1)\n",
    "gowalla_far_checkins['not_home_country'] = gowalla_far_checkins.apply(lambda row: not_home_country(row), axis = 1)"
   ]
  },
  {
   "cell_type": "code",
   "execution_count": 61,
   "metadata": {},
   "outputs": [],
   "source": [
    "brightkite_trips = brightkite_far_checkins[(brightkite_far_checkins.change_arrival_country == 1) & (brightkite_far_checkins.not_home_country == 1)]\n",
    "country_brightkite_trips = brightkite_trips[['country_home', 'country_checkin', 'user']].groupby(['country_home', 'country_checkin']).count()\n",
    "country_brightkite_trips.to_csv('data/country_brightkite_trips.csv')"
   ]
  },
  {
   "cell_type": "code",
   "execution_count": 62,
   "metadata": {},
   "outputs": [],
   "source": [
    "gowalla_trips = gowalla_far_checkins[(gowalla_far_checkins.change_arrival_country == 1) & (gowalla_far_checkins.not_home_country == 1)]\n",
    "country_gowalla_trips = gowalla_trips[['country_home', 'country_checkin', 'user']].groupby(['country_home', 'country_checkin']).count()\n",
    "country_gowalla_trips.to_csv('data/country_gowalla_trips.csv')"
   ]
  },
  {
   "cell_type": "code",
   "execution_count": 63,
   "metadata": {},
   "outputs": [
    {
     "data": {
      "text/html": [
       "<div>\n",
       "<style scoped>\n",
       "    .dataframe tbody tr th:only-of-type {\n",
       "        vertical-align: middle;\n",
       "    }\n",
       "\n",
       "    .dataframe tbody tr th {\n",
       "        vertical-align: top;\n",
       "    }\n",
       "\n",
       "    .dataframe thead th {\n",
       "        text-align: right;\n",
       "    }\n",
       "</style>\n",
       "<table border=\"1\" class=\"dataframe\">\n",
       "  <thead>\n",
       "    <tr style=\"text-align: right;\">\n",
       "      <th></th>\n",
       "      <th>user</th>\n",
       "      <th>time</th>\n",
       "      <th>lat</th>\n",
       "      <th>lon</th>\n",
       "      <th>location_id</th>\n",
       "      <th>latitude_cell_number</th>\n",
       "      <th>longitude_cell_number</th>\n",
       "      <th>country_checkin</th>\n",
       "      <th>home_lat</th>\n",
       "      <th>home_lon</th>\n",
       "      <th>country_home</th>\n",
       "      <th>distance_from_home</th>\n",
       "      <th>previous_country_checkin</th>\n",
       "      <th>change_arrival_country</th>\n",
       "      <th>not_home_country</th>\n",
       "    </tr>\n",
       "  </thead>\n",
       "  <tbody>\n",
       "    <tr>\n",
       "      <th>236</th>\n",
       "      <td>1</td>\n",
       "      <td>2010-07-05 04:17:34+00:00</td>\n",
       "      <td>50.288825</td>\n",
       "      <td>5.913332</td>\n",
       "      <td>1389275</td>\n",
       "      <td>222.0</td>\n",
       "      <td>16.0</td>\n",
       "      <td>belgium</td>\n",
       "      <td>44.916843</td>\n",
       "      <td>5.784219</td>\n",
       "      <td>france</td>\n",
       "      <td>597.416127</td>\n",
       "      <td>france</td>\n",
       "      <td>1</td>\n",
       "      <td>1</td>\n",
       "    </tr>\n",
       "    <tr>\n",
       "      <th>3251</th>\n",
       "      <td>15</td>\n",
       "      <td>2010-08-01 07:37:11+00:00</td>\n",
       "      <td>51.471199</td>\n",
       "      <td>-0.453615</td>\n",
       "      <td>22833</td>\n",
       "      <td>227.0</td>\n",
       "      <td>-2.0</td>\n",
       "      <td>united kingdom</td>\n",
       "      <td>40.753111</td>\n",
       "      <td>-73.986758</td>\n",
       "      <td>united states</td>\n",
       "      <td>5546.000005</td>\n",
       "      <td>united states</td>\n",
       "      <td>1</td>\n",
       "      <td>1</td>\n",
       "    </tr>\n",
       "    <tr>\n",
       "      <th>3252</th>\n",
       "      <td>15</td>\n",
       "      <td>2010-08-01 05:11:41+00:00</td>\n",
       "      <td>52.309469</td>\n",
       "      <td>4.762219</td>\n",
       "      <td>23373</td>\n",
       "      <td>231.0</td>\n",
       "      <td>12.0</td>\n",
       "      <td>netherlands</td>\n",
       "      <td>40.753111</td>\n",
       "      <td>-73.986758</td>\n",
       "      <td>united states</td>\n",
       "      <td>5852.341943</td>\n",
       "      <td>united kingdom</td>\n",
       "      <td>1</td>\n",
       "      <td>1</td>\n",
       "    </tr>\n",
       "  </tbody>\n",
       "</table>\n",
       "</div>"
      ],
      "text/plain": [
       "      user                      time        lat       lon  location_id  \\\n",
       "236      1 2010-07-05 04:17:34+00:00  50.288825  5.913332      1389275   \n",
       "3251    15 2010-08-01 07:37:11+00:00  51.471199 -0.453615        22833   \n",
       "3252    15 2010-08-01 05:11:41+00:00  52.309469  4.762219        23373   \n",
       "\n",
       "      latitude_cell_number  longitude_cell_number country_checkin   home_lat  \\\n",
       "236                  222.0                   16.0         belgium  44.916843   \n",
       "3251                 227.0                   -2.0  united kingdom  40.753111   \n",
       "3252                 231.0                   12.0     netherlands  40.753111   \n",
       "\n",
       "       home_lon   country_home  distance_from_home previous_country_checkin  \\\n",
       "236    5.784219         france          597.416127                   france   \n",
       "3251 -73.986758  united states         5546.000005            united states   \n",
       "3252 -73.986758  united states         5852.341943           united kingdom   \n",
       "\n",
       "      change_arrival_country  not_home_country  \n",
       "236                        1                 1  \n",
       "3251                       1                 1  \n",
       "3252                       1                 1  "
      ]
     },
     "execution_count": 63,
     "metadata": {},
     "output_type": "execute_result"
    }
   ],
   "source": [
    "gowalla_trips.head(3)"
   ]
  },
  {
   "cell_type": "code",
   "execution_count": 64,
   "metadata": {},
   "outputs": [
    {
     "data": {
      "text/html": [
       "<div>\n",
       "<style scoped>\n",
       "    .dataframe tbody tr th:only-of-type {\n",
       "        vertical-align: middle;\n",
       "    }\n",
       "\n",
       "    .dataframe tbody tr th {\n",
       "        vertical-align: top;\n",
       "    }\n",
       "\n",
       "    .dataframe thead th {\n",
       "        text-align: right;\n",
       "    }\n",
       "</style>\n",
       "<table border=\"1\" class=\"dataframe\">\n",
       "  <thead>\n",
       "    <tr style=\"text-align: right;\">\n",
       "      <th></th>\n",
       "      <th></th>\n",
       "      <th>user</th>\n",
       "    </tr>\n",
       "    <tr>\n",
       "      <th>country_home</th>\n",
       "      <th>country_checkin</th>\n",
       "      <th></th>\n",
       "    </tr>\n",
       "  </thead>\n",
       "  <tbody>\n",
       "    <tr>\n",
       "      <th>france</th>\n",
       "      <th>belgium</th>\n",
       "      <td>43</td>\n",
       "    </tr>\n",
       "    <tr>\n",
       "      <th>cambodia</th>\n",
       "      <th>singapore</th>\n",
       "      <td>1</td>\n",
       "    </tr>\n",
       "    <tr>\n",
       "      <th>portugal</th>\n",
       "      <th>japan</th>\n",
       "      <td>1</td>\n",
       "    </tr>\n",
       "  </tbody>\n",
       "</table>\n",
       "</div>"
      ],
      "text/plain": [
       "                              user\n",
       "country_home country_checkin      \n",
       "france       belgium            43\n",
       "cambodia     singapore           1\n",
       "portugal     japan               1"
      ]
     },
     "execution_count": 64,
     "metadata": {},
     "output_type": "execute_result"
    }
   ],
   "source": [
    "country_gowalla_trips.sample(3)"
   ]
  },
  {
   "cell_type": "markdown",
   "metadata": {},
   "source": [
    "### !! Updating the data : people who traveled between countries !!"
   ]
  },
  {
   "cell_type": "markdown",
   "metadata": {},
   "source": [
    "We save the results in csv files just to simplify the following computations "
   ]
  },
  {
   "cell_type": "code",
   "execution_count": 65,
   "metadata": {},
   "outputs": [],
   "source": [
    "BRIGHTKITE_TRIPS = DATA_FOLDER+\"country_brightkite_trips.csv\"\n",
    "GOWALLA_TRIPS = DATA_FOLDER+\"country_gowalla_trips.csv\""
   ]
  },
  {
   "cell_type": "code",
   "execution_count": 66,
   "metadata": {},
   "outputs": [],
   "source": [
    "brightkite_trips = pd.read_csv(BRIGHTKITE_TRIPS)\n",
    "gowalla_trips = pd.read_csv(GOWALLA_TRIPS)"
   ]
  },
  {
   "cell_type": "markdown",
   "metadata": {},
   "source": [
    "# 2. Which factors drive people when they travel ? "
   ]
  },
  {
   "cell_type": "markdown",
   "metadata": {},
   "source": [
    "In this section we try to investigate which factors might have an impact on people travelling from one country to another. With this purpose we analyse the distance covered with each travel, the language spoken in the country to where we travel to (and compared to the mother tongue) and finally the GDP aof the countries where we go. "
   ]
  },
  {
   "cell_type": "markdown",
   "metadata": {},
   "source": [
    "## 2.1 The distance "
   ]
  },
  {
   "cell_type": "code",
   "execution_count": 67,
   "metadata": {},
   "outputs": [
    {
     "data": {
      "text/html": [
       "<div>\n",
       "<style scoped>\n",
       "    .dataframe tbody tr th:only-of-type {\n",
       "        vertical-align: middle;\n",
       "    }\n",
       "\n",
       "    .dataframe tbody tr th {\n",
       "        vertical-align: top;\n",
       "    }\n",
       "\n",
       "    .dataframe thead th {\n",
       "        text-align: right;\n",
       "    }\n",
       "</style>\n",
       "<table border=\"1\" class=\"dataframe\">\n",
       "  <thead>\n",
       "    <tr style=\"text-align: right;\">\n",
       "      <th></th>\n",
       "      <th>user</th>\n",
       "      <th>time</th>\n",
       "      <th>lat</th>\n",
       "      <th>lon</th>\n",
       "      <th>location_id</th>\n",
       "      <th>latitude_cell_number</th>\n",
       "      <th>longitude_cell_number</th>\n",
       "      <th>country_checkin</th>\n",
       "      <th>home_lat</th>\n",
       "      <th>home_lon</th>\n",
       "      <th>country_home</th>\n",
       "      <th>distance_from_home</th>\n",
       "      <th>previous_country_checkin</th>\n",
       "      <th>change_arrival_country</th>\n",
       "      <th>not_home_country</th>\n",
       "    </tr>\n",
       "  </thead>\n",
       "  <tbody>\n",
       "    <tr>\n",
       "      <th>10</th>\n",
       "      <td>0</td>\n",
       "      <td>2010-10-12 00:21:28+00:00</td>\n",
       "      <td>40.643885</td>\n",
       "      <td>-73.782806</td>\n",
       "      <td>23261</td>\n",
       "      <td>179.0</td>\n",
       "      <td>-250.0</td>\n",
       "      <td>united states</td>\n",
       "      <td>30.263544</td>\n",
       "      <td>-97.744633</td>\n",
       "      <td>united states</td>\n",
       "      <td>2446.840424</td>\n",
       "      <td>NaN</td>\n",
       "      <td>1</td>\n",
       "      <td>0</td>\n",
       "    </tr>\n",
       "    <tr>\n",
       "      <th>11</th>\n",
       "      <td>0</td>\n",
       "      <td>2010-10-11 20:21:20+00:00</td>\n",
       "      <td>40.741374</td>\n",
       "      <td>-73.988105</td>\n",
       "      <td>16907</td>\n",
       "      <td>180.0</td>\n",
       "      <td>-250.0</td>\n",
       "      <td>united states</td>\n",
       "      <td>30.263544</td>\n",
       "      <td>-97.744633</td>\n",
       "      <td>united states</td>\n",
       "      <td>2434.516744</td>\n",
       "      <td>united states</td>\n",
       "      <td>0</td>\n",
       "      <td>0</td>\n",
       "    </tr>\n",
       "    <tr>\n",
       "      <th>12</th>\n",
       "      <td>0</td>\n",
       "      <td>2010-10-11 20:20:42+00:00</td>\n",
       "      <td>40.741388</td>\n",
       "      <td>-73.989455</td>\n",
       "      <td>12973</td>\n",
       "      <td>180.0</td>\n",
       "      <td>-250.0</td>\n",
       "      <td>united states</td>\n",
       "      <td>30.263544</td>\n",
       "      <td>-97.744633</td>\n",
       "      <td>united states</td>\n",
       "      <td>2434.411230</td>\n",
       "      <td>united states</td>\n",
       "      <td>0</td>\n",
       "      <td>0</td>\n",
       "    </tr>\n",
       "  </tbody>\n",
       "</table>\n",
       "</div>"
      ],
      "text/plain": [
       "    user                      time        lat        lon  location_id  \\\n",
       "10     0 2010-10-12 00:21:28+00:00  40.643885 -73.782806        23261   \n",
       "11     0 2010-10-11 20:21:20+00:00  40.741374 -73.988105        16907   \n",
       "12     0 2010-10-11 20:20:42+00:00  40.741388 -73.989455        12973   \n",
       "\n",
       "    latitude_cell_number  longitude_cell_number country_checkin   home_lat  \\\n",
       "10                 179.0                 -250.0   united states  30.263544   \n",
       "11                 180.0                 -250.0   united states  30.263544   \n",
       "12                 180.0                 -250.0   united states  30.263544   \n",
       "\n",
       "     home_lon   country_home  distance_from_home previous_country_checkin  \\\n",
       "10 -97.744633  united states         2446.840424                      NaN   \n",
       "11 -97.744633  united states         2434.516744            united states   \n",
       "12 -97.744633  united states         2434.411230            united states   \n",
       "\n",
       "    change_arrival_country  not_home_country  \n",
       "10                       1                 0  \n",
       "11                       0                 0  \n",
       "12                       0                 0  "
      ]
     },
     "execution_count": 67,
     "metadata": {},
     "output_type": "execute_result"
    }
   ],
   "source": [
    "# The distances of the check-ins identified as travel check-ins (i.e. far check-ins) are already in the following dataframes\n",
    "gowalla_far_checkins.head(3)"
   ]
  },
  {
   "cell_type": "code",
   "execution_count": 68,
   "metadata": {},
   "outputs": [
    {
     "data": {
      "text/html": [
       "<div>\n",
       "<style scoped>\n",
       "    .dataframe tbody tr th:only-of-type {\n",
       "        vertical-align: middle;\n",
       "    }\n",
       "\n",
       "    .dataframe tbody tr th {\n",
       "        vertical-align: top;\n",
       "    }\n",
       "\n",
       "    .dataframe thead th {\n",
       "        text-align: right;\n",
       "    }\n",
       "</style>\n",
       "<table border=\"1\" class=\"dataframe\">\n",
       "  <thead>\n",
       "    <tr style=\"text-align: right;\">\n",
       "      <th></th>\n",
       "      <th>user</th>\n",
       "      <th>time</th>\n",
       "      <th>lat</th>\n",
       "      <th>lon</th>\n",
       "      <th>location_id</th>\n",
       "      <th>latitude_cell_number</th>\n",
       "      <th>longitude_cell_number</th>\n",
       "      <th>country_checkin</th>\n",
       "      <th>home_lat</th>\n",
       "      <th>home_lon</th>\n",
       "      <th>country_home</th>\n",
       "      <th>distance_from_home</th>\n",
       "      <th>previous_country_checkin</th>\n",
       "      <th>change_arrival_country</th>\n",
       "      <th>not_home_country</th>\n",
       "    </tr>\n",
       "  </thead>\n",
       "  <tbody>\n",
       "    <tr>\n",
       "      <th>341</th>\n",
       "      <td>0</td>\n",
       "      <td>2010-05-07 22:34:54+00:00</td>\n",
       "      <td>37.615223</td>\n",
       "      <td>-122.389979</td>\n",
       "      <td>f0ed8591044a8214451d9c04607ccbfb</td>\n",
       "      <td>166.0</td>\n",
       "      <td>-432.0</td>\n",
       "      <td>united states</td>\n",
       "      <td>39.746677</td>\n",
       "      <td>-104.973619</td>\n",
       "      <td>united states</td>\n",
       "      <td>1527.749989</td>\n",
       "      <td>NaN</td>\n",
       "      <td>1</td>\n",
       "      <td>0</td>\n",
       "    </tr>\n",
       "    <tr>\n",
       "      <th>342</th>\n",
       "      <td>0</td>\n",
       "      <td>2010-05-07 21:10:40+00:00</td>\n",
       "      <td>37.579361</td>\n",
       "      <td>-122.346108</td>\n",
       "      <td>ca094b92244011de8447003048c0801e</td>\n",
       "      <td>166.0</td>\n",
       "      <td>-432.0</td>\n",
       "      <td>united states</td>\n",
       "      <td>39.746677</td>\n",
       "      <td>-104.973619</td>\n",
       "      <td>united states</td>\n",
       "      <td>1524.996827</td>\n",
       "      <td>united states</td>\n",
       "      <td>0</td>\n",
       "      <td>0</td>\n",
       "    </tr>\n",
       "    <tr>\n",
       "      <th>343</th>\n",
       "      <td>0</td>\n",
       "      <td>2010-05-07 18:18:37+00:00</td>\n",
       "      <td>37.578379</td>\n",
       "      <td>-122.347524</td>\n",
       "      <td>31c4ef9bbd5f8ebe234058cbb6d265af</td>\n",
       "      <td>166.0</td>\n",
       "      <td>-432.0</td>\n",
       "      <td>united states</td>\n",
       "      <td>39.746677</td>\n",
       "      <td>-104.973619</td>\n",
       "      <td>united states</td>\n",
       "      <td>1525.144928</td>\n",
       "      <td>united states</td>\n",
       "      <td>0</td>\n",
       "      <td>0</td>\n",
       "    </tr>\n",
       "  </tbody>\n",
       "</table>\n",
       "</div>"
      ],
      "text/plain": [
       "     user                      time        lat         lon  \\\n",
       "341     0 2010-05-07 22:34:54+00:00  37.615223 -122.389979   \n",
       "342     0 2010-05-07 21:10:40+00:00  37.579361 -122.346108   \n",
       "343     0 2010-05-07 18:18:37+00:00  37.578379 -122.347524   \n",
       "\n",
       "                          location_id  latitude_cell_number  \\\n",
       "341  f0ed8591044a8214451d9c04607ccbfb                 166.0   \n",
       "342  ca094b92244011de8447003048c0801e                 166.0   \n",
       "343  31c4ef9bbd5f8ebe234058cbb6d265af                 166.0   \n",
       "\n",
       "     longitude_cell_number country_checkin   home_lat    home_lon  \\\n",
       "341                 -432.0   united states  39.746677 -104.973619   \n",
       "342                 -432.0   united states  39.746677 -104.973619   \n",
       "343                 -432.0   united states  39.746677 -104.973619   \n",
       "\n",
       "      country_home  distance_from_home previous_country_checkin  \\\n",
       "341  united states         1527.749989                      NaN   \n",
       "342  united states         1524.996827            united states   \n",
       "343  united states         1525.144928            united states   \n",
       "\n",
       "     change_arrival_country  not_home_country  \n",
       "341                       1                 0  \n",
       "342                       0                 0  \n",
       "343                       0                 0  "
      ]
     },
     "execution_count": 68,
     "metadata": {},
     "output_type": "execute_result"
    }
   ],
   "source": [
    "brightkite_far_checkins.head(3)"
   ]
  },
  {
   "cell_type": "markdown",
   "metadata": {},
   "source": [
    "Moreover, the distance between two countries is defined as the mean of the distances traveled by users who did travel between the two given countries. "
   ]
  },
  {
   "cell_type": "code",
   "execution_count": 69,
   "metadata": {},
   "outputs": [],
   "source": [
    "def gowalla_distance_between_countries(row):\n",
    "    '''returns the distance between 2 countries as defined previusly (Gowalla dataset)'''\n",
    "    country_home = row['country_home']\n",
    "    country_checkin = row['country_checkin']\n",
    "    distance = gowalla_far_checkins[(gowalla_far_checkins.country_home == country_home) & \n",
    "                                    (gowalla_far_checkins.country_checkin == country_checkin)].distance_from_home.mean()\n",
    "    return(distance)"
   ]
  },
  {
   "cell_type": "code",
   "execution_count": 70,
   "metadata": {},
   "outputs": [],
   "source": [
    "def brightkite_distance_between_countries(row):\n",
    "    '''returns the distance between 2 countries as defined previusly (Brightkite dataset)'''\n",
    "    country_home = row['country_home']\n",
    "    country_checkin = row['country_checkin']\n",
    "    distance = brightkite_far_checkins[(brightkite_far_checkins.country_home == country_home) & \n",
    "                                    (brightkite_far_checkins.country_checkin == country_checkin)].distance_from_home.mean()\n",
    "    return(distance)"
   ]
  },
  {
   "cell_type": "code",
   "execution_count": null,
   "metadata": {},
   "outputs": [],
   "source": [
    "gowalla_trips['distance'] = gowalla_trips.apply(lambda row: gowalla_distance_between_countries(row), axis = 1)\n",
    "brightkite_trips['distance'] = brightkite_trips.apply(lambda row: brightkite_distance_between_countries(row), axis = 1)"
   ]
  },
  {
   "cell_type": "code",
   "execution_count": null,
   "metadata": {},
   "outputs": [],
   "source": [
    "gowalla_trips.sample(3)"
   ]
  },
  {
   "cell_type": "markdown",
   "metadata": {},
   "source": [
    "## 2.2 The language"
   ]
  },
  {
   "cell_type": "markdown",
   "metadata": {},
   "source": [
    "In order to identify the languages of the home and arrival country we use the dataset *languages*"
   ]
  },
  {
   "cell_type": "code",
   "execution_count": 72,
   "metadata": {},
   "outputs": [],
   "source": [
    "languages['country'] = languages['country'].str.strip()\n",
    "languages['country'] = languages['country'].str.lower()\n",
    "languages['language'] = languages['language'].str.lower()"
   ]
  },
  {
   "cell_type": "code",
   "execution_count": 73,
   "metadata": {},
   "outputs": [
    {
     "data": {
      "text/html": [
       "<div>\n",
       "<style scoped>\n",
       "    .dataframe tbody tr th:only-of-type {\n",
       "        vertical-align: middle;\n",
       "    }\n",
       "\n",
       "    .dataframe tbody tr th {\n",
       "        vertical-align: top;\n",
       "    }\n",
       "\n",
       "    .dataframe thead th {\n",
       "        text-align: right;\n",
       "    }\n",
       "</style>\n",
       "<table border=\"1\" class=\"dataframe\">\n",
       "  <thead>\n",
       "    <tr style=\"text-align: right;\">\n",
       "      <th></th>\n",
       "      <th>country</th>\n",
       "      <th>language</th>\n",
       "    </tr>\n",
       "  </thead>\n",
       "  <tbody>\n",
       "    <tr>\n",
       "      <th>145</th>\n",
       "      <td>peru</td>\n",
       "      <td>spanish (official) 82.9%, quechua (official) 1...</td>\n",
       "    </tr>\n",
       "    <tr>\n",
       "      <th>118</th>\n",
       "      <td>NaN</td>\n",
       "      <td>note: indigenous languages include various may...</td>\n",
       "    </tr>\n",
       "    <tr>\n",
       "      <th>50</th>\n",
       "      <td>dominican republic</td>\n",
       "      <td>spanish (official)</td>\n",
       "    </tr>\n",
       "  </tbody>\n",
       "</table>\n",
       "</div>"
      ],
      "text/plain": [
       "                country                                           language\n",
       "145                peru  spanish (official) 82.9%, quechua (official) 1...\n",
       "118                 NaN  note: indigenous languages include various may...\n",
       "50   dominican republic                                 spanish (official)"
      ]
     },
     "execution_count": 73,
     "metadata": {},
     "output_type": "execute_result"
    }
   ],
   "source": [
    "languages.sample(3)"
   ]
  },
  {
   "cell_type": "code",
   "execution_count": 74,
   "metadata": {},
   "outputs": [],
   "source": [
    "# The language is given by the first word in this last dataset. Therefore, to be able to merge it with other datasets\n",
    "# in the following codes, we have to perform the following operations. \n",
    "# Only keep the first word (either separated by a comma or a space from other words)\n",
    "languages['language'] = languages['language'].str.partition(' ')[0]\n",
    "languages['language'] = languages['language'].str.partition(',')[0]"
   ]
  },
  {
   "cell_type": "code",
   "execution_count": 75,
   "metadata": {},
   "outputs": [
    {
     "data": {
      "text/html": [
       "<div>\n",
       "<style scoped>\n",
       "    .dataframe tbody tr th:only-of-type {\n",
       "        vertical-align: middle;\n",
       "    }\n",
       "\n",
       "    .dataframe tbody tr th {\n",
       "        vertical-align: top;\n",
       "    }\n",
       "\n",
       "    .dataframe thead th {\n",
       "        text-align: right;\n",
       "    }\n",
       "</style>\n",
       "<table border=\"1\" class=\"dataframe\">\n",
       "  <thead>\n",
       "    <tr style=\"text-align: right;\">\n",
       "      <th></th>\n",
       "      <th>country_home</th>\n",
       "      <th>country_checkin</th>\n",
       "      <th>user</th>\n",
       "      <th>language_home</th>\n",
       "      <th>language_checkin</th>\n",
       "    </tr>\n",
       "  </thead>\n",
       "  <tbody>\n",
       "    <tr>\n",
       "      <th>0</th>\n",
       "      <td>afghanistan</td>\n",
       "      <td>belgium</td>\n",
       "      <td>1</td>\n",
       "      <td>dari</td>\n",
       "      <td>dutch</td>\n",
       "    </tr>\n",
       "    <tr>\n",
       "      <th>1</th>\n",
       "      <td>afghanistan</td>\n",
       "      <td>united arab emirates</td>\n",
       "      <td>1</td>\n",
       "      <td>dari</td>\n",
       "      <td>arabic</td>\n",
       "    </tr>\n",
       "    <tr>\n",
       "      <th>2</th>\n",
       "      <td>afghanistan</td>\n",
       "      <td>united kingdom</td>\n",
       "      <td>1</td>\n",
       "      <td>dari</td>\n",
       "      <td>english</td>\n",
       "    </tr>\n",
       "    <tr>\n",
       "      <th>3</th>\n",
       "      <td>albania</td>\n",
       "      <td>hungary</td>\n",
       "      <td>1</td>\n",
       "      <td>albanian</td>\n",
       "      <td>hungarian</td>\n",
       "    </tr>\n",
       "    <tr>\n",
       "      <th>4</th>\n",
       "      <td>albania</td>\n",
       "      <td>spain</td>\n",
       "      <td>1</td>\n",
       "      <td>albanian</td>\n",
       "      <td>castilian</td>\n",
       "    </tr>\n",
       "  </tbody>\n",
       "</table>\n",
       "</div>"
      ],
      "text/plain": [
       "  country_home       country_checkin  user language_home language_checkin\n",
       "0  afghanistan               belgium     1          dari            dutch\n",
       "1  afghanistan  united arab emirates     1          dari           arabic\n",
       "2  afghanistan        united kingdom     1          dari          english\n",
       "3      albania               hungary     1      albanian        hungarian\n",
       "4      albania                 spain     1      albanian        castilian"
      ]
     },
     "execution_count": 75,
     "metadata": {},
     "output_type": "execute_result"
    }
   ],
   "source": [
    "# Now we can merge this with our dataframes \n",
    "gowalla_trips = pd.merge(gowalla_trips, languages, how = 'left', left_on = 'country_home', right_on = 'country')\n",
    "gowalla_trips.drop(columns = 'country', inplace = True)\n",
    "gowalla_trips.rename(columns = {'language':'language_home'}, inplace = True)\n",
    "\n",
    "gowalla_trips = pd.merge(gowalla_trips, languages, how = 'left', left_on = 'country_checkin', right_on = 'country')\n",
    "gowalla_trips.drop(columns = 'country', inplace = True)\n",
    "gowalla_trips.rename(columns = {'language':'language_checkin'}, inplace = True)\n",
    "\n",
    "gowalla_trips.head()"
   ]
  },
  {
   "cell_type": "code",
   "execution_count": 76,
   "metadata": {},
   "outputs": [
    {
     "data": {
      "text/html": [
       "<div>\n",
       "<style scoped>\n",
       "    .dataframe tbody tr th:only-of-type {\n",
       "        vertical-align: middle;\n",
       "    }\n",
       "\n",
       "    .dataframe tbody tr th {\n",
       "        vertical-align: top;\n",
       "    }\n",
       "\n",
       "    .dataframe thead th {\n",
       "        text-align: right;\n",
       "    }\n",
       "</style>\n",
       "<table border=\"1\" class=\"dataframe\">\n",
       "  <thead>\n",
       "    <tr style=\"text-align: right;\">\n",
       "      <th></th>\n",
       "      <th>country_home</th>\n",
       "      <th>country_checkin</th>\n",
       "      <th>user</th>\n",
       "      <th>language_home</th>\n",
       "      <th>language_checkin</th>\n",
       "    </tr>\n",
       "  </thead>\n",
       "  <tbody>\n",
       "    <tr>\n",
       "      <th>0</th>\n",
       "      <td>algeria</td>\n",
       "      <td>france</td>\n",
       "      <td>1</td>\n",
       "      <td>arabic</td>\n",
       "      <td>french</td>\n",
       "    </tr>\n",
       "    <tr>\n",
       "      <th>1</th>\n",
       "      <td>angola</td>\n",
       "      <td>portugal</td>\n",
       "      <td>1</td>\n",
       "      <td>portuguese</td>\n",
       "      <td>portuguese</td>\n",
       "    </tr>\n",
       "    <tr>\n",
       "      <th>2</th>\n",
       "      <td>argentina</td>\n",
       "      <td>benin</td>\n",
       "      <td>2</td>\n",
       "      <td>spanish</td>\n",
       "      <td>french</td>\n",
       "    </tr>\n",
       "    <tr>\n",
       "      <th>3</th>\n",
       "      <td>argentina</td>\n",
       "      <td>brazil</td>\n",
       "      <td>2</td>\n",
       "      <td>spanish</td>\n",
       "      <td>portuguese</td>\n",
       "    </tr>\n",
       "    <tr>\n",
       "      <th>4</th>\n",
       "      <td>argentina</td>\n",
       "      <td>chad</td>\n",
       "      <td>1</td>\n",
       "      <td>spanish</td>\n",
       "      <td>french</td>\n",
       "    </tr>\n",
       "  </tbody>\n",
       "</table>\n",
       "</div>"
      ],
      "text/plain": [
       "  country_home country_checkin  user language_home language_checkin\n",
       "0      algeria          france     1        arabic           french\n",
       "1       angola        portugal     1    portuguese       portuguese\n",
       "2    argentina           benin     2       spanish           french\n",
       "3    argentina          brazil     2       spanish       portuguese\n",
       "4    argentina            chad     1       spanish           french"
      ]
     },
     "execution_count": 76,
     "metadata": {},
     "output_type": "execute_result"
    }
   ],
   "source": [
    "# Same thing for the Brightkite dataset\n",
    "brightkite_trips = pd.merge(brightkite_trips, languages, how = 'left', left_on = 'country_home', right_on = 'country')\n",
    "brightkite_trips.drop(columns = 'country', inplace = True)\n",
    "brightkite_trips.rename(columns = {'language':'language_home'}, inplace = True)\n",
    "\n",
    "brightkite_trips = pd.merge(brightkite_trips, languages, how = 'left', left_on = 'country_checkin', right_on = 'country')\n",
    "brightkite_trips.drop(columns = 'country', inplace = True)\n",
    "brightkite_trips.rename(columns = {'language':'language_checkin'}, inplace = True)\n",
    "\n",
    "brightkite_trips.head()"
   ]
  },
  {
   "cell_type": "code",
   "execution_count": 77,
   "metadata": {},
   "outputs": [],
   "source": [
    "def same_language(row):\n",
    "    '''returns 1 if the home country and check-in country have the same language and 0 of not'''\n",
    "    language_home = row['language_home']\n",
    "    language_checkin = row['language_checkin']\n",
    "    if(language_home == language_checkin):\n",
    "        return(1)\n",
    "    else:\n",
    "        return(0)"
   ]
  },
  {
   "cell_type": "code",
   "execution_count": 78,
   "metadata": {},
   "outputs": [],
   "source": [
    "# Adds a column to the dataframes telling if the home and check-in countries have the same language or not. \n",
    "gowalla_trips['same_language'] = gowalla_trips.apply(lambda row : same_language(row), axis = 1)\n",
    "brightkite_trips['same_language'] = brightkite_trips.apply(lambda row : same_language(row), axis = 1)"
   ]
  },
  {
   "cell_type": "code",
   "execution_count": 79,
   "metadata": {},
   "outputs": [
    {
     "name": "stdout",
     "output_type": "stream",
     "text": [
      "Percentage of people who travel in a country with the same language : 18.7 % (Brightkite)\n"
     ]
    }
   ],
   "source": [
    "brightkite_trips['language_cumulated'] = brightkite_trips['user']*brightkite_trips['same_language']\n",
    "brightkite_language_perc = brightkite_trips['language_cumulated'].sum()/brightkite_trips['user'].sum()\n",
    "print(\"Percentage of people who travel in a country with the same language :\", round(100*brightkite_language_perc, 2), \"% (Brightkite)\")"
   ]
  },
  {
   "cell_type": "code",
   "execution_count": 80,
   "metadata": {},
   "outputs": [
    {
     "name": "stdout",
     "output_type": "stream",
     "text": [
      "Percentage of people who travel in a country with the same language : 14.24 % (Gowalla)\n"
     ]
    }
   ],
   "source": [
    "gowalla_trips['language_cumulated'] = gowalla_trips['user']*gowalla_trips['same_language']\n",
    "gowalla_language_perc = gowalla_trips['language_cumulated'].sum()/gowalla_trips['user'].sum()\n",
    "print(\"Percentage of people who travel in a country with the same language :\", round(100*gowalla_language_perc, 2), \"% (Gowalla)\")"
   ]
  },
  {
   "cell_type": "code",
   "execution_count": 81,
   "metadata": {},
   "outputs": [
    {
     "name": "stdout",
     "output_type": "stream",
     "text": [
      "Same language countries : 5.8 % (Gowalla)\n"
     ]
    }
   ],
   "source": [
    "print(\"Same language countries :\", round(100*gowalla_trips['same_language'].mean(), 2), \"% (Gowalla)\")"
   ]
  },
  {
   "cell_type": "code",
   "execution_count": 82,
   "metadata": {},
   "outputs": [
    {
     "name": "stdout",
     "output_type": "stream",
     "text": [
      "Same language countries : 6.84 % (Brightkite)\n"
     ]
    }
   ],
   "source": [
    "print(\"Same language countries :\", round(100*brightkite_trips['same_language'].mean(), 2), \"% (Brightkite)\")"
   ]
  },
  {
   "cell_type": "code",
   "execution_count": 83,
   "metadata": {},
   "outputs": [
    {
     "data": {
      "text/html": [
       "<div>\n",
       "<style scoped>\n",
       "    .dataframe tbody tr th:only-of-type {\n",
       "        vertical-align: middle;\n",
       "    }\n",
       "\n",
       "    .dataframe tbody tr th {\n",
       "        vertical-align: top;\n",
       "    }\n",
       "\n",
       "    .dataframe thead th {\n",
       "        text-align: right;\n",
       "    }\n",
       "</style>\n",
       "<table border=\"1\" class=\"dataframe\">\n",
       "  <thead>\n",
       "    <tr style=\"text-align: right;\">\n",
       "      <th></th>\n",
       "      <th>country_home</th>\n",
       "      <th>country_checkin</th>\n",
       "      <th>user</th>\n",
       "      <th>language_home</th>\n",
       "      <th>language_checkin</th>\n",
       "      <th>same_language</th>\n",
       "      <th>language_cumulated</th>\n",
       "    </tr>\n",
       "  </thead>\n",
       "  <tbody>\n",
       "    <tr>\n",
       "      <th>2194</th>\n",
       "      <td>united kingdom</td>\n",
       "      <td>uganda</td>\n",
       "      <td>1</td>\n",
       "      <td>english</td>\n",
       "      <td>english</td>\n",
       "      <td>1</td>\n",
       "      <td>1</td>\n",
       "    </tr>\n",
       "    <tr>\n",
       "      <th>1028</th>\n",
       "      <td>jordan</td>\n",
       "      <td>bahrain</td>\n",
       "      <td>1</td>\n",
       "      <td>arabic</td>\n",
       "      <td>arabic</td>\n",
       "      <td>1</td>\n",
       "      <td>1</td>\n",
       "    </tr>\n",
       "    <tr>\n",
       "      <th>384</th>\n",
       "      <td>czech republic</td>\n",
       "      <td>belgium</td>\n",
       "      <td>4</td>\n",
       "      <td>greek</td>\n",
       "      <td>dutch</td>\n",
       "      <td>0</td>\n",
       "      <td>0</td>\n",
       "    </tr>\n",
       "  </tbody>\n",
       "</table>\n",
       "</div>"
      ],
      "text/plain": [
       "        country_home country_checkin  user language_home language_checkin  \\\n",
       "2194  united kingdom          uganda     1       english          english   \n",
       "1028          jordan         bahrain     1        arabic           arabic   \n",
       "384   czech republic         belgium     4         greek            dutch   \n",
       "\n",
       "      same_language  language_cumulated  \n",
       "2194              1                   1  \n",
       "1028              1                   1  \n",
       "384               0                   0  "
      ]
     },
     "execution_count": 83,
     "metadata": {},
     "output_type": "execute_result"
    }
   ],
   "source": [
    "gowalla_trips.sample(3)"
   ]
  },
  {
   "cell_type": "code",
   "execution_count": 84,
   "metadata": {},
   "outputs": [
    {
     "data": {
      "text/html": [
       "<div>\n",
       "<style scoped>\n",
       "    .dataframe tbody tr th:only-of-type {\n",
       "        vertical-align: middle;\n",
       "    }\n",
       "\n",
       "    .dataframe tbody tr th {\n",
       "        vertical-align: top;\n",
       "    }\n",
       "\n",
       "    .dataframe thead th {\n",
       "        text-align: right;\n",
       "    }\n",
       "</style>\n",
       "<table border=\"1\" class=\"dataframe\">\n",
       "  <thead>\n",
       "    <tr style=\"text-align: right;\">\n",
       "      <th></th>\n",
       "      <th>country_home</th>\n",
       "      <th>country_checkin</th>\n",
       "      <th>user</th>\n",
       "      <th>language_home</th>\n",
       "      <th>language_checkin</th>\n",
       "      <th>same_language</th>\n",
       "      <th>language_cumulated</th>\n",
       "    </tr>\n",
       "  </thead>\n",
       "  <tbody>\n",
       "    <tr>\n",
       "      <th>2125</th>\n",
       "      <td>united kingdom</td>\n",
       "      <td>portugal</td>\n",
       "      <td>17</td>\n",
       "      <td>english</td>\n",
       "      <td>portuguese</td>\n",
       "      <td>0</td>\n",
       "      <td>0</td>\n",
       "    </tr>\n",
       "    <tr>\n",
       "      <th>35</th>\n",
       "      <td>australia</td>\n",
       "      <td>colombia</td>\n",
       "      <td>2</td>\n",
       "      <td>english</td>\n",
       "      <td>spanish</td>\n",
       "      <td>0</td>\n",
       "      <td>0</td>\n",
       "    </tr>\n",
       "    <tr>\n",
       "      <th>1668</th>\n",
       "      <td>singapore</td>\n",
       "      <td>czech republic</td>\n",
       "      <td>2</td>\n",
       "      <td>english</td>\n",
       "      <td>greek</td>\n",
       "      <td>0</td>\n",
       "      <td>0</td>\n",
       "    </tr>\n",
       "  </tbody>\n",
       "</table>\n",
       "</div>"
      ],
      "text/plain": [
       "        country_home country_checkin  user language_home language_checkin  \\\n",
       "2125  united kingdom        portugal    17       english       portuguese   \n",
       "35         australia        colombia     2       english          spanish   \n",
       "1668       singapore  czech republic     2       english            greek   \n",
       "\n",
       "      same_language  language_cumulated  \n",
       "2125              0                   0  \n",
       "35                0                   0  \n",
       "1668              0                   0  "
      ]
     },
     "execution_count": 84,
     "metadata": {},
     "output_type": "execute_result"
    }
   ],
   "source": [
    "brightkite_trips.sample(3)"
   ]
  },
  {
   "cell_type": "markdown",
   "metadata": {},
   "source": [
    "## 2.3 The difference of GDP"
   ]
  },
  {
   "cell_type": "code",
   "execution_count": 85,
   "metadata": {},
   "outputs": [
    {
     "data": {
      "text/html": [
       "<div>\n",
       "<style scoped>\n",
       "    .dataframe tbody tr th:only-of-type {\n",
       "        vertical-align: middle;\n",
       "    }\n",
       "\n",
       "    .dataframe tbody tr th {\n",
       "        vertical-align: top;\n",
       "    }\n",
       "\n",
       "    .dataframe thead th {\n",
       "        text-align: right;\n",
       "    }\n",
       "</style>\n",
       "<table border=\"1\" class=\"dataframe\">\n",
       "  <thead>\n",
       "    <tr style=\"text-align: right;\">\n",
       "      <th></th>\n",
       "      <th>country</th>\n",
       "      <th>gdp</th>\n",
       "    </tr>\n",
       "  </thead>\n",
       "  <tbody>\n",
       "    <tr>\n",
       "      <th>0</th>\n",
       "      <td>afghanistan</td>\n",
       "      <td>700.0</td>\n",
       "    </tr>\n",
       "    <tr>\n",
       "      <th>1</th>\n",
       "      <td>albania</td>\n",
       "      <td>4500.0</td>\n",
       "    </tr>\n",
       "    <tr>\n",
       "      <th>2</th>\n",
       "      <td>algeria</td>\n",
       "      <td>6000.0</td>\n",
       "    </tr>\n",
       "  </tbody>\n",
       "</table>\n",
       "</div>"
      ],
      "text/plain": [
       "       country     gdp\n",
       "0  afghanistan   700.0\n",
       "1      albania  4500.0\n",
       "2      algeria  6000.0"
      ]
     },
     "execution_count": 85,
     "metadata": {},
     "output_type": "execute_result"
    }
   ],
   "source": [
    "countries_gdp['country'] = countries_gdp['country'].str.lower()\n",
    "countries_gdp['country'] = countries_gdp['country'].str.strip()\n",
    "countries_gdp.head(3) # this dataframe contains the GDP per capita of countries "
   ]
  },
  {
   "cell_type": "code",
   "execution_count": 86,
   "metadata": {},
   "outputs": [],
   "source": [
    "# Computes the difference of GDP between the departure country and the arrival country \n",
    "gowalla_trips = pd.merge(gowalla_trips, countries_gdp, how = 'left', left_on = 'country_home', right_on = 'country')\n",
    "gowalla_trips = pd.merge(gowalla_trips, countries_gdp, how = 'left', left_on = 'country_checkin', right_on = 'country', suffixes=('','_arrival'))\n",
    "gowalla_trips['gdp_difference'] = gowalla_trips['gdp'] - gowalla_trips['gdp_arrival']\n",
    "gowalla_trips.drop(columns = ['country', 'gdp', 'country_arrival', 'gdp_arrival'], inplace = True)\n",
    "\n",
    "brightkite_trips = pd.merge(brightkite_trips, countries_gdp, how = 'left', left_on = 'country_home', right_on = 'country')\n",
    "brightkite_trips = pd.merge(brightkite_trips, countries_gdp, how = 'left', left_on = 'country_checkin', right_on = 'country', suffixes=('','_arrival'))\n",
    "brightkite_trips['gdp_difference'] = brightkite_trips['gdp'] - brightkite_trips['gdp_arrival']\n",
    "brightkite_trips.drop(columns = ['country', 'gdp', 'country_arrival', 'gdp_arrival'], inplace = True)"
   ]
  },
  {
   "cell_type": "code",
   "execution_count": 87,
   "metadata": {},
   "outputs": [
    {
     "data": {
      "text/html": [
       "<div>\n",
       "<style scoped>\n",
       "    .dataframe tbody tr th:only-of-type {\n",
       "        vertical-align: middle;\n",
       "    }\n",
       "\n",
       "    .dataframe tbody tr th {\n",
       "        vertical-align: top;\n",
       "    }\n",
       "\n",
       "    .dataframe thead th {\n",
       "        text-align: right;\n",
       "    }\n",
       "</style>\n",
       "<table border=\"1\" class=\"dataframe\">\n",
       "  <thead>\n",
       "    <tr style=\"text-align: right;\">\n",
       "      <th></th>\n",
       "      <th>country_home</th>\n",
       "      <th>country_checkin</th>\n",
       "      <th>user</th>\n",
       "      <th>language_home</th>\n",
       "      <th>language_checkin</th>\n",
       "      <th>same_language</th>\n",
       "      <th>language_cumulated</th>\n",
       "      <th>gdp_difference</th>\n",
       "    </tr>\n",
       "  </thead>\n",
       "  <tbody>\n",
       "    <tr>\n",
       "      <th>1514</th>\n",
       "      <td>portugal</td>\n",
       "      <td>france</td>\n",
       "      <td>3</td>\n",
       "      <td>portuguese</td>\n",
       "      <td>french</td>\n",
       "      <td>0</td>\n",
       "      <td>0</td>\n",
       "      <td>-9600.0</td>\n",
       "    </tr>\n",
       "    <tr>\n",
       "      <th>1173</th>\n",
       "      <td>macao</td>\n",
       "      <td>greece</td>\n",
       "      <td>1</td>\n",
       "      <td>NaN</td>\n",
       "      <td>greek</td>\n",
       "      <td>0</td>\n",
       "      <td>0</td>\n",
       "      <td>NaN</td>\n",
       "    </tr>\n",
       "    <tr>\n",
       "      <th>1125</th>\n",
       "      <td>kenya</td>\n",
       "      <td>united states</td>\n",
       "      <td>1</td>\n",
       "      <td>english</td>\n",
       "      <td>english</td>\n",
       "      <td>1</td>\n",
       "      <td>1</td>\n",
       "      <td>-36800.0</td>\n",
       "    </tr>\n",
       "  </tbody>\n",
       "</table>\n",
       "</div>"
      ],
      "text/plain": [
       "     country_home country_checkin  user language_home language_checkin  \\\n",
       "1514     portugal          france     3    portuguese           french   \n",
       "1173        macao          greece     1           NaN            greek   \n",
       "1125        kenya   united states     1       english          english   \n",
       "\n",
       "      same_language  language_cumulated  gdp_difference  \n",
       "1514              0                   0         -9600.0  \n",
       "1173              0                   0             NaN  \n",
       "1125              1                   1        -36800.0  "
      ]
     },
     "execution_count": 87,
     "metadata": {},
     "output_type": "execute_result"
    }
   ],
   "source": [
    "brightkite_trips.sample(3)"
   ]
  },
  {
   "cell_type": "code",
   "execution_count": 88,
   "metadata": {},
   "outputs": [
    {
     "data": {
      "text/html": [
       "<div>\n",
       "<style scoped>\n",
       "    .dataframe tbody tr th:only-of-type {\n",
       "        vertical-align: middle;\n",
       "    }\n",
       "\n",
       "    .dataframe tbody tr th {\n",
       "        vertical-align: top;\n",
       "    }\n",
       "\n",
       "    .dataframe thead th {\n",
       "        text-align: right;\n",
       "    }\n",
       "</style>\n",
       "<table border=\"1\" class=\"dataframe\">\n",
       "  <thead>\n",
       "    <tr style=\"text-align: right;\">\n",
       "      <th></th>\n",
       "      <th>country_home</th>\n",
       "      <th>country_checkin</th>\n",
       "      <th>user</th>\n",
       "      <th>language_home</th>\n",
       "      <th>language_checkin</th>\n",
       "      <th>same_language</th>\n",
       "      <th>language_cumulated</th>\n",
       "      <th>gdp_difference</th>\n",
       "    </tr>\n",
       "  </thead>\n",
       "  <tbody>\n",
       "    <tr>\n",
       "      <th>589</th>\n",
       "      <td>france</td>\n",
       "      <td>luxembourg</td>\n",
       "      <td>4</td>\n",
       "      <td>french</td>\n",
       "      <td>luxembourgish</td>\n",
       "      <td>0</td>\n",
       "      <td>0</td>\n",
       "      <td>-27500.0</td>\n",
       "    </tr>\n",
       "    <tr>\n",
       "      <th>771</th>\n",
       "      <td>holy see (vatican city state)</td>\n",
       "      <td>romania</td>\n",
       "      <td>1</td>\n",
       "      <td>NaN</td>\n",
       "      <td>romanian</td>\n",
       "      <td>0</td>\n",
       "      <td>0</td>\n",
       "      <td>NaN</td>\n",
       "    </tr>\n",
       "    <tr>\n",
       "      <th>633</th>\n",
       "      <td>germany</td>\n",
       "      <td>bolivia, plurinational state of</td>\n",
       "      <td>2</td>\n",
       "      <td>german</td>\n",
       "      <td>NaN</td>\n",
       "      <td>0</td>\n",
       "      <td>0</td>\n",
       "      <td>NaN</td>\n",
       "    </tr>\n",
       "  </tbody>\n",
       "</table>\n",
       "</div>"
      ],
      "text/plain": [
       "                      country_home                  country_checkin  user  \\\n",
       "589                         france                       luxembourg     4   \n",
       "771  holy see (vatican city state)                          romania     1   \n",
       "633                        germany  bolivia, plurinational state of     2   \n",
       "\n",
       "    language_home language_checkin  same_language  language_cumulated  \\\n",
       "589        french    luxembourgish              0                   0   \n",
       "771           NaN         romanian              0                   0   \n",
       "633        german              NaN              0                   0   \n",
       "\n",
       "     gdp_difference  \n",
       "589        -27500.0  \n",
       "771             NaN  \n",
       "633             NaN  "
      ]
     },
     "execution_count": 88,
     "metadata": {},
     "output_type": "execute_result"
    }
   ],
   "source": [
    "gowalla_trips.sample(3)"
   ]
  },
  {
   "cell_type": "code",
   "execution_count": 89,
   "metadata": {},
   "outputs": [],
   "source": [
    "gowalla_trips.to_csv('data/gowalla_trips_full.csv')\n",
    "brightkite_trips.to_csv('data/brightkite_trips_full.csv')"
   ]
  },
  {
   "cell_type": "markdown",
   "metadata": {},
   "source": [
    "### !! Updating the data : trips between countries with full information !!"
   ]
  },
  {
   "cell_type": "code",
   "execution_count": 95,
   "metadata": {},
   "outputs": [],
   "source": [
    "BRIGHTKITE_TRIPS_FULL_INFORMATION = DATA_FOLDER+\"brightkite_trips_full.csv\"\n",
    "GOWALLA_TRIPS_FULL_INFORMATION = DATA_FOLDER+\"gowalla_trips_full.csv\""
   ]
  },
  {
   "cell_type": "code",
   "execution_count": 96,
   "metadata": {},
   "outputs": [],
   "source": [
    "brightkite_trips_full = pd.read_csv(BRIGHTKITE_TRIPS_FULL_INFORMATION, usecols = range(1,9))\n",
    "gowalla_trips_full = pd.read_csv(GOWALLA_TRIPS_FULL_INFORMATION, usecols = range(1,9))"
   ]
  },
  {
   "cell_type": "code",
   "execution_count": 97,
   "metadata": {},
   "outputs": [
    {
     "data": {
      "text/html": [
       "<div>\n",
       "<style scoped>\n",
       "    .dataframe tbody tr th:only-of-type {\n",
       "        vertical-align: middle;\n",
       "    }\n",
       "\n",
       "    .dataframe tbody tr th {\n",
       "        vertical-align: top;\n",
       "    }\n",
       "\n",
       "    .dataframe thead th {\n",
       "        text-align: right;\n",
       "    }\n",
       "</style>\n",
       "<table border=\"1\" class=\"dataframe\">\n",
       "  <thead>\n",
       "    <tr style=\"text-align: right;\">\n",
       "      <th></th>\n",
       "      <th>country_home</th>\n",
       "      <th>country_checkin</th>\n",
       "      <th>user</th>\n",
       "      <th>distance</th>\n",
       "      <th>language_home</th>\n",
       "      <th>language_checkin</th>\n",
       "      <th>same_language</th>\n",
       "      <th>gdp_difference</th>\n",
       "    </tr>\n",
       "  </thead>\n",
       "  <tbody>\n",
       "    <tr>\n",
       "      <th>0</th>\n",
       "      <td>afghanistan</td>\n",
       "      <td>belgium</td>\n",
       "      <td>1</td>\n",
       "      <td>5400.722789</td>\n",
       "      <td>dari</td>\n",
       "      <td>dutch</td>\n",
       "      <td>0</td>\n",
       "      <td>-28400.0</td>\n",
       "    </tr>\n",
       "    <tr>\n",
       "      <th>1</th>\n",
       "      <td>afghanistan</td>\n",
       "      <td>united arab emirates</td>\n",
       "      <td>1</td>\n",
       "      <td>1684.946973</td>\n",
       "      <td>dari</td>\n",
       "      <td>arabic</td>\n",
       "      <td>0</td>\n",
       "      <td>-22500.0</td>\n",
       "    </tr>\n",
       "    <tr>\n",
       "      <th>2</th>\n",
       "      <td>afghanistan</td>\n",
       "      <td>united kingdom</td>\n",
       "      <td>1</td>\n",
       "      <td>5707.038313</td>\n",
       "      <td>dari</td>\n",
       "      <td>english</td>\n",
       "      <td>0</td>\n",
       "      <td>-27000.0</td>\n",
       "    </tr>\n",
       "    <tr>\n",
       "      <th>3</th>\n",
       "      <td>albania</td>\n",
       "      <td>hungary</td>\n",
       "      <td>1</td>\n",
       "      <td>695.217690</td>\n",
       "      <td>albanian</td>\n",
       "      <td>hungarian</td>\n",
       "      <td>0</td>\n",
       "      <td>-9400.0</td>\n",
       "    </tr>\n",
       "    <tr>\n",
       "      <th>4</th>\n",
       "      <td>albania</td>\n",
       "      <td>spain</td>\n",
       "      <td>1</td>\n",
       "      <td>2143.897129</td>\n",
       "      <td>albanian</td>\n",
       "      <td>castilian</td>\n",
       "      <td>0</td>\n",
       "      <td>-17500.0</td>\n",
       "    </tr>\n",
       "  </tbody>\n",
       "</table>\n",
       "</div>"
      ],
      "text/plain": [
       "  country_home       country_checkin  user     distance language_home  \\\n",
       "0  afghanistan               belgium     1  5400.722789          dari   \n",
       "1  afghanistan  united arab emirates     1  1684.946973          dari   \n",
       "2  afghanistan        united kingdom     1  5707.038313          dari   \n",
       "3      albania               hungary     1   695.217690      albanian   \n",
       "4      albania                 spain     1  2143.897129      albanian   \n",
       "\n",
       "  language_checkin  same_language  gdp_difference  \n",
       "0            dutch              0        -28400.0  \n",
       "1           arabic              0        -22500.0  \n",
       "2          english              0        -27000.0  \n",
       "3        hungarian              0         -9400.0  \n",
       "4        castilian              0        -17500.0  "
      ]
     },
     "execution_count": 97,
     "metadata": {},
     "output_type": "execute_result"
    }
   ],
   "source": [
    "gowalla_trips_full.head()"
   ]
  },
  {
   "cell_type": "markdown",
   "metadata": {},
   "source": [
    "## 2.4 Polynomial regression"
   ]
  },
  {
   "cell_type": "markdown",
   "metadata": {},
   "source": [
    "Now that we have these three parameters, we can analyze their influence on the number of travellers between each pair of countries that are part of our study. We choose to use a polynomial regression to achieve this, as it was seen that a simple linear regression was not well representing the data. "
   ]
  },
  {
   "cell_type": "code",
   "execution_count": 98,
   "metadata": {},
   "outputs": [],
   "source": [
    "gowalla_trips_full_reg = gowalla_trips_full.copy()\n",
    "gowalla_trips_full_reg['distance'] = (gowalla_trips_full_reg['distance'] - gowalla_trips_full_reg['distance'].mean())/gowalla_trips_full_reg['distance'].std()\n",
    "gowalla_trips_full_reg['gdp_difference'] = (gowalla_trips_full_reg['gdp_difference'] - gowalla_trips_full_reg['gdp_difference'].mean())/gowalla_trips_full_reg['gdp_difference'].std()"
   ]
  },
  {
   "cell_type": "code",
   "execution_count": 99,
   "metadata": {},
   "outputs": [
    {
     "name": "stdout",
     "output_type": "stream",
     "text": [
      "                            OLS Regression Results                            \n",
      "==============================================================================\n",
      "Dep. Variable:                   user   R-squared:                       0.027\n",
      "Model:                            OLS   Adj. R-squared:                  0.021\n",
      "Method:                 Least Squares   F-statistic:                     4.856\n",
      "Date:                Fri, 18 Dec 2020   Prob (F-statistic):           1.94e-07\n",
      "Time:                        23:58:39   Log-Likelihood:                -10615.\n",
      "No. Observations:                1950   AIC:                         2.125e+04\n",
      "Df Residuals:                    1938   BIC:                         2.132e+04\n",
      "Df Model:                          11                                         \n",
      "Covariance Type:            nonrobust                                         \n",
      "==========================================================================================\n",
      "                             coef    std err          t      P>|t|      [0.025      0.975]\n",
      "------------------------------------------------------------------------------------------\n",
      "Intercept                 17.0231      3.295      5.166      0.000      10.560      23.486\n",
      "C(same_language)[T.1]     14.6303      5.144      2.844      0.004       4.543      24.718\n",
      "distance                   5.3901      4.230      1.274      0.203      -2.906      13.686\n",
      "gdp_difference             1.5696      3.902      0.402      0.688      -6.082       9.222\n",
      "I(distance ** 2)           1.6424      5.647      0.291      0.771      -9.433      12.718\n",
      "I(gdp_difference ** 2)   -11.5302      3.405     -3.386      0.001     -18.209      -4.851\n",
      "I(distance ** 3)          -8.7449      3.573     -2.447      0.014     -15.753      -1.737\n",
      "I(gdp_difference ** 3)    -1.6956      3.168     -0.535      0.593      -7.908       4.517\n",
      "I(distance ** 4)           4.0740      3.420      1.191      0.234      -2.633      10.781\n",
      "I(gdp_difference ** 4)     2.1528      0.940      2.290      0.022       0.309       3.996\n",
      "I(distance ** 5)          -0.5554      0.731     -0.760      0.447      -1.989       0.878\n",
      "I(gdp_difference ** 5)     0.4780      0.588      0.813      0.416      -0.675       1.631\n",
      "==============================================================================\n",
      "Omnibus:                     3054.438   Durbin-Watson:                   1.721\n",
      "Prob(Omnibus):                  0.000   Jarque-Bera (JB):          1235221.818\n",
      "Skew:                           9.866   Prob(JB):                         0.00\n",
      "Kurtosis:                     124.710   Cond. No.                         205.\n",
      "==============================================================================\n",
      "\n",
      "Notes:\n",
      "[1] Standard Errors assume that the covariance matrix of the errors is correctly specified.\n"
     ]
    }
   ],
   "source": [
    "mod = smf.ols(formula='user ~  distance + gdp_difference + C(same_language) \\\n",
    "              + I(distance**2) + I(gdp_difference**2) + I(distance**3) + I(gdp_difference**3) \\\n",
    "              + I(distance**4) + I(gdp_difference**4) + I(distance**5) + I(gdp_difference**5)', data=gowalla_trips_full_reg)\n",
    "res = mod.fit()\n",
    "print(res.summary())"
   ]
  },
  {
   "cell_type": "code",
   "execution_count": 100,
   "metadata": {},
   "outputs": [
    {
     "data": {
      "image/png": "[encoded data removed]",
      "text/plain": [
       "<Figure size 864x504 with 1 Axes>"
      ]
     },
     "metadata": {
      "needs_background": "light"
     },
     "output_type": "display_data"
    }
   ],
   "source": [
    "plt.rc('figure', figsize=(12, 7))\n",
    "plt.text(0.01, 0.05, str(res.summary()), {'fontsize': 10}, fontproperties = 'monospace') # approach improved by OP -> monospace!\n",
    "plt.axis('off')\n",
    "plt.tight_layout()\n",
    "plt.savefig('polynomial_reg_gowalla.png')"
   ]
  },
  {
   "cell_type": "code",
   "execution_count": 101,
   "metadata": {},
   "outputs": [],
   "source": [
    "brightkite_trips_full_reg = brightkite_trips_full.copy()\n",
    "brightkite_trips_full_reg['distance'] = (brightkite_trips_full_reg['distance'] - brightkite_trips_full_reg['distance'].mean())/brightkite_trips_full_reg['distance'].std()\n",
    "brightkite_trips_full_reg['gdp_difference'] = (brightkite_trips_full_reg['gdp_difference'] - brightkite_trips_full_reg['gdp_difference'].mean())/brightkite_trips_full_reg['gdp_difference'].std()"
   ]
  },
  {
   "cell_type": "code",
   "execution_count": 102,
   "metadata": {},
   "outputs": [
    {
     "name": "stdout",
     "output_type": "stream",
     "text": [
      "                            OLS Regression Results                            \n",
      "==============================================================================\n",
      "Dep. Variable:                   user   R-squared:                       0.027\n",
      "Model:                            OLS   Adj. R-squared:                  0.022\n",
      "Method:                 Least Squares   F-statistic:                     4.934\n",
      "Date:                Fri, 18 Dec 2020   Prob (F-statistic):           1.37e-07\n",
      "Time:                        23:58:40   Log-Likelihood:                -9571.1\n",
      "No. Observations:                1955   AIC:                         1.917e+04\n",
      "Df Residuals:                    1943   BIC:                         1.923e+04\n",
      "Df Model:                          11                                         \n",
      "Covariance Type:            nonrobust                                         \n",
      "==========================================================================================\n",
      "                             coef    std err          t      P>|t|      [0.025      0.975]\n",
      "------------------------------------------------------------------------------------------\n",
      "Intercept                 11.8507      1.855      6.388      0.000       8.212      15.489\n",
      "C(same_language)[T.1]     14.5319      2.788      5.212      0.000       9.064      20.000\n",
      "distance                   5.4854      2.234      2.456      0.014       1.105       9.866\n",
      "gdp_difference            -2.6624      2.095     -1.271      0.204      -6.771       1.446\n",
      "I(distance ** 2)          -6.4334      3.808     -1.689      0.091     -13.902       1.035\n",
      "I(gdp_difference ** 2)    -3.8805      1.561     -2.485      0.013      -6.943      -0.818\n",
      "I(distance ** 3)          -3.4404      1.729     -1.990      0.047      -6.831      -0.049\n",
      "I(gdp_difference ** 3)     2.1713      1.514      1.434      0.152      -0.798       5.141\n",
      "I(distance ** 4)           4.0253      2.001      2.011      0.044       0.100       7.950\n",
      "I(gdp_difference ** 4)     0.5653      0.360      1.569      0.117      -0.141       1.272\n",
      "I(distance ** 5)          -0.8575      0.614     -1.397      0.162      -2.061       0.346\n",
      "I(gdp_difference ** 5)    -0.2706      0.234     -1.159      0.247      -0.729       0.187\n",
      "==============================================================================\n",
      "Omnibus:                     3447.411   Durbin-Watson:                   1.792\n",
      "Prob(Omnibus):                  0.000   Jarque-Bera (JB):          3218615.894\n",
      "Skew:                          12.254   Prob(JB):                         0.00\n",
      "Kurtosis:                     200.261   Cond. No.                         116.\n",
      "==============================================================================\n",
      "\n",
      "Notes:\n",
      "[1] Standard Errors assume that the covariance matrix of the errors is correctly specified.\n"
     ]
    }
   ],
   "source": [
    "mod = smf.ols(formula='user ~  distance + gdp_difference + C(same_language) \\\n",
    "              + I(distance**2) + I(gdp_difference**2) + I(distance**3) + I(gdp_difference**3) \\\n",
    "              + I(distance**4) + I(gdp_difference**4) + I(distance**5) + I(gdp_difference**5)', data=brightkite_trips_full_reg)\n",
    "res = mod.fit()\n",
    "print(res.summary())"
   ]
  },
  {
   "cell_type": "code",
   "execution_count": 103,
   "metadata": {},
   "outputs": [
    {
     "data": {
      "image/png": "[encoded data removed]",
      "text/plain": [
       "<Figure size 864x504 with 1 Axes>"
      ]
     },
     "metadata": {
      "needs_background": "light"
     },
     "output_type": "display_data"
    }
   ],
   "source": [
    "plt.rc('figure', figsize=(12, 7))\n",
    "plt.text(0.01, 0.05, str(res.summary()), {'fontsize': 10}, fontproperties = 'monospace') # approach improved by OP -> monospace!\n",
    "plt.axis('off')\n",
    "plt.tight_layout()\n",
    "plt.savefig('polynomial_reg_brightkite.png')"
   ]
  },
  {
   "cell_type": "markdown",
   "metadata": {},
   "source": [
    "# 3. Comparison between American and European users"
   ]
  },
  {
   "cell_type": "markdown",
   "metadata": {},
   "source": [
    "We will be interested in the following topics :\n",
    "- Average distance \n",
    "- Part of the population going out of the country to travel \n",
    "- Number of visited country per traveller  "
   ]
  },
  {
   "cell_type": "code",
   "execution_count": 104,
   "metadata": {},
   "outputs": [
    {
     "data": {
      "text/html": [
       "<div>\n",
       "<style scoped>\n",
       "    .dataframe tbody tr th:only-of-type {\n",
       "        vertical-align: middle;\n",
       "    }\n",
       "\n",
       "    .dataframe tbody tr th {\n",
       "        vertical-align: top;\n",
       "    }\n",
       "\n",
       "    .dataframe thead th {\n",
       "        text-align: right;\n",
       "    }\n",
       "</style>\n",
       "<table border=\"1\" class=\"dataframe\">\n",
       "  <thead>\n",
       "    <tr style=\"text-align: right;\">\n",
       "      <th></th>\n",
       "      <th>country</th>\n",
       "      <th>code</th>\n",
       "      <th>region</th>\n",
       "      <th>continent</th>\n",
       "    </tr>\n",
       "  </thead>\n",
       "  <tbody>\n",
       "    <tr>\n",
       "      <th>239</th>\n",
       "      <td>uruguay</td>\n",
       "      <td>URY</td>\n",
       "      <td>south america</td>\n",
       "      <td>south america</td>\n",
       "    </tr>\n",
       "    <tr>\n",
       "      <th>142</th>\n",
       "      <td>mayotte</td>\n",
       "      <td>MYT</td>\n",
       "      <td>eastern africa</td>\n",
       "      <td>africa</td>\n",
       "    </tr>\n",
       "  </tbody>\n",
       "</table>\n",
       "</div>"
      ],
      "text/plain": [
       "     country code          region      continent\n",
       "239  uruguay  URY   south america  south america\n",
       "142  mayotte  MYT  eastern africa         africa"
      ]
     },
     "execution_count": 104,
     "metadata": {},
     "output_type": "execute_result"
    }
   ],
   "source": [
    "continents['country'] = continents['country'].str.lower()\n",
    "continents['region'] = continents['region'].str.lower()\n",
    "continents['continent'] = continents['continent'].str.lower()\n",
    "continents.sample(2)"
   ]
  },
  {
   "cell_type": "code",
   "execution_count": 105,
   "metadata": {},
   "outputs": [
    {
     "data": {
      "text/html": [
       "<div>\n",
       "<style scoped>\n",
       "    .dataframe tbody tr th:only-of-type {\n",
       "        vertical-align: middle;\n",
       "    }\n",
       "\n",
       "    .dataframe tbody tr th {\n",
       "        vertical-align: top;\n",
       "    }\n",
       "\n",
       "    .dataframe thead th {\n",
       "        text-align: right;\n",
       "    }\n",
       "</style>\n",
       "<table border=\"1\" class=\"dataframe\">\n",
       "  <thead>\n",
       "    <tr style=\"text-align: right;\">\n",
       "      <th></th>\n",
       "      <th>country_home</th>\n",
       "      <th>country_checkin</th>\n",
       "      <th>user</th>\n",
       "      <th>distance</th>\n",
       "      <th>language_home</th>\n",
       "      <th>language_checkin</th>\n",
       "      <th>same_language</th>\n",
       "      <th>gdp_difference</th>\n",
       "      <th>continent_home</th>\n",
       "    </tr>\n",
       "  </thead>\n",
       "  <tbody>\n",
       "    <tr>\n",
       "      <th>0</th>\n",
       "      <td>afghanistan</td>\n",
       "      <td>belgium</td>\n",
       "      <td>1</td>\n",
       "      <td>5400.722789</td>\n",
       "      <td>dari</td>\n",
       "      <td>dutch</td>\n",
       "      <td>0</td>\n",
       "      <td>-28400.0</td>\n",
       "      <td>asia</td>\n",
       "    </tr>\n",
       "    <tr>\n",
       "      <th>1</th>\n",
       "      <td>afghanistan</td>\n",
       "      <td>united arab emirates</td>\n",
       "      <td>1</td>\n",
       "      <td>1684.946973</td>\n",
       "      <td>dari</td>\n",
       "      <td>arabic</td>\n",
       "      <td>0</td>\n",
       "      <td>-22500.0</td>\n",
       "      <td>asia</td>\n",
       "    </tr>\n",
       "  </tbody>\n",
       "</table>\n",
       "</div>"
      ],
      "text/plain": [
       "  country_home       country_checkin  user     distance language_home  \\\n",
       "0  afghanistan               belgium     1  5400.722789          dari   \n",
       "1  afghanistan  united arab emirates     1  1684.946973          dari   \n",
       "\n",
       "  language_checkin  same_language  gdp_difference continent_home  \n",
       "0            dutch              0        -28400.0           asia  \n",
       "1           arabic              0        -22500.0           asia  "
      ]
     },
     "execution_count": 105,
     "metadata": {},
     "output_type": "execute_result"
    }
   ],
   "source": [
    "# Adds the contients of the home country for trips\n",
    "gowalla_trips_full = pd.merge(gowalla_trips_full, continents[['country', 'continent']], how = 'left', left_on = 'country_home', right_on = 'country')\n",
    "gowalla_trips_full.drop(columns = ['country'], inplace = True)\n",
    "gowalla_trips_full.rename(columns = {'continent':'continent_home'}, inplace = True)\n",
    "gowalla_trips_full.head(2)"
   ]
  },
  {
   "cell_type": "code",
   "execution_count": 106,
   "metadata": {},
   "outputs": [
    {
     "data": {
      "text/html": [
       "<div>\n",
       "<style scoped>\n",
       "    .dataframe tbody tr th:only-of-type {\n",
       "        vertical-align: middle;\n",
       "    }\n",
       "\n",
       "    .dataframe tbody tr th {\n",
       "        vertical-align: top;\n",
       "    }\n",
       "\n",
       "    .dataframe thead th {\n",
       "        text-align: right;\n",
       "    }\n",
       "</style>\n",
       "<table border=\"1\" class=\"dataframe\">\n",
       "  <thead>\n",
       "    <tr style=\"text-align: right;\">\n",
       "      <th></th>\n",
       "      <th>country_home</th>\n",
       "      <th>country_checkin</th>\n",
       "      <th>user</th>\n",
       "      <th>distance</th>\n",
       "      <th>language_home</th>\n",
       "      <th>language_checkin</th>\n",
       "      <th>same_language</th>\n",
       "      <th>gdp_difference</th>\n",
       "      <th>continent_home</th>\n",
       "    </tr>\n",
       "  </thead>\n",
       "  <tbody>\n",
       "    <tr>\n",
       "      <th>0</th>\n",
       "      <td>algeria</td>\n",
       "      <td>france</td>\n",
       "      <td>1</td>\n",
       "      <td>1511.896058</td>\n",
       "      <td>arabic</td>\n",
       "      <td>french</td>\n",
       "      <td>0</td>\n",
       "      <td>-21600.0</td>\n",
       "      <td>africa</td>\n",
       "    </tr>\n",
       "    <tr>\n",
       "      <th>1</th>\n",
       "      <td>angola</td>\n",
       "      <td>portugal</td>\n",
       "      <td>1</td>\n",
       "      <td>5889.419408</td>\n",
       "      <td>portuguese</td>\n",
       "      <td>portuguese</td>\n",
       "      <td>1</td>\n",
       "      <td>-16100.0</td>\n",
       "      <td>africa</td>\n",
       "    </tr>\n",
       "  </tbody>\n",
       "</table>\n",
       "</div>"
      ],
      "text/plain": [
       "  country_home country_checkin  user     distance language_home  \\\n",
       "0      algeria          france     1  1511.896058        arabic   \n",
       "1       angola        portugal     1  5889.419408    portuguese   \n",
       "\n",
       "  language_checkin  same_language  gdp_difference continent_home  \n",
       "0           french              0        -21600.0         africa  \n",
       "1       portuguese              1        -16100.0         africa  "
      ]
     },
     "execution_count": 106,
     "metadata": {},
     "output_type": "execute_result"
    }
   ],
   "source": [
    "# Adds the contients of the home country fro trips\n",
    "brightkite_trips_full = pd.merge(brightkite_trips_full, continents[['country', 'continent']], how = 'left', left_on = 'country_home', right_on = 'country')\n",
    "brightkite_trips_full.drop(columns = ['country'], inplace = True)\n",
    "brightkite_trips_full.rename(columns = {'continent':'continent_home'}, inplace = True)\n",
    "brightkite_trips_full.head(2)"
   ]
  },
  {
   "cell_type": "markdown",
   "metadata": {},
   "source": [
    "## 3.1 Average distance traveled by people when they leave their country"
   ]
  },
  {
   "cell_type": "code",
   "execution_count": 107,
   "metadata": {},
   "outputs": [
    {
     "data": {
      "text/html": [
       "<div>\n",
       "<style scoped>\n",
       "    .dataframe tbody tr th:only-of-type {\n",
       "        vertical-align: middle;\n",
       "    }\n",
       "\n",
       "    .dataframe tbody tr th {\n",
       "        vertical-align: top;\n",
       "    }\n",
       "\n",
       "    .dataframe thead th {\n",
       "        text-align: right;\n",
       "    }\n",
       "</style>\n",
       "<table border=\"1\" class=\"dataframe\">\n",
       "  <thead>\n",
       "    <tr style=\"text-align: right;\">\n",
       "      <th></th>\n",
       "      <th>user</th>\n",
       "      <th>time</th>\n",
       "      <th>lat</th>\n",
       "      <th>lon</th>\n",
       "      <th>location_id</th>\n",
       "      <th>latitude_cell_number</th>\n",
       "      <th>longitude_cell_number</th>\n",
       "      <th>country_checkin</th>\n",
       "      <th>home_lat</th>\n",
       "      <th>home_lon</th>\n",
       "      <th>country_home</th>\n",
       "      <th>distance_from_home</th>\n",
       "      <th>previous_country_checkin</th>\n",
       "      <th>change_arrival_country</th>\n",
       "      <th>not_home_country</th>\n",
       "      <th>continent_home</th>\n",
       "    </tr>\n",
       "  </thead>\n",
       "  <tbody>\n",
       "    <tr>\n",
       "      <th>746846</th>\n",
       "      <td>104704</td>\n",
       "      <td>2010-08-04 00:58:13+00:00</td>\n",
       "      <td>29.963517</td>\n",
       "      <td>-95.549283</td>\n",
       "      <td>287830</td>\n",
       "      <td>132.0</td>\n",
       "      <td>-369.0</td>\n",
       "      <td>united states</td>\n",
       "      <td>32.803425</td>\n",
       "      <td>-96.777437</td>\n",
       "      <td>united states</td>\n",
       "      <td>336.608835</td>\n",
       "      <td>united states</td>\n",
       "      <td>0</td>\n",
       "      <td>0</td>\n",
       "      <td>north america</td>\n",
       "    </tr>\n",
       "    <tr>\n",
       "      <th>845005</th>\n",
       "      <td>126933</td>\n",
       "      <td>2010-03-01 23:33:44+00:00</td>\n",
       "      <td>43.612597</td>\n",
       "      <td>-84.743784</td>\n",
       "      <td>632766</td>\n",
       "      <td>192.0</td>\n",
       "      <td>-274.0</td>\n",
       "      <td>united states</td>\n",
       "      <td>27.966536</td>\n",
       "      <td>-82.522193</td>\n",
       "      <td>united states</td>\n",
       "      <td>1751.083311</td>\n",
       "      <td>united states</td>\n",
       "      <td>0</td>\n",
       "      <td>0</td>\n",
       "      <td>north america</td>\n",
       "    </tr>\n",
       "    <tr>\n",
       "      <th>91558</th>\n",
       "      <td>1658</td>\n",
       "      <td>2010-09-19 16:31:16+00:00</td>\n",
       "      <td>36.224054</td>\n",
       "      <td>-119.335020</td>\n",
       "      <td>1272381</td>\n",
       "      <td>160.0</td>\n",
       "      <td>-429.0</td>\n",
       "      <td>united states</td>\n",
       "      <td>34.275747</td>\n",
       "      <td>-118.870916</td>\n",
       "      <td>united states</td>\n",
       "      <td>220.702216</td>\n",
       "      <td>united states</td>\n",
       "      <td>0</td>\n",
       "      <td>0</td>\n",
       "      <td>north america</td>\n",
       "    </tr>\n",
       "    <tr>\n",
       "      <th>666133</th>\n",
       "      <td>73005</td>\n",
       "      <td>2010-07-17 00:04:49+00:00</td>\n",
       "      <td>25.885520</td>\n",
       "      <td>-80.123626</td>\n",
       "      <td>30581</td>\n",
       "      <td>114.0</td>\n",
       "      <td>-321.0</td>\n",
       "      <td>united states</td>\n",
       "      <td>33.846675</td>\n",
       "      <td>-84.362557</td>\n",
       "      <td>united states</td>\n",
       "      <td>974.768636</td>\n",
       "      <td>united states</td>\n",
       "      <td>0</td>\n",
       "      <td>0</td>\n",
       "      <td>north america</td>\n",
       "    </tr>\n",
       "    <tr>\n",
       "      <th>274485</th>\n",
       "      <td>8527</td>\n",
       "      <td>2010-01-30 11:30:20+00:00</td>\n",
       "      <td>52.516204</td>\n",
       "      <td>13.377571</td>\n",
       "      <td>12904</td>\n",
       "      <td>232.0</td>\n",
       "      <td>36.0</td>\n",
       "      <td>germany</td>\n",
       "      <td>48.863818</td>\n",
       "      <td>2.338030</td>\n",
       "      <td>france</td>\n",
       "      <td>876.050711</td>\n",
       "      <td>germany</td>\n",
       "      <td>0</td>\n",
       "      <td>1</td>\n",
       "      <td>europe</td>\n",
       "    </tr>\n",
       "  </tbody>\n",
       "</table>\n",
       "</div>"
      ],
      "text/plain": [
       "          user                      time        lat         lon  location_id  \\\n",
       "746846  104704 2010-08-04 00:58:13+00:00  29.963517  -95.549283       287830   \n",
       "845005  126933 2010-03-01 23:33:44+00:00  43.612597  -84.743784       632766   \n",
       "91558     1658 2010-09-19 16:31:16+00:00  36.224054 -119.335020      1272381   \n",
       "666133   73005 2010-07-17 00:04:49+00:00  25.885520  -80.123626        30581   \n",
       "274485    8527 2010-01-30 11:30:20+00:00  52.516204   13.377571        12904   \n",
       "\n",
       "        latitude_cell_number  longitude_cell_number country_checkin  \\\n",
       "746846                 132.0                 -369.0   united states   \n",
       "845005                 192.0                 -274.0   united states   \n",
       "91558                  160.0                 -429.0   united states   \n",
       "666133                 114.0                 -321.0   united states   \n",
       "274485                 232.0                   36.0         germany   \n",
       "\n",
       "         home_lat    home_lon   country_home  distance_from_home  \\\n",
       "746846  32.803425  -96.777437  united states          336.608835   \n",
       "845005  27.966536  -82.522193  united states         1751.083311   \n",
       "91558   34.275747 -118.870916  united states          220.702216   \n",
       "666133  33.846675  -84.362557  united states          974.768636   \n",
       "274485  48.863818    2.338030         france          876.050711   \n",
       "\n",
       "       previous_country_checkin  change_arrival_country  not_home_country  \\\n",
       "746846            united states                       0                 0   \n",
       "845005            united states                       0                 0   \n",
       "91558             united states                       0                 0   \n",
       "666133            united states                       0                 0   \n",
       "274485                  germany                       0                 1   \n",
       "\n",
       "       continent_home  \n",
       "746846  north america  \n",
       "845005  north america  \n",
       "91558   north america  \n",
       "666133  north america  \n",
       "274485         europe  "
      ]
     },
     "execution_count": 107,
     "metadata": {},
     "output_type": "execute_result"
    }
   ],
   "source": [
    "# Adds the contients of the home location for far check-ins\n",
    "gowalla_far_checkins = pd.merge(gowalla_far_checkins, continents[['country', 'continent']], how = 'left', left_on = 'country_home', right_on = 'country')\n",
    "gowalla_far_checkins.drop(columns = ['country'], inplace = True)\n",
    "gowalla_far_checkins.rename(columns = {'continent':'continent_home'}, inplace = True)\n",
    "gowalla_far_checkins.sample(5)"
   ]
  },
  {
   "cell_type": "code",
   "execution_count": 108,
   "metadata": {},
   "outputs": [
    {
     "data": {
      "text/html": [
       "<div>\n",
       "<style scoped>\n",
       "    .dataframe tbody tr th:only-of-type {\n",
       "        vertical-align: middle;\n",
       "    }\n",
       "\n",
       "    .dataframe tbody tr th {\n",
       "        vertical-align: top;\n",
       "    }\n",
       "\n",
       "    .dataframe thead th {\n",
       "        text-align: right;\n",
       "    }\n",
       "</style>\n",
       "<table border=\"1\" class=\"dataframe\">\n",
       "  <thead>\n",
       "    <tr style=\"text-align: right;\">\n",
       "      <th></th>\n",
       "      <th>user</th>\n",
       "      <th>time</th>\n",
       "      <th>lat</th>\n",
       "      <th>lon</th>\n",
       "      <th>location_id</th>\n",
       "      <th>latitude_cell_number</th>\n",
       "      <th>longitude_cell_number</th>\n",
       "      <th>country_checkin</th>\n",
       "      <th>home_lat</th>\n",
       "      <th>home_lon</th>\n",
       "      <th>country_home</th>\n",
       "      <th>distance_from_home</th>\n",
       "      <th>previous_country_checkin</th>\n",
       "      <th>change_arrival_country</th>\n",
       "      <th>not_home_country</th>\n",
       "      <th>continent_home</th>\n",
       "    </tr>\n",
       "  </thead>\n",
       "  <tbody>\n",
       "    <tr>\n",
       "      <th>0</th>\n",
       "      <td>0</td>\n",
       "      <td>2010-05-07 22:34:54+00:00</td>\n",
       "      <td>37.615223</td>\n",
       "      <td>-122.389979</td>\n",
       "      <td>f0ed8591044a8214451d9c04607ccbfb</td>\n",
       "      <td>166.0</td>\n",
       "      <td>-432.0</td>\n",
       "      <td>united states</td>\n",
       "      <td>39.746677</td>\n",
       "      <td>-104.973619</td>\n",
       "      <td>united states</td>\n",
       "      <td>1527.749989</td>\n",
       "      <td>NaN</td>\n",
       "      <td>1</td>\n",
       "      <td>0</td>\n",
       "      <td>north america</td>\n",
       "    </tr>\n",
       "    <tr>\n",
       "      <th>1</th>\n",
       "      <td>0</td>\n",
       "      <td>2010-05-07 21:10:40+00:00</td>\n",
       "      <td>37.579361</td>\n",
       "      <td>-122.346108</td>\n",
       "      <td>ca094b92244011de8447003048c0801e</td>\n",
       "      <td>166.0</td>\n",
       "      <td>-432.0</td>\n",
       "      <td>united states</td>\n",
       "      <td>39.746677</td>\n",
       "      <td>-104.973619</td>\n",
       "      <td>united states</td>\n",
       "      <td>1524.996827</td>\n",
       "      <td>united states</td>\n",
       "      <td>0</td>\n",
       "      <td>0</td>\n",
       "      <td>north america</td>\n",
       "    </tr>\n",
       "    <tr>\n",
       "      <th>2</th>\n",
       "      <td>0</td>\n",
       "      <td>2010-05-07 18:18:37+00:00</td>\n",
       "      <td>37.578379</td>\n",
       "      <td>-122.347524</td>\n",
       "      <td>31c4ef9bbd5f8ebe234058cbb6d265af</td>\n",
       "      <td>166.0</td>\n",
       "      <td>-432.0</td>\n",
       "      <td>united states</td>\n",
       "      <td>39.746677</td>\n",
       "      <td>-104.973619</td>\n",
       "      <td>united states</td>\n",
       "      <td>1525.144928</td>\n",
       "      <td>united states</td>\n",
       "      <td>0</td>\n",
       "      <td>0</td>\n",
       "      <td>north america</td>\n",
       "    </tr>\n",
       "    <tr>\n",
       "      <th>3</th>\n",
       "      <td>0</td>\n",
       "      <td>2010-05-07 18:13:36+00:00</td>\n",
       "      <td>37.579361</td>\n",
       "      <td>-122.346108</td>\n",
       "      <td>ca094b92244011de8447003048c0801e</td>\n",
       "      <td>166.0</td>\n",
       "      <td>-432.0</td>\n",
       "      <td>united states</td>\n",
       "      <td>39.746677</td>\n",
       "      <td>-104.973619</td>\n",
       "      <td>united states</td>\n",
       "      <td>1524.996827</td>\n",
       "      <td>united states</td>\n",
       "      <td>0</td>\n",
       "      <td>0</td>\n",
       "      <td>north america</td>\n",
       "    </tr>\n",
       "    <tr>\n",
       "      <th>4</th>\n",
       "      <td>0</td>\n",
       "      <td>2010-05-07 02:46:58+00:00</td>\n",
       "      <td>37.785078</td>\n",
       "      <td>-122.404998</td>\n",
       "      <td>8d788309d5057922a69ea575f8fc4ea7acbab45c</td>\n",
       "      <td>167.0</td>\n",
       "      <td>-431.0</td>\n",
       "      <td>united states</td>\n",
       "      <td>39.746677</td>\n",
       "      <td>-104.973619</td>\n",
       "      <td>united states</td>\n",
       "      <td>1524.471959</td>\n",
       "      <td>united states</td>\n",
       "      <td>0</td>\n",
       "      <td>0</td>\n",
       "      <td>north america</td>\n",
       "    </tr>\n",
       "  </tbody>\n",
       "</table>\n",
       "</div>"
      ],
      "text/plain": [
       "   user                      time        lat         lon  \\\n",
       "0     0 2010-05-07 22:34:54+00:00  37.615223 -122.389979   \n",
       "1     0 2010-05-07 21:10:40+00:00  37.579361 -122.346108   \n",
       "2     0 2010-05-07 18:18:37+00:00  37.578379 -122.347524   \n",
       "3     0 2010-05-07 18:13:36+00:00  37.579361 -122.346108   \n",
       "4     0 2010-05-07 02:46:58+00:00  37.785078 -122.404998   \n",
       "\n",
       "                                location_id  latitude_cell_number  \\\n",
       "0          f0ed8591044a8214451d9c04607ccbfb                 166.0   \n",
       "1          ca094b92244011de8447003048c0801e                 166.0   \n",
       "2          31c4ef9bbd5f8ebe234058cbb6d265af                 166.0   \n",
       "3          ca094b92244011de8447003048c0801e                 166.0   \n",
       "4  8d788309d5057922a69ea575f8fc4ea7acbab45c                 167.0   \n",
       "\n",
       "   longitude_cell_number country_checkin   home_lat    home_lon  \\\n",
       "0                 -432.0   united states  39.746677 -104.973619   \n",
       "1                 -432.0   united states  39.746677 -104.973619   \n",
       "2                 -432.0   united states  39.746677 -104.973619   \n",
       "3                 -432.0   united states  39.746677 -104.973619   \n",
       "4                 -431.0   united states  39.746677 -104.973619   \n",
       "\n",
       "    country_home  distance_from_home previous_country_checkin  \\\n",
       "0  united states         1527.749989                      NaN   \n",
       "1  united states         1524.996827            united states   \n",
       "2  united states         1525.144928            united states   \n",
       "3  united states         1524.996827            united states   \n",
       "4  united states         1524.471959            united states   \n",
       "\n",
       "   change_arrival_country  not_home_country continent_home  \n",
       "0                       1                 0  north america  \n",
       "1                       0                 0  north america  \n",
       "2                       0                 0  north america  \n",
       "3                       0                 0  north america  \n",
       "4                       0                 0  north america  "
      ]
     },
     "execution_count": 108,
     "metadata": {},
     "output_type": "execute_result"
    }
   ],
   "source": [
    "# Adds the contients of the home location for far check-ins\n",
    "brightkite_far_checkins = pd.merge(brightkite_far_checkins, continents[['country', 'continent']], how = 'left', left_on = 'country_home', right_on = 'country')\n",
    "brightkite_far_checkins.drop(columns = ['country'], inplace = True)\n",
    "brightkite_far_checkins.rename(columns = {'continent':'continent_home'}, inplace = True)\n",
    "brightkite_far_checkins.head()"
   ]
  },
  {
   "cell_type": "code",
   "execution_count": 109,
   "metadata": {},
   "outputs": [
    {
     "name": "stderr",
     "output_type": "stream",
     "text": [
      "/opt/anaconda3/lib/python3.7/site-packages/seaborn/_decorators.py:43: FutureWarning: Pass the following variables as keyword args: x, y. From version 0.12, the only valid positional argument will be `data`, and passing other arguments without an explicit keyword will result in an error or misinterpretation.\n",
      "  FutureWarning\n"
     ]
    },
    {
     "data": {
      "image/png": "[encoded data removed]",
      "text/plain": [
       "<Figure size 864x576 with 1 Axes>"
      ]
     },
     "metadata": {},
     "output_type": "display_data"
    }
   ],
   "source": [
    "# Average distance traveled by Amercian people when they go out of their country for a long trip (i.e. distance greater than 200 km from their home)\n",
    "gowalla_us_dist = gowalla_far_checkins[(gowalla_far_checkins.country_home == 'united states') & (gowalla_far_checkins.country_home != gowalla_far_checkins.country_checkin)].distance_from_home.mean()\n",
    "\n",
    "# Average distance traveled by European people when they go out of their country for a long trip (i.e. distance greater than 200 km from their home)\n",
    "gowalla_eu_dist = gowalla_far_checkins[(gowalla_far_checkins.continent_home == 'europe') & (gowalla_far_checkins.country_home != gowalla_far_checkins.country_checkin)].distance_from_home.mean()\n",
    "\n",
    "# Idem for Brightkite :\n",
    "brightkite_us_dist = brightkite_far_checkins[(brightkite_far_checkins.country_home == 'united states')& (brightkite_far_checkins.country_home != brightkite_far_checkins.country_checkin)].distance_from_home.mean()\n",
    "brightkite_eu_dist = brightkite_far_checkins[(brightkite_far_checkins.continent_home == 'europe') & (brightkite_far_checkins.country_home != brightkite_far_checkins.country_checkin)].distance_from_home.mean()\n",
    "\n",
    "# Let's plot an histogram to visualise this\n",
    "y=[gowalla_us_dist, gowalla_eu_dist, brightkite_us_dist, brightkite_eu_dist]\n",
    "\n",
    "x=['US - Gowalla', 'Europe - Gowalla', 'US - Brightkite', 'Europe - Brightkite'] \n",
    "\n",
    "sns.set_style(\"darkgrid\")\n",
    "plt.figure(figsize=(12, 8))\n",
    "fig = sns.barplot(x,y)\n",
    "fig.set_title('Average distance traveled when people travel far from their home and leave their country', fontsize = 16)\n",
    "fig.set_ylabel('Distance (km)', fontsize = 14)\n",
    "fig.text(0, 7234, s = round(y[0]), color='black', ha=\"center\", fontsize = 13)\n",
    "fig.text(1, 3479, s = round(y[1]), color='black', ha=\"center\", fontsize = 13)\n",
    "fig.text(2, 7737, s = round(y[2]), color='black', ha=\"center\", fontsize = 13)\n",
    "fig.text(3, 4464, s = round(y[3]), color='black', ha=\"center\", fontsize = 13)\n",
    "fig = fig.get_figure()\n",
    "fig.savefig(\"distance_eu_vs_us.png\")"
   ]
  },
  {
   "cell_type": "markdown",
   "metadata": {},
   "source": [
    "## 3.1.1 What if they stay in the country ?"
   ]
  },
  {
   "cell_type": "code",
   "execution_count": 110,
   "metadata": {},
   "outputs": [
    {
     "name": "stderr",
     "output_type": "stream",
     "text": [
      "/opt/anaconda3/lib/python3.7/site-packages/seaborn/_decorators.py:43: FutureWarning: Pass the following variables as keyword args: x, y. From version 0.12, the only valid positional argument will be `data`, and passing other arguments without an explicit keyword will result in an error or misinterpretation.\n",
      "  FutureWarning\n"
     ]
    },
    {
     "data": {
      "image/png": "[encoded data removed]",
      "text/plain": [
       "<Figure size 864x576 with 1 Axes>"
      ]
     },
     "metadata": {},
     "output_type": "display_data"
    }
   ],
   "source": [
    "# Same syntax as before, but without the condition of having a different country between the check-in and the home location\n",
    "gowalla_us_dist_2 = gowalla_far_checkins[gowalla_far_checkins.country_home == 'united states'].distance_from_home.mean()\n",
    "gowalla_eu_dist_2 = gowalla_far_checkins[gowalla_far_checkins.continent_home == 'europe'].distance_from_home.mean()\n",
    "brightkite_us_dist_2 = brightkite_far_checkins[brightkite_far_checkins.country_home == 'united states'].distance_from_home.mean()\n",
    "brightkite_eu_dist_2 = brightkite_far_checkins[brightkite_far_checkins.continent_home == 'europe'].distance_from_home.mean()\n",
    "\n",
    "y=[gowalla_us_dist_2, gowalla_eu_dist_2, brightkite_us_dist_2, brightkite_eu_dist_2]\n",
    "\n",
    "x=['US - Gowalla', 'Europe - Gowalla', 'US - Brightkite', 'Europe - Brightkite'] \n",
    "\n",
    "sns.set_style(\"darkgrid\")\n",
    "plt.figure(figsize=(12, 8))\n",
    "fig = sns.barplot(x,y)\n",
    "fig.set_title('Average distance traveled when people went far from their home', fontsize = 16)\n",
    "fig.set_ylabel('Distance (km)', fontsize = 14)\n",
    "fig.text(0, 1885, s = round(y[0]), color='black', ha=\"center\", fontsize = 13)\n",
    "fig.text(1, 1694, s = round(y[1]), color='black', ha=\"center\", fontsize = 13)\n",
    "fig.text(2, 2064, s = round(y[2]), color='black', ha=\"center\", fontsize = 13)\n",
    "fig.text(3, 2662, s = round(y[3]), color='black', ha=\"center\", fontsize = 13)\n",
    "fig = fig.get_figure()\n",
    "fig.savefig(\"distance_wihout_leaving_country_eu_vs_us.png\")"
   ]
  },
  {
   "cell_type": "markdown",
   "metadata": {},
   "source": [
    "## 3.2 Part of the population going out of the country to travel "
   ]
  },
  {
   "cell_type": "code",
   "execution_count": 111,
   "metadata": {},
   "outputs": [],
   "source": [
    "# Number of people who left the US to travel\n",
    "gowalla_us_travel_out_of_country = gowalla_far_checkins[(gowalla_far_checkins.country_checkin != gowalla_far_checkins.country_home) & (gowalla_far_checkins.country_home == 'united states')].user.nunique()\n",
    "\n",
    "# Total number of American people who travel \n",
    "gowalla_us_total = gowalla_far_checkins[(gowalla_far_checkins.country_home == 'united states')].user.nunique()"
   ]
  },
  {
   "cell_type": "code",
   "execution_count": 112,
   "metadata": {},
   "outputs": [],
   "source": [
    "# Idem for Brightkite\n",
    "brightkite_us_travel_out_of_country = brightkite_far_checkins[(brightkite_far_checkins.country_checkin != brightkite_far_checkins.country_home) & (brightkite_far_checkins.country_home == 'united states')].user.nunique()\n",
    "brightkite_us_total = brightkite_far_checkins[(brightkite_far_checkins.country_home == 'united states')].user.nunique()"
   ]
  },
  {
   "cell_type": "code",
   "execution_count": 113,
   "metadata": {},
   "outputs": [],
   "source": [
    "# Number of people who left their country in Europe to travel\n",
    "gowalla_eu_travel_out_of_country = gowalla_far_checkins[(gowalla_far_checkins.country_checkin != gowalla_far_checkins.country_home) & (gowalla_far_checkins.continent_home == 'europe')].user.nunique()\n",
    "\n",
    "# Total number of European people who travel \n",
    "gowalla_eu_total = gowalla_far_checkins[(gowalla_far_checkins.continent_home == 'europe')].user.nunique()"
   ]
  },
  {
   "cell_type": "code",
   "execution_count": 114,
   "metadata": {},
   "outputs": [],
   "source": [
    "# Idem for Brightkite\n",
    "brightkite_eu_travel_out_of_country = brightkite_far_checkins[(brightkite_far_checkins.country_checkin != brightkite_far_checkins.country_home) & (brightkite_far_checkins.continent_home == 'europe')].user.nunique()\n",
    "brightkite_eu_total = brightkite_far_checkins[(brightkite_far_checkins.continent_home == 'europe')].user.nunique()"
   ]
  },
  {
   "cell_type": "code",
   "execution_count": 115,
   "metadata": {},
   "outputs": [
    {
     "name": "stderr",
     "output_type": "stream",
     "text": [
      "/opt/anaconda3/lib/python3.7/site-packages/seaborn/_decorators.py:43: FutureWarning: Pass the following variables as keyword args: x, y. From version 0.12, the only valid positional argument will be `data`, and passing other arguments without an explicit keyword will result in an error or misinterpretation.\n",
      "  FutureWarning\n"
     ]
    },
    {
     "data": {
      "image/png": "[encoded data removed]",
      "text/plain": [
       "<Figure size 864x576 with 1 Axes>"
      ]
     },
     "metadata": {},
     "output_type": "display_data"
    }
   ],
   "source": [
    "# Let's plot this with an histogram \n",
    "y=[100*gowalla_us_travel_out_of_country/gowalla_us_total, \n",
    "   100*gowalla_eu_travel_out_of_country/gowalla_eu_total,\n",
    "   100*brightkite_us_travel_out_of_country/brightkite_us_total,\n",
    "   100*brightkite_eu_travel_out_of_country/brightkite_eu_total]\n",
    "\n",
    "x=['US - Gowalla', 'Europe - Gowalla', 'US - Brightkite', 'Europe - Brightkite'] \n",
    "\n",
    "sns.set_style(\"darkgrid\")\n",
    "plt.figure(figsize=(12, 8))\n",
    "fig = sns.barplot(x,y)\n",
    "fig.set_title('Part of the population that went out of the country to travel', fontsize = 16) \n",
    "fig.set_ylabel('Part of the population (%)', fontsize = 14)\n",
    "fig.text(0, 13, s = round(y[0]), color='black', ha=\"center\", fontsize = 13)\n",
    "fig.text(1, 54, s = round(y[1]), color='black', ha=\"center\", fontsize = 13)\n",
    "fig.text(2, 24, s = round(y[2]), color='black', ha=\"center\", fontsize = 13)\n",
    "fig.text(3, 71, s = round(y[3]), color='black', ha=\"center\", fontsize = 13)\n",
    "fig = fig.get_figure()\n",
    "fig.savefig(\"part_of_pop_out_eu_vs_us.png\")"
   ]
  },
  {
   "cell_type": "markdown",
   "metadata": {},
   "source": [
    "## 3.2.1 Part of the population going out of the continent to travel "
   ]
  },
  {
   "cell_type": "code",
   "execution_count": 116,
   "metadata": {},
   "outputs": [
    {
     "data": {
      "text/html": [
       "<div>\n",
       "<style scoped>\n",
       "    .dataframe tbody tr th:only-of-type {\n",
       "        vertical-align: middle;\n",
       "    }\n",
       "\n",
       "    .dataframe tbody tr th {\n",
       "        vertical-align: top;\n",
       "    }\n",
       "\n",
       "    .dataframe thead th {\n",
       "        text-align: right;\n",
       "    }\n",
       "</style>\n",
       "<table border=\"1\" class=\"dataframe\">\n",
       "  <thead>\n",
       "    <tr style=\"text-align: right;\">\n",
       "      <th></th>\n",
       "      <th>user</th>\n",
       "      <th>time</th>\n",
       "      <th>lat</th>\n",
       "      <th>lon</th>\n",
       "      <th>location_id</th>\n",
       "      <th>latitude_cell_number</th>\n",
       "      <th>longitude_cell_number</th>\n",
       "      <th>country_checkin</th>\n",
       "      <th>home_lat</th>\n",
       "      <th>home_lon</th>\n",
       "      <th>country_home</th>\n",
       "      <th>distance_from_home</th>\n",
       "      <th>previous_country_checkin</th>\n",
       "      <th>change_arrival_country</th>\n",
       "      <th>not_home_country</th>\n",
       "      <th>continent_home</th>\n",
       "      <th>continent_checkin</th>\n",
       "    </tr>\n",
       "  </thead>\n",
       "  <tbody>\n",
       "    <tr>\n",
       "      <th>25389</th>\n",
       "      <td>376</td>\n",
       "      <td>2010-03-16 21:48:39+00:00</td>\n",
       "      <td>30.263515</td>\n",
       "      <td>-97.740169</td>\n",
       "      <td>672401</td>\n",
       "      <td>133.0</td>\n",
       "      <td>-376.0</td>\n",
       "      <td>united states</td>\n",
       "      <td>37.779360</td>\n",
       "      <td>-122.401179</td>\n",
       "      <td>united states</td>\n",
       "      <td>2412.721970</td>\n",
       "      <td>united states</td>\n",
       "      <td>0</td>\n",
       "      <td>0</td>\n",
       "      <td>north america</td>\n",
       "      <td>north america</td>\n",
       "    </tr>\n",
       "    <tr>\n",
       "      <th>666828</th>\n",
       "      <td>71069</td>\n",
       "      <td>2010-04-16 12:40:20+00:00</td>\n",
       "      <td>38.738598</td>\n",
       "      <td>-9.167435</td>\n",
       "      <td>771675</td>\n",
       "      <td>171.0</td>\n",
       "      <td>-32.0</td>\n",
       "      <td>portugal</td>\n",
       "      <td>41.146610</td>\n",
       "      <td>-8.609062</td>\n",
       "      <td>portugal</td>\n",
       "      <td>271.955669</td>\n",
       "      <td>portugal</td>\n",
       "      <td>0</td>\n",
       "      <td>0</td>\n",
       "      <td>europe</td>\n",
       "      <td>europe</td>\n",
       "    </tr>\n",
       "    <tr>\n",
       "      <th>46904</th>\n",
       "      <td>661</td>\n",
       "      <td>2010-08-12 00:23:39+00:00</td>\n",
       "      <td>51.522719</td>\n",
       "      <td>-0.087068</td>\n",
       "      <td>1549705</td>\n",
       "      <td>227.0</td>\n",
       "      <td>-1.0</td>\n",
       "      <td>united kingdom</td>\n",
       "      <td>57.703412</td>\n",
       "      <td>11.959577</td>\n",
       "      <td>sweden</td>\n",
       "      <td>1033.700837</td>\n",
       "      <td>united kingdom</td>\n",
       "      <td>0</td>\n",
       "      <td>1</td>\n",
       "      <td>europe</td>\n",
       "      <td>europe</td>\n",
       "    </tr>\n",
       "  </tbody>\n",
       "</table>\n",
       "</div>"
      ],
      "text/plain": [
       "         user                      time        lat        lon  location_id  \\\n",
       "25389     376 2010-03-16 21:48:39+00:00  30.263515 -97.740169       672401   \n",
       "666828  71069 2010-04-16 12:40:20+00:00  38.738598  -9.167435       771675   \n",
       "46904     661 2010-08-12 00:23:39+00:00  51.522719  -0.087068      1549705   \n",
       "\n",
       "        latitude_cell_number  longitude_cell_number country_checkin  \\\n",
       "25389                  133.0                 -376.0   united states   \n",
       "666828                 171.0                  -32.0        portugal   \n",
       "46904                  227.0                   -1.0  united kingdom   \n",
       "\n",
       "         home_lat    home_lon   country_home  distance_from_home  \\\n",
       "25389   37.779360 -122.401179  united states         2412.721970   \n",
       "666828  41.146610   -8.609062       portugal          271.955669   \n",
       "46904   57.703412   11.959577         sweden         1033.700837   \n",
       "\n",
       "       previous_country_checkin  change_arrival_country  not_home_country  \\\n",
       "25389             united states                       0                 0   \n",
       "666828                 portugal                       0                 0   \n",
       "46904            united kingdom                       0                 1   \n",
       "\n",
       "       continent_home continent_checkin  \n",
       "25389   north america     north america  \n",
       "666828         europe            europe  \n",
       "46904          europe            europe  "
      ]
     },
     "execution_count": 116,
     "metadata": {},
     "output_type": "execute_result"
    }
   ],
   "source": [
    "# Adding the continent where the check-in was done \n",
    "gowalla_far_checkins = pd.merge(gowalla_far_checkins, continents[['country', 'continent']], how = 'left', left_on = 'country_checkin', right_on = 'country')\n",
    "gowalla_far_checkins.drop(columns = ['country'], inplace = True)\n",
    "gowalla_far_checkins.rename(columns = {'continent':'continent_checkin'}, inplace = True)\n",
    "gowalla_far_checkins.sample(3)"
   ]
  },
  {
   "cell_type": "code",
   "execution_count": 117,
   "metadata": {},
   "outputs": [
    {
     "data": {
      "text/html": [
       "<div>\n",
       "<style scoped>\n",
       "    .dataframe tbody tr th:only-of-type {\n",
       "        vertical-align: middle;\n",
       "    }\n",
       "\n",
       "    .dataframe tbody tr th {\n",
       "        vertical-align: top;\n",
       "    }\n",
       "\n",
       "    .dataframe thead th {\n",
       "        text-align: right;\n",
       "    }\n",
       "</style>\n",
       "<table border=\"1\" class=\"dataframe\">\n",
       "  <thead>\n",
       "    <tr style=\"text-align: right;\">\n",
       "      <th></th>\n",
       "      <th>user</th>\n",
       "      <th>time</th>\n",
       "      <th>lat</th>\n",
       "      <th>lon</th>\n",
       "      <th>location_id</th>\n",
       "      <th>latitude_cell_number</th>\n",
       "      <th>longitude_cell_number</th>\n",
       "      <th>country_checkin</th>\n",
       "      <th>home_lat</th>\n",
       "      <th>home_lon</th>\n",
       "      <th>country_home</th>\n",
       "      <th>distance_from_home</th>\n",
       "      <th>previous_country_checkin</th>\n",
       "      <th>change_arrival_country</th>\n",
       "      <th>not_home_country</th>\n",
       "      <th>continent_home</th>\n",
       "      <th>continent_checkin</th>\n",
       "    </tr>\n",
       "  </thead>\n",
       "  <tbody>\n",
       "    <tr>\n",
       "      <th>120047</th>\n",
       "      <td>2334</td>\n",
       "      <td>2008-08-22 04:29:43+00:00</td>\n",
       "      <td>40.414634</td>\n",
       "      <td>-74.154273</td>\n",
       "      <td>e322404805f00890a181a8d8180ec8c44a5423a8</td>\n",
       "      <td>178.0</td>\n",
       "      <td>-252.0</td>\n",
       "      <td>united states</td>\n",
       "      <td>38.254304</td>\n",
       "      <td>-85.718608</td>\n",
       "      <td>united states</td>\n",
       "      <td>1022.353386</td>\n",
       "      <td>united states</td>\n",
       "      <td>0</td>\n",
       "      <td>0</td>\n",
       "      <td>north america</td>\n",
       "      <td>north america</td>\n",
       "    </tr>\n",
       "    <tr>\n",
       "      <th>12849</th>\n",
       "      <td>55</td>\n",
       "      <td>2009-12-31 04:39:04+00:00</td>\n",
       "      <td>44.858516</td>\n",
       "      <td>-93.236471</td>\n",
       "      <td>d60aab1cb3f4ae9b1cbcef356c319f28</td>\n",
       "      <td>198.0</td>\n",
       "      <td>-295.0</td>\n",
       "      <td>united states</td>\n",
       "      <td>39.822296</td>\n",
       "      <td>-105.073957</td>\n",
       "      <td>united states</td>\n",
       "      <td>1120.953324</td>\n",
       "      <td>united states</td>\n",
       "      <td>0</td>\n",
       "      <td>0</td>\n",
       "      <td>north america</td>\n",
       "      <td>north america</td>\n",
       "    </tr>\n",
       "    <tr>\n",
       "      <th>338363</th>\n",
       "      <td>12253</td>\n",
       "      <td>2009-10-31 01:09:36+00:00</td>\n",
       "      <td>42.139167</td>\n",
       "      <td>-87.992982</td>\n",
       "      <td>44b2b8838634e1e1a0cde6619335bc6a</td>\n",
       "      <td>186.0</td>\n",
       "      <td>-291.0</td>\n",
       "      <td>united states</td>\n",
       "      <td>33.804545</td>\n",
       "      <td>-117.973119</td>\n",
       "      <td>united states</td>\n",
       "      <td>2769.486928</td>\n",
       "      <td>united states</td>\n",
       "      <td>0</td>\n",
       "      <td>0</td>\n",
       "      <td>north america</td>\n",
       "      <td>north america</td>\n",
       "    </tr>\n",
       "  </tbody>\n",
       "</table>\n",
       "</div>"
      ],
      "text/plain": [
       "         user                      time        lat        lon  \\\n",
       "120047   2334 2008-08-22 04:29:43+00:00  40.414634 -74.154273   \n",
       "12849      55 2009-12-31 04:39:04+00:00  44.858516 -93.236471   \n",
       "338363  12253 2009-10-31 01:09:36+00:00  42.139167 -87.992982   \n",
       "\n",
       "                                     location_id  latitude_cell_number  \\\n",
       "120047  e322404805f00890a181a8d8180ec8c44a5423a8                 178.0   \n",
       "12849           d60aab1cb3f4ae9b1cbcef356c319f28                 198.0   \n",
       "338363          44b2b8838634e1e1a0cde6619335bc6a                 186.0   \n",
       "\n",
       "        longitude_cell_number country_checkin   home_lat    home_lon  \\\n",
       "120047                 -252.0   united states  38.254304  -85.718608   \n",
       "12849                  -295.0   united states  39.822296 -105.073957   \n",
       "338363                 -291.0   united states  33.804545 -117.973119   \n",
       "\n",
       "         country_home  distance_from_home previous_country_checkin  \\\n",
       "120047  united states         1022.353386            united states   \n",
       "12849   united states         1120.953324            united states   \n",
       "338363  united states         2769.486928            united states   \n",
       "\n",
       "        change_arrival_country  not_home_country continent_home  \\\n",
       "120047                       0                 0  north america   \n",
       "12849                        0                 0  north america   \n",
       "338363                       0                 0  north america   \n",
       "\n",
       "       continent_checkin  \n",
       "120047     north america  \n",
       "12849      north america  \n",
       "338363     north america  "
      ]
     },
     "execution_count": 117,
     "metadata": {},
     "output_type": "execute_result"
    }
   ],
   "source": [
    "# Adding the continent where the check-in was done \n",
    "brightkite_far_checkins = pd.merge(brightkite_far_checkins, continents[['country', 'continent']], how = 'left', left_on = 'country_checkin', right_on = 'country')\n",
    "brightkite_far_checkins.drop(columns = ['country'], inplace = True)\n",
    "brightkite_far_checkins.rename(columns = {'continent':'continent_checkin'}, inplace = True)\n",
    "brightkite_far_checkins.sample(3)"
   ]
  },
  {
   "cell_type": "code",
   "execution_count": 118,
   "metadata": {},
   "outputs": [],
   "source": [
    "# Number of North American people who left North Amercia to travel\n",
    "gowalla_us_travel_out_of_continent = gowalla_far_checkins[(gowalla_far_checkins.continent_checkin != gowalla_far_checkins.continent_home) & (gowalla_far_checkins.continent_home == 'north america')].user.nunique()\n",
    "\n",
    "# Total number of North American travelers \n",
    "gowalla_us_total_continent = gowalla_far_checkins[(gowalla_far_checkins.continent_home == 'north america')].user.nunique()"
   ]
  },
  {
   "cell_type": "code",
   "execution_count": 119,
   "metadata": {},
   "outputs": [],
   "source": [
    "# Number of European people who left Europe to travel\n",
    "gowalla_eu_travel_out_of_continent = gowalla_far_checkins[(gowalla_far_checkins.continent_checkin != gowalla_far_checkins.continent_home) & (gowalla_far_checkins.continent_home == 'europe')].user.nunique()\n",
    "\n",
    "# Total number of European travelers \n",
    "gowalla_eu_total_continent = gowalla_far_checkins[(gowalla_far_checkins.continent_home == 'europe')].user.nunique()"
   ]
  },
  {
   "cell_type": "code",
   "execution_count": 120,
   "metadata": {},
   "outputs": [],
   "source": [
    "# idem for Brightkite\n",
    "brightkite_us_travel_out_of_continent = brightkite_far_checkins[(brightkite_far_checkins.continent_checkin != brightkite_far_checkins.continent_home) & (brightkite_far_checkins.continent_home == 'north america')].user.nunique()\n",
    "brightkite_us_total_continent = brightkite_far_checkins[(brightkite_far_checkins.continent_home == 'north america')].user.nunique()"
   ]
  },
  {
   "cell_type": "code",
   "execution_count": 121,
   "metadata": {},
   "outputs": [],
   "source": [
    "# idem for Brightkite\n",
    "brightkite_eu_travel_out_of_continent = brightkite_far_checkins[(brightkite_far_checkins.continent_checkin != brightkite_far_checkins.continent_home) & (brightkite_far_checkins.continent_home == 'europe')].user.nunique()\n",
    "brightkite_eu_total_continent = brightkite_far_checkins[(brightkite_far_checkins.continent_home == 'europe')].user.nunique()"
   ]
  },
  {
   "cell_type": "code",
   "execution_count": 122,
   "metadata": {},
   "outputs": [
    {
     "name": "stderr",
     "output_type": "stream",
     "text": [
      "/opt/anaconda3/lib/python3.7/site-packages/seaborn/_decorators.py:43: FutureWarning: Pass the following variables as keyword args: x, y. From version 0.12, the only valid positional argument will be `data`, and passing other arguments without an explicit keyword will result in an error or misinterpretation.\n",
      "  FutureWarning\n"
     ]
    },
    {
     "data": {
      "image/png": "[encoded data removed]",
      "text/plain": [
       "<Figure size 864x576 with 1 Axes>"
      ]
     },
     "metadata": {},
     "output_type": "display_data"
    }
   ],
   "source": [
    "# Let's plot this with an histogram \n",
    "y=[100*gowalla_us_travel_out_of_continent/gowalla_us_total_continent, \n",
    "   100*gowalla_eu_travel_out_of_continent/gowalla_eu_total_continent,\n",
    "   100*brightkite_us_travel_out_of_continent/brightkite_us_total_continent,\n",
    "   100*brightkite_eu_travel_out_of_continent/brightkite_eu_total_continent]\n",
    "\n",
    "x=['North America - Gowalla', 'Europe - Gowalla', 'North America - Brightkite', 'Europe - Brightkite'] \n",
    "\n",
    "sns.set_style(\"darkgrid\")\n",
    "plt.figure(figsize=(12, 8))\n",
    "fig = sns.barplot(x,y)\n",
    "fig.set_title('Part of the population that went out of the continent to travel', fontsize = 16)\n",
    "fig.set_ylabel('Part of the population (%)', fontsize = 14)\n",
    "fig.text(0, 8, s = round(y[0]), color='black', ha=\"center\", fontsize = 13)\n",
    "fig.text(1, 17, s = round(y[1]), color='black', ha=\"center\", fontsize = 13)\n",
    "fig.text(2, 18, s = round(y[2]), color='black', ha=\"center\", fontsize = 13)\n",
    "fig.text(3, 37, s = round(y[3]), color='black', ha=\"center\", fontsize = 13)\n",
    "fig = fig.get_figure()\n",
    "fig.savefig(\"part_of_pop_out_continent_eu_vs_us.png\")"
   ]
  },
  {
   "cell_type": "markdown",
   "metadata": {},
   "source": [
    "## 3.3 Average number of visited countries per traveller"
   ]
  },
  {
   "cell_type": "code",
   "execution_count": 123,
   "metadata": {},
   "outputs": [],
   "source": [
    "# Total number of American people who traveled out of the US\n",
    "gowalla_us_travel_out_of_country = gowalla_far_checkins[(gowalla_far_checkins.country_checkin != gowalla_far_checkins.country_home) & (gowalla_far_checkins.country_home == 'united states')].user.nunique()\n",
    "# Total number of visited countries by American inhabitants \n",
    "gowalla_us_number_visited_contries = gowalla_trips_full[gowalla_trips_full.country_home == 'united states'].user.sum()\n",
    "\n",
    "brightkite_us_travel_out_of_country = brightkite_far_checkins[(brightkite_far_checkins.country_checkin != brightkite_far_checkins.country_home) & (brightkite_far_checkins.country_home == 'united states')].user.nunique()\n",
    "brightkite_us_number_visited_contries = brightkite_trips_full[brightkite_trips_full.country_home == 'united states'].user.sum()\n",
    "\n",
    "gowalla_eur_travel_out_of_country = gowalla_far_checkins[(gowalla_far_checkins.country_checkin != gowalla_far_checkins.country_home) & (gowalla_far_checkins.continent_home == 'europe')].user.nunique()\n",
    "gowalla_eur_number_visited_contries = gowalla_trips_full[gowalla_trips_full.continent_home == 'europe'].user.sum()\n",
    "\n",
    "brightkite_eur_travel_out_of_country = brightkite_far_checkins[(brightkite_far_checkins.country_checkin != brightkite_far_checkins.country_home) & (brightkite_far_checkins.continent_home == 'europe')].user.nunique()\n",
    "brightkite_eur_number_visited_contries = brightkite_trips_full[brightkite_trips_full.continent_home == 'europe'].user.sum()"
   ]
  },
  {
   "cell_type": "code",
   "execution_count": 124,
   "metadata": {},
   "outputs": [
    {
     "name": "stderr",
     "output_type": "stream",
     "text": [
      "/opt/anaconda3/lib/python3.7/site-packages/seaborn/_decorators.py:43: FutureWarning: Pass the following variables as keyword args: x, y. From version 0.12, the only valid positional argument will be `data`, and passing other arguments without an explicit keyword will result in an error or misinterpretation.\n",
      "  FutureWarning\n"
     ]
    },
    {
     "data": {
      "image/png": "[encoded data removed]",
      "text/plain": [
       "<Figure size 864x576 with 1 Axes>"
      ]
     },
     "metadata": {},
     "output_type": "display_data"
    }
   ],
   "source": [
    "# Let's plot this with an histogram \n",
    "y=[gowalla_us_number_visited_contries/gowalla_us_travel_out_of_country, \n",
    "   gowalla_eur_number_visited_contries/gowalla_eur_travel_out_of_country,\n",
    "   brightkite_us_number_visited_contries/brightkite_us_travel_out_of_country,\n",
    "   brightkite_eur_number_visited_contries/brightkite_eur_travel_out_of_country]\n",
    "\n",
    "x=['US - Gowalla', 'Europe - Gowalla', 'US - Brightkite', 'Europe - Brightkite'] \n",
    "\n",
    "sns.set_style(\"darkgrid\")\n",
    "plt.figure(figsize=(12, 8))\n",
    "fig = sns.barplot(x,y)\n",
    "fig.set_title('Average number of visited countries per traveller', fontsize = 16)\n",
    "fig.set_ylabel('Number of countries', fontsize = 14)\n",
    "fig.text(0, 1.95, s = round(y[0], 2), color='black', ha=\"center\", fontsize = 13)\n",
    "fig.text(1, 1.96, s = round(y[1], 2), color='black', ha=\"center\", fontsize = 13)\n",
    "fig.text(2, 2.12, s = round(y[2], 2), color='black', ha=\"center\", fontsize = 13)\n",
    "fig.text(3, 2.60, s = round(y[3], 2), color='black', ha=\"center\", fontsize = 13)\n",
    "fig = fig.get_figure()\n",
    "fig.savefig(\"countries_per_traveller_eu_vs_us.png\")"
   ]
  },
  {
   "cell_type": "markdown",
   "metadata": {},
   "source": [
    "# 4. Visualization of world scale maps"
   ]
  },
  {
   "cell_type": "markdown",
   "metadata": {},
   "source": [
    "## 4.1 Visualization of home locations"
   ]
  },
  {
   "cell_type": "markdown",
   "metadata": {},
   "source": [
    "The aim of this section is to plot the distribution of users' homes in the world in order to understand where most of the users are located. \n",
    "This is done thanks to the library *folium*, which allows to get an interactive plot. Note that the size of the circles in the plot below is proportional to the number of number of users' homes per country normalized by the coutries' population ('count_normalized' found in 1.2). In addition, the center for each circle in the plot is selected to be the centroid of the country, listed in the dataset *centroids*. "
   ]
  },
  {
   "cell_type": "code",
   "execution_count": 125,
   "metadata": {},
   "outputs": [],
   "source": [
    "def make_map_with_markers(data, factor):\n",
    "    # Function outputting a world map in html format with the markers place at the\n",
    "    # lattitude and longitudes indicated in the corresponding columns in data.\n",
    "    # Inputs:\n",
    "    # - data: dataframe with 3 columns and as many rows as number of markers\n",
    "    #         to place, the columns are:\n",
    "    #        - longitude (['longitude']): longitude of the center of the marker\n",
    "    #        - lattitude (['latitude']): latitude of the center of the marker\n",
    "    #        - factor (['count_normalized']): number proportional to the radius of the marker\n",
    "    \n",
    "    m = folium.Map(location=[20,0], zoom_start=2)\n",
    "\n",
    "    # we can add marker one by one on the map\n",
    "    for i in range(0,len(data)):\n",
    "        folium.Circle(\n",
    "            location=[data.iloc[i]['latitude'], data.iloc[i]['longitude']],\n",
    "            radius=float(data.iloc[i]['count_normalized']*factor),\n",
    "            color='crimson',\n",
    "            fill=True,\n",
    "            fill_color='crimson').add_to(m)\n",
    "\n",
    "    # Save it as html\n",
    "    #m.save('mymap.html')\n",
    "    return m"
   ]
  },
  {
   "cell_type": "code",
   "execution_count": 126,
   "metadata": {},
   "outputs": [
    {
     "ename": "KeyError",
     "evalue": "\"['country'] not found in axis\"",
     "output_type": "error",
     "traceback": [
      "\u001b[0;31m---------------------------------------------------------------------------\u001b[0m",
      "\u001b[0;31mKeyError\u001b[0m                                  Traceback (most recent call last)",
      "\u001b[0;32m<ipython-input-126-45e817406bab>\u001b[0m in \u001b[0;36m<module>\u001b[0;34m\u001b[0m\n\u001b[0;32m----> 1\u001b[0;31m \u001b[0mcentroids\u001b[0m\u001b[0;34m=\u001b[0m\u001b[0mcentroids\u001b[0m\u001b[0;34m.\u001b[0m\u001b[0mdrop\u001b[0m\u001b[0;34m(\u001b[0m\u001b[0;34m'country'\u001b[0m\u001b[0;34m,\u001b[0m\u001b[0maxis\u001b[0m\u001b[0;34m=\u001b[0m\u001b[0;36m1\u001b[0m\u001b[0;34m)\u001b[0m \u001b[0;31m#dropping the unwanted column\u001b[0m\u001b[0;34m\u001b[0m\u001b[0;34m\u001b[0m\u001b[0m\n\u001b[0m\u001b[1;32m      2\u001b[0m \u001b[0mcentroids\u001b[0m\u001b[0;34m[\u001b[0m\u001b[0;34m'name'\u001b[0m\u001b[0;34m]\u001b[0m\u001b[0;34m=\u001b[0m\u001b[0mcentroids\u001b[0m\u001b[0;34m.\u001b[0m\u001b[0mname\u001b[0m\u001b[0;34m.\u001b[0m\u001b[0mstr\u001b[0m\u001b[0;34m.\u001b[0m\u001b[0mlower\u001b[0m\u001b[0;34m(\u001b[0m\u001b[0;34m)\u001b[0m\u001b[0;34m\u001b[0m\u001b[0;34m\u001b[0m\u001b[0m\n\u001b[1;32m      3\u001b[0m \u001b[0mb_countries_graph\u001b[0m\u001b[0;34m=\u001b[0m\u001b[0mbrightkite_countries\u001b[0m\u001b[0;34m.\u001b[0m\u001b[0mmerge\u001b[0m\u001b[0;34m(\u001b[0m\u001b[0mcentroids\u001b[0m\u001b[0;34m,\u001b[0m \u001b[0mleft_on\u001b[0m\u001b[0;34m=\u001b[0m\u001b[0;34m'country'\u001b[0m\u001b[0;34m,\u001b[0m \u001b[0mright_on\u001b[0m\u001b[0;34m=\u001b[0m\u001b[0;34m'name'\u001b[0m\u001b[0;34m)\u001b[0m\u001b[0;34m.\u001b[0m\u001b[0mdrop\u001b[0m\u001b[0;34m(\u001b[0m\u001b[0;34m'name'\u001b[0m\u001b[0;34m,\u001b[0m\u001b[0maxis\u001b[0m\u001b[0;34m=\u001b[0m\u001b[0;36m1\u001b[0m\u001b[0;34m)\u001b[0m \u001b[0;31m#merging with the centroids of each country\u001b[0m\u001b[0;34m\u001b[0m\u001b[0;34m\u001b[0m\u001b[0m\n\u001b[1;32m      4\u001b[0m \u001b[0mm\u001b[0m\u001b[0;34m=\u001b[0m\u001b[0mmake_map_with_markers\u001b[0m\u001b[0;34m(\u001b[0m\u001b[0mb_countries_graph\u001b[0m\u001b[0;34m,\u001b[0m \u001b[0;36m3\u001b[0m\u001b[0;34m*\u001b[0m\u001b[0;36m10\u001b[0m\u001b[0;34m**\u001b[0m\u001b[0;36m9\u001b[0m\u001b[0;34m)\u001b[0m\u001b[0;34m\u001b[0m\u001b[0;34m\u001b[0m\u001b[0m\n\u001b[1;32m      5\u001b[0m \u001b[0mm\u001b[0m\u001b[0;34m\u001b[0m\u001b[0;34m\u001b[0m\u001b[0m\n",
      "\u001b[0;32m/opt/anaconda3/lib/python3.7/site-packages/pandas/core/frame.py\u001b[0m in \u001b[0;36mdrop\u001b[0;34m(self, labels, axis, index, columns, level, inplace, errors)\u001b[0m\n\u001b[1;32m   4168\u001b[0m             \u001b[0mlevel\u001b[0m\u001b[0;34m=\u001b[0m\u001b[0mlevel\u001b[0m\u001b[0;34m,\u001b[0m\u001b[0;34m\u001b[0m\u001b[0;34m\u001b[0m\u001b[0m\n\u001b[1;32m   4169\u001b[0m             \u001b[0minplace\u001b[0m\u001b[0;34m=\u001b[0m\u001b[0minplace\u001b[0m\u001b[0;34m,\u001b[0m\u001b[0;34m\u001b[0m\u001b[0;34m\u001b[0m\u001b[0m\n\u001b[0;32m-> 4170\u001b[0;31m             \u001b[0merrors\u001b[0m\u001b[0;34m=\u001b[0m\u001b[0merrors\u001b[0m\u001b[0;34m,\u001b[0m\u001b[0;34m\u001b[0m\u001b[0;34m\u001b[0m\u001b[0m\n\u001b[0m\u001b[1;32m   4171\u001b[0m         )\n\u001b[1;32m   4172\u001b[0m \u001b[0;34m\u001b[0m\u001b[0m\n",
      "\u001b[0;32m/opt/anaconda3/lib/python3.7/site-packages/pandas/core/generic.py\u001b[0m in \u001b[0;36mdrop\u001b[0;34m(self, labels, axis, index, columns, level, inplace, errors)\u001b[0m\n\u001b[1;32m   3885\u001b[0m         \u001b[0;32mfor\u001b[0m \u001b[0maxis\u001b[0m\u001b[0;34m,\u001b[0m \u001b[0mlabels\u001b[0m \u001b[0;32min\u001b[0m \u001b[0maxes\u001b[0m\u001b[0;34m.\u001b[0m\u001b[0mitems\u001b[0m\u001b[0;34m(\u001b[0m\u001b[0;34m)\u001b[0m\u001b[0;34m:\u001b[0m\u001b[0;34m\u001b[0m\u001b[0;34m\u001b[0m\u001b[0m\n\u001b[1;32m   3886\u001b[0m             \u001b[0;32mif\u001b[0m \u001b[0mlabels\u001b[0m \u001b[0;32mis\u001b[0m \u001b[0;32mnot\u001b[0m \u001b[0;32mNone\u001b[0m\u001b[0;34m:\u001b[0m\u001b[0;34m\u001b[0m\u001b[0;34m\u001b[0m\u001b[0m\n\u001b[0;32m-> 3887\u001b[0;31m                 \u001b[0mobj\u001b[0m \u001b[0;34m=\u001b[0m \u001b[0mobj\u001b[0m\u001b[0;34m.\u001b[0m\u001b[0m_drop_axis\u001b[0m\u001b[0;34m(\u001b[0m\u001b[0mlabels\u001b[0m\u001b[0;34m,\u001b[0m \u001b[0maxis\u001b[0m\u001b[0;34m,\u001b[0m \u001b[0mlevel\u001b[0m\u001b[0;34m=\u001b[0m\u001b[0mlevel\u001b[0m\u001b[0;34m,\u001b[0m \u001b[0merrors\u001b[0m\u001b[0;34m=\u001b[0m\u001b[0merrors\u001b[0m\u001b[0;34m)\u001b[0m\u001b[0;34m\u001b[0m\u001b[0;34m\u001b[0m\u001b[0m\n\u001b[0m\u001b[1;32m   3888\u001b[0m \u001b[0;34m\u001b[0m\u001b[0m\n\u001b[1;32m   3889\u001b[0m         \u001b[0;32mif\u001b[0m \u001b[0minplace\u001b[0m\u001b[0;34m:\u001b[0m\u001b[0;34m\u001b[0m\u001b[0;34m\u001b[0m\u001b[0m\n",
      "\u001b[0;32m/opt/anaconda3/lib/python3.7/site-packages/pandas/core/generic.py\u001b[0m in \u001b[0;36m_drop_axis\u001b[0;34m(self, labels, axis, level, errors)\u001b[0m\n\u001b[1;32m   3919\u001b[0m                 \u001b[0mnew_axis\u001b[0m \u001b[0;34m=\u001b[0m \u001b[0maxis\u001b[0m\u001b[0;34m.\u001b[0m\u001b[0mdrop\u001b[0m\u001b[0;34m(\u001b[0m\u001b[0mlabels\u001b[0m\u001b[0;34m,\u001b[0m \u001b[0mlevel\u001b[0m\u001b[0;34m=\u001b[0m\u001b[0mlevel\u001b[0m\u001b[0;34m,\u001b[0m \u001b[0merrors\u001b[0m\u001b[0;34m=\u001b[0m\u001b[0merrors\u001b[0m\u001b[0;34m)\u001b[0m\u001b[0;34m\u001b[0m\u001b[0;34m\u001b[0m\u001b[0m\n\u001b[1;32m   3920\u001b[0m             \u001b[0;32melse\u001b[0m\u001b[0;34m:\u001b[0m\u001b[0;34m\u001b[0m\u001b[0;34m\u001b[0m\u001b[0m\n\u001b[0;32m-> 3921\u001b[0;31m                 \u001b[0mnew_axis\u001b[0m \u001b[0;34m=\u001b[0m \u001b[0maxis\u001b[0m\u001b[0;34m.\u001b[0m\u001b[0mdrop\u001b[0m\u001b[0;34m(\u001b[0m\u001b[0mlabels\u001b[0m\u001b[0;34m,\u001b[0m \u001b[0merrors\u001b[0m\u001b[0;34m=\u001b[0m\u001b[0merrors\u001b[0m\u001b[0;34m)\u001b[0m\u001b[0;34m\u001b[0m\u001b[0;34m\u001b[0m\u001b[0m\n\u001b[0m\u001b[1;32m   3922\u001b[0m             \u001b[0mresult\u001b[0m \u001b[0;34m=\u001b[0m \u001b[0mself\u001b[0m\u001b[0;34m.\u001b[0m\u001b[0mreindex\u001b[0m\u001b[0;34m(\u001b[0m\u001b[0;34m**\u001b[0m\u001b[0;34m{\u001b[0m\u001b[0maxis_name\u001b[0m\u001b[0;34m:\u001b[0m \u001b[0mnew_axis\u001b[0m\u001b[0;34m}\u001b[0m\u001b[0;34m)\u001b[0m\u001b[0;34m\u001b[0m\u001b[0;34m\u001b[0m\u001b[0m\n\u001b[1;32m   3923\u001b[0m \u001b[0;34m\u001b[0m\u001b[0m\n",
      "\u001b[0;32m/opt/anaconda3/lib/python3.7/site-packages/pandas/core/indexes/base.py\u001b[0m in \u001b[0;36mdrop\u001b[0;34m(self, labels, errors)\u001b[0m\n\u001b[1;32m   5280\u001b[0m         \u001b[0;32mif\u001b[0m \u001b[0mmask\u001b[0m\u001b[0;34m.\u001b[0m\u001b[0many\u001b[0m\u001b[0;34m(\u001b[0m\u001b[0;34m)\u001b[0m\u001b[0;34m:\u001b[0m\u001b[0;34m\u001b[0m\u001b[0;34m\u001b[0m\u001b[0m\n\u001b[1;32m   5281\u001b[0m             \u001b[0;32mif\u001b[0m \u001b[0merrors\u001b[0m \u001b[0;34m!=\u001b[0m \u001b[0;34m\"ignore\"\u001b[0m\u001b[0;34m:\u001b[0m\u001b[0;34m\u001b[0m\u001b[0;34m\u001b[0m\u001b[0m\n\u001b[0;32m-> 5282\u001b[0;31m                 \u001b[0;32mraise\u001b[0m \u001b[0mKeyError\u001b[0m\u001b[0;34m(\u001b[0m\u001b[0;34mf\"{labels[mask]} not found in axis\"\u001b[0m\u001b[0;34m)\u001b[0m\u001b[0;34m\u001b[0m\u001b[0;34m\u001b[0m\u001b[0m\n\u001b[0m\u001b[1;32m   5283\u001b[0m             \u001b[0mindexer\u001b[0m \u001b[0;34m=\u001b[0m \u001b[0mindexer\u001b[0m\u001b[0;34m[\u001b[0m\u001b[0;34m~\u001b[0m\u001b[0mmask\u001b[0m\u001b[0;34m]\u001b[0m\u001b[0;34m\u001b[0m\u001b[0;34m\u001b[0m\u001b[0m\n\u001b[1;32m   5284\u001b[0m         \u001b[0;32mreturn\u001b[0m \u001b[0mself\u001b[0m\u001b[0;34m.\u001b[0m\u001b[0mdelete\u001b[0m\u001b[0;34m(\u001b[0m\u001b[0mindexer\u001b[0m\u001b[0;34m)\u001b[0m\u001b[0;34m\u001b[0m\u001b[0;34m\u001b[0m\u001b[0m\n",
      "\u001b[0;31mKeyError\u001b[0m: \"['country'] not found in axis\""
     ]
    }
   ],
   "source": [
    "centroids=centroids.drop('country',axis=1) #dropping the unwanted column \n",
    "centroids['name']=centroids.name.str.lower() \n",
    "b_countries_graph=brightkite_countries.merge(centroids, left_on='country', right_on='name').drop('name',axis=1) #merging with the centroids of each country \n",
    "m=make_map_with_markers(b_countries_graph, 3*10**9)\n",
    "m"
   ]
  },
  {
   "cell_type": "code",
   "execution_count": null,
   "metadata": {},
   "outputs": [],
   "source": [
    "#Repeating the same step for Gowalla \n",
    "g_countries_graph=gowalla_countries.merge(centroids, left_on='country', right_on='name').drop('name',axis=1)\n",
    "m=make_map_with_markers(g_countries_graph,4*10**8)\n",
    "m"
   ]
  },
  {
   "cell_type": "markdown",
   "metadata": {},
   "source": [
    "## 4.2 Vizualisation of the main fluxes between countries"
   ]
  },
  {
   "cell_type": "markdown",
   "metadata": {},
   "source": [
    "The purpose of this section is to plot the main human fluxes in the world. This is done wih the help of the geopandas library which allowed us to plot the map of the world as a backgroup and add on top some arrows representing displacement of people. Each arrow begins in the home country and ends in the check-in country. Assuming that a country population travels the same way as gowalla and brightkite users, the number of users travelling from the home country to a foreign one divided by the fraction of users in the home country is equal to the overall number of people living in the home country and travelling to this specific foreign country. We then calculated this fraction to visualize the 'real' fluxes of population."
   ]
  },
  {
   "cell_type": "code",
   "execution_count": null,
   "metadata": {},
   "outputs": [],
   "source": [
    "brightkite_trips.head(3), countries.head(3)"
   ]
  },
  {
   "cell_type": "code",
   "execution_count": null,
   "metadata": {},
   "outputs": [],
   "source": [
    "#we associate to each country a geographical position (centroids) and the percentage of the population using Brightkite\n",
    "B_merged=brightkite_trips.merge(centroids, left_on='country_home', right_on='name').rename(columns={'latitude':'latitude_h','longitude':'longitude_h'}).merge(centroids, left_on='country_checkin', right_on='name').drop(['name_x','name_y'],axis=1).rename(columns={'latitude':'latitude_ch','longitude':'longitude_ch'})\n",
    "B_merged = B_merged.merge(countries[['country', 'count_normalized_brightkite']], left_on='country_home', right_on='country').drop('country', axis = 1)\n",
    "B_merged.head(3)"
   ]
  },
  {
   "cell_type": "code",
   "execution_count": null,
   "metadata": {},
   "outputs": [],
   "source": [
    "#then normalize the fluxes with the part of population using brightkite to get the 'real' fluxes\n",
    "B_merged['trips_normalized'] = B_merged['user']/B_merged['count_normalized_brightkite']"
   ]
  },
  {
   "cell_type": "markdown",
   "metadata": {},
   "source": [
    "First, we plot a map of the whole world with fluxes accounting for more than one million people"
   ]
  },
  {
   "cell_type": "code",
   "execution_count": null,
   "metadata": {},
   "outputs": [],
   "source": [
    "world = geopandas.read_file(geopandas.datasets.get_path('naturalearth_lowres')) #plotting the map of the world \n",
    "world.plot(color='lightgrey', linewidth=0.5, edgecolor='white',figsize=(20,10))\n",
    "colors = ['blue', 'red', 'green', 'k']                                             #random color to distinguish different fluxes\n",
    "for i in range(len(B_merged)): \n",
    "    if  B_merged['trips_normalized'].iloc[i]>1000000:           #plotting the fluxes for more than 1 million people\n",
    "        n = 100000                                             #normalization factor to have a relevant size for the arrows\n",
    "        plt.gca().add_patch(patches.FancyArrowPatch((B_merged['longitude_h'].iloc[i], B_merged['latitude_h'].iloc[i]), (B_merged['longitude_ch'].iloc[i], B_merged['latitude_ch'].iloc[i]),connectionstyle=\"arc3,rad=.5\", color = colors[i%4], alpha = 0.5, mutation_scale = B_merged['trips_normalized'].iloc[i]/n))       #the arrow width is proportional to the number of people travelling from the home country to the checkin country\n",
    "\n",
    "plt.ylim([-60,83])\n",
    "plt.xlim([-110,142])\n",
    "plt.title('Trips of more than 1M people for Brightkite',fontsize='xx-large')\n",
    "plt.savefig('NotEuropeB.png')"
   ]
  },
  {
   "cell_type": "markdown",
   "metadata": {},
   "source": [
    "This being a bit messy, we then zoom in on Europe and North America taking a bigger threshold of 3 million people. Plotting curved arrows with well-chosen colors allows to visualize the main fluxes between pairs of country."
   ]
  },
  {
   "cell_type": "code",
   "execution_count": null,
   "metadata": {},
   "outputs": [],
   "source": [
    "BigWorld = pd.DataFrame([['united states', 'white', 'crimson'], ['canada', 'red', 'white'],['united kingdom', 'red', 'darkblue'], ['germany', 'yellow','black'], ['italy', 'green', 'red'], ['spain', 'gold', 'red']], columns = ['country', 'color', 'edgecolor'])        #we associate 2 colors for each country that have at list one flux over 3 million people in direction of another country\n",
    "\n",
    "fig, ax = plt.subplots(1,2, figsize = [18, 10])           #america and europe\n",
    "\n",
    "for k in [0,1]:\n",
    "    world = geopandas.read_file(geopandas.datasets.get_path('naturalearth_lowres'))\n",
    "    world.plot(color='lightgrey', linewidth=0.5, edgecolor='white', ax = ax[k])\n",
    "    for i in range(len(B_merged)): \n",
    "        country = B_merged['country_home'].iloc[i]\n",
    "        if  B_merged['trips_normalized'].iloc[i]>3000000:\n",
    "            col= BigWorld[BigWorld['country'] == country].iat[0, 1]\n",
    "            edgecol = BigWorld[BigWorld['country'] == country].iat[0, 2]\n",
    "            n = 100000\n",
    "            ax[k].add_patch(patches.FancyArrowPatch((B_merged['longitude_h'].iloc[i], B_merged['latitude_h'].iloc[i]), (B_merged['longitude_ch'].iloc[i], B_merged['latitude_ch'].iloc[i]),connectionstyle=\"arc3,rad=.5\", facecolor = col, edgecolor = edgecol, linewidth = B_merged['trips_normalized'].iloc[i]/(10*n), alpha = 0.7, mutation_scale = B_merged['trips_normalized'].iloc[i]/n))\n",
    "\n",
    "ax[0].set_xlim([-115,-85])\n",
    "ax[0].set_ylim([22, 57])\n",
    "ax[1].set_xlim([-10, 20])\n",
    "ax[1].set_ylim([30, 65])\n",
    "fig.suptitle('Trips with more than 3M people for Brightkite',fontsize='xx-large')\n",
    "plt.savefig('WorldB.png')"
   ]
  },
  {
   "cell_type": "markdown",
   "metadata": {},
   "source": [
    "The countries in Europe are Italy, Germany, Spain and the UK : we plot these for a lower threshold of 1.5 million of people. The Netherlands, Switzerland, Austria now appear on the map."
   ]
  },
  {
   "cell_type": "code",
   "execution_count": null,
   "metadata": {},
   "outputs": [],
   "source": [
    "BigEurope = pd.DataFrame([['austria', 'white', 'firebrick'], ['switzerland', 'red', 'white'], ['netherlands', 'royalblue', 'red'], ['united kingdom', 'red', 'darkblue'], ['austria', 'white', 'firebrick'], ['germany', 'yellow','black'], ['italy', 'green', 'red'], ['spain', 'gold', 'red']], columns = ['country', 'color', 'edgecolor'])\n",
    "\n",
    "world = geopandas.read_file(geopandas.datasets.get_path('naturalearth_lowres'))\n",
    "world.plot(color='lightgrey', linewidth=0.5, edgecolor='white',figsize=(20,10))\n",
    "for i in range(len(B_merged)): \n",
    "    country = B_merged['country_home'].iloc[i]\n",
    "    if  B_merged['trips_normalized'].iloc[i]>1500000 and (country in list(BigEurope['country'])):\n",
    "        col= BigEurope[BigEurope['country'] == country].iat[0, 1]\n",
    "        edgecol = BigEurope[BigEurope['country'] == country].iat[0, 2]\n",
    "        n = 100000\n",
    "        plt.gca().add_patch(patches.FancyArrowPatch((B_merged['longitude_h'].iloc[i], B_merged['latitude_h'].iloc[i]), (B_merged['longitude_ch'].iloc[i], B_merged['latitude_ch'].iloc[i]),connectionstyle=\"arc3,rad=.5\", facecolor = col, edgecolor = edgecol, linewidth = B_merged['trips_normalized'].iloc[i]/(10*n), alpha = 0.7, mutation_scale = B_merged['trips_normalized'].iloc[i]/n))\n",
    "        \n",
    "plt.ylim([40,60])\n",
    "plt.xlim([-10,20])\n",
    "plt.title('Trips from Europe countries with more than 1.5M people for Brightkite',fontsize='xx-large')\n",
    "plt.savefig('EuropeB.png')"
   ]
  },
  {
   "cell_type": "markdown",
   "metadata": {},
   "source": [
    "We then do the same for Gowalla : "
   ]
  },
  {
   "cell_type": "code",
   "execution_count": null,
   "metadata": {},
   "outputs": [],
   "source": [
    "#we associate to each country a geographical position and the percentage of the population using Brightkite\n",
    "G_merged=gowalla_trips.merge(centroids, left_on='country_home', right_on='name').rename(columns={'latitude':'latitude_h','longitude':'longitude_h'}).merge(centroids, left_on='country_checkin', right_on='name').drop(['name_x','name_y'],axis=1).rename(columns={'latitude':'latitude_ch','longitude':'longitude_ch'})\n",
    "G_merged = G_merged.merge(countries[['country', 'count_normalized_gowalla']], left_on='country_home', right_on='country').drop('country', axis = 1)\n",
    "G_merged.head(3)"
   ]
  },
  {
   "cell_type": "code",
   "execution_count": null,
   "metadata": {},
   "outputs": [],
   "source": [
    "G_merged['trips_normalized'] = G_merged['user']/G_merged['count_normalized_gowalla']"
   ]
  },
  {
   "cell_type": "code",
   "execution_count": null,
   "metadata": {},
   "outputs": [],
   "source": [
    "world = geopandas.read_file(geopandas.datasets.get_path('naturalearth_lowres'))\n",
    "world.plot(color='lightgrey', linewidth=0.5, edgecolor='white',figsize=(20,10))\n",
    "colors = ['blue', 'red', 'green', 'k']                                             #random color to distinguish different fluxes\n",
    "for i in range(len(G_merged)): \n",
    "    if  G_merged['trips_normalized'].iloc[i]>1000000:\n",
    "        n = 100000\n",
    "        plt.gca().add_patch(patches.FancyArrowPatch((G_merged['longitude_h'].iloc[i], G_merged['latitude_h'].iloc[i]), (G_merged['longitude_ch'].iloc[i], G_merged['latitude_ch'].iloc[i]),connectionstyle=\"arc3,rad=.5\", color = colors[i%4], alpha = 0.5, mutation_scale = G_merged['trips_normalized'].iloc[i]/n))\n",
    "\n",
    "plt.ylim([-60,83])\n",
    "plt.xlim([-110,142])\n",
    "plt.title('Trips of more than 1M people for Gowalla',fontsize='xx-large')\n",
    "plt.savefig('NotEuropeG.png')"
   ]
  },
  {
   "cell_type": "markdown",
   "metadata": {},
   "source": [
    "There are less trips for Gowalla so we take a 2 million people threshold here."
   ]
  },
  {
   "cell_type": "code",
   "execution_count": null,
   "metadata": {},
   "outputs": [],
   "source": [
    "BigWorld = pd.DataFrame([['united states', 'white', 'crimson'], ['canada', 'red', 'white'],['united kingdom', 'red', 'darkblue'], ['germany', 'yellow','black'], ['italy', 'green', 'red'], ['spain', 'gold', 'red']], columns = ['country', 'color', 'edgecolor'])\n",
    "\n",
    "fig, ax = plt.subplots(1,2, figsize = [18, 10])\n",
    "\n",
    "for k in [0,1]:\n",
    "    world = geopandas.read_file(geopandas.datasets.get_path('naturalearth_lowres'))\n",
    "    world.plot(color='lightgrey', linewidth=0.5, edgecolor='white', ax = ax[k])\n",
    "    for i in range(len(G_merged)): \n",
    "        country = G_merged['country_home'].iloc[i]\n",
    "        if  G_merged['trips_normalized'].iloc[i]>3000000:\n",
    "            col= BigWorld[BigWorld['country'] == country].iat[0, 1]\n",
    "            edgecol = BigWorld[BigWorld['country'] == country].iat[0, 2]\n",
    "            n = 100000\n",
    "            ax[k].add_patch(patches.FancyArrowPatch((G_merged['longitude_h'].iloc[i], G_merged['latitude_h'].iloc[i]), (G_merged['longitude_ch'].iloc[i], G_merged['latitude_ch'].iloc[i]),connectionstyle=\"arc3,rad=.5\", facecolor = col, edgecolor = edgecol, linewidth = G_merged['trips_normalized'].iloc[i]/(10*n), alpha = 0.7, mutation_scale = G_merged['trips_normalized'].iloc[i]/n))\n",
    "\n",
    "ax[0].set_xlim([-115,-85])\n",
    "ax[0].set_ylim([22, 57])\n",
    "ax[1].set_xlim([-10, 20])\n",
    "ax[1].set_ylim([30, 65])\n",
    "fig.suptitle('Trips with more than 2M people for Gowalla',fontsize='xx-large')\n",
    "plt.savefig('WorldG.png')"
   ]
  },
  {
   "cell_type": "markdown",
   "metadata": {},
   "source": [
    "Dividing by two the threshold gives 1 million people for trips in Europe. This time, the Netherlands and Switzerland do not meet this requirement but Belgium does."
   ]
  },
  {
   "cell_type": "code",
   "execution_count": null,
   "metadata": {},
   "outputs": [],
   "source": [
    "BigEurope = pd.DataFrame([['austria', 'white', 'firebrick'], ['belgium', 'red', 'black'], ['united kingdom', 'red', 'darkblue'], ['austria', 'white', 'firebrick'], ['germany', 'yellow','black'], ['italy', 'green', 'red'], ['spain', 'gold', 'red']], columns = ['country', 'color', 'edgecolor'])\n",
    "\n",
    "world = geopandas.read_file(geopandas.datasets.get_path('naturalearth_lowres'))\n",
    "world.plot(color='lightgrey', linewidth=0.5, edgecolor='white',figsize=(20,10))\n",
    "for i in range(len(G_merged)): \n",
    "    country = G_merged['country_home'].iloc[i]\n",
    "    if  G_merged['trips_normalized'].iloc[i]>1500000 and (country in list(BigEurope['country'])):\n",
    "        col= BigEurope[BigEurope['country'] == country].iat[0, 1]\n",
    "        edgecol = BigEurope[BigEurope['country'] == country].iat[0, 2]\n",
    "        n = 100000\n",
    "        plt.gca().add_patch(patches.FancyArrowPatch((G_merged['longitude_h'].iloc[i], G_merged['latitude_h'].iloc[i]), (G_merged['longitude_ch'].iloc[i], G_merged['latitude_ch'].iloc[i]),connectionstyle=\"arc3,rad=.5\", facecolor = col, edgecolor = edgecol, linewidth = G_merged['trips_normalized'].iloc[i]/(10*n), alpha = 0.7, mutation_scale = G_merged['trips_normalized'].iloc[i]/n))\n",
    "        \n",
    "plt.ylim([40,60])\n",
    "plt.xlim([-10,20])\n",
    "plt.title('Trips from Europe countries with more than 1.5M people for Gowalla',fontsize='xx-large')\n",
    "plt.savefig('EuropeG.png')"
   ]
  },
  {
   "cell_type": "markdown",
   "metadata": {},
   "source": [
    "The results are pretty similar for Brightkite and Gowalla, but there are less trips for Gowalla. This is explained by the fact the time period of th is shorter "
   ]
  }
 ],
 "metadata": {
  "kernelspec": {
   "display_name": "Python 3",
   "language": "python",
   "name": "python3"
  },
  "language_info": {
   "codemirror_mode": {
    "name": "ipython",
    "version": 3
   },
   "file_extension": ".py",
   "mimetype": "text/x-python",
   "name": "python",
   "nbconvert_exporter": "python",
   "pygments_lexer": "ipython3",
   "version": "3.7.5"
  }
 },
 "nbformat": 4,
 "nbformat_minor": 4
}
